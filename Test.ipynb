{
 "cells": [
  {
   "cell_type": "code",
   "execution_count": 22,
   "id": "daafe59c-9c9a-4d1e-bef1-e695cc5211b6",
   "metadata": {},
   "outputs": [],
   "source": [
    "import numpy as np\n",
    "import pandas as pd\n",
    "from SignalProcessor import SignalProcessorClass\n",
    "import NoiseEvalUtil as NEUtil\n",
    "import argparse\n",
    "import os"
   ]
  },
  {
   "cell_type": "code",
   "execution_count": 14,
   "id": "cb3f5c5e-7e35-4bd4-849e-aa968bf4cb81",
   "metadata": {},
   "outputs": [],
   "source": [
    "import warnings\n",
    "warnings.filterwarnings(\"ignore\", \"is_categorical_dtype\")\n",
    "warnings.filterwarnings(\"ignore\", \"use_inf_as_na\")\n",
    "warnings.filterwarnings(\"ignore\",\"Possible clipped samples in output.\")"
   ]
  },
  {
   "cell_type": "code",
   "execution_count": 15,
   "id": "6b2d5602-ffd0-4444-9922-dd4c8111541f",
   "metadata": {},
   "outputs": [
    {
     "name": "stdout",
     "output_type": "stream",
     "text": [
      "Audio duration orginal is 41.85414965986394 seconds, now is the 8.0, the audio changing to the MONO\n",
      "After LUFS, the mixing ouput in the RMS, Total: -9.39dB, Clipping Ratio&Cliped Num: (0.0010799319727891157, 381)\n"
     ]
    }
   ],
   "source": [
    "# Define the top-level directory\n",
    "Mixing_Path_48k_16bit = \"/home/codecrack/Jnotebook/DAFX25_48k_16/Grunge/\"\n",
    "\n",
    "Noise_Generator_MP3_48k_16bit = SignalProcessorClass(filename=\"mixture.wav\", foldpath=Mixing_Path_48k_16bit, TrackType = NEUtil.MixingType.File,bitdepth=\"PCM_16\")\n",
    "Referece_File_48k_16bit = Noise_Generator_MP3_48k_16bit.TestNoisedOnlyFile([0,0,0,0],\"Refer_Test.wav\")\n",
    "Mp3_Referece_File_48k_16bit = Noise_Generator_MP3_48k_16bit.GeneratingMP3RefFile(Referece_File_48k_16bit, 64)\n"
   ]
  },
  {
   "cell_type": "code",
   "execution_count": 26,
   "id": "17a243a3-02ed-4895-be29-c78cab3a2884",
   "metadata": {},
   "outputs": [
    {
     "data": {
      "text/plain": [
       "0.2"
      ]
     },
     "execution_count": 26,
     "metadata": {},
     "output_type": "execute_result"
    }
   ],
   "source": [
    "HAAQI_score = round(haaqi.compute_haaqi(Mp3_Referece_data_48k_16bit,Referece_data_48k_16bit,sample_rate,sample_rate,audiogram_NH),2)\n",
    "HAAQI_score"
   ]
  },
  {
   "cell_type": "code",
   "execution_count": 16,
   "id": "42e836af-af2d-401c-ab6c-162bca73e99a",
   "metadata": {},
   "outputs": [],
   "source": [
    "import clarity\n",
    "import clarity.evaluator.haaqi as haaqi\n",
    "import librosa"
   ]
  },
  {
   "cell_type": "code",
   "execution_count": 17,
   "id": "7b5231d5-8f5d-4767-a284-4c1a66014069",
   "metadata": {},
   "outputs": [],
   "source": [
    "from clarity.utils.audiogram import Audiogram\n",
    "levels_1 = np.array([0, 0, 0, 0, 0, 0, 0, 0])\n",
    "audiogram_NH = Audiogram(levels=levels_1)"
   ]
  },
  {
   "cell_type": "code",
   "execution_count": 18,
   "id": "3c2a3bad-c422-4cc7-81ca-391241895496",
   "metadata": {},
   "outputs": [],
   "source": [
    "x = 10"
   ]
  },
  {
   "cell_type": "code",
   "execution_count": 19,
   "id": "d2bd9fe8-efe0-416c-8fe1-759adf477174",
   "metadata": {},
   "outputs": [
    {
     "name": "stdout",
     "output_type": "stream",
     "text": [
      "After LUFS, the mixing ouput in the RMS, Total: -9.33dB, Clipping Ratio&Cliped Num: (0.0010005668934240362, 353)\n",
      "HumNoise is 10dB. The HAAQI value is 0.2\n",
      "HumNoise is 10dB. The HAAQI value is 0.64\n"
     ]
    }
   ],
   "source": [
    "filename = f\"Audio_Mixing_HN{str(x)}_64kbps.wav\"\n",
    "AudioFold_48k_16bit = f'{Mixing_Path_48k_16bit}/Mixing_Result_Mp3_Wav/'\n",
    "Mp3_Referece_data_48k_16bit, sample_rate = librosa.load(Mp3_Referece_File_48k_16bit, sr=None) \n",
    "Referece_data_48k_16bit, sample_rate = librosa.load(Referece_File_48k_16bit, sr=None)\n",
    "HN_Gener_Audio = Noise_Generator_MP3_48k_16bit.TestNoisedOnlyFile([x,0,0,0],filename)\n",
    "HN_Gener_Audio_mp3 = Noise_Generator_MP3_48k_16bit.GeneratingMP3RefFile(HN_Gener_Audio, 64)\n",
    "HN_Gener_Audio_HAAQI, sample_rate = librosa.load(HN_Gener_Audio_mp3, sr=None)\n",
    "HAAQI_score = round(haaqi.compute_haaqi(HN_Gener_Audio_HAAQI,Referece_data_48k_16bit,sample_rate,sample_rate,audiogram_NH),2)\n",
    "    #    ODG_score = round(float(Visqol_score-5),2) \n",
    "print(f\"HumNoise is {x}dB. The HAAQI value is {HAAQI_score}\")\n",
    "\n",
    "mp3_HAAQI_score = round(haaqi.compute_haaqi(HN_Gener_Audio_HAAQI,Mp3_Referece_data_48k_16bit,sample_rate,sample_rate,audiogram_NH),2)\n",
    "print(f\"HumNoise is {x}dB. The HAAQI value is {mp3_HAAQI_score}\")\n"
   ]
  },
  {
   "cell_type": "code",
   "execution_count": 20,
   "id": "4ff417d4-f967-4286-b7a7-15a4e1b836e3",
   "metadata": {},
   "outputs": [],
   "source": [
    "x = 60"
   ]
  },
  {
   "cell_type": "code",
   "execution_count": 21,
   "id": "4d6f3c29-278b-4cae-822d-f843b5f6a47f",
   "metadata": {},
   "outputs": [
    {
     "name": "stdout",
     "output_type": "stream",
     "text": [
      "After LUFS, the mixing ouput in the RMS, Total: -9.39dB, Clipping Ratio&Cliped Num: (0.0010770975056689342, 380)\n",
      "HumNoise is 60dB. The HAAQI value is 0.2\n",
      "HumNoise is 60dB. The HAAQI value is 0.96\n"
     ]
    }
   ],
   "source": [
    "filename = f\"Audio_Mixing_HN{str(x)}_64kbps.wav\"\n",
    "AudioFold_48k_16bit = f'{Mixing_Path_48k_16bit}/Mixing_Result_Mp3_Wav/'\n",
    "Mp3_Referece_data_48k_16bit, sample_rate = librosa.load(Mp3_Referece_File_48k_16bit, sr=None) \n",
    "Referece_data_48k_16bit, sample_rate = librosa.load(Referece_File_48k_16bit, sr=None)\n",
    "HN_Gener_Audio = Noise_Generator_MP3_48k_16bit.TestNoisedOnlyFile([x,0,0,0],filename)\n",
    "HN_Gener_Audio_mp3 = Noise_Generator_MP3_48k_16bit.GeneratingMP3RefFile(HN_Gener_Audio, 64)\n",
    "HN_Gener_Audio_HAAQI, sample_rate = librosa.load(HN_Gener_Audio_mp3, sr=None)\n",
    "HAAQI_score = round(haaqi.compute_haaqi(HN_Gener_Audio_HAAQI,Referece_data_48k_16bit,sample_rate,sample_rate,audiogram_NH),2)\n",
    "    #    ODG_score = round(float(Visqol_score-5),2) \n",
    "print(f\"HumNoise is {x}dB. The HAAQI value is {HAAQI_score}\")\n",
    "\n",
    "mp3_HAAQI_score = round(haaqi.compute_haaqi(HN_Gener_Audio_HAAQI,Mp3_Referece_data_48k_16bit,sample_rate,sample_rate,audiogram_NH),2)\n",
    "print(f\"HumNoise is {x}dB. The HAAQI value is {mp3_HAAQI_score}\")"
   ]
  },
  {
   "cell_type": "code",
   "execution_count": null,
   "id": "3e81e1db-7805-47b4-a8b8-bcd8431cd19e",
   "metadata": {},
   "outputs": [],
   "source": []
  }
 ],
 "metadata": {
  "kernelspec": {
   "display_name": "Python 3 (ipykernel)",
   "language": "python",
   "name": "python3"
  },
  "language_info": {
   "codemirror_mode": {
    "name": "ipython",
    "version": 3
   },
   "file_extension": ".py",
   "mimetype": "text/x-python",
   "name": "python",
   "nbconvert_exporter": "python",
   "pygments_lexer": "ipython3",
   "version": "3.11.5"
  }
 },
 "nbformat": 4,
 "nbformat_minor": 5
}
