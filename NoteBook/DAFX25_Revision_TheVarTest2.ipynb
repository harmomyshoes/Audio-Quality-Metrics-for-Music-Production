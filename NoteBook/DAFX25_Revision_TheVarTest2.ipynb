{
 "cells": [
  {
   "cell_type": "code",
   "execution_count": null,
   "id": "d0912071-063b-4c2f-9c5e-0dfce25d0e75",
   "metadata": {},
   "outputs": [],
   "source": [
    "import wave\n",
    "import struct\n",
    "\n",
    "def change_wav_samplerate_no_resample(input_wav, output_wav, new_rate=48000):\n",
    "    \"\"\"\n",
    "    Changes the sample rate metadata in a WAV file without resampling the audio data.\n",
    "    WARNING: This will change the playback speed and pitch if the original\n",
    "    sample rate was not already the new sample rate.\n",
    "    \"\"\"\n",
    "    try:\n",
    "        with wave.open(input_wav, 'rb') as wf:\n",
    "            params = wf.getparams()\n",
    "            audio_data = wf.readframes(params.nframes)\n",
    "        \n",
    "        with wave.open(output_wav, 'wb') as wf:\n",
    "            wf.setparams(params)\n",
    "            wf.setframerate(new_rate)\n",
    "            wf.writeframes(audio_data)\n",
    "    \n",
    "    except wave.Error as e:\n",
    "         print(f\"Error processing WAV file: {e}\")\n",
    "    except Exception as e:\n",
    "         print(f\"An unexpected error occurred: {e}\")"
   ]
  }
 ],
 "metadata": {
  "kernelspec": {
   "display_name": "Python 3 (ipykernel)",
   "language": "python",
   "name": "python3"
  },
  "language_info": {
   "codemirror_mode": {
    "name": "ipython",
    "version": 3
   },
   "file_extension": ".py",
   "mimetype": "text/x-python",
   "name": "python",
   "nbconvert_exporter": "python",
   "pygments_lexer": "ipython3",
   "version": "3.11.5"
  }
 },
 "nbformat": 4,
 "nbformat_minor": 5
}
