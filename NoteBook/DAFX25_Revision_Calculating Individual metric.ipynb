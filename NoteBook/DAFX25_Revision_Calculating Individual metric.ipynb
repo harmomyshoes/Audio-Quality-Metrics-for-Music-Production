{
 "cells": [
  {
   "cell_type": "code",
   "execution_count": 3,
   "id": "df69d34a-826c-44f7-90ad-a182ce30f31d",
   "metadata": {},
   "outputs": [],
   "source": [
    "import numpy as np\n",
    "import pandas as pd\n",
    "from SignalProcessor import SignalProcessorClass\n",
    "import NoiseEvalUtil as NEUtil\n",
    "import argparse\n",
    "import os"
   ]
  },
  {
   "cell_type": "code",
   "execution_count": 6,
   "id": "fd963e9c-e7f5-42df-8da0-655dec560847",
   "metadata": {},
   "outputs": [],
   "source": [
    "bitrate = 64"
   ]
  },
  {
   "cell_type": "code",
   "execution_count": 4,
   "id": "29c03d5a-087f-4a10-b44a-7ef582f6c8e4",
   "metadata": {},
   "outputs": [
    {
     "name": "stdout",
     "output_type": "stream",
     "text": [
      "Audio duration orginal is 41.85414965986394 seconds, now is the 8.0, the audio changing to the MONO\n",
      "After LUFS, the mixing ouput in the RMS, Total: -9.39dB, Clipping Ratio&Cliped Num: (0.0010799319727891157, 381)\n"
     ]
    },
    {
     "name": "stderr",
     "output_type": "stream",
     "text": [
      "/root/anaconda3/lib/python3.11/site-packages/pyloudnorm/normalize.py:62: UserWarning: Possible clipped samples in output.\n",
      "  warnings.warn(\"Possible clipped samples in output.\")\n"
     ]
    }
   ],
   "source": [
    "Mixing_Path_48k_16bit = \"/home/codecrack/Jnotebook/DAFX25_48k_16/Britpop/\"\n",
    "\n",
    "Noise_Generator_MP3_48k_16bit = SignalProcessorClass(filename=\"mixture.wav\", foldpath=Mixing_Path_48k_16bit, TrackType = NEUtil.MixingType.File,bitdepth=\"PCM_16\")\n",
    "Referece_File_48k_16bit = Noise_Generator_MP3_48k_16bit.TestNoisedOnlyFile([0,0,0,0],\"Reference.wav\")\n",
    "Mp3_Referece_File_48k_16bit = Noise_Generator_MP3_48k_16bit.GeneratingMP3RefFile(Referece_File_48k_16bit, 64)"
   ]
  },
  {
   "cell_type": "markdown",
   "id": "e18ded5e-cb08-4550-b214-d08ab32f1b6d",
   "metadata": {},
   "source": [
    "### Visqol"
   ]
  },
  {
   "cell_type": "code",
   "execution_count": 7,
   "id": "8500d186-3966-4cfc-91bb-e29abecdcf3d",
   "metadata": {
    "scrolled": true
   },
   "outputs": [
    {
     "name": "stdout",
     "output_type": "stream",
     "text": [
      "Audio duration orginal is 41.85414965986394 seconds, now is the 8.0, the audio changing to the MONO\n",
      "After LUFS, the mixing ouput in the RMS, Total: -9.39dB, Clipping Ratio&Cliped Num: (0.0010799319727891157, 381)\n",
      "After LUFS, the mixing ouput in the RMS, Total: -9.0dB, Clipping Ratio&Cliped Num: (0.0004138321995464853, 146)\n"
     ]
    },
    {
     "name": "stderr",
     "output_type": "stream",
     "text": [
      "/root/anaconda3/lib/python3.11/site-packages/pyloudnorm/normalize.py:62: UserWarning: Possible clipped samples in output.\n",
      "  warnings.warn(\"Possible clipped samples in output.\")\n",
      "/root/anaconda3/lib/python3.11/site-packages/pyloudnorm/normalize.py:62: UserWarning: Possible clipped samples in output.\n",
      "  warnings.warn(\"Possible clipped samples in output.\")\n"
     ]
    },
    {
     "name": "stdout",
     "output_type": "stream",
     "text": [
      "HumNoise is 1dB. The Visqol value is -0.99\n",
      "Hum is 1dB. The Visqol_mp3 value is -0.55\n",
      "After LUFS, the mixing ouput in the RMS, Total: -9.05dB, Clipping Ratio&Cliped Num: (0.0005158730158730159, 182)\n"
     ]
    },
    {
     "name": "stderr",
     "output_type": "stream",
     "text": [
      "/root/anaconda3/lib/python3.11/site-packages/pyloudnorm/normalize.py:62: UserWarning: Possible clipped samples in output.\n",
      "  warnings.warn(\"Possible clipped samples in output.\")\n"
     ]
    },
    {
     "name": "stdout",
     "output_type": "stream",
     "text": [
      "HumNoise is 2dB. The Visqol value is -0.97\n",
      "Hum is 2dB. The Visqol_mp3 value is -0.52\n",
      "After LUFS, the mixing ouput in the RMS, Total: -9.11dB, Clipping Ratio&Cliped Num: (0.0006065759637188208, 214)\n"
     ]
    },
    {
     "name": "stderr",
     "output_type": "stream",
     "text": [
      "/root/anaconda3/lib/python3.11/site-packages/pyloudnorm/normalize.py:62: UserWarning: Possible clipped samples in output.\n",
      "  warnings.warn(\"Possible clipped samples in output.\")\n"
     ]
    },
    {
     "name": "stdout",
     "output_type": "stream",
     "text": [
      "HumNoise is 3dB. The Visqol value is -0.96\n",
      "Hum is 3dB. The Visqol_mp3 value is -0.5\n",
      "After LUFS, the mixing ouput in the RMS, Total: -9.15dB, Clipping Ratio&Cliped Num: (0.0006859410430839002, 242)\n"
     ]
    },
    {
     "name": "stderr",
     "output_type": "stream",
     "text": [
      "/root/anaconda3/lib/python3.11/site-packages/pyloudnorm/normalize.py:62: UserWarning: Possible clipped samples in output.\n",
      "  warnings.warn(\"Possible clipped samples in output.\")\n"
     ]
    },
    {
     "name": "stdout",
     "output_type": "stream",
     "text": [
      "HumNoise is 4dB. The Visqol value is -0.94\n",
      "Hum is 4dB. The Visqol_mp3 value is -0.49\n",
      "After LUFS, the mixing ouput in the RMS, Total: -9.19dB, Clipping Ratio&Cliped Num: (0.0007341269841269841, 259)\n"
     ]
    },
    {
     "name": "stderr",
     "output_type": "stream",
     "text": [
      "/root/anaconda3/lib/python3.11/site-packages/pyloudnorm/normalize.py:62: UserWarning: Possible clipped samples in output.\n",
      "  warnings.warn(\"Possible clipped samples in output.\")\n"
     ]
    },
    {
     "name": "stdout",
     "output_type": "stream",
     "text": [
      "HumNoise is 5dB. The Visqol value is -0.93\n",
      "Hum is 5dB. The Visqol_mp3 value is -0.49\n",
      "After LUFS, the mixing ouput in the RMS, Total: -9.23dB, Clipping Ratio&Cliped Num: (0.0007766439909297052, 274)\n"
     ]
    },
    {
     "name": "stderr",
     "output_type": "stream",
     "text": [
      "/root/anaconda3/lib/python3.11/site-packages/pyloudnorm/normalize.py:62: UserWarning: Possible clipped samples in output.\n",
      "  warnings.warn(\"Possible clipped samples in output.\")\n"
     ]
    },
    {
     "name": "stdout",
     "output_type": "stream",
     "text": [
      "HumNoise is 6dB. The Visqol value is -0.91\n",
      "Hum is 6dB. The Visqol_mp3 value is -0.48\n",
      "After LUFS, the mixing ouput in the RMS, Total: -9.26dB, Clipping Ratio&Cliped Num: (0.0008219954648526077, 290)\n"
     ]
    },
    {
     "name": "stderr",
     "output_type": "stream",
     "text": [
      "/root/anaconda3/lib/python3.11/site-packages/pyloudnorm/normalize.py:62: UserWarning: Possible clipped samples in output.\n",
      "  warnings.warn(\"Possible clipped samples in output.\")\n"
     ]
    },
    {
     "name": "stdout",
     "output_type": "stream",
     "text": [
      "HumNoise is 7dB. The Visqol value is -0.91\n",
      "Hum is 7dB. The Visqol_mp3 value is -0.47\n",
      "After LUFS, the mixing ouput in the RMS, Total: -9.29dB, Clipping Ratio&Cliped Num: (0.0008815192743764172, 311)\n"
     ]
    },
    {
     "name": "stderr",
     "output_type": "stream",
     "text": [
      "/root/anaconda3/lib/python3.11/site-packages/pyloudnorm/normalize.py:62: UserWarning: Possible clipped samples in output.\n",
      "  warnings.warn(\"Possible clipped samples in output.\")\n"
     ]
    },
    {
     "name": "stdout",
     "output_type": "stream",
     "text": [
      "HumNoise is 8dB. The Visqol value is -0.91\n",
      "Hum is 8dB. The Visqol_mp3 value is -0.46\n",
      "After LUFS, the mixing ouput in the RMS, Total: -9.31dB, Clipping Ratio&Cliped Num: (0.000963718820861678, 340)\n"
     ]
    },
    {
     "name": "stderr",
     "output_type": "stream",
     "text": [
      "/root/anaconda3/lib/python3.11/site-packages/pyloudnorm/normalize.py:62: UserWarning: Possible clipped samples in output.\n",
      "  warnings.warn(\"Possible clipped samples in output.\")\n"
     ]
    },
    {
     "name": "stdout",
     "output_type": "stream",
     "text": [
      "HumNoise is 9dB. The Visqol value is -0.9\n",
      "Hum is 9dB. The Visqol_mp3 value is -0.46\n",
      "After LUFS, the mixing ouput in the RMS, Total: -9.33dB, Clipping Ratio&Cliped Num: (0.0010005668934240362, 353)\n"
     ]
    },
    {
     "name": "stderr",
     "output_type": "stream",
     "text": [
      "/root/anaconda3/lib/python3.11/site-packages/pyloudnorm/normalize.py:62: UserWarning: Possible clipped samples in output.\n",
      "  warnings.warn(\"Possible clipped samples in output.\")\n"
     ]
    },
    {
     "name": "stdout",
     "output_type": "stream",
     "text": [
      "HumNoise is 10dB. The Visqol value is -0.88\n",
      "Hum is 10dB. The Visqol_mp3 value is -0.44\n",
      "After LUFS, the mixing ouput in the RMS, Total: -9.34dB, Clipping Ratio&Cliped Num: (0.001040249433106576, 367)\n"
     ]
    },
    {
     "name": "stderr",
     "output_type": "stream",
     "text": [
      "/root/anaconda3/lib/python3.11/site-packages/pyloudnorm/normalize.py:62: UserWarning: Possible clipped samples in output.\n",
      "  warnings.warn(\"Possible clipped samples in output.\")\n"
     ]
    },
    {
     "name": "stdout",
     "output_type": "stream",
     "text": [
      "HumNoise is 11dB. The Visqol value is -0.87\n",
      "Hum is 11dB. The Visqol_mp3 value is -0.43\n",
      "After LUFS, the mixing ouput in the RMS, Total: -9.35dB, Clipping Ratio&Cliped Num: (0.0010459183673469387, 369)\n"
     ]
    },
    {
     "name": "stderr",
     "output_type": "stream",
     "text": [
      "/root/anaconda3/lib/python3.11/site-packages/pyloudnorm/normalize.py:62: UserWarning: Possible clipped samples in output.\n",
      "  warnings.warn(\"Possible clipped samples in output.\")\n"
     ]
    },
    {
     "name": "stdout",
     "output_type": "stream",
     "text": [
      "HumNoise is 12dB. The Visqol value is -0.87\n",
      "Hum is 12dB. The Visqol_mp3 value is -0.42\n",
      "After LUFS, the mixing ouput in the RMS, Total: -9.36dB, Clipping Ratio&Cliped Num: (0.0010572562358276644, 373)\n"
     ]
    },
    {
     "name": "stderr",
     "output_type": "stream",
     "text": [
      "/root/anaconda3/lib/python3.11/site-packages/pyloudnorm/normalize.py:62: UserWarning: Possible clipped samples in output.\n",
      "  warnings.warn(\"Possible clipped samples in output.\")\n"
     ]
    },
    {
     "name": "stdout",
     "output_type": "stream",
     "text": [
      "HumNoise is 13dB. The Visqol value is -0.86\n",
      "Hum is 13dB. The Visqol_mp3 value is -0.4\n",
      "After LUFS, the mixing ouput in the RMS, Total: -9.37dB, Clipping Ratio&Cliped Num: (0.0010629251700680273, 375)\n"
     ]
    },
    {
     "name": "stderr",
     "output_type": "stream",
     "text": [
      "/root/anaconda3/lib/python3.11/site-packages/pyloudnorm/normalize.py:62: UserWarning: Possible clipped samples in output.\n",
      "  warnings.warn(\"Possible clipped samples in output.\")\n"
     ]
    },
    {
     "name": "stdout",
     "output_type": "stream",
     "text": [
      "HumNoise is 14dB. The Visqol value is -0.86\n",
      "Hum is 14dB. The Visqol_mp3 value is -0.39\n",
      "After LUFS, the mixing ouput in the RMS, Total: -9.37dB, Clipping Ratio&Cliped Num: (0.0010629251700680273, 375)\n"
     ]
    },
    {
     "name": "stderr",
     "output_type": "stream",
     "text": [
      "/root/anaconda3/lib/python3.11/site-packages/pyloudnorm/normalize.py:62: UserWarning: Possible clipped samples in output.\n",
      "  warnings.warn(\"Possible clipped samples in output.\")\n"
     ]
    },
    {
     "name": "stdout",
     "output_type": "stream",
     "text": [
      "HumNoise is 15dB. The Visqol value is -0.84\n",
      "Hum is 15dB. The Visqol_mp3 value is -0.39\n",
      "After LUFS, the mixing ouput in the RMS, Total: -9.38dB, Clipping Ratio&Cliped Num: (0.0010572562358276644, 373)\n"
     ]
    },
    {
     "name": "stderr",
     "output_type": "stream",
     "text": [
      "/root/anaconda3/lib/python3.11/site-packages/pyloudnorm/normalize.py:62: UserWarning: Possible clipped samples in output.\n",
      "  warnings.warn(\"Possible clipped samples in output.\")\n"
     ]
    },
    {
     "name": "stdout",
     "output_type": "stream",
     "text": [
      "HumNoise is 16dB. The Visqol value is -0.84\n",
      "Hum is 16dB. The Visqol_mp3 value is -0.38\n",
      "After LUFS, the mixing ouput in the RMS, Total: -9.38dB, Clipping Ratio&Cliped Num: (0.0010572562358276644, 373)\n"
     ]
    },
    {
     "name": "stderr",
     "output_type": "stream",
     "text": [
      "/root/anaconda3/lib/python3.11/site-packages/pyloudnorm/normalize.py:62: UserWarning: Possible clipped samples in output.\n",
      "  warnings.warn(\"Possible clipped samples in output.\")\n"
     ]
    },
    {
     "name": "stdout",
     "output_type": "stream",
     "text": [
      "HumNoise is 17dB. The Visqol value is -0.84\n",
      "Hum is 17dB. The Visqol_mp3 value is -0.37\n",
      "After LUFS, the mixing ouput in the RMS, Total: -9.39dB, Clipping Ratio&Cliped Num: (0.001054421768707483, 372)\n"
     ]
    },
    {
     "name": "stderr",
     "output_type": "stream",
     "text": [
      "/root/anaconda3/lib/python3.11/site-packages/pyloudnorm/normalize.py:62: UserWarning: Possible clipped samples in output.\n",
      "  warnings.warn(\"Possible clipped samples in output.\")\n"
     ]
    },
    {
     "name": "stdout",
     "output_type": "stream",
     "text": [
      "HumNoise is 18dB. The Visqol value is -0.84\n",
      "Hum is 18dB. The Visqol_mp3 value is -0.37\n",
      "After LUFS, the mixing ouput in the RMS, Total: -9.39dB, Clipping Ratio&Cliped Num: (0.0010459183673469387, 369)\n"
     ]
    },
    {
     "name": "stderr",
     "output_type": "stream",
     "text": [
      "/root/anaconda3/lib/python3.11/site-packages/pyloudnorm/normalize.py:62: UserWarning: Possible clipped samples in output.\n",
      "  warnings.warn(\"Possible clipped samples in output.\")\n"
     ]
    },
    {
     "name": "stdout",
     "output_type": "stream",
     "text": [
      "HumNoise is 19dB. The Visqol value is -0.83\n",
      "Hum is 19dB. The Visqol_mp3 value is -0.37\n",
      "After LUFS, the mixing ouput in the RMS, Total: -9.39dB, Clipping Ratio&Cliped Num: (0.001054421768707483, 372)\n"
     ]
    },
    {
     "name": "stderr",
     "output_type": "stream",
     "text": [
      "/root/anaconda3/lib/python3.11/site-packages/pyloudnorm/normalize.py:62: UserWarning: Possible clipped samples in output.\n",
      "  warnings.warn(\"Possible clipped samples in output.\")\n"
     ]
    },
    {
     "name": "stdout",
     "output_type": "stream",
     "text": [
      "HumNoise is 20dB. The Visqol value is -0.82\n",
      "Hum is 20dB. The Visqol_mp3 value is -0.35\n",
      "After LUFS, the mixing ouput in the RMS, Total: -9.39dB, Clipping Ratio&Cliped Num: (0.0010515873015873017, 371)\n"
     ]
    },
    {
     "name": "stderr",
     "output_type": "stream",
     "text": [
      "/root/anaconda3/lib/python3.11/site-packages/pyloudnorm/normalize.py:62: UserWarning: Possible clipped samples in output.\n",
      "  warnings.warn(\"Possible clipped samples in output.\")\n"
     ]
    },
    {
     "name": "stdout",
     "output_type": "stream",
     "text": [
      "HumNoise is 21dB. The Visqol value is -0.81\n",
      "Hum is 21dB. The Visqol_mp3 value is -0.34\n",
      "After LUFS, the mixing ouput in the RMS, Total: -9.39dB, Clipping Ratio&Cliped Num: (0.0010572562358276644, 373)\n"
     ]
    },
    {
     "name": "stderr",
     "output_type": "stream",
     "text": [
      "/root/anaconda3/lib/python3.11/site-packages/pyloudnorm/normalize.py:62: UserWarning: Possible clipped samples in output.\n",
      "  warnings.warn(\"Possible clipped samples in output.\")\n"
     ]
    },
    {
     "name": "stdout",
     "output_type": "stream",
     "text": [
      "HumNoise is 22dB. The Visqol value is -0.82\n",
      "Hum is 22dB. The Visqol_mp3 value is -0.34\n",
      "After LUFS, the mixing ouput in the RMS, Total: -9.39dB, Clipping Ratio&Cliped Num: (0.0010600907029478458, 374)\n"
     ]
    },
    {
     "name": "stderr",
     "output_type": "stream",
     "text": [
      "/root/anaconda3/lib/python3.11/site-packages/pyloudnorm/normalize.py:62: UserWarning: Possible clipped samples in output.\n",
      "  warnings.warn(\"Possible clipped samples in output.\")\n"
     ]
    },
    {
     "name": "stdout",
     "output_type": "stream",
     "text": [
      "HumNoise is 23dB. The Visqol value is -0.81\n",
      "Hum is 23dB. The Visqol_mp3 value is -0.33\n",
      "After LUFS, the mixing ouput in the RMS, Total: -9.39dB, Clipping Ratio&Cliped Num: (0.0010600907029478458, 374)\n"
     ]
    },
    {
     "name": "stderr",
     "output_type": "stream",
     "text": [
      "/root/anaconda3/lib/python3.11/site-packages/pyloudnorm/normalize.py:62: UserWarning: Possible clipped samples in output.\n",
      "  warnings.warn(\"Possible clipped samples in output.\")\n"
     ]
    },
    {
     "name": "stdout",
     "output_type": "stream",
     "text": [
      "HumNoise is 24dB. The Visqol value is -0.81\n",
      "Hum is 24dB. The Visqol_mp3 value is -0.33\n",
      "After LUFS, the mixing ouput in the RMS, Total: -9.39dB, Clipping Ratio&Cliped Num: (0.0010572562358276644, 373)\n"
     ]
    },
    {
     "name": "stderr",
     "output_type": "stream",
     "text": [
      "/root/anaconda3/lib/python3.11/site-packages/pyloudnorm/normalize.py:62: UserWarning: Possible clipped samples in output.\n",
      "  warnings.warn(\"Possible clipped samples in output.\")\n"
     ]
    },
    {
     "name": "stdout",
     "output_type": "stream",
     "text": [
      "HumNoise is 25dB. The Visqol value is -0.81\n",
      "Hum is 25dB. The Visqol_mp3 value is -0.33\n",
      "After LUFS, the mixing ouput in the RMS, Total: -9.39dB, Clipping Ratio&Cliped Num: (0.001054421768707483, 372)\n"
     ]
    },
    {
     "name": "stderr",
     "output_type": "stream",
     "text": [
      "/root/anaconda3/lib/python3.11/site-packages/pyloudnorm/normalize.py:62: UserWarning: Possible clipped samples in output.\n",
      "  warnings.warn(\"Possible clipped samples in output.\")\n"
     ]
    },
    {
     "name": "stdout",
     "output_type": "stream",
     "text": [
      "HumNoise is 26dB. The Visqol value is -0.8\n",
      "Hum is 26dB. The Visqol_mp3 value is -0.33\n",
      "After LUFS, the mixing ouput in the RMS, Total: -9.39dB, Clipping Ratio&Cliped Num: (0.0010515873015873017, 371)\n"
     ]
    },
    {
     "name": "stderr",
     "output_type": "stream",
     "text": [
      "/root/anaconda3/lib/python3.11/site-packages/pyloudnorm/normalize.py:62: UserWarning: Possible clipped samples in output.\n",
      "  warnings.warn(\"Possible clipped samples in output.\")\n"
     ]
    },
    {
     "name": "stdout",
     "output_type": "stream",
     "text": [
      "HumNoise is 27dB. The Visqol value is -0.81\n",
      "Hum is 27dB. The Visqol_mp3 value is -0.33\n",
      "After LUFS, the mixing ouput in the RMS, Total: -9.39dB, Clipping Ratio&Cliped Num: (0.0010572562358276644, 373)\n"
     ]
    },
    {
     "name": "stderr",
     "output_type": "stream",
     "text": [
      "/root/anaconda3/lib/python3.11/site-packages/pyloudnorm/normalize.py:62: UserWarning: Possible clipped samples in output.\n",
      "  warnings.warn(\"Possible clipped samples in output.\")\n"
     ]
    },
    {
     "name": "stdout",
     "output_type": "stream",
     "text": [
      "HumNoise is 28dB. The Visqol value is -0.8\n",
      "Hum is 28dB. The Visqol_mp3 value is -0.32\n",
      "After LUFS, the mixing ouput in the RMS, Total: -9.39dB, Clipping Ratio&Cliped Num: (0.0010572562358276644, 373)\n"
     ]
    },
    {
     "name": "stderr",
     "output_type": "stream",
     "text": [
      "/root/anaconda3/lib/python3.11/site-packages/pyloudnorm/normalize.py:62: UserWarning: Possible clipped samples in output.\n",
      "  warnings.warn(\"Possible clipped samples in output.\")\n"
     ]
    },
    {
     "name": "stdout",
     "output_type": "stream",
     "text": [
      "HumNoise is 29dB. The Visqol value is -0.8\n",
      "Hum is 29dB. The Visqol_mp3 value is -0.32\n",
      "After LUFS, the mixing ouput in the RMS, Total: -9.39dB, Clipping Ratio&Cliped Num: (0.001054421768707483, 372)\n"
     ]
    },
    {
     "name": "stderr",
     "output_type": "stream",
     "text": [
      "/root/anaconda3/lib/python3.11/site-packages/pyloudnorm/normalize.py:62: UserWarning: Possible clipped samples in output.\n",
      "  warnings.warn(\"Possible clipped samples in output.\")\n"
     ]
    },
    {
     "name": "stdout",
     "output_type": "stream",
     "text": [
      "HumNoise is 30dB. The Visqol value is -0.8\n",
      "Hum is 30dB. The Visqol_mp3 value is -0.32\n",
      "After LUFS, the mixing ouput in the RMS, Total: -9.39dB, Clipping Ratio&Cliped Num: (0.0010515873015873017, 371)\n"
     ]
    },
    {
     "name": "stderr",
     "output_type": "stream",
     "text": [
      "/root/anaconda3/lib/python3.11/site-packages/pyloudnorm/normalize.py:62: UserWarning: Possible clipped samples in output.\n",
      "  warnings.warn(\"Possible clipped samples in output.\")\n"
     ]
    },
    {
     "name": "stdout",
     "output_type": "stream",
     "text": [
      "HumNoise is 31dB. The Visqol value is -0.81\n",
      "Hum is 31dB. The Visqol_mp3 value is -0.32\n",
      "After LUFS, the mixing ouput in the RMS, Total: -9.39dB, Clipping Ratio&Cliped Num: (0.0010515873015873017, 371)\n"
     ]
    },
    {
     "name": "stderr",
     "output_type": "stream",
     "text": [
      "/root/anaconda3/lib/python3.11/site-packages/pyloudnorm/normalize.py:62: UserWarning: Possible clipped samples in output.\n",
      "  warnings.warn(\"Possible clipped samples in output.\")\n"
     ]
    },
    {
     "name": "stdout",
     "output_type": "stream",
     "text": [
      "HumNoise is 32dB. The Visqol value is -0.8\n",
      "Hum is 32dB. The Visqol_mp3 value is -0.31\n",
      "After LUFS, the mixing ouput in the RMS, Total: -9.39dB, Clipping Ratio&Cliped Num: (0.001054421768707483, 372)\n"
     ]
    },
    {
     "name": "stderr",
     "output_type": "stream",
     "text": [
      "/root/anaconda3/lib/python3.11/site-packages/pyloudnorm/normalize.py:62: UserWarning: Possible clipped samples in output.\n",
      "  warnings.warn(\"Possible clipped samples in output.\")\n"
     ]
    },
    {
     "name": "stdout",
     "output_type": "stream",
     "text": [
      "HumNoise is 33dB. The Visqol value is -0.8\n",
      "Hum is 33dB. The Visqol_mp3 value is -0.31\n",
      "After LUFS, the mixing ouput in the RMS, Total: -9.39dB, Clipping Ratio&Cliped Num: (0.0010600907029478458, 374)\n"
     ]
    },
    {
     "name": "stderr",
     "output_type": "stream",
     "text": [
      "/root/anaconda3/lib/python3.11/site-packages/pyloudnorm/normalize.py:62: UserWarning: Possible clipped samples in output.\n",
      "  warnings.warn(\"Possible clipped samples in output.\")\n"
     ]
    },
    {
     "name": "stdout",
     "output_type": "stream",
     "text": [
      "HumNoise is 34dB. The Visqol value is -0.81\n",
      "Hum is 34dB. The Visqol_mp3 value is -0.31\n",
      "After LUFS, the mixing ouput in the RMS, Total: -9.39dB, Clipping Ratio&Cliped Num: (0.0010600907029478458, 374)\n"
     ]
    },
    {
     "name": "stderr",
     "output_type": "stream",
     "text": [
      "/root/anaconda3/lib/python3.11/site-packages/pyloudnorm/normalize.py:62: UserWarning: Possible clipped samples in output.\n",
      "  warnings.warn(\"Possible clipped samples in output.\")\n"
     ]
    },
    {
     "name": "stdout",
     "output_type": "stream",
     "text": [
      "HumNoise is 35dB. The Visqol value is -0.8\n",
      "Hum is 35dB. The Visqol_mp3 value is -0.31\n",
      "After LUFS, the mixing ouput in the RMS, Total: -9.39dB, Clipping Ratio&Cliped Num: (0.0010600907029478458, 374)\n"
     ]
    },
    {
     "name": "stderr",
     "output_type": "stream",
     "text": [
      "/root/anaconda3/lib/python3.11/site-packages/pyloudnorm/normalize.py:62: UserWarning: Possible clipped samples in output.\n",
      "  warnings.warn(\"Possible clipped samples in output.\")\n"
     ]
    },
    {
     "name": "stdout",
     "output_type": "stream",
     "text": [
      "HumNoise is 36dB. The Visqol value is -0.81\n",
      "Hum is 36dB. The Visqol_mp3 value is -0.31\n",
      "After LUFS, the mixing ouput in the RMS, Total: -9.39dB, Clipping Ratio&Cliped Num: (0.0010600907029478458, 374)\n"
     ]
    },
    {
     "name": "stderr",
     "output_type": "stream",
     "text": [
      "/root/anaconda3/lib/python3.11/site-packages/pyloudnorm/normalize.py:62: UserWarning: Possible clipped samples in output.\n",
      "  warnings.warn(\"Possible clipped samples in output.\")\n"
     ]
    },
    {
     "name": "stdout",
     "output_type": "stream",
     "text": [
      "HumNoise is 37dB. The Visqol value is -0.81\n",
      "Hum is 37dB. The Visqol_mp3 value is -0.3\n",
      "After LUFS, the mixing ouput in the RMS, Total: -9.39dB, Clipping Ratio&Cliped Num: (0.0010714285714285715, 378)\n"
     ]
    },
    {
     "name": "stderr",
     "output_type": "stream",
     "text": [
      "/root/anaconda3/lib/python3.11/site-packages/pyloudnorm/normalize.py:62: UserWarning: Possible clipped samples in output.\n",
      "  warnings.warn(\"Possible clipped samples in output.\")\n"
     ]
    },
    {
     "name": "stdout",
     "output_type": "stream",
     "text": [
      "HumNoise is 38dB. The Visqol value is -0.8\n",
      "Hum is 38dB. The Visqol_mp3 value is -0.3\n",
      "After LUFS, the mixing ouput in the RMS, Total: -9.39dB, Clipping Ratio&Cliped Num: (0.0010714285714285715, 378)\n"
     ]
    },
    {
     "name": "stderr",
     "output_type": "stream",
     "text": [
      "/root/anaconda3/lib/python3.11/site-packages/pyloudnorm/normalize.py:62: UserWarning: Possible clipped samples in output.\n",
      "  warnings.warn(\"Possible clipped samples in output.\")\n"
     ]
    },
    {
     "name": "stdout",
     "output_type": "stream",
     "text": [
      "HumNoise is 39dB. The Visqol value is -0.8\n",
      "Hum is 39dB. The Visqol_mp3 value is -0.3\n",
      "After LUFS, the mixing ouput in the RMS, Total: -9.39dB, Clipping Ratio&Cliped Num: (0.0010714285714285715, 378)\n"
     ]
    },
    {
     "name": "stderr",
     "output_type": "stream",
     "text": [
      "/root/anaconda3/lib/python3.11/site-packages/pyloudnorm/normalize.py:62: UserWarning: Possible clipped samples in output.\n",
      "  warnings.warn(\"Possible clipped samples in output.\")\n"
     ]
    },
    {
     "name": "stdout",
     "output_type": "stream",
     "text": [
      "HumNoise is 40dB. The Visqol value is -0.8\n",
      "Hum is 40dB. The Visqol_mp3 value is -0.3\n",
      "After LUFS, the mixing ouput in the RMS, Total: -9.39dB, Clipping Ratio&Cliped Num: (0.0010742630385487527, 379)\n"
     ]
    },
    {
     "name": "stderr",
     "output_type": "stream",
     "text": [
      "/root/anaconda3/lib/python3.11/site-packages/pyloudnorm/normalize.py:62: UserWarning: Possible clipped samples in output.\n",
      "  warnings.warn(\"Possible clipped samples in output.\")\n"
     ]
    },
    {
     "name": "stdout",
     "output_type": "stream",
     "text": [
      "HumNoise is 41dB. The Visqol value is -0.8\n",
      "Hum is 41dB. The Visqol_mp3 value is -0.3\n",
      "After LUFS, the mixing ouput in the RMS, Total: -9.39dB, Clipping Ratio&Cliped Num: (0.0010714285714285715, 378)\n"
     ]
    },
    {
     "name": "stderr",
     "output_type": "stream",
     "text": [
      "/root/anaconda3/lib/python3.11/site-packages/pyloudnorm/normalize.py:62: UserWarning: Possible clipped samples in output.\n",
      "  warnings.warn(\"Possible clipped samples in output.\")\n"
     ]
    },
    {
     "name": "stdout",
     "output_type": "stream",
     "text": [
      "HumNoise is 42dB. The Visqol value is -0.8\n",
      "Hum is 42dB. The Visqol_mp3 value is -0.31\n",
      "After LUFS, the mixing ouput in the RMS, Total: -9.39dB, Clipping Ratio&Cliped Num: (0.0010714285714285715, 378)\n"
     ]
    },
    {
     "name": "stderr",
     "output_type": "stream",
     "text": [
      "/root/anaconda3/lib/python3.11/site-packages/pyloudnorm/normalize.py:62: UserWarning: Possible clipped samples in output.\n",
      "  warnings.warn(\"Possible clipped samples in output.\")\n"
     ]
    },
    {
     "name": "stdout",
     "output_type": "stream",
     "text": [
      "HumNoise is 43dB. The Visqol value is -0.81\n",
      "Hum is 43dB. The Visqol_mp3 value is -0.31\n",
      "After LUFS, the mixing ouput in the RMS, Total: -9.39dB, Clipping Ratio&Cliped Num: (0.0010742630385487527, 379)\n"
     ]
    },
    {
     "name": "stderr",
     "output_type": "stream",
     "text": [
      "/root/anaconda3/lib/python3.11/site-packages/pyloudnorm/normalize.py:62: UserWarning: Possible clipped samples in output.\n",
      "  warnings.warn(\"Possible clipped samples in output.\")\n"
     ]
    },
    {
     "name": "stdout",
     "output_type": "stream",
     "text": [
      "HumNoise is 44dB. The Visqol value is -0.81\n",
      "Hum is 44dB. The Visqol_mp3 value is -0.31\n",
      "After LUFS, the mixing ouput in the RMS, Total: -9.39dB, Clipping Ratio&Cliped Num: (0.0010770975056689342, 380)\n"
     ]
    },
    {
     "name": "stderr",
     "output_type": "stream",
     "text": [
      "/root/anaconda3/lib/python3.11/site-packages/pyloudnorm/normalize.py:62: UserWarning: Possible clipped samples in output.\n",
      "  warnings.warn(\"Possible clipped samples in output.\")\n"
     ]
    },
    {
     "name": "stdout",
     "output_type": "stream",
     "text": [
      "HumNoise is 45dB. The Visqol value is -0.81\n",
      "Hum is 45dB. The Visqol_mp3 value is -0.3\n",
      "After LUFS, the mixing ouput in the RMS, Total: -9.39dB, Clipping Ratio&Cliped Num: (0.0010770975056689342, 380)\n"
     ]
    },
    {
     "name": "stderr",
     "output_type": "stream",
     "text": [
      "/root/anaconda3/lib/python3.11/site-packages/pyloudnorm/normalize.py:62: UserWarning: Possible clipped samples in output.\n",
      "  warnings.warn(\"Possible clipped samples in output.\")\n"
     ]
    },
    {
     "name": "stdout",
     "output_type": "stream",
     "text": [
      "HumNoise is 46dB. The Visqol value is -0.81\n",
      "Hum is 46dB. The Visqol_mp3 value is -0.3\n",
      "After LUFS, the mixing ouput in the RMS, Total: -9.39dB, Clipping Ratio&Cliped Num: (0.0010770975056689342, 380)\n"
     ]
    },
    {
     "name": "stderr",
     "output_type": "stream",
     "text": [
      "/root/anaconda3/lib/python3.11/site-packages/pyloudnorm/normalize.py:62: UserWarning: Possible clipped samples in output.\n",
      "  warnings.warn(\"Possible clipped samples in output.\")\n"
     ]
    },
    {
     "name": "stdout",
     "output_type": "stream",
     "text": [
      "HumNoise is 47dB. The Visqol value is -0.8\n",
      "Hum is 47dB. The Visqol_mp3 value is -0.3\n",
      "After LUFS, the mixing ouput in the RMS, Total: -9.39dB, Clipping Ratio&Cliped Num: (0.0010770975056689342, 380)\n"
     ]
    },
    {
     "name": "stderr",
     "output_type": "stream",
     "text": [
      "/root/anaconda3/lib/python3.11/site-packages/pyloudnorm/normalize.py:62: UserWarning: Possible clipped samples in output.\n",
      "  warnings.warn(\"Possible clipped samples in output.\")\n"
     ]
    },
    {
     "name": "stdout",
     "output_type": "stream",
     "text": [
      "HumNoise is 48dB. The Visqol value is -0.8\n",
      "Hum is 48dB. The Visqol_mp3 value is -0.3\n",
      "After LUFS, the mixing ouput in the RMS, Total: -9.39dB, Clipping Ratio&Cliped Num: (0.0010770975056689342, 380)\n"
     ]
    },
    {
     "name": "stderr",
     "output_type": "stream",
     "text": [
      "/root/anaconda3/lib/python3.11/site-packages/pyloudnorm/normalize.py:62: UserWarning: Possible clipped samples in output.\n",
      "  warnings.warn(\"Possible clipped samples in output.\")\n"
     ]
    },
    {
     "name": "stdout",
     "output_type": "stream",
     "text": [
      "HumNoise is 49dB. The Visqol value is -0.8\n",
      "Hum is 49dB. The Visqol_mp3 value is -0.31\n",
      "After LUFS, the mixing ouput in the RMS, Total: -9.39dB, Clipping Ratio&Cliped Num: (0.0010770975056689342, 380)\n"
     ]
    },
    {
     "name": "stderr",
     "output_type": "stream",
     "text": [
      "/root/anaconda3/lib/python3.11/site-packages/pyloudnorm/normalize.py:62: UserWarning: Possible clipped samples in output.\n",
      "  warnings.warn(\"Possible clipped samples in output.\")\n"
     ]
    },
    {
     "name": "stdout",
     "output_type": "stream",
     "text": [
      "HumNoise is 50dB. The Visqol value is -0.8\n",
      "Hum is 50dB. The Visqol_mp3 value is -0.31\n",
      "After LUFS, the mixing ouput in the RMS, Total: -9.39dB, Clipping Ratio&Cliped Num: (0.0010770975056689342, 380)\n"
     ]
    },
    {
     "name": "stderr",
     "output_type": "stream",
     "text": [
      "/root/anaconda3/lib/python3.11/site-packages/pyloudnorm/normalize.py:62: UserWarning: Possible clipped samples in output.\n",
      "  warnings.warn(\"Possible clipped samples in output.\")\n"
     ]
    },
    {
     "name": "stdout",
     "output_type": "stream",
     "text": [
      "HumNoise is 51dB. The Visqol value is -0.8\n",
      "Hum is 51dB. The Visqol_mp3 value is -0.3\n",
      "After LUFS, the mixing ouput in the RMS, Total: -9.39dB, Clipping Ratio&Cliped Num: (0.0010770975056689342, 380)\n"
     ]
    },
    {
     "name": "stderr",
     "output_type": "stream",
     "text": [
      "/root/anaconda3/lib/python3.11/site-packages/pyloudnorm/normalize.py:62: UserWarning: Possible clipped samples in output.\n",
      "  warnings.warn(\"Possible clipped samples in output.\")\n"
     ]
    },
    {
     "name": "stdout",
     "output_type": "stream",
     "text": [
      "HumNoise is 52dB. The Visqol value is -0.79\n",
      "Hum is 52dB. The Visqol_mp3 value is -0.3\n",
      "After LUFS, the mixing ouput in the RMS, Total: -9.39dB, Clipping Ratio&Cliped Num: (0.0010770975056689342, 380)\n"
     ]
    },
    {
     "name": "stderr",
     "output_type": "stream",
     "text": [
      "/root/anaconda3/lib/python3.11/site-packages/pyloudnorm/normalize.py:62: UserWarning: Possible clipped samples in output.\n",
      "  warnings.warn(\"Possible clipped samples in output.\")\n"
     ]
    },
    {
     "name": "stdout",
     "output_type": "stream",
     "text": [
      "HumNoise is 53dB. The Visqol value is -0.8\n",
      "Hum is 53dB. The Visqol_mp3 value is -0.31\n",
      "After LUFS, the mixing ouput in the RMS, Total: -9.39dB, Clipping Ratio&Cliped Num: (0.0010770975056689342, 380)\n"
     ]
    },
    {
     "name": "stderr",
     "output_type": "stream",
     "text": [
      "/root/anaconda3/lib/python3.11/site-packages/pyloudnorm/normalize.py:62: UserWarning: Possible clipped samples in output.\n",
      "  warnings.warn(\"Possible clipped samples in output.\")\n"
     ]
    },
    {
     "name": "stdout",
     "output_type": "stream",
     "text": [
      "HumNoise is 54dB. The Visqol value is -0.8\n",
      "Hum is 54dB. The Visqol_mp3 value is -0.3\n",
      "After LUFS, the mixing ouput in the RMS, Total: -9.39dB, Clipping Ratio&Cliped Num: (0.0010770975056689342, 380)\n"
     ]
    },
    {
     "name": "stderr",
     "output_type": "stream",
     "text": [
      "/root/anaconda3/lib/python3.11/site-packages/pyloudnorm/normalize.py:62: UserWarning: Possible clipped samples in output.\n",
      "  warnings.warn(\"Possible clipped samples in output.\")\n"
     ]
    },
    {
     "name": "stdout",
     "output_type": "stream",
     "text": [
      "HumNoise is 55dB. The Visqol value is -0.8\n",
      "Hum is 55dB. The Visqol_mp3 value is -0.3\n",
      "After LUFS, the mixing ouput in the RMS, Total: -9.39dB, Clipping Ratio&Cliped Num: (0.0010770975056689342, 380)\n"
     ]
    },
    {
     "name": "stderr",
     "output_type": "stream",
     "text": [
      "/root/anaconda3/lib/python3.11/site-packages/pyloudnorm/normalize.py:62: UserWarning: Possible clipped samples in output.\n",
      "  warnings.warn(\"Possible clipped samples in output.\")\n"
     ]
    },
    {
     "name": "stdout",
     "output_type": "stream",
     "text": [
      "HumNoise is 56dB. The Visqol value is -0.8\n",
      "Hum is 56dB. The Visqol_mp3 value is -0.3\n",
      "After LUFS, the mixing ouput in the RMS, Total: -9.39dB, Clipping Ratio&Cliped Num: (0.0010770975056689342, 380)\n"
     ]
    },
    {
     "name": "stderr",
     "output_type": "stream",
     "text": [
      "/root/anaconda3/lib/python3.11/site-packages/pyloudnorm/normalize.py:62: UserWarning: Possible clipped samples in output.\n",
      "  warnings.warn(\"Possible clipped samples in output.\")\n"
     ]
    },
    {
     "name": "stdout",
     "output_type": "stream",
     "text": [
      "HumNoise is 57dB. The Visqol value is -0.8\n",
      "Hum is 57dB. The Visqol_mp3 value is -0.3\n",
      "After LUFS, the mixing ouput in the RMS, Total: -9.39dB, Clipping Ratio&Cliped Num: (0.0010770975056689342, 380)\n"
     ]
    },
    {
     "name": "stderr",
     "output_type": "stream",
     "text": [
      "/root/anaconda3/lib/python3.11/site-packages/pyloudnorm/normalize.py:62: UserWarning: Possible clipped samples in output.\n",
      "  warnings.warn(\"Possible clipped samples in output.\")\n"
     ]
    },
    {
     "name": "stdout",
     "output_type": "stream",
     "text": [
      "HumNoise is 58dB. The Visqol value is -0.8\n",
      "Hum is 58dB. The Visqol_mp3 value is -0.3\n",
      "After LUFS, the mixing ouput in the RMS, Total: -9.39dB, Clipping Ratio&Cliped Num: (0.0010770975056689342, 380)\n"
     ]
    },
    {
     "name": "stderr",
     "output_type": "stream",
     "text": [
      "/root/anaconda3/lib/python3.11/site-packages/pyloudnorm/normalize.py:62: UserWarning: Possible clipped samples in output.\n",
      "  warnings.warn(\"Possible clipped samples in output.\")\n"
     ]
    },
    {
     "name": "stdout",
     "output_type": "stream",
     "text": [
      "HumNoise is 59dB. The Visqol value is -0.79\n",
      "Hum is 59dB. The Visqol_mp3 value is -0.3\n",
      "After LUFS, the mixing ouput in the RMS, Total: -9.39dB, Clipping Ratio&Cliped Num: (0.0010770975056689342, 380)\n"
     ]
    },
    {
     "name": "stderr",
     "output_type": "stream",
     "text": [
      "/root/anaconda3/lib/python3.11/site-packages/pyloudnorm/normalize.py:62: UserWarning: Possible clipped samples in output.\n",
      "  warnings.warn(\"Possible clipped samples in output.\")\n"
     ]
    },
    {
     "name": "stdout",
     "output_type": "stream",
     "text": [
      "HumNoise is 60dB. The Visqol value is -0.8\n",
      "Hum is 60dB. The Visqol_mp3 value is -0.3\n",
      "After LUFS, the mixing ouput in the RMS, Total: -9.39dB, Clipping Ratio&Cliped Num: (0.0010770975056689342, 380)\n"
     ]
    },
    {
     "name": "stderr",
     "output_type": "stream",
     "text": [
      "/root/anaconda3/lib/python3.11/site-packages/pyloudnorm/normalize.py:62: UserWarning: Possible clipped samples in output.\n",
      "  warnings.warn(\"Possible clipped samples in output.\")\n"
     ]
    },
    {
     "name": "stdout",
     "output_type": "stream",
     "text": [
      "HumNoise is 61dB. The Visqol value is -0.8\n",
      "Hum is 61dB. The Visqol_mp3 value is -0.29\n",
      "After LUFS, the mixing ouput in the RMS, Total: -9.39dB, Clipping Ratio&Cliped Num: (0.0010770975056689342, 380)\n"
     ]
    },
    {
     "name": "stderr",
     "output_type": "stream",
     "text": [
      "/root/anaconda3/lib/python3.11/site-packages/pyloudnorm/normalize.py:62: UserWarning: Possible clipped samples in output.\n",
      "  warnings.warn(\"Possible clipped samples in output.\")\n"
     ]
    },
    {
     "name": "stdout",
     "output_type": "stream",
     "text": [
      "HumNoise is 62dB. The Visqol value is -0.8\n",
      "Hum is 62dB. The Visqol_mp3 value is -0.3\n",
      "After LUFS, the mixing ouput in the RMS, Total: -9.39dB, Clipping Ratio&Cliped Num: (0.0010799319727891157, 381)\n"
     ]
    },
    {
     "name": "stderr",
     "output_type": "stream",
     "text": [
      "/root/anaconda3/lib/python3.11/site-packages/pyloudnorm/normalize.py:62: UserWarning: Possible clipped samples in output.\n",
      "  warnings.warn(\"Possible clipped samples in output.\")\n"
     ]
    },
    {
     "name": "stdout",
     "output_type": "stream",
     "text": [
      "HumNoise is 63dB. The Visqol value is -0.79\n",
      "Hum is 63dB. The Visqol_mp3 value is -0.29\n",
      "After LUFS, the mixing ouput in the RMS, Total: -9.39dB, Clipping Ratio&Cliped Num: (0.0010799319727891157, 381)\n"
     ]
    },
    {
     "name": "stderr",
     "output_type": "stream",
     "text": [
      "/root/anaconda3/lib/python3.11/site-packages/pyloudnorm/normalize.py:62: UserWarning: Possible clipped samples in output.\n",
      "  warnings.warn(\"Possible clipped samples in output.\")\n"
     ]
    },
    {
     "name": "stdout",
     "output_type": "stream",
     "text": [
      "HumNoise is 64dB. The Visqol value is -0.79\n",
      "Hum is 64dB. The Visqol_mp3 value is -0.29\n",
      "After LUFS, the mixing ouput in the RMS, Total: -9.39dB, Clipping Ratio&Cliped Num: (0.0010799319727891157, 381)\n"
     ]
    },
    {
     "name": "stderr",
     "output_type": "stream",
     "text": [
      "/root/anaconda3/lib/python3.11/site-packages/pyloudnorm/normalize.py:62: UserWarning: Possible clipped samples in output.\n",
      "  warnings.warn(\"Possible clipped samples in output.\")\n"
     ]
    },
    {
     "name": "stdout",
     "output_type": "stream",
     "text": [
      "HumNoise is 65dB. The Visqol value is -0.79\n",
      "Hum is 65dB. The Visqol_mp3 value is -0.3\n",
      "After LUFS, the mixing ouput in the RMS, Total: -9.39dB, Clipping Ratio&Cliped Num: (0.0010799319727891157, 381)\n"
     ]
    },
    {
     "name": "stderr",
     "output_type": "stream",
     "text": [
      "/root/anaconda3/lib/python3.11/site-packages/pyloudnorm/normalize.py:62: UserWarning: Possible clipped samples in output.\n",
      "  warnings.warn(\"Possible clipped samples in output.\")\n"
     ]
    },
    {
     "name": "stdout",
     "output_type": "stream",
     "text": [
      "HumNoise is 66dB. The Visqol value is -0.79\n",
      "Hum is 66dB. The Visqol_mp3 value is -0.29\n",
      "After LUFS, the mixing ouput in the RMS, Total: -9.39dB, Clipping Ratio&Cliped Num: (0.0010799319727891157, 381)\n"
     ]
    },
    {
     "name": "stderr",
     "output_type": "stream",
     "text": [
      "/root/anaconda3/lib/python3.11/site-packages/pyloudnorm/normalize.py:62: UserWarning: Possible clipped samples in output.\n",
      "  warnings.warn(\"Possible clipped samples in output.\")\n"
     ]
    },
    {
     "name": "stdout",
     "output_type": "stream",
     "text": [
      "HumNoise is 67dB. The Visqol value is -0.8\n",
      "Hum is 67dB. The Visqol_mp3 value is -0.29\n",
      "After LUFS, the mixing ouput in the RMS, Total: -9.39dB, Clipping Ratio&Cliped Num: (0.0010799319727891157, 381)\n"
     ]
    },
    {
     "name": "stderr",
     "output_type": "stream",
     "text": [
      "/root/anaconda3/lib/python3.11/site-packages/pyloudnorm/normalize.py:62: UserWarning: Possible clipped samples in output.\n",
      "  warnings.warn(\"Possible clipped samples in output.\")\n"
     ]
    },
    {
     "name": "stdout",
     "output_type": "stream",
     "text": [
      "HumNoise is 68dB. The Visqol value is -0.8\n",
      "Hum is 68dB. The Visqol_mp3 value is -0.3\n",
      "After LUFS, the mixing ouput in the RMS, Total: -9.39dB, Clipping Ratio&Cliped Num: (0.0010799319727891157, 381)\n"
     ]
    },
    {
     "name": "stderr",
     "output_type": "stream",
     "text": [
      "/root/anaconda3/lib/python3.11/site-packages/pyloudnorm/normalize.py:62: UserWarning: Possible clipped samples in output.\n",
      "  warnings.warn(\"Possible clipped samples in output.\")\n"
     ]
    },
    {
     "name": "stdout",
     "output_type": "stream",
     "text": [
      "HumNoise is 69dB. The Visqol value is -0.79\n",
      "Hum is 69dB. The Visqol_mp3 value is -0.29\n",
      "After LUFS, the mixing ouput in the RMS, Total: -9.39dB, Clipping Ratio&Cliped Num: (0.0010799319727891157, 381)\n"
     ]
    },
    {
     "name": "stderr",
     "output_type": "stream",
     "text": [
      "/root/anaconda3/lib/python3.11/site-packages/pyloudnorm/normalize.py:62: UserWarning: Possible clipped samples in output.\n",
      "  warnings.warn(\"Possible clipped samples in output.\")\n"
     ]
    },
    {
     "name": "stdout",
     "output_type": "stream",
     "text": [
      "HumNoise is 70dB. The Visqol value is -0.79\n",
      "Hum is 70dB. The Visqol_mp3 value is -0.29\n",
      "After LUFS, the mixing ouput in the RMS, Total: -9.39dB, Clipping Ratio&Cliped Num: (0.0010799319727891157, 381)\n"
     ]
    },
    {
     "name": "stderr",
     "output_type": "stream",
     "text": [
      "/root/anaconda3/lib/python3.11/site-packages/pyloudnorm/normalize.py:62: UserWarning: Possible clipped samples in output.\n",
      "  warnings.warn(\"Possible clipped samples in output.\")\n"
     ]
    },
    {
     "name": "stdout",
     "output_type": "stream",
     "text": [
      "HumNoise is 71dB. The Visqol value is -0.79\n",
      "Hum is 71dB. The Visqol_mp3 value is -0.29\n",
      "After LUFS, the mixing ouput in the RMS, Total: -9.39dB, Clipping Ratio&Cliped Num: (0.0010799319727891157, 381)\n"
     ]
    },
    {
     "name": "stderr",
     "output_type": "stream",
     "text": [
      "/root/anaconda3/lib/python3.11/site-packages/pyloudnorm/normalize.py:62: UserWarning: Possible clipped samples in output.\n",
      "  warnings.warn(\"Possible clipped samples in output.\")\n"
     ]
    },
    {
     "name": "stdout",
     "output_type": "stream",
     "text": [
      "HumNoise is 72dB. The Visqol value is -0.79\n",
      "Hum is 72dB. The Visqol_mp3 value is -0.29\n",
      "After LUFS, the mixing ouput in the RMS, Total: -9.39dB, Clipping Ratio&Cliped Num: (0.0010799319727891157, 381)\n"
     ]
    },
    {
     "name": "stderr",
     "output_type": "stream",
     "text": [
      "/root/anaconda3/lib/python3.11/site-packages/pyloudnorm/normalize.py:62: UserWarning: Possible clipped samples in output.\n",
      "  warnings.warn(\"Possible clipped samples in output.\")\n"
     ]
    },
    {
     "name": "stdout",
     "output_type": "stream",
     "text": [
      "HumNoise is 73dB. The Visqol value is -0.79\n",
      "Hum is 73dB. The Visqol_mp3 value is -0.29\n",
      "After LUFS, the mixing ouput in the RMS, Total: -9.39dB, Clipping Ratio&Cliped Num: (0.0010799319727891157, 381)\n"
     ]
    },
    {
     "name": "stderr",
     "output_type": "stream",
     "text": [
      "/root/anaconda3/lib/python3.11/site-packages/pyloudnorm/normalize.py:62: UserWarning: Possible clipped samples in output.\n",
      "  warnings.warn(\"Possible clipped samples in output.\")\n"
     ]
    },
    {
     "name": "stdout",
     "output_type": "stream",
     "text": [
      "HumNoise is 74dB. The Visqol value is -0.79\n",
      "Hum is 74dB. The Visqol_mp3 value is -0.3\n",
      "After LUFS, the mixing ouput in the RMS, Total: -9.39dB, Clipping Ratio&Cliped Num: (0.0010799319727891157, 381)\n"
     ]
    },
    {
     "name": "stderr",
     "output_type": "stream",
     "text": [
      "/root/anaconda3/lib/python3.11/site-packages/pyloudnorm/normalize.py:62: UserWarning: Possible clipped samples in output.\n",
      "  warnings.warn(\"Possible clipped samples in output.\")\n"
     ]
    },
    {
     "name": "stdout",
     "output_type": "stream",
     "text": [
      "HumNoise is 75dB. The Visqol value is -0.8\n",
      "Hum is 75dB. The Visqol_mp3 value is -0.29\n",
      "After LUFS, the mixing ouput in the RMS, Total: -9.39dB, Clipping Ratio&Cliped Num: (0.0010799319727891157, 381)\n"
     ]
    },
    {
     "name": "stderr",
     "output_type": "stream",
     "text": [
      "/root/anaconda3/lib/python3.11/site-packages/pyloudnorm/normalize.py:62: UserWarning: Possible clipped samples in output.\n",
      "  warnings.warn(\"Possible clipped samples in output.\")\n"
     ]
    },
    {
     "name": "stdout",
     "output_type": "stream",
     "text": [
      "HumNoise is 76dB. The Visqol value is -0.8\n",
      "Hum is 76dB. The Visqol_mp3 value is -0.29\n",
      "After LUFS, the mixing ouput in the RMS, Total: -9.39dB, Clipping Ratio&Cliped Num: (0.0010799319727891157, 381)\n"
     ]
    },
    {
     "name": "stderr",
     "output_type": "stream",
     "text": [
      "/root/anaconda3/lib/python3.11/site-packages/pyloudnorm/normalize.py:62: UserWarning: Possible clipped samples in output.\n",
      "  warnings.warn(\"Possible clipped samples in output.\")\n"
     ]
    },
    {
     "name": "stdout",
     "output_type": "stream",
     "text": [
      "HumNoise is 77dB. The Visqol value is -0.8\n",
      "Hum is 77dB. The Visqol_mp3 value is -0.29\n",
      "After LUFS, the mixing ouput in the RMS, Total: -9.39dB, Clipping Ratio&Cliped Num: (0.0010799319727891157, 381)\n"
     ]
    },
    {
     "name": "stderr",
     "output_type": "stream",
     "text": [
      "/root/anaconda3/lib/python3.11/site-packages/pyloudnorm/normalize.py:62: UserWarning: Possible clipped samples in output.\n",
      "  warnings.warn(\"Possible clipped samples in output.\")\n"
     ]
    },
    {
     "name": "stdout",
     "output_type": "stream",
     "text": [
      "HumNoise is 78dB. The Visqol value is -0.8\n",
      "Hum is 78dB. The Visqol_mp3 value is -0.28\n",
      "After LUFS, the mixing ouput in the RMS, Total: -9.39dB, Clipping Ratio&Cliped Num: (0.0010799319727891157, 381)\n"
     ]
    },
    {
     "name": "stderr",
     "output_type": "stream",
     "text": [
      "/root/anaconda3/lib/python3.11/site-packages/pyloudnorm/normalize.py:62: UserWarning: Possible clipped samples in output.\n",
      "  warnings.warn(\"Possible clipped samples in output.\")\n"
     ]
    },
    {
     "name": "stdout",
     "output_type": "stream",
     "text": [
      "HumNoise is 79dB. The Visqol value is -0.8\n",
      "Hum is 79dB. The Visqol_mp3 value is -0.29\n",
      "After LUFS, the mixing ouput in the RMS, Total: -9.39dB, Clipping Ratio&Cliped Num: (0.0010799319727891157, 381)\n"
     ]
    },
    {
     "name": "stderr",
     "output_type": "stream",
     "text": [
      "/root/anaconda3/lib/python3.11/site-packages/pyloudnorm/normalize.py:62: UserWarning: Possible clipped samples in output.\n",
      "  warnings.warn(\"Possible clipped samples in output.\")\n"
     ]
    },
    {
     "name": "stdout",
     "output_type": "stream",
     "text": [
      "HumNoise is 80dB. The Visqol value is -0.8\n",
      "Hum is 80dB. The Visqol_mp3 value is -0.29\n",
      "After LUFS, the mixing ouput in the RMS, Total: -9.39dB, Clipping Ratio&Cliped Num: (0.0010799319727891157, 381)\n"
     ]
    },
    {
     "name": "stderr",
     "output_type": "stream",
     "text": [
      "/root/anaconda3/lib/python3.11/site-packages/pyloudnorm/normalize.py:62: UserWarning: Possible clipped samples in output.\n",
      "  warnings.warn(\"Possible clipped samples in output.\")\n"
     ]
    },
    {
     "name": "stdout",
     "output_type": "stream",
     "text": [
      "HumNoise is 81dB. The Visqol value is -0.8\n",
      "Hum is 81dB. The Visqol_mp3 value is -0.28\n",
      "After LUFS, the mixing ouput in the RMS, Total: -9.39dB, Clipping Ratio&Cliped Num: (0.0010799319727891157, 381)\n"
     ]
    },
    {
     "name": "stderr",
     "output_type": "stream",
     "text": [
      "/root/anaconda3/lib/python3.11/site-packages/pyloudnorm/normalize.py:62: UserWarning: Possible clipped samples in output.\n",
      "  warnings.warn(\"Possible clipped samples in output.\")\n"
     ]
    },
    {
     "name": "stdout",
     "output_type": "stream",
     "text": [
      "HumNoise is 82dB. The Visqol value is -0.8\n",
      "Hum is 82dB. The Visqol_mp3 value is -0.29\n",
      "After LUFS, the mixing ouput in the RMS, Total: -9.39dB, Clipping Ratio&Cliped Num: (0.0010799319727891157, 381)\n"
     ]
    },
    {
     "name": "stderr",
     "output_type": "stream",
     "text": [
      "/root/anaconda3/lib/python3.11/site-packages/pyloudnorm/normalize.py:62: UserWarning: Possible clipped samples in output.\n",
      "  warnings.warn(\"Possible clipped samples in output.\")\n"
     ]
    },
    {
     "name": "stdout",
     "output_type": "stream",
     "text": [
      "HumNoise is 83dB. The Visqol value is -0.8\n",
      "Hum is 83dB. The Visqol_mp3 value is -0.29\n",
      "After LUFS, the mixing ouput in the RMS, Total: -9.39dB, Clipping Ratio&Cliped Num: (0.0010799319727891157, 381)\n"
     ]
    },
    {
     "name": "stderr",
     "output_type": "stream",
     "text": [
      "/root/anaconda3/lib/python3.11/site-packages/pyloudnorm/normalize.py:62: UserWarning: Possible clipped samples in output.\n",
      "  warnings.warn(\"Possible clipped samples in output.\")\n"
     ]
    },
    {
     "name": "stdout",
     "output_type": "stream",
     "text": [
      "HumNoise is 84dB. The Visqol value is -0.8\n",
      "Hum is 84dB. The Visqol_mp3 value is -0.28\n",
      "After LUFS, the mixing ouput in the RMS, Total: -9.39dB, Clipping Ratio&Cliped Num: (0.0010799319727891157, 381)\n"
     ]
    },
    {
     "name": "stderr",
     "output_type": "stream",
     "text": [
      "/root/anaconda3/lib/python3.11/site-packages/pyloudnorm/normalize.py:62: UserWarning: Possible clipped samples in output.\n",
      "  warnings.warn(\"Possible clipped samples in output.\")\n"
     ]
    },
    {
     "name": "stdout",
     "output_type": "stream",
     "text": [
      "HumNoise is 85dB. The Visqol value is -0.8\n",
      "Hum is 85dB. The Visqol_mp3 value is -0.28\n",
      "After LUFS, the mixing ouput in the RMS, Total: -9.39dB, Clipping Ratio&Cliped Num: (0.0010799319727891157, 381)\n"
     ]
    },
    {
     "name": "stderr",
     "output_type": "stream",
     "text": [
      "/root/anaconda3/lib/python3.11/site-packages/pyloudnorm/normalize.py:62: UserWarning: Possible clipped samples in output.\n",
      "  warnings.warn(\"Possible clipped samples in output.\")\n"
     ]
    },
    {
     "name": "stdout",
     "output_type": "stream",
     "text": [
      "HumNoise is 86dB. The Visqol value is -0.8\n",
      "Hum is 86dB. The Visqol_mp3 value is -0.28\n",
      "After LUFS, the mixing ouput in the RMS, Total: -9.39dB, Clipping Ratio&Cliped Num: (0.0010799319727891157, 381)\n"
     ]
    },
    {
     "name": "stderr",
     "output_type": "stream",
     "text": [
      "/root/anaconda3/lib/python3.11/site-packages/pyloudnorm/normalize.py:62: UserWarning: Possible clipped samples in output.\n",
      "  warnings.warn(\"Possible clipped samples in output.\")\n"
     ]
    },
    {
     "name": "stdout",
     "output_type": "stream",
     "text": [
      "HumNoise is 87dB. The Visqol value is -0.8\n",
      "Hum is 87dB. The Visqol_mp3 value is -0.28\n",
      "After LUFS, the mixing ouput in the RMS, Total: -9.39dB, Clipping Ratio&Cliped Num: (0.0010799319727891157, 381)\n"
     ]
    },
    {
     "name": "stderr",
     "output_type": "stream",
     "text": [
      "/root/anaconda3/lib/python3.11/site-packages/pyloudnorm/normalize.py:62: UserWarning: Possible clipped samples in output.\n",
      "  warnings.warn(\"Possible clipped samples in output.\")\n"
     ]
    },
    {
     "name": "stdout",
     "output_type": "stream",
     "text": [
      "HumNoise is 88dB. The Visqol value is -0.8\n",
      "Hum is 88dB. The Visqol_mp3 value is -0.28\n",
      "After LUFS, the mixing ouput in the RMS, Total: -9.39dB, Clipping Ratio&Cliped Num: (0.0010799319727891157, 381)\n"
     ]
    },
    {
     "name": "stderr",
     "output_type": "stream",
     "text": [
      "/root/anaconda3/lib/python3.11/site-packages/pyloudnorm/normalize.py:62: UserWarning: Possible clipped samples in output.\n",
      "  warnings.warn(\"Possible clipped samples in output.\")\n"
     ]
    },
    {
     "name": "stdout",
     "output_type": "stream",
     "text": [
      "HumNoise is 89dB. The Visqol value is -0.8\n",
      "Hum is 89dB. The Visqol_mp3 value is -0.28\n",
      "After LUFS, the mixing ouput in the RMS, Total: -9.39dB, Clipping Ratio&Cliped Num: (0.0010799319727891157, 381)\n"
     ]
    },
    {
     "name": "stderr",
     "output_type": "stream",
     "text": [
      "/root/anaconda3/lib/python3.11/site-packages/pyloudnorm/normalize.py:62: UserWarning: Possible clipped samples in output.\n",
      "  warnings.warn(\"Possible clipped samples in output.\")\n"
     ]
    },
    {
     "name": "stdout",
     "output_type": "stream",
     "text": [
      "HumNoise is 90dB. The Visqol value is -0.8\n",
      "Hum is 90dB. The Visqol_mp3 value is -0.28\n",
      "After LUFS, the mixing ouput in the RMS, Total: -9.39dB, Clipping Ratio&Cliped Num: (0.0010799319727891157, 381)\n"
     ]
    },
    {
     "name": "stderr",
     "output_type": "stream",
     "text": [
      "/root/anaconda3/lib/python3.11/site-packages/pyloudnorm/normalize.py:62: UserWarning: Possible clipped samples in output.\n",
      "  warnings.warn(\"Possible clipped samples in output.\")\n"
     ]
    },
    {
     "name": "stdout",
     "output_type": "stream",
     "text": [
      "HumNoise is 91dB. The Visqol value is -0.8\n",
      "Hum is 91dB. The Visqol_mp3 value is -0.28\n",
      "After LUFS, the mixing ouput in the RMS, Total: -9.39dB, Clipping Ratio&Cliped Num: (0.0010799319727891157, 381)\n"
     ]
    },
    {
     "name": "stderr",
     "output_type": "stream",
     "text": [
      "/root/anaconda3/lib/python3.11/site-packages/pyloudnorm/normalize.py:62: UserWarning: Possible clipped samples in output.\n",
      "  warnings.warn(\"Possible clipped samples in output.\")\n"
     ]
    },
    {
     "name": "stdout",
     "output_type": "stream",
     "text": [
      "HumNoise is 92dB. The Visqol value is -0.8\n",
      "Hum is 92dB. The Visqol_mp3 value is -0.28\n",
      "After LUFS, the mixing ouput in the RMS, Total: -9.39dB, Clipping Ratio&Cliped Num: (0.0010799319727891157, 381)\n"
     ]
    },
    {
     "name": "stderr",
     "output_type": "stream",
     "text": [
      "/root/anaconda3/lib/python3.11/site-packages/pyloudnorm/normalize.py:62: UserWarning: Possible clipped samples in output.\n",
      "  warnings.warn(\"Possible clipped samples in output.\")\n"
     ]
    },
    {
     "name": "stdout",
     "output_type": "stream",
     "text": [
      "HumNoise is 93dB. The Visqol value is -0.8\n",
      "Hum is 93dB. The Visqol_mp3 value is -0.28\n",
      "After LUFS, the mixing ouput in the RMS, Total: -9.39dB, Clipping Ratio&Cliped Num: (0.0010799319727891157, 381)\n"
     ]
    },
    {
     "name": "stderr",
     "output_type": "stream",
     "text": [
      "/root/anaconda3/lib/python3.11/site-packages/pyloudnorm/normalize.py:62: UserWarning: Possible clipped samples in output.\n",
      "  warnings.warn(\"Possible clipped samples in output.\")\n"
     ]
    },
    {
     "name": "stdout",
     "output_type": "stream",
     "text": [
      "HumNoise is 94dB. The Visqol value is -0.8\n",
      "Hum is 94dB. The Visqol_mp3 value is -0.28\n",
      "After LUFS, the mixing ouput in the RMS, Total: -9.39dB, Clipping Ratio&Cliped Num: (0.0010799319727891157, 381)\n"
     ]
    },
    {
     "name": "stderr",
     "output_type": "stream",
     "text": [
      "/root/anaconda3/lib/python3.11/site-packages/pyloudnorm/normalize.py:62: UserWarning: Possible clipped samples in output.\n",
      "  warnings.warn(\"Possible clipped samples in output.\")\n"
     ]
    },
    {
     "name": "stdout",
     "output_type": "stream",
     "text": [
      "HumNoise is 95dB. The Visqol value is -0.8\n",
      "Hum is 95dB. The Visqol_mp3 value is -0.28\n",
      "After LUFS, the mixing ouput in the RMS, Total: -9.39dB, Clipping Ratio&Cliped Num: (0.0010799319727891157, 381)\n"
     ]
    },
    {
     "name": "stderr",
     "output_type": "stream",
     "text": [
      "/root/anaconda3/lib/python3.11/site-packages/pyloudnorm/normalize.py:62: UserWarning: Possible clipped samples in output.\n",
      "  warnings.warn(\"Possible clipped samples in output.\")\n"
     ]
    },
    {
     "name": "stdout",
     "output_type": "stream",
     "text": [
      "HumNoise is 96dB. The Visqol value is -0.8\n",
      "Hum is 96dB. The Visqol_mp3 value is -0.28\n",
      "After LUFS, the mixing ouput in the RMS, Total: -9.39dB, Clipping Ratio&Cliped Num: (0.0010799319727891157, 381)\n"
     ]
    },
    {
     "name": "stderr",
     "output_type": "stream",
     "text": [
      "/root/anaconda3/lib/python3.11/site-packages/pyloudnorm/normalize.py:62: UserWarning: Possible clipped samples in output.\n",
      "  warnings.warn(\"Possible clipped samples in output.\")\n"
     ]
    },
    {
     "name": "stdout",
     "output_type": "stream",
     "text": [
      "HumNoise is 97dB. The Visqol value is -0.8\n",
      "Hum is 97dB. The Visqol_mp3 value is -0.27\n",
      "After LUFS, the mixing ouput in the RMS, Total: -9.39dB, Clipping Ratio&Cliped Num: (0.0010799319727891157, 381)\n"
     ]
    },
    {
     "name": "stderr",
     "output_type": "stream",
     "text": [
      "/root/anaconda3/lib/python3.11/site-packages/pyloudnorm/normalize.py:62: UserWarning: Possible clipped samples in output.\n",
      "  warnings.warn(\"Possible clipped samples in output.\")\n"
     ]
    },
    {
     "name": "stdout",
     "output_type": "stream",
     "text": [
      "HumNoise is 98dB. The Visqol value is -0.8\n",
      "Hum is 98dB. The Visqol_mp3 value is -0.28\n",
      "After LUFS, the mixing ouput in the RMS, Total: -9.39dB, Clipping Ratio&Cliped Num: (0.0010799319727891157, 381)\n"
     ]
    },
    {
     "name": "stderr",
     "output_type": "stream",
     "text": [
      "/root/anaconda3/lib/python3.11/site-packages/pyloudnorm/normalize.py:62: UserWarning: Possible clipped samples in output.\n",
      "  warnings.warn(\"Possible clipped samples in output.\")\n"
     ]
    },
    {
     "name": "stdout",
     "output_type": "stream",
     "text": [
      "HumNoise is 99dB. The Visqol value is -0.8\n",
      "Hum is 99dB. The Visqol_mp3 value is -0.28\n",
      "After LUFS, the mixing ouput in the RMS, Total: -12.08dB, Clipping Ratio&Cliped Num: (0.0, 3)\n"
     ]
    },
    {
     "name": "stderr",
     "output_type": "stream",
     "text": [
      "/root/anaconda3/lib/python3.11/site-packages/pyloudnorm/normalize.py:62: UserWarning: Possible clipped samples in output.\n",
      "  warnings.warn(\"Possible clipped samples in output.\")\n"
     ]
    },
    {
     "name": "stdout",
     "output_type": "stream",
     "text": [
      "WhiteNoise is 1dB. The Visqol value is -3.06\n",
      "WhiteNoise is 1dB. The Visqol value is -3.16\n",
      "After LUFS, the mixing ouput in the RMS, Total: -11.82dB, Clipping Ratio&Cliped Num: (0.0, 6)\n"
     ]
    },
    {
     "name": "stderr",
     "output_type": "stream",
     "text": [
      "/root/anaconda3/lib/python3.11/site-packages/pyloudnorm/normalize.py:62: UserWarning: Possible clipped samples in output.\n",
      "  warnings.warn(\"Possible clipped samples in output.\")\n"
     ]
    },
    {
     "name": "stdout",
     "output_type": "stream",
     "text": [
      "WhiteNoise is 2dB. The Visqol value is -3.06\n",
      "WhiteNoise is 2dB. The Visqol value is -3.14\n",
      "After LUFS, the mixing ouput in the RMS, Total: -11.57dB, Clipping Ratio&Cliped Num: (0.0, 17)\n"
     ]
    },
    {
     "name": "stderr",
     "output_type": "stream",
     "text": [
      "/root/anaconda3/lib/python3.11/site-packages/pyloudnorm/normalize.py:62: UserWarning: Possible clipped samples in output.\n",
      "  warnings.warn(\"Possible clipped samples in output.\")\n"
     ]
    },
    {
     "name": "stdout",
     "output_type": "stream",
     "text": [
      "WhiteNoise is 3dB. The Visqol value is -3.03\n",
      "WhiteNoise is 3dB. The Visqol value is -3.09\n",
      "After LUFS, the mixing ouput in the RMS, Total: -11.29dB, Clipping Ratio&Cliped Num: (0.0, 29)\n"
     ]
    },
    {
     "name": "stderr",
     "output_type": "stream",
     "text": [
      "/root/anaconda3/lib/python3.11/site-packages/pyloudnorm/normalize.py:62: UserWarning: Possible clipped samples in output.\n",
      "  warnings.warn(\"Possible clipped samples in output.\")\n"
     ]
    },
    {
     "name": "stdout",
     "output_type": "stream",
     "text": [
      "WhiteNoise is 4dB. The Visqol value is -2.88\n",
      "WhiteNoise is 4dB. The Visqol value is -2.97\n",
      "After LUFS, the mixing ouput in the RMS, Total: -11.05dB, Clipping Ratio&Cliped Num: (0.00010204081632653062, 36)\n"
     ]
    },
    {
     "name": "stderr",
     "output_type": "stream",
     "text": [
      "/root/anaconda3/lib/python3.11/site-packages/pyloudnorm/normalize.py:62: UserWarning: Possible clipped samples in output.\n",
      "  warnings.warn(\"Possible clipped samples in output.\")\n"
     ]
    },
    {
     "name": "stdout",
     "output_type": "stream",
     "text": [
      "WhiteNoise is 5dB. The Visqol value is -2.9\n",
      "WhiteNoise is 5dB. The Visqol value is -2.99\n",
      "After LUFS, the mixing ouput in the RMS, Total: -10.82dB, Clipping Ratio&Cliped Num: (0.00018140589569160998, 64)\n"
     ]
    },
    {
     "name": "stderr",
     "output_type": "stream",
     "text": [
      "/root/anaconda3/lib/python3.11/site-packages/pyloudnorm/normalize.py:62: UserWarning: Possible clipped samples in output.\n",
      "  warnings.warn(\"Possible clipped samples in output.\")\n"
     ]
    },
    {
     "name": "stdout",
     "output_type": "stream",
     "text": [
      "WhiteNoise is 6dB. The Visqol value is -2.82\n",
      "WhiteNoise is 6dB. The Visqol value is -2.91\n",
      "After LUFS, the mixing ouput in the RMS, Total: -10.6dB, Clipping Ratio&Cliped Num: (0.00027494331065759637, 97)\n"
     ]
    },
    {
     "name": "stderr",
     "output_type": "stream",
     "text": [
      "/root/anaconda3/lib/python3.11/site-packages/pyloudnorm/normalize.py:62: UserWarning: Possible clipped samples in output.\n",
      "  warnings.warn(\"Possible clipped samples in output.\")\n"
     ]
    },
    {
     "name": "stdout",
     "output_type": "stream",
     "text": [
      "WhiteNoise is 7dB. The Visqol value is -2.79\n",
      "WhiteNoise is 7dB. The Visqol value is -2.87\n",
      "After LUFS, the mixing ouput in the RMS, Total: -10.42dB, Clipping Ratio&Cliped Num: (0.00031746031746031746, 112)\n"
     ]
    },
    {
     "name": "stderr",
     "output_type": "stream",
     "text": [
      "/root/anaconda3/lib/python3.11/site-packages/pyloudnorm/normalize.py:62: UserWarning: Possible clipped samples in output.\n",
      "  warnings.warn(\"Possible clipped samples in output.\")\n"
     ]
    },
    {
     "name": "stdout",
     "output_type": "stream",
     "text": [
      "WhiteNoise is 8dB. The Visqol value is -2.74\n",
      "WhiteNoise is 8dB. The Visqol value is -2.82\n",
      "After LUFS, the mixing ouput in the RMS, Total: -10.24dB, Clipping Ratio&Cliped Num: (0.00040816326530612246, 144)\n"
     ]
    },
    {
     "name": "stderr",
     "output_type": "stream",
     "text": [
      "/root/anaconda3/lib/python3.11/site-packages/pyloudnorm/normalize.py:62: UserWarning: Possible clipped samples in output.\n",
      "  warnings.warn(\"Possible clipped samples in output.\")\n"
     ]
    },
    {
     "name": "stdout",
     "output_type": "stream",
     "text": [
      "WhiteNoise is 9dB. The Visqol value is -2.66\n",
      "WhiteNoise is 9dB. The Visqol value is -2.74\n",
      "After LUFS, the mixing ouput in the RMS, Total: -10.1dB, Clipping Ratio&Cliped Num: (0.00046768707482993196, 165)\n"
     ]
    },
    {
     "name": "stderr",
     "output_type": "stream",
     "text": [
      "/root/anaconda3/lib/python3.11/site-packages/pyloudnorm/normalize.py:62: UserWarning: Possible clipped samples in output.\n",
      "  warnings.warn(\"Possible clipped samples in output.\")\n"
     ]
    },
    {
     "name": "stdout",
     "output_type": "stream",
     "text": [
      "WhiteNoise is 10dB. The Visqol value is -2.56\n",
      "WhiteNoise is 10dB. The Visqol value is -2.65\n",
      "After LUFS, the mixing ouput in the RMS, Total: -9.97dB, Clipping Ratio&Cliped Num: (0.0005668934240362812, 200)\n"
     ]
    },
    {
     "name": "stderr",
     "output_type": "stream",
     "text": [
      "/root/anaconda3/lib/python3.11/site-packages/pyloudnorm/normalize.py:62: UserWarning: Possible clipped samples in output.\n",
      "  warnings.warn(\"Possible clipped samples in output.\")\n"
     ]
    },
    {
     "name": "stdout",
     "output_type": "stream",
     "text": [
      "WhiteNoise is 11dB. The Visqol value is -2.49\n",
      "WhiteNoise is 11dB. The Visqol value is -2.58\n",
      "After LUFS, the mixing ouput in the RMS, Total: -9.86dB, Clipping Ratio&Cliped Num: (0.000663265306122449, 234)\n"
     ]
    },
    {
     "name": "stderr",
     "output_type": "stream",
     "text": [
      "/root/anaconda3/lib/python3.11/site-packages/pyloudnorm/normalize.py:62: UserWarning: Possible clipped samples in output.\n",
      "  warnings.warn(\"Possible clipped samples in output.\")\n"
     ]
    },
    {
     "name": "stdout",
     "output_type": "stream",
     "text": [
      "WhiteNoise is 12dB. The Visqol value is -2.38\n",
      "WhiteNoise is 12dB. The Visqol value is -2.47\n",
      "After LUFS, the mixing ouput in the RMS, Total: -9.77dB, Clipping Ratio&Cliped Num: (0.0007029478458049886, 248)\n"
     ]
    },
    {
     "name": "stderr",
     "output_type": "stream",
     "text": [
      "/root/anaconda3/lib/python3.11/site-packages/pyloudnorm/normalize.py:62: UserWarning: Possible clipped samples in output.\n",
      "  warnings.warn(\"Possible clipped samples in output.\")\n"
     ]
    },
    {
     "name": "stdout",
     "output_type": "stream",
     "text": [
      "WhiteNoise is 13dB. The Visqol value is -2.3\n",
      "WhiteNoise is 13dB. The Visqol value is -2.41\n",
      "After LUFS, the mixing ouput in the RMS, Total: -9.7dB, Clipping Ratio&Cliped Num: (0.0007596371882086167, 268)\n"
     ]
    },
    {
     "name": "stderr",
     "output_type": "stream",
     "text": [
      "/root/anaconda3/lib/python3.11/site-packages/pyloudnorm/normalize.py:62: UserWarning: Possible clipped samples in output.\n",
      "  warnings.warn(\"Possible clipped samples in output.\")\n"
     ]
    },
    {
     "name": "stdout",
     "output_type": "stream",
     "text": [
      "WhiteNoise is 14dB. The Visqol value is -2.2\n",
      "WhiteNoise is 14dB. The Visqol value is -2.3\n",
      "After LUFS, the mixing ouput in the RMS, Total: -9.64dB, Clipping Ratio&Cliped Num: (0.0008106575963718821, 286)\n"
     ]
    },
    {
     "name": "stderr",
     "output_type": "stream",
     "text": [
      "/root/anaconda3/lib/python3.11/site-packages/pyloudnorm/normalize.py:62: UserWarning: Possible clipped samples in output.\n",
      "  warnings.warn(\"Possible clipped samples in output.\")\n"
     ]
    },
    {
     "name": "stdout",
     "output_type": "stream",
     "text": [
      "WhiteNoise is 15dB. The Visqol value is -2.12\n",
      "WhiteNoise is 15dB. The Visqol value is -2.21\n",
      "After LUFS, the mixing ouput in the RMS, Total: -9.59dB, Clipping Ratio&Cliped Num: (0.0008333333333333334, 294)\n"
     ]
    },
    {
     "name": "stderr",
     "output_type": "stream",
     "text": [
      "/root/anaconda3/lib/python3.11/site-packages/pyloudnorm/normalize.py:62: UserWarning: Possible clipped samples in output.\n",
      "  warnings.warn(\"Possible clipped samples in output.\")\n"
     ]
    },
    {
     "name": "stdout",
     "output_type": "stream",
     "text": [
      "WhiteNoise is 16dB. The Visqol value is -2.02\n",
      "WhiteNoise is 16dB. The Visqol value is -2.12\n",
      "After LUFS, the mixing ouput in the RMS, Total: -9.55dB, Clipping Ratio&Cliped Num: (0.0009098639455782313, 321)\n"
     ]
    },
    {
     "name": "stderr",
     "output_type": "stream",
     "text": [
      "/root/anaconda3/lib/python3.11/site-packages/pyloudnorm/normalize.py:62: UserWarning: Possible clipped samples in output.\n",
      "  warnings.warn(\"Possible clipped samples in output.\")\n"
     ]
    },
    {
     "name": "stdout",
     "output_type": "stream",
     "text": [
      "WhiteNoise is 17dB. The Visqol value is -1.91\n",
      "WhiteNoise is 17dB. The Visqol value is -2.0\n",
      "After LUFS, the mixing ouput in the RMS, Total: -9.52dB, Clipping Ratio&Cliped Num: (0.00088718820861678, 313)\n"
     ]
    },
    {
     "name": "stderr",
     "output_type": "stream",
     "text": [
      "/root/anaconda3/lib/python3.11/site-packages/pyloudnorm/normalize.py:62: UserWarning: Possible clipped samples in output.\n",
      "  warnings.warn(\"Possible clipped samples in output.\")\n"
     ]
    },
    {
     "name": "stdout",
     "output_type": "stream",
     "text": [
      "WhiteNoise is 18dB. The Visqol value is -1.85\n",
      "WhiteNoise is 18dB. The Visqol value is -1.95\n",
      "After LUFS, the mixing ouput in the RMS, Total: -9.49dB, Clipping Ratio&Cliped Num: (0.0009467120181405896, 334)\n"
     ]
    },
    {
     "name": "stderr",
     "output_type": "stream",
     "text": [
      "/root/anaconda3/lib/python3.11/site-packages/pyloudnorm/normalize.py:62: UserWarning: Possible clipped samples in output.\n",
      "  warnings.warn(\"Possible clipped samples in output.\")\n"
     ]
    },
    {
     "name": "stdout",
     "output_type": "stream",
     "text": [
      "WhiteNoise is 19dB. The Visqol value is -1.73\n",
      "WhiteNoise is 19dB. The Visqol value is -1.79\n",
      "After LUFS, the mixing ouput in the RMS, Total: -9.47dB, Clipping Ratio&Cliped Num: (0.0009892290249433108, 349)\n"
     ]
    },
    {
     "name": "stderr",
     "output_type": "stream",
     "text": [
      "/root/anaconda3/lib/python3.11/site-packages/pyloudnorm/normalize.py:62: UserWarning: Possible clipped samples in output.\n",
      "  warnings.warn(\"Possible clipped samples in output.\")\n"
     ]
    },
    {
     "name": "stdout",
     "output_type": "stream",
     "text": [
      "WhiteNoise is 20dB. The Visqol value is -1.67\n",
      "WhiteNoise is 20dB. The Visqol value is -1.74\n",
      "After LUFS, the mixing ouput in the RMS, Total: -9.46dB, Clipping Ratio&Cliped Num: (0.0009835600907029478, 347)\n"
     ]
    },
    {
     "name": "stderr",
     "output_type": "stream",
     "text": [
      "/root/anaconda3/lib/python3.11/site-packages/pyloudnorm/normalize.py:62: UserWarning: Possible clipped samples in output.\n",
      "  warnings.warn(\"Possible clipped samples in output.\")\n"
     ]
    },
    {
     "name": "stdout",
     "output_type": "stream",
     "text": [
      "WhiteNoise is 21dB. The Visqol value is -1.53\n",
      "WhiteNoise is 21dB. The Visqol value is -1.61\n",
      "After LUFS, the mixing ouput in the RMS, Total: -9.45dB, Clipping Ratio&Cliped Num: (0.001040249433106576, 367)\n"
     ]
    },
    {
     "name": "stderr",
     "output_type": "stream",
     "text": [
      "/root/anaconda3/lib/python3.11/site-packages/pyloudnorm/normalize.py:62: UserWarning: Possible clipped samples in output.\n",
      "  warnings.warn(\"Possible clipped samples in output.\")\n"
     ]
    },
    {
     "name": "stdout",
     "output_type": "stream",
     "text": [
      "WhiteNoise is 22dB. The Visqol value is -1.5\n",
      "WhiteNoise is 22dB. The Visqol value is -1.57\n",
      "After LUFS, the mixing ouput in the RMS, Total: -9.43dB, Clipping Ratio&Cliped Num: (0.0010317460317460319, 364)\n"
     ]
    },
    {
     "name": "stderr",
     "output_type": "stream",
     "text": [
      "/root/anaconda3/lib/python3.11/site-packages/pyloudnorm/normalize.py:62: UserWarning: Possible clipped samples in output.\n",
      "  warnings.warn(\"Possible clipped samples in output.\")\n"
     ]
    },
    {
     "name": "stdout",
     "output_type": "stream",
     "text": [
      "WhiteNoise is 23dB. The Visqol value is -1.4\n",
      "WhiteNoise is 23dB. The Visqol value is -1.44\n",
      "After LUFS, the mixing ouput in the RMS, Total: -9.43dB, Clipping Ratio&Cliped Num: (0.001040249433106576, 367)\n"
     ]
    },
    {
     "name": "stderr",
     "output_type": "stream",
     "text": [
      "/root/anaconda3/lib/python3.11/site-packages/pyloudnorm/normalize.py:62: UserWarning: Possible clipped samples in output.\n",
      "  warnings.warn(\"Possible clipped samples in output.\")\n"
     ]
    },
    {
     "name": "stdout",
     "output_type": "stream",
     "text": [
      "WhiteNoise is 24dB. The Visqol value is -1.37\n",
      "WhiteNoise is 24dB. The Visqol value is -1.4\n",
      "After LUFS, the mixing ouput in the RMS, Total: -9.42dB, Clipping Ratio&Cliped Num: (0.0010459183673469387, 369)\n"
     ]
    },
    {
     "name": "stderr",
     "output_type": "stream",
     "text": [
      "/root/anaconda3/lib/python3.11/site-packages/pyloudnorm/normalize.py:62: UserWarning: Possible clipped samples in output.\n",
      "  warnings.warn(\"Possible clipped samples in output.\")\n"
     ]
    },
    {
     "name": "stdout",
     "output_type": "stream",
     "text": [
      "WhiteNoise is 25dB. The Visqol value is -1.32\n",
      "WhiteNoise is 25dB. The Visqol value is -1.31\n",
      "After LUFS, the mixing ouput in the RMS, Total: -9.41dB, Clipping Ratio&Cliped Num: (0.0010374149659863946, 366)\n"
     ]
    },
    {
     "name": "stderr",
     "output_type": "stream",
     "text": [
      "/root/anaconda3/lib/python3.11/site-packages/pyloudnorm/normalize.py:62: UserWarning: Possible clipped samples in output.\n",
      "  warnings.warn(\"Possible clipped samples in output.\")\n"
     ]
    },
    {
     "name": "stdout",
     "output_type": "stream",
     "text": [
      "WhiteNoise is 26dB. The Visqol value is -1.26\n",
      "WhiteNoise is 26dB. The Visqol value is -1.26\n",
      "After LUFS, the mixing ouput in the RMS, Total: -9.41dB, Clipping Ratio&Cliped Num: (0.0010515873015873017, 371)\n"
     ]
    },
    {
     "name": "stderr",
     "output_type": "stream",
     "text": [
      "/root/anaconda3/lib/python3.11/site-packages/pyloudnorm/normalize.py:62: UserWarning: Possible clipped samples in output.\n",
      "  warnings.warn(\"Possible clipped samples in output.\")\n"
     ]
    },
    {
     "name": "stdout",
     "output_type": "stream",
     "text": [
      "WhiteNoise is 27dB. The Visqol value is -1.22\n",
      "WhiteNoise is 27dB. The Visqol value is -1.19\n",
      "After LUFS, the mixing ouput in the RMS, Total: -9.41dB, Clipping Ratio&Cliped Num: (0.0010572562358276644, 373)\n"
     ]
    },
    {
     "name": "stderr",
     "output_type": "stream",
     "text": [
      "/root/anaconda3/lib/python3.11/site-packages/pyloudnorm/normalize.py:62: UserWarning: Possible clipped samples in output.\n",
      "  warnings.warn(\"Possible clipped samples in output.\")\n"
     ]
    },
    {
     "name": "stdout",
     "output_type": "stream",
     "text": [
      "WhiteNoise is 28dB. The Visqol value is -1.16\n",
      "WhiteNoise is 28dB. The Visqol value is -1.12\n",
      "After LUFS, the mixing ouput in the RMS, Total: -9.4dB, Clipping Ratio&Cliped Num: (0.0010600907029478458, 374)\n"
     ]
    },
    {
     "name": "stderr",
     "output_type": "stream",
     "text": [
      "/root/anaconda3/lib/python3.11/site-packages/pyloudnorm/normalize.py:62: UserWarning: Possible clipped samples in output.\n",
      "  warnings.warn(\"Possible clipped samples in output.\")\n"
     ]
    },
    {
     "name": "stdout",
     "output_type": "stream",
     "text": [
      "WhiteNoise is 29dB. The Visqol value is -1.13\n",
      "WhiteNoise is 29dB. The Visqol value is -1.06\n",
      "After LUFS, the mixing ouput in the RMS, Total: -9.4dB, Clipping Ratio&Cliped Num: (0.0010629251700680273, 375)\n"
     ]
    },
    {
     "name": "stderr",
     "output_type": "stream",
     "text": [
      "/root/anaconda3/lib/python3.11/site-packages/pyloudnorm/normalize.py:62: UserWarning: Possible clipped samples in output.\n",
      "  warnings.warn(\"Possible clipped samples in output.\")\n"
     ]
    },
    {
     "name": "stdout",
     "output_type": "stream",
     "text": [
      "WhiteNoise is 30dB. The Visqol value is -1.08\n",
      "WhiteNoise is 30dB. The Visqol value is -0.98\n",
      "After LUFS, the mixing ouput in the RMS, Total: -9.4dB, Clipping Ratio&Cliped Num: (0.00106859410430839, 377)\n"
     ]
    },
    {
     "name": "stderr",
     "output_type": "stream",
     "text": [
      "/root/anaconda3/lib/python3.11/site-packages/pyloudnorm/normalize.py:62: UserWarning: Possible clipped samples in output.\n",
      "  warnings.warn(\"Possible clipped samples in output.\")\n"
     ]
    },
    {
     "name": "stdout",
     "output_type": "stream",
     "text": [
      "WhiteNoise is 31dB. The Visqol value is -1.09\n",
      "WhiteNoise is 31dB. The Visqol value is -0.94\n",
      "After LUFS, the mixing ouput in the RMS, Total: -9.4dB, Clipping Ratio&Cliped Num: (0.00106859410430839, 377)\n"
     ]
    },
    {
     "name": "stderr",
     "output_type": "stream",
     "text": [
      "/root/anaconda3/lib/python3.11/site-packages/pyloudnorm/normalize.py:62: UserWarning: Possible clipped samples in output.\n",
      "  warnings.warn(\"Possible clipped samples in output.\")\n"
     ]
    },
    {
     "name": "stdout",
     "output_type": "stream",
     "text": [
      "WhiteNoise is 32dB. The Visqol value is -1.04\n",
      "WhiteNoise is 32dB. The Visqol value is -0.9\n",
      "After LUFS, the mixing ouput in the RMS, Total: -9.4dB, Clipping Ratio&Cliped Num: (0.0010629251700680273, 375)\n"
     ]
    },
    {
     "name": "stderr",
     "output_type": "stream",
     "text": [
      "/root/anaconda3/lib/python3.11/site-packages/pyloudnorm/normalize.py:62: UserWarning: Possible clipped samples in output.\n",
      "  warnings.warn(\"Possible clipped samples in output.\")\n"
     ]
    },
    {
     "name": "stdout",
     "output_type": "stream",
     "text": [
      "WhiteNoise is 33dB. The Visqol value is -1.03\n",
      "WhiteNoise is 33dB. The Visqol value is -0.84\n",
      "After LUFS, the mixing ouput in the RMS, Total: -9.4dB, Clipping Ratio&Cliped Num: (0.00106859410430839, 377)\n"
     ]
    },
    {
     "name": "stderr",
     "output_type": "stream",
     "text": [
      "/root/anaconda3/lib/python3.11/site-packages/pyloudnorm/normalize.py:62: UserWarning: Possible clipped samples in output.\n",
      "  warnings.warn(\"Possible clipped samples in output.\")\n"
     ]
    },
    {
     "name": "stdout",
     "output_type": "stream",
     "text": [
      "WhiteNoise is 34dB. The Visqol value is -0.97\n",
      "WhiteNoise is 34dB. The Visqol value is -0.78\n",
      "After LUFS, the mixing ouput in the RMS, Total: -9.4dB, Clipping Ratio&Cliped Num: (0.0010742630385487527, 379)\n"
     ]
    },
    {
     "name": "stderr",
     "output_type": "stream",
     "text": [
      "/root/anaconda3/lib/python3.11/site-packages/pyloudnorm/normalize.py:62: UserWarning: Possible clipped samples in output.\n",
      "  warnings.warn(\"Possible clipped samples in output.\")\n"
     ]
    },
    {
     "name": "stdout",
     "output_type": "stream",
     "text": [
      "WhiteNoise is 35dB. The Visqol value is -0.99\n",
      "WhiteNoise is 35dB. The Visqol value is -0.77\n",
      "After LUFS, the mixing ouput in the RMS, Total: -9.39dB, Clipping Ratio&Cliped Num: (0.0010600907029478458, 374)\n"
     ]
    },
    {
     "name": "stderr",
     "output_type": "stream",
     "text": [
      "/root/anaconda3/lib/python3.11/site-packages/pyloudnorm/normalize.py:62: UserWarning: Possible clipped samples in output.\n",
      "  warnings.warn(\"Possible clipped samples in output.\")\n"
     ]
    },
    {
     "name": "stdout",
     "output_type": "stream",
     "text": [
      "WhiteNoise is 36dB. The Visqol value is -0.96\n",
      "WhiteNoise is 36dB. The Visqol value is -0.7\n",
      "After LUFS, the mixing ouput in the RMS, Total: -9.39dB, Clipping Ratio&Cliped Num: (0.00106859410430839, 377)\n"
     ]
    },
    {
     "name": "stderr",
     "output_type": "stream",
     "text": [
      "/root/anaconda3/lib/python3.11/site-packages/pyloudnorm/normalize.py:62: UserWarning: Possible clipped samples in output.\n",
      "  warnings.warn(\"Possible clipped samples in output.\")\n"
     ]
    },
    {
     "name": "stdout",
     "output_type": "stream",
     "text": [
      "WhiteNoise is 37dB. The Visqol value is -0.94\n",
      "WhiteNoise is 37dB. The Visqol value is -0.65\n",
      "After LUFS, the mixing ouput in the RMS, Total: -9.39dB, Clipping Ratio&Cliped Num: (0.0010799319727891157, 381)\n"
     ]
    },
    {
     "name": "stderr",
     "output_type": "stream",
     "text": [
      "/root/anaconda3/lib/python3.11/site-packages/pyloudnorm/normalize.py:62: UserWarning: Possible clipped samples in output.\n",
      "  warnings.warn(\"Possible clipped samples in output.\")\n"
     ]
    },
    {
     "name": "stdout",
     "output_type": "stream",
     "text": [
      "WhiteNoise is 38dB. The Visqol value is -0.95\n",
      "WhiteNoise is 38dB. The Visqol value is -0.65\n",
      "After LUFS, the mixing ouput in the RMS, Total: -9.39dB, Clipping Ratio&Cliped Num: (0.0010770975056689342, 380)\n"
     ]
    },
    {
     "name": "stderr",
     "output_type": "stream",
     "text": [
      "/root/anaconda3/lib/python3.11/site-packages/pyloudnorm/normalize.py:62: UserWarning: Possible clipped samples in output.\n",
      "  warnings.warn(\"Possible clipped samples in output.\")\n"
     ]
    },
    {
     "name": "stdout",
     "output_type": "stream",
     "text": [
      "WhiteNoise is 39dB. The Visqol value is -0.91\n",
      "WhiteNoise is 39dB. The Visqol value is -0.6\n",
      "After LUFS, the mixing ouput in the RMS, Total: -9.39dB, Clipping Ratio&Cliped Num: (0.0010799319727891157, 381)\n"
     ]
    },
    {
     "name": "stderr",
     "output_type": "stream",
     "text": [
      "/root/anaconda3/lib/python3.11/site-packages/pyloudnorm/normalize.py:62: UserWarning: Possible clipped samples in output.\n",
      "  warnings.warn(\"Possible clipped samples in output.\")\n"
     ]
    },
    {
     "name": "stdout",
     "output_type": "stream",
     "text": [
      "WhiteNoise is 40dB. The Visqol value is -0.89\n",
      "WhiteNoise is 40dB. The Visqol value is -0.56\n",
      "After LUFS, the mixing ouput in the RMS, Total: -9.39dB, Clipping Ratio&Cliped Num: (0.0010742630385487527, 379)\n"
     ]
    },
    {
     "name": "stderr",
     "output_type": "stream",
     "text": [
      "/root/anaconda3/lib/python3.11/site-packages/pyloudnorm/normalize.py:62: UserWarning: Possible clipped samples in output.\n",
      "  warnings.warn(\"Possible clipped samples in output.\")\n"
     ]
    },
    {
     "name": "stdout",
     "output_type": "stream",
     "text": [
      "WhiteNoise is 41dB. The Visqol value is -0.89\n",
      "WhiteNoise is 41dB. The Visqol value is -0.53\n",
      "After LUFS, the mixing ouput in the RMS, Total: -9.39dB, Clipping Ratio&Cliped Num: (0.0010799319727891157, 381)\n"
     ]
    },
    {
     "name": "stderr",
     "output_type": "stream",
     "text": [
      "/root/anaconda3/lib/python3.11/site-packages/pyloudnorm/normalize.py:62: UserWarning: Possible clipped samples in output.\n",
      "  warnings.warn(\"Possible clipped samples in output.\")\n"
     ]
    },
    {
     "name": "stdout",
     "output_type": "stream",
     "text": [
      "WhiteNoise is 42dB. The Visqol value is -0.87\n",
      "WhiteNoise is 42dB. The Visqol value is -0.53\n",
      "After LUFS, the mixing ouput in the RMS, Total: -9.39dB, Clipping Ratio&Cliped Num: (0.0010799319727891157, 381)\n"
     ]
    },
    {
     "name": "stderr",
     "output_type": "stream",
     "text": [
      "/root/anaconda3/lib/python3.11/site-packages/pyloudnorm/normalize.py:62: UserWarning: Possible clipped samples in output.\n",
      "  warnings.warn(\"Possible clipped samples in output.\")\n"
     ]
    },
    {
     "name": "stdout",
     "output_type": "stream",
     "text": [
      "WhiteNoise is 43dB. The Visqol value is -0.85\n",
      "WhiteNoise is 43dB. The Visqol value is -0.5\n",
      "After LUFS, the mixing ouput in the RMS, Total: -9.39dB, Clipping Ratio&Cliped Num: (0.0010799319727891157, 381)\n"
     ]
    },
    {
     "name": "stderr",
     "output_type": "stream",
     "text": [
      "/root/anaconda3/lib/python3.11/site-packages/pyloudnorm/normalize.py:62: UserWarning: Possible clipped samples in output.\n",
      "  warnings.warn(\"Possible clipped samples in output.\")\n"
     ]
    },
    {
     "name": "stdout",
     "output_type": "stream",
     "text": [
      "WhiteNoise is 44dB. The Visqol value is -0.85\n",
      "WhiteNoise is 44dB. The Visqol value is -0.47\n",
      "After LUFS, the mixing ouput in the RMS, Total: -9.39dB, Clipping Ratio&Cliped Num: (0.0010770975056689342, 380)\n"
     ]
    },
    {
     "name": "stderr",
     "output_type": "stream",
     "text": [
      "/root/anaconda3/lib/python3.11/site-packages/pyloudnorm/normalize.py:62: UserWarning: Possible clipped samples in output.\n",
      "  warnings.warn(\"Possible clipped samples in output.\")\n"
     ]
    },
    {
     "name": "stdout",
     "output_type": "stream",
     "text": [
      "WhiteNoise is 45dB. The Visqol value is -0.83\n",
      "WhiteNoise is 45dB. The Visqol value is -0.46\n",
      "After LUFS, the mixing ouput in the RMS, Total: -9.39dB, Clipping Ratio&Cliped Num: (0.0010799319727891157, 381)\n"
     ]
    },
    {
     "name": "stderr",
     "output_type": "stream",
     "text": [
      "/root/anaconda3/lib/python3.11/site-packages/pyloudnorm/normalize.py:62: UserWarning: Possible clipped samples in output.\n",
      "  warnings.warn(\"Possible clipped samples in output.\")\n"
     ]
    },
    {
     "name": "stdout",
     "output_type": "stream",
     "text": [
      "WhiteNoise is 46dB. The Visqol value is -0.82\n",
      "WhiteNoise is 46dB. The Visqol value is -0.45\n",
      "After LUFS, the mixing ouput in the RMS, Total: -9.39dB, Clipping Ratio&Cliped Num: (0.0010799319727891157, 381)\n"
     ]
    },
    {
     "name": "stderr",
     "output_type": "stream",
     "text": [
      "/root/anaconda3/lib/python3.11/site-packages/pyloudnorm/normalize.py:62: UserWarning: Possible clipped samples in output.\n",
      "  warnings.warn(\"Possible clipped samples in output.\")\n"
     ]
    },
    {
     "name": "stdout",
     "output_type": "stream",
     "text": [
      "WhiteNoise is 47dB. The Visqol value is -0.82\n",
      "WhiteNoise is 47dB. The Visqol value is -0.42\n",
      "After LUFS, the mixing ouput in the RMS, Total: -9.39dB, Clipping Ratio&Cliped Num: (0.0010770975056689342, 380)\n"
     ]
    },
    {
     "name": "stderr",
     "output_type": "stream",
     "text": [
      "/root/anaconda3/lib/python3.11/site-packages/pyloudnorm/normalize.py:62: UserWarning: Possible clipped samples in output.\n",
      "  warnings.warn(\"Possible clipped samples in output.\")\n"
     ]
    },
    {
     "name": "stdout",
     "output_type": "stream",
     "text": [
      "WhiteNoise is 48dB. The Visqol value is -0.81\n",
      "WhiteNoise is 48dB. The Visqol value is -0.41\n",
      "After LUFS, the mixing ouput in the RMS, Total: -9.39dB, Clipping Ratio&Cliped Num: (0.0010856009070294784, 383)\n"
     ]
    },
    {
     "name": "stderr",
     "output_type": "stream",
     "text": [
      "/root/anaconda3/lib/python3.11/site-packages/pyloudnorm/normalize.py:62: UserWarning: Possible clipped samples in output.\n",
      "  warnings.warn(\"Possible clipped samples in output.\")\n"
     ]
    },
    {
     "name": "stdout",
     "output_type": "stream",
     "text": [
      "WhiteNoise is 49dB. The Visqol value is -0.82\n",
      "WhiteNoise is 49dB. The Visqol value is -0.4\n",
      "After LUFS, the mixing ouput in the RMS, Total: -9.39dB, Clipping Ratio&Cliped Num: (0.0010827664399092971, 382)\n"
     ]
    },
    {
     "name": "stderr",
     "output_type": "stream",
     "text": [
      "/root/anaconda3/lib/python3.11/site-packages/pyloudnorm/normalize.py:62: UserWarning: Possible clipped samples in output.\n",
      "  warnings.warn(\"Possible clipped samples in output.\")\n"
     ]
    },
    {
     "name": "stdout",
     "output_type": "stream",
     "text": [
      "WhiteNoise is 50dB. The Visqol value is -0.81\n",
      "WhiteNoise is 50dB. The Visqol value is -0.39\n",
      "After LUFS, the mixing ouput in the RMS, Total: -9.39dB, Clipping Ratio&Cliped Num: (0.0010799319727891157, 381)\n"
     ]
    },
    {
     "name": "stderr",
     "output_type": "stream",
     "text": [
      "/root/anaconda3/lib/python3.11/site-packages/pyloudnorm/normalize.py:62: UserWarning: Possible clipped samples in output.\n",
      "  warnings.warn(\"Possible clipped samples in output.\")\n"
     ]
    },
    {
     "name": "stdout",
     "output_type": "stream",
     "text": [
      "WhiteNoise is 51dB. The Visqol value is -0.81\n",
      "WhiteNoise is 51dB. The Visqol value is -0.39\n",
      "After LUFS, the mixing ouput in the RMS, Total: -9.39dB, Clipping Ratio&Cliped Num: (0.0010827664399092971, 382)\n"
     ]
    },
    {
     "name": "stderr",
     "output_type": "stream",
     "text": [
      "/root/anaconda3/lib/python3.11/site-packages/pyloudnorm/normalize.py:62: UserWarning: Possible clipped samples in output.\n",
      "  warnings.warn(\"Possible clipped samples in output.\")\n"
     ]
    },
    {
     "name": "stdout",
     "output_type": "stream",
     "text": [
      "WhiteNoise is 52dB. The Visqol value is -0.8\n",
      "WhiteNoise is 52dB. The Visqol value is -0.37\n",
      "After LUFS, the mixing ouput in the RMS, Total: -9.39dB, Clipping Ratio&Cliped Num: (0.0010856009070294784, 383)\n"
     ]
    },
    {
     "name": "stderr",
     "output_type": "stream",
     "text": [
      "/root/anaconda3/lib/python3.11/site-packages/pyloudnorm/normalize.py:62: UserWarning: Possible clipped samples in output.\n",
      "  warnings.warn(\"Possible clipped samples in output.\")\n"
     ]
    },
    {
     "name": "stdout",
     "output_type": "stream",
     "text": [
      "WhiteNoise is 53dB. The Visqol value is -0.79\n",
      "WhiteNoise is 53dB. The Visqol value is -0.38\n",
      "After LUFS, the mixing ouput in the RMS, Total: -9.39dB, Clipping Ratio&Cliped Num: (0.0010799319727891157, 381)\n"
     ]
    },
    {
     "name": "stderr",
     "output_type": "stream",
     "text": [
      "/root/anaconda3/lib/python3.11/site-packages/pyloudnorm/normalize.py:62: UserWarning: Possible clipped samples in output.\n",
      "  warnings.warn(\"Possible clipped samples in output.\")\n"
     ]
    },
    {
     "name": "stdout",
     "output_type": "stream",
     "text": [
      "WhiteNoise is 54dB. The Visqol value is -0.8\n",
      "WhiteNoise is 54dB. The Visqol value is -0.35\n",
      "After LUFS, the mixing ouput in the RMS, Total: -9.39dB, Clipping Ratio&Cliped Num: (0.0010770975056689342, 380)\n"
     ]
    },
    {
     "name": "stderr",
     "output_type": "stream",
     "text": [
      "/root/anaconda3/lib/python3.11/site-packages/pyloudnorm/normalize.py:62: UserWarning: Possible clipped samples in output.\n",
      "  warnings.warn(\"Possible clipped samples in output.\")\n"
     ]
    },
    {
     "name": "stdout",
     "output_type": "stream",
     "text": [
      "WhiteNoise is 55dB. The Visqol value is -0.8\n",
      "WhiteNoise is 55dB. The Visqol value is -0.36\n",
      "After LUFS, the mixing ouput in the RMS, Total: -9.39dB, Clipping Ratio&Cliped Num: (0.0010827664399092971, 382)\n"
     ]
    },
    {
     "name": "stderr",
     "output_type": "stream",
     "text": [
      "/root/anaconda3/lib/python3.11/site-packages/pyloudnorm/normalize.py:62: UserWarning: Possible clipped samples in output.\n",
      "  warnings.warn(\"Possible clipped samples in output.\")\n"
     ]
    },
    {
     "name": "stdout",
     "output_type": "stream",
     "text": [
      "WhiteNoise is 56dB. The Visqol value is -0.8\n",
      "WhiteNoise is 56dB. The Visqol value is -0.36\n",
      "After LUFS, the mixing ouput in the RMS, Total: -9.39dB, Clipping Ratio&Cliped Num: (0.0010770975056689342, 380)\n"
     ]
    },
    {
     "name": "stderr",
     "output_type": "stream",
     "text": [
      "/root/anaconda3/lib/python3.11/site-packages/pyloudnorm/normalize.py:62: UserWarning: Possible clipped samples in output.\n",
      "  warnings.warn(\"Possible clipped samples in output.\")\n"
     ]
    },
    {
     "name": "stdout",
     "output_type": "stream",
     "text": [
      "WhiteNoise is 57dB. The Visqol value is -0.8\n",
      "WhiteNoise is 57dB. The Visqol value is -0.35\n",
      "After LUFS, the mixing ouput in the RMS, Total: -9.39dB, Clipping Ratio&Cliped Num: (0.0010799319727891157, 381)\n"
     ]
    },
    {
     "name": "stderr",
     "output_type": "stream",
     "text": [
      "/root/anaconda3/lib/python3.11/site-packages/pyloudnorm/normalize.py:62: UserWarning: Possible clipped samples in output.\n",
      "  warnings.warn(\"Possible clipped samples in output.\")\n"
     ]
    },
    {
     "name": "stdout",
     "output_type": "stream",
     "text": [
      "WhiteNoise is 58dB. The Visqol value is -0.79\n",
      "WhiteNoise is 58dB. The Visqol value is -0.35\n",
      "After LUFS, the mixing ouput in the RMS, Total: -9.39dB, Clipping Ratio&Cliped Num: (0.0010827664399092971, 382)\n"
     ]
    },
    {
     "name": "stderr",
     "output_type": "stream",
     "text": [
      "/root/anaconda3/lib/python3.11/site-packages/pyloudnorm/normalize.py:62: UserWarning: Possible clipped samples in output.\n",
      "  warnings.warn(\"Possible clipped samples in output.\")\n"
     ]
    },
    {
     "name": "stdout",
     "output_type": "stream",
     "text": [
      "WhiteNoise is 59dB. The Visqol value is -0.79\n",
      "WhiteNoise is 59dB. The Visqol value is -0.34\n",
      "After LUFS, the mixing ouput in the RMS, Total: -9.39dB, Clipping Ratio&Cliped Num: (0.0010827664399092971, 382)\n"
     ]
    },
    {
     "name": "stderr",
     "output_type": "stream",
     "text": [
      "/root/anaconda3/lib/python3.11/site-packages/pyloudnorm/normalize.py:62: UserWarning: Possible clipped samples in output.\n",
      "  warnings.warn(\"Possible clipped samples in output.\")\n"
     ]
    },
    {
     "name": "stdout",
     "output_type": "stream",
     "text": [
      "WhiteNoise is 60dB. The Visqol value is -0.79\n",
      "WhiteNoise is 60dB. The Visqol value is -0.33\n",
      "After LUFS, the mixing ouput in the RMS, Total: -9.39dB, Clipping Ratio&Cliped Num: (0.0010799319727891157, 381)\n"
     ]
    },
    {
     "name": "stderr",
     "output_type": "stream",
     "text": [
      "/root/anaconda3/lib/python3.11/site-packages/pyloudnorm/normalize.py:62: UserWarning: Possible clipped samples in output.\n",
      "  warnings.warn(\"Possible clipped samples in output.\")\n"
     ]
    },
    {
     "name": "stdout",
     "output_type": "stream",
     "text": [
      "WhiteNoise is 61dB. The Visqol value is -0.8\n",
      "WhiteNoise is 61dB. The Visqol value is -0.33\n",
      "After LUFS, the mixing ouput in the RMS, Total: -9.39dB, Clipping Ratio&Cliped Num: (0.0010827664399092971, 382)\n"
     ]
    },
    {
     "name": "stderr",
     "output_type": "stream",
     "text": [
      "/root/anaconda3/lib/python3.11/site-packages/pyloudnorm/normalize.py:62: UserWarning: Possible clipped samples in output.\n",
      "  warnings.warn(\"Possible clipped samples in output.\")\n"
     ]
    },
    {
     "name": "stdout",
     "output_type": "stream",
     "text": [
      "WhiteNoise is 62dB. The Visqol value is -0.79\n",
      "WhiteNoise is 62dB. The Visqol value is -0.32\n",
      "After LUFS, the mixing ouput in the RMS, Total: -9.39dB, Clipping Ratio&Cliped Num: (0.0010827664399092971, 382)\n"
     ]
    },
    {
     "name": "stderr",
     "output_type": "stream",
     "text": [
      "/root/anaconda3/lib/python3.11/site-packages/pyloudnorm/normalize.py:62: UserWarning: Possible clipped samples in output.\n",
      "  warnings.warn(\"Possible clipped samples in output.\")\n"
     ]
    },
    {
     "name": "stdout",
     "output_type": "stream",
     "text": [
      "WhiteNoise is 63dB. The Visqol value is -0.79\n",
      "WhiteNoise is 63dB. The Visqol value is -0.32\n",
      "After LUFS, the mixing ouput in the RMS, Total: -9.39dB, Clipping Ratio&Cliped Num: (0.0010799319727891157, 381)\n"
     ]
    },
    {
     "name": "stderr",
     "output_type": "stream",
     "text": [
      "/root/anaconda3/lib/python3.11/site-packages/pyloudnorm/normalize.py:62: UserWarning: Possible clipped samples in output.\n",
      "  warnings.warn(\"Possible clipped samples in output.\")\n"
     ]
    },
    {
     "name": "stdout",
     "output_type": "stream",
     "text": [
      "WhiteNoise is 64dB. The Visqol value is -0.8\n",
      "WhiteNoise is 64dB. The Visqol value is -0.32\n",
      "After LUFS, the mixing ouput in the RMS, Total: -9.39dB, Clipping Ratio&Cliped Num: (0.0010827664399092971, 382)\n"
     ]
    },
    {
     "name": "stderr",
     "output_type": "stream",
     "text": [
      "/root/anaconda3/lib/python3.11/site-packages/pyloudnorm/normalize.py:62: UserWarning: Possible clipped samples in output.\n",
      "  warnings.warn(\"Possible clipped samples in output.\")\n"
     ]
    },
    {
     "name": "stdout",
     "output_type": "stream",
     "text": [
      "WhiteNoise is 65dB. The Visqol value is -0.79\n",
      "WhiteNoise is 65dB. The Visqol value is -0.33\n",
      "After LUFS, the mixing ouput in the RMS, Total: -9.39dB, Clipping Ratio&Cliped Num: (0.0010827664399092971, 382)\n"
     ]
    },
    {
     "name": "stderr",
     "output_type": "stream",
     "text": [
      "/root/anaconda3/lib/python3.11/site-packages/pyloudnorm/normalize.py:62: UserWarning: Possible clipped samples in output.\n",
      "  warnings.warn(\"Possible clipped samples in output.\")\n"
     ]
    },
    {
     "name": "stdout",
     "output_type": "stream",
     "text": [
      "WhiteNoise is 66dB. The Visqol value is -0.8\n",
      "WhiteNoise is 66dB. The Visqol value is -0.31\n",
      "After LUFS, the mixing ouput in the RMS, Total: -9.39dB, Clipping Ratio&Cliped Num: (0.0010799319727891157, 381)\n"
     ]
    },
    {
     "name": "stderr",
     "output_type": "stream",
     "text": [
      "/root/anaconda3/lib/python3.11/site-packages/pyloudnorm/normalize.py:62: UserWarning: Possible clipped samples in output.\n",
      "  warnings.warn(\"Possible clipped samples in output.\")\n"
     ]
    },
    {
     "name": "stdout",
     "output_type": "stream",
     "text": [
      "WhiteNoise is 67dB. The Visqol value is -0.8\n",
      "WhiteNoise is 67dB. The Visqol value is -0.31\n",
      "After LUFS, the mixing ouput in the RMS, Total: -9.39dB, Clipping Ratio&Cliped Num: (0.0010827664399092971, 382)\n"
     ]
    },
    {
     "name": "stderr",
     "output_type": "stream",
     "text": [
      "/root/anaconda3/lib/python3.11/site-packages/pyloudnorm/normalize.py:62: UserWarning: Possible clipped samples in output.\n",
      "  warnings.warn(\"Possible clipped samples in output.\")\n"
     ]
    },
    {
     "name": "stdout",
     "output_type": "stream",
     "text": [
      "WhiteNoise is 68dB. The Visqol value is -0.8\n",
      "WhiteNoise is 68dB. The Visqol value is -0.31\n",
      "After LUFS, the mixing ouput in the RMS, Total: -9.39dB, Clipping Ratio&Cliped Num: (0.0010799319727891157, 381)\n"
     ]
    },
    {
     "name": "stderr",
     "output_type": "stream",
     "text": [
      "/root/anaconda3/lib/python3.11/site-packages/pyloudnorm/normalize.py:62: UserWarning: Possible clipped samples in output.\n",
      "  warnings.warn(\"Possible clipped samples in output.\")\n"
     ]
    },
    {
     "name": "stdout",
     "output_type": "stream",
     "text": [
      "WhiteNoise is 69dB. The Visqol value is -0.8\n",
      "WhiteNoise is 69dB. The Visqol value is -0.31\n",
      "After LUFS, the mixing ouput in the RMS, Total: -9.39dB, Clipping Ratio&Cliped Num: (0.0010799319727891157, 381)\n"
     ]
    },
    {
     "name": "stderr",
     "output_type": "stream",
     "text": [
      "/root/anaconda3/lib/python3.11/site-packages/pyloudnorm/normalize.py:62: UserWarning: Possible clipped samples in output.\n",
      "  warnings.warn(\"Possible clipped samples in output.\")\n"
     ]
    },
    {
     "name": "stdout",
     "output_type": "stream",
     "text": [
      "WhiteNoise is 70dB. The Visqol value is -0.79\n",
      "WhiteNoise is 70dB. The Visqol value is -0.31\n",
      "After LUFS, the mixing ouput in the RMS, Total: -9.39dB, Clipping Ratio&Cliped Num: (0.0010799319727891157, 381)\n"
     ]
    },
    {
     "name": "stderr",
     "output_type": "stream",
     "text": [
      "/root/anaconda3/lib/python3.11/site-packages/pyloudnorm/normalize.py:62: UserWarning: Possible clipped samples in output.\n",
      "  warnings.warn(\"Possible clipped samples in output.\")\n"
     ]
    },
    {
     "name": "stdout",
     "output_type": "stream",
     "text": [
      "WhiteNoise is 71dB. The Visqol value is -0.8\n",
      "WhiteNoise is 71dB. The Visqol value is -0.31\n",
      "After LUFS, the mixing ouput in the RMS, Total: -9.39dB, Clipping Ratio&Cliped Num: (0.0010799319727891157, 381)\n"
     ]
    },
    {
     "name": "stderr",
     "output_type": "stream",
     "text": [
      "/root/anaconda3/lib/python3.11/site-packages/pyloudnorm/normalize.py:62: UserWarning: Possible clipped samples in output.\n",
      "  warnings.warn(\"Possible clipped samples in output.\")\n"
     ]
    },
    {
     "name": "stdout",
     "output_type": "stream",
     "text": [
      "WhiteNoise is 72dB. The Visqol value is -0.8\n",
      "WhiteNoise is 72dB. The Visqol value is -0.31\n",
      "After LUFS, the mixing ouput in the RMS, Total: -9.39dB, Clipping Ratio&Cliped Num: (0.0010799319727891157, 381)\n"
     ]
    },
    {
     "name": "stderr",
     "output_type": "stream",
     "text": [
      "/root/anaconda3/lib/python3.11/site-packages/pyloudnorm/normalize.py:62: UserWarning: Possible clipped samples in output.\n",
      "  warnings.warn(\"Possible clipped samples in output.\")\n"
     ]
    },
    {
     "name": "stdout",
     "output_type": "stream",
     "text": [
      "WhiteNoise is 73dB. The Visqol value is -0.8\n",
      "WhiteNoise is 73dB. The Visqol value is -0.3\n",
      "After LUFS, the mixing ouput in the RMS, Total: -9.39dB, Clipping Ratio&Cliped Num: (0.0010799319727891157, 381)\n"
     ]
    },
    {
     "name": "stderr",
     "output_type": "stream",
     "text": [
      "/root/anaconda3/lib/python3.11/site-packages/pyloudnorm/normalize.py:62: UserWarning: Possible clipped samples in output.\n",
      "  warnings.warn(\"Possible clipped samples in output.\")\n"
     ]
    },
    {
     "name": "stdout",
     "output_type": "stream",
     "text": [
      "WhiteNoise is 74dB. The Visqol value is -0.8\n",
      "WhiteNoise is 74dB. The Visqol value is -0.3\n",
      "After LUFS, the mixing ouput in the RMS, Total: -9.39dB, Clipping Ratio&Cliped Num: (0.0010799319727891157, 381)\n"
     ]
    },
    {
     "name": "stderr",
     "output_type": "stream",
     "text": [
      "/root/anaconda3/lib/python3.11/site-packages/pyloudnorm/normalize.py:62: UserWarning: Possible clipped samples in output.\n",
      "  warnings.warn(\"Possible clipped samples in output.\")\n"
     ]
    },
    {
     "name": "stdout",
     "output_type": "stream",
     "text": [
      "WhiteNoise is 75dB. The Visqol value is -0.8\n",
      "WhiteNoise is 75dB. The Visqol value is -0.3\n",
      "After LUFS, the mixing ouput in the RMS, Total: -9.39dB, Clipping Ratio&Cliped Num: (0.0010799319727891157, 381)\n"
     ]
    },
    {
     "name": "stderr",
     "output_type": "stream",
     "text": [
      "/root/anaconda3/lib/python3.11/site-packages/pyloudnorm/normalize.py:62: UserWarning: Possible clipped samples in output.\n",
      "  warnings.warn(\"Possible clipped samples in output.\")\n"
     ]
    },
    {
     "name": "stdout",
     "output_type": "stream",
     "text": [
      "WhiteNoise is 76dB. The Visqol value is -0.79\n",
      "WhiteNoise is 76dB. The Visqol value is -0.3\n",
      "After LUFS, the mixing ouput in the RMS, Total: -9.39dB, Clipping Ratio&Cliped Num: (0.0010799319727891157, 381)\n"
     ]
    },
    {
     "name": "stderr",
     "output_type": "stream",
     "text": [
      "/root/anaconda3/lib/python3.11/site-packages/pyloudnorm/normalize.py:62: UserWarning: Possible clipped samples in output.\n",
      "  warnings.warn(\"Possible clipped samples in output.\")\n"
     ]
    },
    {
     "name": "stdout",
     "output_type": "stream",
     "text": [
      "WhiteNoise is 77dB. The Visqol value is -0.79\n",
      "WhiteNoise is 77dB. The Visqol value is -0.29\n",
      "After LUFS, the mixing ouput in the RMS, Total: -9.39dB, Clipping Ratio&Cliped Num: (0.0010799319727891157, 381)\n"
     ]
    },
    {
     "name": "stderr",
     "output_type": "stream",
     "text": [
      "/root/anaconda3/lib/python3.11/site-packages/pyloudnorm/normalize.py:62: UserWarning: Possible clipped samples in output.\n",
      "  warnings.warn(\"Possible clipped samples in output.\")\n"
     ]
    },
    {
     "name": "stdout",
     "output_type": "stream",
     "text": [
      "WhiteNoise is 78dB. The Visqol value is -0.8\n",
      "WhiteNoise is 78dB. The Visqol value is -0.29\n",
      "After LUFS, the mixing ouput in the RMS, Total: -9.39dB, Clipping Ratio&Cliped Num: (0.0010799319727891157, 381)\n"
     ]
    },
    {
     "name": "stderr",
     "output_type": "stream",
     "text": [
      "/root/anaconda3/lib/python3.11/site-packages/pyloudnorm/normalize.py:62: UserWarning: Possible clipped samples in output.\n",
      "  warnings.warn(\"Possible clipped samples in output.\")\n"
     ]
    },
    {
     "name": "stdout",
     "output_type": "stream",
     "text": [
      "WhiteNoise is 79dB. The Visqol value is -0.8\n",
      "WhiteNoise is 79dB. The Visqol value is -0.29\n",
      "After LUFS, the mixing ouput in the RMS, Total: -9.39dB, Clipping Ratio&Cliped Num: (0.0010799319727891157, 381)\n"
     ]
    },
    {
     "name": "stderr",
     "output_type": "stream",
     "text": [
      "/root/anaconda3/lib/python3.11/site-packages/pyloudnorm/normalize.py:62: UserWarning: Possible clipped samples in output.\n",
      "  warnings.warn(\"Possible clipped samples in output.\")\n"
     ]
    },
    {
     "name": "stdout",
     "output_type": "stream",
     "text": [
      "WhiteNoise is 80dB. The Visqol value is -0.8\n",
      "WhiteNoise is 80dB. The Visqol value is -0.3\n",
      "After LUFS, the mixing ouput in the RMS, Total: -9.39dB, Clipping Ratio&Cliped Num: (0.0010799319727891157, 381)\n"
     ]
    },
    {
     "name": "stderr",
     "output_type": "stream",
     "text": [
      "/root/anaconda3/lib/python3.11/site-packages/pyloudnorm/normalize.py:62: UserWarning: Possible clipped samples in output.\n",
      "  warnings.warn(\"Possible clipped samples in output.\")\n"
     ]
    },
    {
     "name": "stdout",
     "output_type": "stream",
     "text": [
      "WhiteNoise is 81dB. The Visqol value is -0.8\n",
      "WhiteNoise is 81dB. The Visqol value is -0.3\n",
      "After LUFS, the mixing ouput in the RMS, Total: -9.39dB, Clipping Ratio&Cliped Num: (0.0010799319727891157, 381)\n"
     ]
    },
    {
     "name": "stderr",
     "output_type": "stream",
     "text": [
      "/root/anaconda3/lib/python3.11/site-packages/pyloudnorm/normalize.py:62: UserWarning: Possible clipped samples in output.\n",
      "  warnings.warn(\"Possible clipped samples in output.\")\n"
     ]
    },
    {
     "name": "stdout",
     "output_type": "stream",
     "text": [
      "WhiteNoise is 82dB. The Visqol value is -0.8\n",
      "WhiteNoise is 82dB. The Visqol value is -0.28\n",
      "After LUFS, the mixing ouput in the RMS, Total: -9.39dB, Clipping Ratio&Cliped Num: (0.0010799319727891157, 381)\n"
     ]
    },
    {
     "name": "stderr",
     "output_type": "stream",
     "text": [
      "/root/anaconda3/lib/python3.11/site-packages/pyloudnorm/normalize.py:62: UserWarning: Possible clipped samples in output.\n",
      "  warnings.warn(\"Possible clipped samples in output.\")\n"
     ]
    },
    {
     "name": "stdout",
     "output_type": "stream",
     "text": [
      "WhiteNoise is 83dB. The Visqol value is -0.8\n",
      "WhiteNoise is 83dB. The Visqol value is -0.29\n",
      "After LUFS, the mixing ouput in the RMS, Total: -9.39dB, Clipping Ratio&Cliped Num: (0.0010799319727891157, 381)\n"
     ]
    },
    {
     "name": "stderr",
     "output_type": "stream",
     "text": [
      "/root/anaconda3/lib/python3.11/site-packages/pyloudnorm/normalize.py:62: UserWarning: Possible clipped samples in output.\n",
      "  warnings.warn(\"Possible clipped samples in output.\")\n"
     ]
    },
    {
     "name": "stdout",
     "output_type": "stream",
     "text": [
      "WhiteNoise is 84dB. The Visqol value is -0.8\n",
      "WhiteNoise is 84dB. The Visqol value is -0.29\n",
      "After LUFS, the mixing ouput in the RMS, Total: -9.39dB, Clipping Ratio&Cliped Num: (0.0010799319727891157, 381)\n"
     ]
    },
    {
     "name": "stderr",
     "output_type": "stream",
     "text": [
      "/root/anaconda3/lib/python3.11/site-packages/pyloudnorm/normalize.py:62: UserWarning: Possible clipped samples in output.\n",
      "  warnings.warn(\"Possible clipped samples in output.\")\n"
     ]
    },
    {
     "name": "stdout",
     "output_type": "stream",
     "text": [
      "WhiteNoise is 85dB. The Visqol value is -0.79\n",
      "WhiteNoise is 85dB. The Visqol value is -0.29\n",
      "After LUFS, the mixing ouput in the RMS, Total: -9.39dB, Clipping Ratio&Cliped Num: (0.0010799319727891157, 381)\n"
     ]
    },
    {
     "name": "stderr",
     "output_type": "stream",
     "text": [
      "/root/anaconda3/lib/python3.11/site-packages/pyloudnorm/normalize.py:62: UserWarning: Possible clipped samples in output.\n",
      "  warnings.warn(\"Possible clipped samples in output.\")\n"
     ]
    },
    {
     "name": "stdout",
     "output_type": "stream",
     "text": [
      "WhiteNoise is 86dB. The Visqol value is -0.8\n",
      "WhiteNoise is 86dB. The Visqol value is -0.29\n",
      "After LUFS, the mixing ouput in the RMS, Total: -9.39dB, Clipping Ratio&Cliped Num: (0.0010799319727891157, 381)\n"
     ]
    },
    {
     "name": "stderr",
     "output_type": "stream",
     "text": [
      "/root/anaconda3/lib/python3.11/site-packages/pyloudnorm/normalize.py:62: UserWarning: Possible clipped samples in output.\n",
      "  warnings.warn(\"Possible clipped samples in output.\")\n"
     ]
    },
    {
     "name": "stdout",
     "output_type": "stream",
     "text": [
      "WhiteNoise is 87dB. The Visqol value is -0.8\n",
      "WhiteNoise is 87dB. The Visqol value is -0.28\n",
      "After LUFS, the mixing ouput in the RMS, Total: -9.39dB, Clipping Ratio&Cliped Num: (0.0010799319727891157, 381)\n"
     ]
    },
    {
     "name": "stderr",
     "output_type": "stream",
     "text": [
      "/root/anaconda3/lib/python3.11/site-packages/pyloudnorm/normalize.py:62: UserWarning: Possible clipped samples in output.\n",
      "  warnings.warn(\"Possible clipped samples in output.\")\n"
     ]
    },
    {
     "name": "stdout",
     "output_type": "stream",
     "text": [
      "WhiteNoise is 88dB. The Visqol value is -0.8\n",
      "WhiteNoise is 88dB. The Visqol value is -0.28\n",
      "After LUFS, the mixing ouput in the RMS, Total: -9.39dB, Clipping Ratio&Cliped Num: (0.0010799319727891157, 381)\n"
     ]
    },
    {
     "name": "stderr",
     "output_type": "stream",
     "text": [
      "/root/anaconda3/lib/python3.11/site-packages/pyloudnorm/normalize.py:62: UserWarning: Possible clipped samples in output.\n",
      "  warnings.warn(\"Possible clipped samples in output.\")\n"
     ]
    },
    {
     "name": "stdout",
     "output_type": "stream",
     "text": [
      "WhiteNoise is 89dB. The Visqol value is -0.8\n",
      "WhiteNoise is 89dB. The Visqol value is -0.29\n",
      "After LUFS, the mixing ouput in the RMS, Total: -9.39dB, Clipping Ratio&Cliped Num: (0.0010799319727891157, 381)\n"
     ]
    },
    {
     "name": "stderr",
     "output_type": "stream",
     "text": [
      "/root/anaconda3/lib/python3.11/site-packages/pyloudnorm/normalize.py:62: UserWarning: Possible clipped samples in output.\n",
      "  warnings.warn(\"Possible clipped samples in output.\")\n"
     ]
    },
    {
     "name": "stdout",
     "output_type": "stream",
     "text": [
      "WhiteNoise is 90dB. The Visqol value is -0.8\n",
      "WhiteNoise is 90dB. The Visqol value is -0.28\n",
      "After LUFS, the mixing ouput in the RMS, Total: -9.39dB, Clipping Ratio&Cliped Num: (0.0010799319727891157, 381)\n"
     ]
    },
    {
     "name": "stderr",
     "output_type": "stream",
     "text": [
      "/root/anaconda3/lib/python3.11/site-packages/pyloudnorm/normalize.py:62: UserWarning: Possible clipped samples in output.\n",
      "  warnings.warn(\"Possible clipped samples in output.\")\n"
     ]
    },
    {
     "name": "stdout",
     "output_type": "stream",
     "text": [
      "WhiteNoise is 91dB. The Visqol value is -0.8\n",
      "WhiteNoise is 91dB. The Visqol value is -0.28\n",
      "After LUFS, the mixing ouput in the RMS, Total: -9.39dB, Clipping Ratio&Cliped Num: (0.0010799319727891157, 381)\n"
     ]
    },
    {
     "name": "stderr",
     "output_type": "stream",
     "text": [
      "/root/anaconda3/lib/python3.11/site-packages/pyloudnorm/normalize.py:62: UserWarning: Possible clipped samples in output.\n",
      "  warnings.warn(\"Possible clipped samples in output.\")\n"
     ]
    },
    {
     "name": "stdout",
     "output_type": "stream",
     "text": [
      "WhiteNoise is 92dB. The Visqol value is -0.8\n",
      "WhiteNoise is 92dB. The Visqol value is -0.29\n",
      "After LUFS, the mixing ouput in the RMS, Total: -9.39dB, Clipping Ratio&Cliped Num: (0.0010799319727891157, 381)\n"
     ]
    },
    {
     "name": "stderr",
     "output_type": "stream",
     "text": [
      "/root/anaconda3/lib/python3.11/site-packages/pyloudnorm/normalize.py:62: UserWarning: Possible clipped samples in output.\n",
      "  warnings.warn(\"Possible clipped samples in output.\")\n"
     ]
    },
    {
     "name": "stdout",
     "output_type": "stream",
     "text": [
      "WhiteNoise is 93dB. The Visqol value is -0.8\n",
      "WhiteNoise is 93dB. The Visqol value is -0.28\n",
      "After LUFS, the mixing ouput in the RMS, Total: -9.39dB, Clipping Ratio&Cliped Num: (0.0010799319727891157, 381)\n"
     ]
    },
    {
     "name": "stderr",
     "output_type": "stream",
     "text": [
      "/root/anaconda3/lib/python3.11/site-packages/pyloudnorm/normalize.py:62: UserWarning: Possible clipped samples in output.\n",
      "  warnings.warn(\"Possible clipped samples in output.\")\n"
     ]
    },
    {
     "name": "stdout",
     "output_type": "stream",
     "text": [
      "WhiteNoise is 94dB. The Visqol value is -0.8\n",
      "WhiteNoise is 94dB. The Visqol value is -0.28\n",
      "After LUFS, the mixing ouput in the RMS, Total: -9.39dB, Clipping Ratio&Cliped Num: (0.0010799319727891157, 381)\n"
     ]
    },
    {
     "name": "stderr",
     "output_type": "stream",
     "text": [
      "/root/anaconda3/lib/python3.11/site-packages/pyloudnorm/normalize.py:62: UserWarning: Possible clipped samples in output.\n",
      "  warnings.warn(\"Possible clipped samples in output.\")\n"
     ]
    },
    {
     "name": "stdout",
     "output_type": "stream",
     "text": [
      "WhiteNoise is 95dB. The Visqol value is -0.8\n",
      "WhiteNoise is 95dB. The Visqol value is -0.28\n",
      "After LUFS, the mixing ouput in the RMS, Total: -9.39dB, Clipping Ratio&Cliped Num: (0.0010799319727891157, 381)\n"
     ]
    },
    {
     "name": "stderr",
     "output_type": "stream",
     "text": [
      "/root/anaconda3/lib/python3.11/site-packages/pyloudnorm/normalize.py:62: UserWarning: Possible clipped samples in output.\n",
      "  warnings.warn(\"Possible clipped samples in output.\")\n"
     ]
    },
    {
     "name": "stdout",
     "output_type": "stream",
     "text": [
      "WhiteNoise is 96dB. The Visqol value is -0.8\n",
      "WhiteNoise is 96dB. The Visqol value is -0.28\n",
      "After LUFS, the mixing ouput in the RMS, Total: -9.39dB, Clipping Ratio&Cliped Num: (0.0010799319727891157, 381)\n"
     ]
    },
    {
     "name": "stderr",
     "output_type": "stream",
     "text": [
      "/root/anaconda3/lib/python3.11/site-packages/pyloudnorm/normalize.py:62: UserWarning: Possible clipped samples in output.\n",
      "  warnings.warn(\"Possible clipped samples in output.\")\n"
     ]
    },
    {
     "name": "stdout",
     "output_type": "stream",
     "text": [
      "WhiteNoise is 97dB. The Visqol value is -0.8\n",
      "WhiteNoise is 97dB. The Visqol value is -0.28\n",
      "After LUFS, the mixing ouput in the RMS, Total: -9.39dB, Clipping Ratio&Cliped Num: (0.0010799319727891157, 381)\n"
     ]
    },
    {
     "name": "stderr",
     "output_type": "stream",
     "text": [
      "/root/anaconda3/lib/python3.11/site-packages/pyloudnorm/normalize.py:62: UserWarning: Possible clipped samples in output.\n",
      "  warnings.warn(\"Possible clipped samples in output.\")\n"
     ]
    },
    {
     "name": "stdout",
     "output_type": "stream",
     "text": [
      "WhiteNoise is 98dB. The Visqol value is -0.8\n",
      "WhiteNoise is 98dB. The Visqol value is -0.28\n",
      "After LUFS, the mixing ouput in the RMS, Total: -9.39dB, Clipping Ratio&Cliped Num: (0.0010799319727891157, 381)\n"
     ]
    },
    {
     "name": "stderr",
     "output_type": "stream",
     "text": [
      "/root/anaconda3/lib/python3.11/site-packages/pyloudnorm/normalize.py:62: UserWarning: Possible clipped samples in output.\n",
      "  warnings.warn(\"Possible clipped samples in output.\")\n"
     ]
    },
    {
     "name": "stdout",
     "output_type": "stream",
     "text": [
      "WhiteNoise is 99dB. The Visqol value is -0.8\n",
      "WhiteNoise is 99dB. The Visqol value is -0.28\n",
      "After LUFS, the mixing ouput in the RMS, Total: -9.42dB, Clipping Ratio&Cliped Num: (0.0, 0)\n",
      "Clipping percentage is 1%. The Visqol value is -0.81\n",
      "Clipping percentage is 1%. The Visqol value is -0.81\n",
      "After LUFS, the mixing ouput in the RMS, Total: -9.46dB, Clipping Ratio&Cliped Num: (0.0, 0)\n",
      "Clipping percentage is 2%. The Visqol value is -0.81\n",
      "Clipping percentage is 2%. The Visqol value is -0.81\n",
      "After LUFS, the mixing ouput in the RMS, Total: -9.51dB, Clipping Ratio&Cliped Num: (0.0, 0)\n",
      "Clipping percentage is 3%. The Visqol value is -0.83\n",
      "Clipping percentage is 3%. The Visqol value is -0.83\n",
      "After LUFS, the mixing ouput in the RMS, Total: -9.56dB, Clipping Ratio&Cliped Num: (0.0, 0)\n",
      "Clipping percentage is 4%. The Visqol value is -0.83\n",
      "Clipping percentage is 4%. The Visqol value is -0.83\n",
      "After LUFS, the mixing ouput in the RMS, Total: -9.61dB, Clipping Ratio&Cliped Num: (0.0, 0)\n",
      "Clipping percentage is 5%. The Visqol value is -0.84\n",
      "Clipping percentage is 5%. The Visqol value is -0.84\n",
      "After LUFS, the mixing ouput in the RMS, Total: -9.66dB, Clipping Ratio&Cliped Num: (0.0, 0)\n",
      "Clipping percentage is 6%. The Visqol value is -0.86\n",
      "Clipping percentage is 6%. The Visqol value is -0.86\n",
      "After LUFS, the mixing ouput in the RMS, Total: -9.7dB, Clipping Ratio&Cliped Num: (0.0, 0)\n",
      "Clipping percentage is 7%. The Visqol value is -0.88\n",
      "Clipping percentage is 7%. The Visqol value is -0.88\n",
      "After LUFS, the mixing ouput in the RMS, Total: -9.73dB, Clipping Ratio&Cliped Num: (0.0, 0)\n",
      "Clipping percentage is 8%. The Visqol value is -0.9\n",
      "Clipping percentage is 8%. The Visqol value is -0.9\n",
      "After LUFS, the mixing ouput in the RMS, Total: -9.77dB, Clipping Ratio&Cliped Num: (0.0, 0)\n",
      "Clipping percentage is 9%. The Visqol value is -0.89\n",
      "Clipping percentage is 9%. The Visqol value is -0.89\n",
      "After LUFS, the mixing ouput in the RMS, Total: -9.81dB, Clipping Ratio&Cliped Num: (0.0, 0)\n",
      "Clipping percentage is 10%. The Visqol value is -0.9\n",
      "Clipping percentage is 10%. The Visqol value is -0.9\n",
      "After LUFS, the mixing ouput in the RMS, Total: -9.84dB, Clipping Ratio&Cliped Num: (0.0, 0)\n",
      "Clipping percentage is 11%. The Visqol value is -0.91\n",
      "Clipping percentage is 11%. The Visqol value is -0.91\n",
      "After LUFS, the mixing ouput in the RMS, Total: -9.87dB, Clipping Ratio&Cliped Num: (0.0, 0)\n",
      "Clipping percentage is 12%. The Visqol value is -0.93\n",
      "Clipping percentage is 12%. The Visqol value is -0.93\n",
      "After LUFS, the mixing ouput in the RMS, Total: -9.9dB, Clipping Ratio&Cliped Num: (0.0, 0)\n",
      "Clipping percentage is 13%. The Visqol value is -0.94\n",
      "Clipping percentage is 13%. The Visqol value is -0.94\n",
      "After LUFS, the mixing ouput in the RMS, Total: -9.93dB, Clipping Ratio&Cliped Num: (0.0, 0)\n",
      "Clipping percentage is 14%. The Visqol value is -0.94\n",
      "Clipping percentage is 14%. The Visqol value is -0.94\n",
      "After LUFS, the mixing ouput in the RMS, Total: -9.95dB, Clipping Ratio&Cliped Num: (0.0, 0)\n",
      "Clipping percentage is 15%. The Visqol value is -0.93\n",
      "Clipping percentage is 15%. The Visqol value is -0.93\n",
      "After LUFS, the mixing ouput in the RMS, Total: -9.98dB, Clipping Ratio&Cliped Num: (0.0, 0)\n",
      "Clipping percentage is 16%. The Visqol value is -0.94\n",
      "Clipping percentage is 16%. The Visqol value is -0.94\n",
      "After LUFS, the mixing ouput in the RMS, Total: -10.0dB, Clipping Ratio&Cliped Num: (0.0, 0)\n",
      "Clipping percentage is 17%. The Visqol value is -0.93\n",
      "Clipping percentage is 17%. The Visqol value is -0.93\n",
      "After LUFS, the mixing ouput in the RMS, Total: -10.03dB, Clipping Ratio&Cliped Num: (0.0, 0)\n",
      "Clipping percentage is 18%. The Visqol value is -0.93\n",
      "Clipping percentage is 18%. The Visqol value is -0.93\n",
      "After LUFS, the mixing ouput in the RMS, Total: -10.05dB, Clipping Ratio&Cliped Num: (0.0, 0)\n",
      "Clipping percentage is 19%. The Visqol value is -0.97\n",
      "Clipping percentage is 19%. The Visqol value is -0.97\n",
      "After LUFS, the mixing ouput in the RMS, Total: -10.07dB, Clipping Ratio&Cliped Num: (0.0, 0)\n",
      "Clipping percentage is 20%. The Visqol value is -0.98\n",
      "Clipping percentage is 20%. The Visqol value is -0.98\n",
      "After LUFS, the mixing ouput in the RMS, Total: -10.09dB, Clipping Ratio&Cliped Num: (0.0, 0)\n",
      "Clipping percentage is 21%. The Visqol value is -0.98\n",
      "Clipping percentage is 21%. The Visqol value is -0.98\n",
      "After LUFS, the mixing ouput in the RMS, Total: -10.11dB, Clipping Ratio&Cliped Num: (0.0, 0)\n",
      "Clipping percentage is 22%. The Visqol value is -0.99\n",
      "Clipping percentage is 22%. The Visqol value is -0.99\n",
      "After LUFS, the mixing ouput in the RMS, Total: -10.13dB, Clipping Ratio&Cliped Num: (0.0, 0)\n",
      "Clipping percentage is 23%. The Visqol value is -1.0\n",
      "Clipping percentage is 23%. The Visqol value is -1.0\n",
      "After LUFS, the mixing ouput in the RMS, Total: -10.15dB, Clipping Ratio&Cliped Num: (0.0, 0)\n",
      "Clipping percentage is 24%. The Visqol value is -1.01\n",
      "Clipping percentage is 24%. The Visqol value is -1.01\n",
      "After LUFS, the mixing ouput in the RMS, Total: -10.17dB, Clipping Ratio&Cliped Num: (0.0, 0)\n",
      "Clipping percentage is 25%. The Visqol value is -1.02\n",
      "Clipping percentage is 25%. The Visqol value is -1.02\n",
      "After LUFS, the mixing ouput in the RMS, Total: -10.19dB, Clipping Ratio&Cliped Num: (0.0, 0)\n",
      "Clipping percentage is 26%. The Visqol value is -1.02\n",
      "Clipping percentage is 26%. The Visqol value is -1.02\n",
      "After LUFS, the mixing ouput in the RMS, Total: -10.21dB, Clipping Ratio&Cliped Num: (0.0, 0)\n",
      "Clipping percentage is 27%. The Visqol value is -1.03\n",
      "Clipping percentage is 27%. The Visqol value is -1.03\n",
      "After LUFS, the mixing ouput in the RMS, Total: -10.22dB, Clipping Ratio&Cliped Num: (0.0, 0)\n",
      "Clipping percentage is 28%. The Visqol value is -1.02\n",
      "Clipping percentage is 28%. The Visqol value is -1.02\n",
      "After LUFS, the mixing ouput in the RMS, Total: -10.24dB, Clipping Ratio&Cliped Num: (0.0, 0)\n",
      "Clipping percentage is 29%. The Visqol value is -1.04\n",
      "Clipping percentage is 29%. The Visqol value is -1.04\n",
      "After LUFS, the mixing ouput in the RMS, Total: -10.26dB, Clipping Ratio&Cliped Num: (0.0, 0)\n",
      "Clipping percentage is 30%. The Visqol value is -1.07\n",
      "Clipping percentage is 30%. The Visqol value is -1.07\n",
      "After LUFS, the mixing ouput in the RMS, Total: -10.27dB, Clipping Ratio&Cliped Num: (0.0, 0)\n",
      "Clipping percentage is 31%. The Visqol value is -1.06\n",
      "Clipping percentage is 31%. The Visqol value is -1.06\n",
      "After LUFS, the mixing ouput in the RMS, Total: -10.29dB, Clipping Ratio&Cliped Num: (0.0, 0)\n",
      "Clipping percentage is 32%. The Visqol value is -1.07\n",
      "Clipping percentage is 32%. The Visqol value is -1.07\n",
      "After LUFS, the mixing ouput in the RMS, Total: -10.3dB, Clipping Ratio&Cliped Num: (0.0, 0)\n",
      "Clipping percentage is 33%. The Visqol value is -1.09\n",
      "Clipping percentage is 33%. The Visqol value is -1.09\n",
      "After LUFS, the mixing ouput in the RMS, Total: -10.32dB, Clipping Ratio&Cliped Num: (0.0, 0)\n",
      "Clipping percentage is 34%. The Visqol value is -1.1\n",
      "Clipping percentage is 34%. The Visqol value is -1.1\n",
      "After LUFS, the mixing ouput in the RMS, Total: -10.33dB, Clipping Ratio&Cliped Num: (0.0, 0)\n",
      "Clipping percentage is 35%. The Visqol value is -1.12\n",
      "Clipping percentage is 35%. The Visqol value is -1.12\n",
      "After LUFS, the mixing ouput in the RMS, Total: -10.35dB, Clipping Ratio&Cliped Num: (0.0, 0)\n",
      "Clipping percentage is 36%. The Visqol value is -1.12\n",
      "Clipping percentage is 36%. The Visqol value is -1.12\n",
      "After LUFS, the mixing ouput in the RMS, Total: -10.36dB, Clipping Ratio&Cliped Num: (0.0, 0)\n",
      "Clipping percentage is 37%. The Visqol value is -1.12\n",
      "Clipping percentage is 37%. The Visqol value is -1.12\n",
      "After LUFS, the mixing ouput in the RMS, Total: -10.37dB, Clipping Ratio&Cliped Num: (0.0, 0)\n",
      "Clipping percentage is 38%. The Visqol value is -1.12\n",
      "Clipping percentage is 38%. The Visqol value is -1.12\n",
      "After LUFS, the mixing ouput in the RMS, Total: -10.39dB, Clipping Ratio&Cliped Num: (0.0, 0)\n",
      "Clipping percentage is 39%. The Visqol value is -1.11\n",
      "Clipping percentage is 39%. The Visqol value is -1.11\n",
      "After LUFS, the mixing ouput in the RMS, Total: -10.4dB, Clipping Ratio&Cliped Num: (0.0, 0)\n",
      "Clipping percentage is 40%. The Visqol value is -1.14\n",
      "Clipping percentage is 40%. The Visqol value is -1.14\n",
      "After LUFS, the mixing ouput in the RMS, Total: -10.41dB, Clipping Ratio&Cliped Num: (0.0, 0)\n",
      "Clipping percentage is 41%. The Visqol value is -1.17\n",
      "Clipping percentage is 41%. The Visqol value is -1.17\n",
      "After LUFS, the mixing ouput in the RMS, Total: -10.43dB, Clipping Ratio&Cliped Num: (0.0, 0)\n",
      "Clipping percentage is 42%. The Visqol value is -1.17\n",
      "Clipping percentage is 42%. The Visqol value is -1.17\n",
      "After LUFS, the mixing ouput in the RMS, Total: -10.44dB, Clipping Ratio&Cliped Num: (0.0, 0)\n",
      "Clipping percentage is 43%. The Visqol value is -1.16\n",
      "Clipping percentage is 43%. The Visqol value is -1.16\n",
      "After LUFS, the mixing ouput in the RMS, Total: -10.45dB, Clipping Ratio&Cliped Num: (0.0, 0)\n",
      "Clipping percentage is 44%. The Visqol value is -1.16\n",
      "Clipping percentage is 44%. The Visqol value is -1.16\n",
      "After LUFS, the mixing ouput in the RMS, Total: -10.47dB, Clipping Ratio&Cliped Num: (0.0, 0)\n",
      "Clipping percentage is 45%. The Visqol value is -1.2\n",
      "Clipping percentage is 45%. The Visqol value is -1.2\n",
      "After LUFS, the mixing ouput in the RMS, Total: -10.48dB, Clipping Ratio&Cliped Num: (0.0, 0)\n",
      "Clipping percentage is 46%. The Visqol value is -1.2\n",
      "Clipping percentage is 46%. The Visqol value is -1.2\n",
      "After LUFS, the mixing ouput in the RMS, Total: -10.49dB, Clipping Ratio&Cliped Num: (0.0, 0)\n",
      "Clipping percentage is 47%. The Visqol value is -1.23\n",
      "Clipping percentage is 47%. The Visqol value is -1.23\n",
      "After LUFS, the mixing ouput in the RMS, Total: -10.5dB, Clipping Ratio&Cliped Num: (0.0, 0)\n",
      "Clipping percentage is 48%. The Visqol value is -1.24\n",
      "Clipping percentage is 48%. The Visqol value is -1.24\n",
      "After LUFS, the mixing ouput in the RMS, Total: -10.52dB, Clipping Ratio&Cliped Num: (0.0, 0)\n",
      "Clipping percentage is 49%. The Visqol value is -1.24\n",
      "Clipping percentage is 49%. The Visqol value is -1.24\n",
      "After LUFS, the mixing ouput in the RMS, Total: -10.53dB, Clipping Ratio&Cliped Num: (0.0, 0)\n",
      "Clipping percentage is 50%. The Visqol value is -1.25\n",
      "Clipping percentage is 50%. The Visqol value is -1.25\n",
      "After LUFS, the mixing ouput in the RMS, Total: -10.54dB, Clipping Ratio&Cliped Num: (0.0, 0)\n",
      "Clipping percentage is 51%. The Visqol value is -1.24\n",
      "Clipping percentage is 51%. The Visqol value is -1.24\n",
      "After LUFS, the mixing ouput in the RMS, Total: -10.56dB, Clipping Ratio&Cliped Num: (0.0, 0)\n",
      "Clipping percentage is 52%. The Visqol value is -1.25\n",
      "Clipping percentage is 52%. The Visqol value is -1.25\n",
      "After LUFS, the mixing ouput in the RMS, Total: -10.57dB, Clipping Ratio&Cliped Num: (0.0, 0)\n",
      "Clipping percentage is 53%. The Visqol value is -1.27\n",
      "Clipping percentage is 53%. The Visqol value is -1.27\n",
      "After LUFS, the mixing ouput in the RMS, Total: -10.58dB, Clipping Ratio&Cliped Num: (0.0, 0)\n",
      "Clipping percentage is 54%. The Visqol value is -1.27\n",
      "Clipping percentage is 54%. The Visqol value is -1.27\n",
      "After LUFS, the mixing ouput in the RMS, Total: -10.6dB, Clipping Ratio&Cliped Num: (0.0, 0)\n",
      "Clipping percentage is 55%. The Visqol value is -1.28\n",
      "Clipping percentage is 55%. The Visqol value is -1.28\n",
      "After LUFS, the mixing ouput in the RMS, Total: -10.61dB, Clipping Ratio&Cliped Num: (0.0, 0)\n",
      "Clipping percentage is 56%. The Visqol value is -1.3\n",
      "Clipping percentage is 56%. The Visqol value is -1.3\n",
      "After LUFS, the mixing ouput in the RMS, Total: -10.62dB, Clipping Ratio&Cliped Num: (0.0, 0)\n",
      "Clipping percentage is 57%. The Visqol value is -1.3\n",
      "Clipping percentage is 57%. The Visqol value is -1.3\n",
      "After LUFS, the mixing ouput in the RMS, Total: -10.63dB, Clipping Ratio&Cliped Num: (0.0, 0)\n",
      "Clipping percentage is 58%. The Visqol value is -1.31\n",
      "Clipping percentage is 58%. The Visqol value is -1.31\n",
      "After LUFS, the mixing ouput in the RMS, Total: -10.65dB, Clipping Ratio&Cliped Num: (0.0, 0)\n",
      "Clipping percentage is 59%. The Visqol value is -1.34\n",
      "Clipping percentage is 59%. The Visqol value is -1.34\n",
      "After LUFS, the mixing ouput in the RMS, Total: -10.66dB, Clipping Ratio&Cliped Num: (0.0, 0)\n",
      "Clipping percentage is 60%. The Visqol value is -1.33\n",
      "Clipping percentage is 60%. The Visqol value is -1.33\n",
      "After LUFS, the mixing ouput in the RMS, Total: -10.67dB, Clipping Ratio&Cliped Num: (0.0, 0)\n",
      "Clipping percentage is 61%. The Visqol value is -1.32\n",
      "Clipping percentage is 61%. The Visqol value is -1.32\n",
      "After LUFS, the mixing ouput in the RMS, Total: -10.69dB, Clipping Ratio&Cliped Num: (0.0, 0)\n",
      "Clipping percentage is 62%. The Visqol value is -1.36\n",
      "Clipping percentage is 62%. The Visqol value is -1.36\n",
      "After LUFS, the mixing ouput in the RMS, Total: -10.7dB, Clipping Ratio&Cliped Num: (0.0, 0)\n",
      "Clipping percentage is 63%. The Visqol value is -1.38\n",
      "Clipping percentage is 63%. The Visqol value is -1.38\n",
      "After LUFS, the mixing ouput in the RMS, Total: -10.71dB, Clipping Ratio&Cliped Num: (0.0, 0)\n",
      "Clipping percentage is 64%. The Visqol value is -1.39\n",
      "Clipping percentage is 64%. The Visqol value is -1.39\n",
      "After LUFS, the mixing ouput in the RMS, Total: -10.72dB, Clipping Ratio&Cliped Num: (0.0, 0)\n",
      "Clipping percentage is 65%. The Visqol value is -1.41\n",
      "Clipping percentage is 65%. The Visqol value is -1.41\n",
      "After LUFS, the mixing ouput in the RMS, Total: -10.74dB, Clipping Ratio&Cliped Num: (0.0, 0)\n",
      "Clipping percentage is 66%. The Visqol value is -1.41\n",
      "Clipping percentage is 66%. The Visqol value is -1.41\n",
      "After LUFS, the mixing ouput in the RMS, Total: -10.75dB, Clipping Ratio&Cliped Num: (0.0, 0)\n",
      "Clipping percentage is 67%. The Visqol value is -1.42\n",
      "Clipping percentage is 67%. The Visqol value is -1.42\n",
      "After LUFS, the mixing ouput in the RMS, Total: -10.76dB, Clipping Ratio&Cliped Num: (0.0, 0)\n",
      "Clipping percentage is 68%. The Visqol value is -1.44\n",
      "Clipping percentage is 68%. The Visqol value is -1.44\n",
      "After LUFS, the mixing ouput in the RMS, Total: -10.78dB, Clipping Ratio&Cliped Num: (0.0, 0)\n",
      "Clipping percentage is 69%. The Visqol value is -1.43\n",
      "Clipping percentage is 69%. The Visqol value is -1.43\n",
      "After LUFS, the mixing ouput in the RMS, Total: -10.79dB, Clipping Ratio&Cliped Num: (0.0, 0)\n",
      "Clipping percentage is 70%. The Visqol value is -1.44\n",
      "Clipping percentage is 70%. The Visqol value is -1.44\n",
      "After LUFS, the mixing ouput in the RMS, Total: -10.8dB, Clipping Ratio&Cliped Num: (0.0, 0)\n",
      "Clipping percentage is 71%. The Visqol value is -1.46\n",
      "Clipping percentage is 71%. The Visqol value is -1.46\n",
      "After LUFS, the mixing ouput in the RMS, Total: -10.82dB, Clipping Ratio&Cliped Num: (0.0, 0)\n",
      "Clipping percentage is 72%. The Visqol value is -1.46\n",
      "Clipping percentage is 72%. The Visqol value is -1.46\n",
      "After LUFS, the mixing ouput in the RMS, Total: -10.83dB, Clipping Ratio&Cliped Num: (0.0, 0)\n",
      "Clipping percentage is 73%. The Visqol value is -1.46\n",
      "Clipping percentage is 73%. The Visqol value is -1.46\n",
      "After LUFS, the mixing ouput in the RMS, Total: -10.85dB, Clipping Ratio&Cliped Num: (0.0, 0)\n",
      "Clipping percentage is 74%. The Visqol value is -1.48\n",
      "Clipping percentage is 74%. The Visqol value is -1.48\n",
      "After LUFS, the mixing ouput in the RMS, Total: -10.86dB, Clipping Ratio&Cliped Num: (0.0, 0)\n",
      "Clipping percentage is 75%. The Visqol value is -1.49\n",
      "Clipping percentage is 75%. The Visqol value is -1.49\n",
      "After LUFS, the mixing ouput in the RMS, Total: -10.88dB, Clipping Ratio&Cliped Num: (0.0, 0)\n",
      "Clipping percentage is 76%. The Visqol value is -1.5\n",
      "Clipping percentage is 76%. The Visqol value is -1.5\n",
      "After LUFS, the mixing ouput in the RMS, Total: -10.89dB, Clipping Ratio&Cliped Num: (0.0, 0)\n",
      "Clipping percentage is 77%. The Visqol value is -1.51\n",
      "Clipping percentage is 77%. The Visqol value is -1.51\n",
      "After LUFS, the mixing ouput in the RMS, Total: -10.91dB, Clipping Ratio&Cliped Num: (0.0, 0)\n",
      "Clipping percentage is 78%. The Visqol value is -1.53\n",
      "Clipping percentage is 78%. The Visqol value is -1.53\n",
      "After LUFS, the mixing ouput in the RMS, Total: -10.92dB, Clipping Ratio&Cliped Num: (0.0, 0)\n",
      "Clipping percentage is 79%. The Visqol value is -1.56\n",
      "Clipping percentage is 79%. The Visqol value is -1.56\n",
      "After LUFS, the mixing ouput in the RMS, Total: -10.94dB, Clipping Ratio&Cliped Num: (0.0, 0)\n",
      "Clipping percentage is 80%. The Visqol value is -1.59\n",
      "Clipping percentage is 80%. The Visqol value is -1.59\n",
      "After LUFS, the mixing ouput in the RMS, Total: -10.96dB, Clipping Ratio&Cliped Num: (0.0, 0)\n",
      "Clipping percentage is 81%. The Visqol value is -1.59\n",
      "Clipping percentage is 81%. The Visqol value is -1.59\n",
      "After LUFS, the mixing ouput in the RMS, Total: -10.97dB, Clipping Ratio&Cliped Num: (0.0, 0)\n",
      "Clipping percentage is 82%. The Visqol value is -1.6\n",
      "Clipping percentage is 82%. The Visqol value is -1.6\n",
      "After LUFS, the mixing ouput in the RMS, Total: -10.99dB, Clipping Ratio&Cliped Num: (0.0, 0)\n",
      "Clipping percentage is 83%. The Visqol value is -1.61\n",
      "Clipping percentage is 83%. The Visqol value is -1.61\n",
      "After LUFS, the mixing ouput in the RMS, Total: -11.0dB, Clipping Ratio&Cliped Num: (0.0, 0)\n",
      "Clipping percentage is 84%. The Visqol value is -1.6\n",
      "Clipping percentage is 84%. The Visqol value is -1.6\n",
      "After LUFS, the mixing ouput in the RMS, Total: -11.02dB, Clipping Ratio&Cliped Num: (0.0, 0)\n",
      "Clipping percentage is 85%. The Visqol value is -1.62\n",
      "Clipping percentage is 85%. The Visqol value is -1.62\n",
      "After LUFS, the mixing ouput in the RMS, Total: -11.03dB, Clipping Ratio&Cliped Num: (0.0, 0)\n",
      "Clipping percentage is 86%. The Visqol value is -1.66\n",
      "Clipping percentage is 86%. The Visqol value is -1.66\n",
      "After LUFS, the mixing ouput in the RMS, Total: -11.05dB, Clipping Ratio&Cliped Num: (0.0, 0)\n",
      "Clipping percentage is 87%. The Visqol value is -1.66\n",
      "Clipping percentage is 87%. The Visqol value is -1.66\n",
      "After LUFS, the mixing ouput in the RMS, Total: -11.06dB, Clipping Ratio&Cliped Num: (0.0, 0)\n",
      "Clipping percentage is 88%. The Visqol value is -1.69\n",
      "Clipping percentage is 88%. The Visqol value is -1.69\n",
      "After LUFS, the mixing ouput in the RMS, Total: -11.08dB, Clipping Ratio&Cliped Num: (0.0, 0)\n",
      "Clipping percentage is 89%. The Visqol value is -1.67\n",
      "Clipping percentage is 89%. The Visqol value is -1.67\n",
      "After LUFS, the mixing ouput in the RMS, Total: -11.1dB, Clipping Ratio&Cliped Num: (0.0, 0)\n",
      "Clipping percentage is 90%. The Visqol value is -1.69\n",
      "Clipping percentage is 90%. The Visqol value is -1.69\n",
      "After LUFS, the mixing ouput in the RMS, Total: -11.11dB, Clipping Ratio&Cliped Num: (0.0, 0)\n",
      "Clipping percentage is 91%. The Visqol value is -1.72\n",
      "Clipping percentage is 91%. The Visqol value is -1.72\n",
      "After LUFS, the mixing ouput in the RMS, Total: -11.12dB, Clipping Ratio&Cliped Num: (0.0, 0)\n",
      "Clipping percentage is 92%. The Visqol value is -1.77\n",
      "Clipping percentage is 92%. The Visqol value is -1.77\n",
      "After LUFS, the mixing ouput in the RMS, Total: -11.14dB, Clipping Ratio&Cliped Num: (0.0, 0)\n",
      "Clipping percentage is 93%. The Visqol value is -1.78\n",
      "Clipping percentage is 93%. The Visqol value is -1.78\n",
      "After LUFS, the mixing ouput in the RMS, Total: -11.15dB, Clipping Ratio&Cliped Num: (0.0, 0)\n",
      "Clipping percentage is 94%. The Visqol value is -1.81\n",
      "Clipping percentage is 94%. The Visqol value is -1.81\n",
      "After LUFS, the mixing ouput in the RMS, Total: -11.16dB, Clipping Ratio&Cliped Num: (0.0, 0)\n",
      "Clipping percentage is 95%. The Visqol value is -1.84\n",
      "Clipping percentage is 95%. The Visqol value is -1.84\n",
      "After LUFS, the mixing ouput in the RMS, Total: -11.16dB, Clipping Ratio&Cliped Num: (0.0, 0)\n",
      "Clipping percentage is 96%. The Visqol value is -1.88\n",
      "Clipping percentage is 96%. The Visqol value is -1.88\n",
      "After LUFS, the mixing ouput in the RMS, Total: -11.16dB, Clipping Ratio&Cliped Num: (0.0, 0)\n",
      "Clipping percentage is 97%. The Visqol value is -1.94\n",
      "Clipping percentage is 97%. The Visqol value is -1.94\n",
      "After LUFS, the mixing ouput in the RMS, Total: -11.09dB, Clipping Ratio&Cliped Num: (0.0, 0)\n",
      "Clipping percentage is 98%. The Visqol value is -2.0\n",
      "Clipping percentage is 98%. The Visqol value is -2.0\n",
      "After LUFS, the mixing ouput in the RMS, Total: -10.68dB, Clipping Ratio&Cliped Num: (0.0, 0)\n",
      "Clipping percentage is 99%. The Visqol value is -2.02\n",
      "Clipping percentage is 99%. The Visqol value is -2.02\n",
      "There are 11025 packages\n",
      "After LUFS, the mixing ouput in the RMS, Total: -9.39dB, Clipping Ratio&Cliped Num: (0.0010799319727891157, 381)\n",
      "Dropout Num is 1. The Visqol value is -0.8\n"
     ]
    },
    {
     "name": "stderr",
     "output_type": "stream",
     "text": [
      "/root/anaconda3/lib/python3.11/site-packages/pyloudnorm/normalize.py:62: UserWarning: Possible clipped samples in output.\n",
      "  warnings.warn(\"Possible clipped samples in output.\")\n"
     ]
    },
    {
     "name": "stdout",
     "output_type": "stream",
     "text": [
      "Dropout Num is 1. The Visqol value is -0.8\n",
      "There are 11025 packages\n",
      "After LUFS, the mixing ouput in the RMS, Total: -9.39dB, Clipping Ratio&Cliped Num: (0.0010799319727891157, 381)\n"
     ]
    },
    {
     "name": "stderr",
     "output_type": "stream",
     "text": [
      "/root/anaconda3/lib/python3.11/site-packages/pyloudnorm/normalize.py:62: UserWarning: Possible clipped samples in output.\n",
      "  warnings.warn(\"Possible clipped samples in output.\")\n"
     ]
    },
    {
     "name": "stdout",
     "output_type": "stream",
     "text": [
      "Dropout Num is 2. The Visqol value is -0.8\n",
      "Dropout Num is 2. The Visqol value is -0.8\n",
      "There are 11025 packages\n",
      "After LUFS, the mixing ouput in the RMS, Total: -9.39dB, Clipping Ratio&Cliped Num: (0.0010827664399092971, 382)\n"
     ]
    },
    {
     "name": "stderr",
     "output_type": "stream",
     "text": [
      "/root/anaconda3/lib/python3.11/site-packages/pyloudnorm/normalize.py:62: UserWarning: Possible clipped samples in output.\n",
      "  warnings.warn(\"Possible clipped samples in output.\")\n"
     ]
    },
    {
     "name": "stdout",
     "output_type": "stream",
     "text": [
      "Dropout Num is 3. The Visqol value is -0.8\n",
      "Dropout Num is 3. The Visqol value is -0.8\n",
      "There are 11025 packages\n",
      "After LUFS, the mixing ouput in the RMS, Total: -9.39dB, Clipping Ratio&Cliped Num: (0.0010856009070294784, 383)\n",
      "Dropout Num is 4. The Visqol value is -0.8\n"
     ]
    },
    {
     "name": "stderr",
     "output_type": "stream",
     "text": [
      "/root/anaconda3/lib/python3.11/site-packages/pyloudnorm/normalize.py:62: UserWarning: Possible clipped samples in output.\n",
      "  warnings.warn(\"Possible clipped samples in output.\")\n"
     ]
    },
    {
     "name": "stdout",
     "output_type": "stream",
     "text": [
      "Dropout Num is 4. The Visqol value is -0.8\n",
      "There are 11025 packages\n",
      "After LUFS, the mixing ouput in the RMS, Total: -9.39dB, Clipping Ratio&Cliped Num: (0.0010799319727891157, 381)\n"
     ]
    },
    {
     "name": "stderr",
     "output_type": "stream",
     "text": [
      "/root/anaconda3/lib/python3.11/site-packages/pyloudnorm/normalize.py:62: UserWarning: Possible clipped samples in output.\n",
      "  warnings.warn(\"Possible clipped samples in output.\")\n"
     ]
    },
    {
     "name": "stdout",
     "output_type": "stream",
     "text": [
      "Dropout Num is 5. The Visqol value is -0.8\n",
      "Dropout Num is 5. The Visqol value is -0.8\n",
      "There are 11025 packages\n",
      "After LUFS, the mixing ouput in the RMS, Total: -9.39dB, Clipping Ratio&Cliped Num: (0.0010799319727891157, 381)\n"
     ]
    },
    {
     "name": "stderr",
     "output_type": "stream",
     "text": [
      "/root/anaconda3/lib/python3.11/site-packages/pyloudnorm/normalize.py:62: UserWarning: Possible clipped samples in output.\n",
      "  warnings.warn(\"Possible clipped samples in output.\")\n"
     ]
    },
    {
     "name": "stdout",
     "output_type": "stream",
     "text": [
      "Dropout Num is 6. The Visqol value is -0.8\n",
      "Dropout Num is 6. The Visqol value is -0.8\n",
      "There are 11025 packages\n"
     ]
    },
    {
     "name": "stderr",
     "output_type": "stream",
     "text": [
      "/root/anaconda3/lib/python3.11/site-packages/pyloudnorm/normalize.py:62: UserWarning: Possible clipped samples in output.\n",
      "  warnings.warn(\"Possible clipped samples in output.\")\n"
     ]
    },
    {
     "name": "stdout",
     "output_type": "stream",
     "text": [
      "After LUFS, the mixing ouput in the RMS, Total: -9.39dB, Clipping Ratio&Cliped Num: (0.0010856009070294784, 383)\n",
      "Dropout Num is 7. The Visqol value is -0.8\n",
      "Dropout Num is 7. The Visqol value is -0.8\n",
      "There are 11025 packages\n",
      "After LUFS, the mixing ouput in the RMS, Total: -9.39dB, Clipping Ratio&Cliped Num: (0.0010884353741496598, 384)\n"
     ]
    },
    {
     "name": "stderr",
     "output_type": "stream",
     "text": [
      "/root/anaconda3/lib/python3.11/site-packages/pyloudnorm/normalize.py:62: UserWarning: Possible clipped samples in output.\n",
      "  warnings.warn(\"Possible clipped samples in output.\")\n"
     ]
    },
    {
     "name": "stdout",
     "output_type": "stream",
     "text": [
      "Dropout Num is 8. The Visqol value is -0.81\n",
      "Dropout Num is 8. The Visqol value is -0.81\n",
      "There are 11025 packages\n",
      "After LUFS, the mixing ouput in the RMS, Total: -9.4dB, Clipping Ratio&Cliped Num: (0.0010827664399092971, 382)\n"
     ]
    },
    {
     "name": "stderr",
     "output_type": "stream",
     "text": [
      "/root/anaconda3/lib/python3.11/site-packages/pyloudnorm/normalize.py:62: UserWarning: Possible clipped samples in output.\n",
      "  warnings.warn(\"Possible clipped samples in output.\")\n"
     ]
    },
    {
     "name": "stdout",
     "output_type": "stream",
     "text": [
      "Dropout Num is 9. The Visqol value is -0.8\n",
      "Dropout Num is 9. The Visqol value is -0.8\n",
      "There are 11025 packages\n",
      "After LUFS, the mixing ouput in the RMS, Total: -9.4dB, Clipping Ratio&Cliped Num: (0.0010827664399092971, 382)\n"
     ]
    },
    {
     "name": "stderr",
     "output_type": "stream",
     "text": [
      "/root/anaconda3/lib/python3.11/site-packages/pyloudnorm/normalize.py:62: UserWarning: Possible clipped samples in output.\n",
      "  warnings.warn(\"Possible clipped samples in output.\")\n"
     ]
    },
    {
     "name": "stdout",
     "output_type": "stream",
     "text": [
      "Dropout Num is 10. The Visqol value is -0.82\n",
      "Dropout Num is 10. The Visqol value is -0.82\n",
      "There are 11025 packages\n",
      "After LUFS, the mixing ouput in the RMS, Total: -9.39dB, Clipping Ratio&Cliped Num: (0.0010856009070294784, 383)\n"
     ]
    },
    {
     "name": "stderr",
     "output_type": "stream",
     "text": [
      "/root/anaconda3/lib/python3.11/site-packages/pyloudnorm/normalize.py:62: UserWarning: Possible clipped samples in output.\n",
      "  warnings.warn(\"Possible clipped samples in output.\")\n"
     ]
    },
    {
     "name": "stdout",
     "output_type": "stream",
     "text": [
      "Dropout Num is 11. The Visqol value is -0.82\n",
      "Dropout Num is 11. The Visqol value is -0.82\n",
      "There are 11025 packages\n",
      "After LUFS, the mixing ouput in the RMS, Total: -9.39dB, Clipping Ratio&Cliped Num: (0.0010884353741496598, 384)\n"
     ]
    },
    {
     "name": "stderr",
     "output_type": "stream",
     "text": [
      "/root/anaconda3/lib/python3.11/site-packages/pyloudnorm/normalize.py:62: UserWarning: Possible clipped samples in output.\n",
      "  warnings.warn(\"Possible clipped samples in output.\")\n"
     ]
    },
    {
     "name": "stdout",
     "output_type": "stream",
     "text": [
      "Dropout Num is 12. The Visqol value is -0.79\n",
      "Dropout Num is 12. The Visqol value is -0.79\n",
      "There are 11025 packages\n",
      "After LUFS, the mixing ouput in the RMS, Total: -9.39dB, Clipping Ratio&Cliped Num: (0.0010884353741496598, 384)\n"
     ]
    },
    {
     "name": "stderr",
     "output_type": "stream",
     "text": [
      "/root/anaconda3/lib/python3.11/site-packages/pyloudnorm/normalize.py:62: UserWarning: Possible clipped samples in output.\n",
      "  warnings.warn(\"Possible clipped samples in output.\")\n"
     ]
    },
    {
     "name": "stdout",
     "output_type": "stream",
     "text": [
      "Dropout Num is 13. The Visqol value is -0.8\n",
      "Dropout Num is 13. The Visqol value is -0.8\n",
      "There are 11025 packages\n",
      "After LUFS, the mixing ouput in the RMS, Total: -9.4dB, Clipping Ratio&Cliped Num: (0.0010856009070294784, 383)\n"
     ]
    },
    {
     "name": "stderr",
     "output_type": "stream",
     "text": [
      "/root/anaconda3/lib/python3.11/site-packages/pyloudnorm/normalize.py:62: UserWarning: Possible clipped samples in output.\n",
      "  warnings.warn(\"Possible clipped samples in output.\")\n"
     ]
    },
    {
     "name": "stdout",
     "output_type": "stream",
     "text": [
      "Dropout Num is 14. The Visqol value is -0.83\n",
      "Dropout Num is 14. The Visqol value is -0.83\n",
      "There are 11025 packages\n",
      "After LUFS, the mixing ouput in the RMS, Total: -9.4dB, Clipping Ratio&Cliped Num: (0.0010856009070294784, 383)\n"
     ]
    },
    {
     "name": "stderr",
     "output_type": "stream",
     "text": [
      "/root/anaconda3/lib/python3.11/site-packages/pyloudnorm/normalize.py:62: UserWarning: Possible clipped samples in output.\n",
      "  warnings.warn(\"Possible clipped samples in output.\")\n"
     ]
    },
    {
     "name": "stdout",
     "output_type": "stream",
     "text": [
      "Dropout Num is 15. The Visqol value is -0.8\n",
      "Dropout Num is 15. The Visqol value is -0.8\n",
      "There are 11025 packages\n",
      "After LUFS, the mixing ouput in the RMS, Total: -9.39dB, Clipping Ratio&Cliped Num: (0.0010884353741496598, 384)\n"
     ]
    },
    {
     "name": "stderr",
     "output_type": "stream",
     "text": [
      "/root/anaconda3/lib/python3.11/site-packages/pyloudnorm/normalize.py:62: UserWarning: Possible clipped samples in output.\n",
      "  warnings.warn(\"Possible clipped samples in output.\")\n"
     ]
    },
    {
     "name": "stdout",
     "output_type": "stream",
     "text": [
      "Dropout Num is 16. The Visqol value is -0.8\n",
      "Dropout Num is 16. The Visqol value is -0.8\n",
      "There are 11025 packages\n",
      "After LUFS, the mixing ouput in the RMS, Total: -9.39dB, Clipping Ratio&Cliped Num: (0.0010884353741496598, 384)\n"
     ]
    },
    {
     "name": "stderr",
     "output_type": "stream",
     "text": [
      "/root/anaconda3/lib/python3.11/site-packages/pyloudnorm/normalize.py:62: UserWarning: Possible clipped samples in output.\n",
      "  warnings.warn(\"Possible clipped samples in output.\")\n"
     ]
    },
    {
     "name": "stdout",
     "output_type": "stream",
     "text": [
      "Dropout Num is 17. The Visqol value is -0.79\n",
      "Dropout Num is 17. The Visqol value is -0.79\n",
      "There are 11025 packages\n",
      "After LUFS, the mixing ouput in the RMS, Total: -9.39dB, Clipping Ratio&Cliped Num: (0.0010884353741496598, 384)\n",
      "Dropout Num is 18. The Visqol value is -0.8\n"
     ]
    },
    {
     "name": "stderr",
     "output_type": "stream",
     "text": [
      "/root/anaconda3/lib/python3.11/site-packages/pyloudnorm/normalize.py:62: UserWarning: Possible clipped samples in output.\n",
      "  warnings.warn(\"Possible clipped samples in output.\")\n"
     ]
    },
    {
     "name": "stdout",
     "output_type": "stream",
     "text": [
      "Dropout Num is 18. The Visqol value is -0.8\n",
      "There are 11025 packages\n",
      "After LUFS, the mixing ouput in the RMS, Total: -9.4dB, Clipping Ratio&Cliped Num: (0.0010572562358276644, 373)\n"
     ]
    },
    {
     "name": "stderr",
     "output_type": "stream",
     "text": [
      "/root/anaconda3/lib/python3.11/site-packages/pyloudnorm/normalize.py:62: UserWarning: Possible clipped samples in output.\n",
      "  warnings.warn(\"Possible clipped samples in output.\")\n"
     ]
    },
    {
     "name": "stdout",
     "output_type": "stream",
     "text": [
      "Dropout Num is 19. The Visqol value is -0.92\n",
      "Dropout Num is 19. The Visqol value is -0.92\n",
      "There are 11025 packages\n",
      "After LUFS, the mixing ouput in the RMS, Total: -9.4dB, Clipping Ratio&Cliped Num: (0.0010770975056689342, 380)\n"
     ]
    },
    {
     "name": "stderr",
     "output_type": "stream",
     "text": [
      "/root/anaconda3/lib/python3.11/site-packages/pyloudnorm/normalize.py:62: UserWarning: Possible clipped samples in output.\n",
      "  warnings.warn(\"Possible clipped samples in output.\")\n"
     ]
    },
    {
     "name": "stdout",
     "output_type": "stream",
     "text": [
      "Dropout Num is 20. The Visqol value is -0.8\n",
      "Dropout Num is 20. The Visqol value is -0.8\n",
      "There are 11025 packages\n",
      "After LUFS, the mixing ouput in the RMS, Total: -9.4dB, Clipping Ratio&Cliped Num: (0.0010856009070294784, 383)\n"
     ]
    },
    {
     "name": "stderr",
     "output_type": "stream",
     "text": [
      "/root/anaconda3/lib/python3.11/site-packages/pyloudnorm/normalize.py:62: UserWarning: Possible clipped samples in output.\n",
      "  warnings.warn(\"Possible clipped samples in output.\")\n"
     ]
    },
    {
     "name": "stdout",
     "output_type": "stream",
     "text": [
      "Dropout Num is 21. The Visqol value is -0.83\n",
      "Dropout Num is 21. The Visqol value is -0.83\n",
      "There are 11025 packages\n",
      "After LUFS, the mixing ouput in the RMS, Total: -9.4dB, Clipping Ratio&Cliped Num: (0.0010884353741496598, 384)\n"
     ]
    },
    {
     "name": "stderr",
     "output_type": "stream",
     "text": [
      "/root/anaconda3/lib/python3.11/site-packages/pyloudnorm/normalize.py:62: UserWarning: Possible clipped samples in output.\n",
      "  warnings.warn(\"Possible clipped samples in output.\")\n"
     ]
    },
    {
     "name": "stdout",
     "output_type": "stream",
     "text": [
      "Dropout Num is 22. The Visqol value is -0.91\n",
      "Dropout Num is 22. The Visqol value is -0.91\n",
      "There are 11025 packages\n",
      "After LUFS, the mixing ouput in the RMS, Total: -9.4dB, Clipping Ratio&Cliped Num: (0.0010799319727891157, 381)\n"
     ]
    },
    {
     "name": "stderr",
     "output_type": "stream",
     "text": [
      "/root/anaconda3/lib/python3.11/site-packages/pyloudnorm/normalize.py:62: UserWarning: Possible clipped samples in output.\n",
      "  warnings.warn(\"Possible clipped samples in output.\")\n"
     ]
    },
    {
     "name": "stdout",
     "output_type": "stream",
     "text": [
      "Dropout Num is 23. The Visqol value is -0.89\n",
      "Dropout Num is 23. The Visqol value is -0.89\n",
      "There are 11025 packages\n",
      "After LUFS, the mixing ouput in the RMS, Total: -9.4dB, Clipping Ratio&Cliped Num: (0.0010827664399092971, 382)\n"
     ]
    },
    {
     "name": "stderr",
     "output_type": "stream",
     "text": [
      "/root/anaconda3/lib/python3.11/site-packages/pyloudnorm/normalize.py:62: UserWarning: Possible clipped samples in output.\n",
      "  warnings.warn(\"Possible clipped samples in output.\")\n"
     ]
    },
    {
     "name": "stdout",
     "output_type": "stream",
     "text": [
      "Dropout Num is 24. The Visqol value is -0.82\n",
      "Dropout Num is 24. The Visqol value is -0.82\n",
      "There are 11025 packages\n",
      "After LUFS, the mixing ouput in the RMS, Total: -9.4dB, Clipping Ratio&Cliped Num: (0.0010884353741496598, 384)\n"
     ]
    },
    {
     "name": "stderr",
     "output_type": "stream",
     "text": [
      "/root/anaconda3/lib/python3.11/site-packages/pyloudnorm/normalize.py:62: UserWarning: Possible clipped samples in output.\n",
      "  warnings.warn(\"Possible clipped samples in output.\")\n"
     ]
    },
    {
     "name": "stdout",
     "output_type": "stream",
     "text": [
      "Dropout Num is 25. The Visqol value is -0.87\n",
      "Dropout Num is 25. The Visqol value is -0.87\n",
      "There are 11025 packages\n",
      "After LUFS, the mixing ouput in the RMS, Total: -9.4dB, Clipping Ratio&Cliped Num: (0.0010884353741496598, 384)\n"
     ]
    },
    {
     "name": "stderr",
     "output_type": "stream",
     "text": [
      "/root/anaconda3/lib/python3.11/site-packages/pyloudnorm/normalize.py:62: UserWarning: Possible clipped samples in output.\n",
      "  warnings.warn(\"Possible clipped samples in output.\")\n"
     ]
    },
    {
     "name": "stdout",
     "output_type": "stream",
     "text": [
      "Dropout Num is 26. The Visqol value is -0.84\n",
      "Dropout Num is 26. The Visqol value is -0.84\n",
      "There are 11025 packages\n",
      "After LUFS, the mixing ouput in the RMS, Total: -9.39dB, Clipping Ratio&Cliped Num: (0.0010884353741496598, 384)\n",
      "Dropout Num is 27. The Visqol value is -0.81\n"
     ]
    },
    {
     "name": "stderr",
     "output_type": "stream",
     "text": [
      "/root/anaconda3/lib/python3.11/site-packages/pyloudnorm/normalize.py:62: UserWarning: Possible clipped samples in output.\n",
      "  warnings.warn(\"Possible clipped samples in output.\")\n"
     ]
    },
    {
     "name": "stdout",
     "output_type": "stream",
     "text": [
      "Dropout Num is 27. The Visqol value is -0.81\n",
      "There are 11025 packages\n",
      "After LUFS, the mixing ouput in the RMS, Total: -9.4dB, Clipping Ratio&Cliped Num: (0.0010884353741496598, 384)\n"
     ]
    },
    {
     "name": "stderr",
     "output_type": "stream",
     "text": [
      "/root/anaconda3/lib/python3.11/site-packages/pyloudnorm/normalize.py:62: UserWarning: Possible clipped samples in output.\n",
      "  warnings.warn(\"Possible clipped samples in output.\")\n"
     ]
    },
    {
     "name": "stdout",
     "output_type": "stream",
     "text": [
      "Dropout Num is 28. The Visqol value is -0.84\n",
      "Dropout Num is 28. The Visqol value is -0.84\n",
      "There are 11025 packages\n",
      "After LUFS, the mixing ouput in the RMS, Total: -9.4dB, Clipping Ratio&Cliped Num: (0.0010884353741496598, 384)\n",
      "Dropout Num is 29. The Visqol value is -0.89\n"
     ]
    },
    {
     "name": "stderr",
     "output_type": "stream",
     "text": [
      "/root/anaconda3/lib/python3.11/site-packages/pyloudnorm/normalize.py:62: UserWarning: Possible clipped samples in output.\n",
      "  warnings.warn(\"Possible clipped samples in output.\")\n"
     ]
    },
    {
     "name": "stdout",
     "output_type": "stream",
     "text": [
      "Dropout Num is 29. The Visqol value is -0.89\n",
      "There are 11025 packages\n",
      "After LUFS, the mixing ouput in the RMS, Total: -9.4dB, Clipping Ratio&Cliped Num: (0.0010884353741496598, 384)\n"
     ]
    },
    {
     "name": "stderr",
     "output_type": "stream",
     "text": [
      "/root/anaconda3/lib/python3.11/site-packages/pyloudnorm/normalize.py:62: UserWarning: Possible clipped samples in output.\n",
      "  warnings.warn(\"Possible clipped samples in output.\")\n"
     ]
    },
    {
     "name": "stdout",
     "output_type": "stream",
     "text": [
      "Dropout Num is 30. The Visqol value is -0.81\n",
      "Dropout Num is 30. The Visqol value is -0.81\n",
      "There are 11025 packages\n",
      "After LUFS, the mixing ouput in the RMS, Total: -9.4dB, Clipping Ratio&Cliped Num: (0.0010884353741496598, 384)\n"
     ]
    },
    {
     "name": "stderr",
     "output_type": "stream",
     "text": [
      "/root/anaconda3/lib/python3.11/site-packages/pyloudnorm/normalize.py:62: UserWarning: Possible clipped samples in output.\n",
      "  warnings.warn(\"Possible clipped samples in output.\")\n"
     ]
    },
    {
     "name": "stdout",
     "output_type": "stream",
     "text": [
      "Dropout Num is 31. The Visqol value is -0.83\n",
      "Dropout Num is 31. The Visqol value is -0.83\n",
      "There are 11025 packages\n",
      "After LUFS, the mixing ouput in the RMS, Total: -9.4dB, Clipping Ratio&Cliped Num: (0.0010884353741496598, 384)\n"
     ]
    },
    {
     "name": "stderr",
     "output_type": "stream",
     "text": [
      "/root/anaconda3/lib/python3.11/site-packages/pyloudnorm/normalize.py:62: UserWarning: Possible clipped samples in output.\n",
      "  warnings.warn(\"Possible clipped samples in output.\")\n"
     ]
    },
    {
     "name": "stdout",
     "output_type": "stream",
     "text": [
      "Dropout Num is 32. The Visqol value is -0.83\n",
      "Dropout Num is 32. The Visqol value is -0.83\n",
      "There are 11025 packages\n",
      "After LUFS, the mixing ouput in the RMS, Total: -9.41dB, Clipping Ratio&Cliped Num: (0.0010856009070294784, 383)\n"
     ]
    },
    {
     "name": "stderr",
     "output_type": "stream",
     "text": [
      "/root/anaconda3/lib/python3.11/site-packages/pyloudnorm/normalize.py:62: UserWarning: Possible clipped samples in output.\n",
      "  warnings.warn(\"Possible clipped samples in output.\")\n"
     ]
    },
    {
     "name": "stdout",
     "output_type": "stream",
     "text": [
      "Dropout Num is 33. The Visqol value is -0.9\n",
      "Dropout Num is 33. The Visqol value is -0.9\n",
      "There are 11025 packages\n",
      "After LUFS, the mixing ouput in the RMS, Total: -9.39dB, Clipping Ratio&Cliped Num: (0.0010884353741496598, 384)\n"
     ]
    },
    {
     "name": "stderr",
     "output_type": "stream",
     "text": [
      "/root/anaconda3/lib/python3.11/site-packages/pyloudnorm/normalize.py:62: UserWarning: Possible clipped samples in output.\n",
      "  warnings.warn(\"Possible clipped samples in output.\")\n"
     ]
    },
    {
     "name": "stdout",
     "output_type": "stream",
     "text": [
      "Dropout Num is 34. The Visqol value is -0.85\n",
      "Dropout Num is 34. The Visqol value is -0.85\n",
      "There are 11025 packages\n",
      "After LUFS, the mixing ouput in the RMS, Total: -9.4dB, Clipping Ratio&Cliped Num: (0.0010884353741496598, 384)\n"
     ]
    },
    {
     "name": "stderr",
     "output_type": "stream",
     "text": [
      "/root/anaconda3/lib/python3.11/site-packages/pyloudnorm/normalize.py:62: UserWarning: Possible clipped samples in output.\n",
      "  warnings.warn(\"Possible clipped samples in output.\")\n"
     ]
    },
    {
     "name": "stdout",
     "output_type": "stream",
     "text": [
      "Dropout Num is 35. The Visqol value is -0.92\n",
      "Dropout Num is 35. The Visqol value is -0.92\n",
      "There are 11025 packages\n",
      "After LUFS, the mixing ouput in the RMS, Total: -9.4dB, Clipping Ratio&Cliped Num: (0.0010884353741496598, 384)\n"
     ]
    },
    {
     "name": "stderr",
     "output_type": "stream",
     "text": [
      "/root/anaconda3/lib/python3.11/site-packages/pyloudnorm/normalize.py:62: UserWarning: Possible clipped samples in output.\n",
      "  warnings.warn(\"Possible clipped samples in output.\")\n"
     ]
    },
    {
     "name": "stdout",
     "output_type": "stream",
     "text": [
      "Dropout Num is 36. The Visqol value is -0.85\n",
      "Dropout Num is 36. The Visqol value is -0.85\n",
      "There are 11025 packages\n",
      "After LUFS, the mixing ouput in the RMS, Total: -9.39dB, Clipping Ratio&Cliped Num: (0.0010912698412698413, 385)\n"
     ]
    },
    {
     "name": "stderr",
     "output_type": "stream",
     "text": [
      "/root/anaconda3/lib/python3.11/site-packages/pyloudnorm/normalize.py:62: UserWarning: Possible clipped samples in output.\n",
      "  warnings.warn(\"Possible clipped samples in output.\")\n"
     ]
    },
    {
     "name": "stdout",
     "output_type": "stream",
     "text": [
      "Dropout Num is 37. The Visqol value is -0.85\n",
      "Dropout Num is 37. The Visqol value is -0.85\n",
      "There are 11025 packages\n",
      "After LUFS, the mixing ouput in the RMS, Total: -9.4dB, Clipping Ratio&Cliped Num: (0.0010884353741496598, 384)\n",
      "Dropout Num is 38. The Visqol value is -0.87\n"
     ]
    },
    {
     "name": "stderr",
     "output_type": "stream",
     "text": [
      "/root/anaconda3/lib/python3.11/site-packages/pyloudnorm/normalize.py:62: UserWarning: Possible clipped samples in output.\n",
      "  warnings.warn(\"Possible clipped samples in output.\")\n"
     ]
    },
    {
     "name": "stdout",
     "output_type": "stream",
     "text": [
      "Dropout Num is 38. The Visqol value is -0.87\n",
      "There are 11025 packages\n",
      "After LUFS, the mixing ouput in the RMS, Total: -9.4dB, Clipping Ratio&Cliped Num: (0.0010884353741496598, 384)\n"
     ]
    },
    {
     "name": "stderr",
     "output_type": "stream",
     "text": [
      "/root/anaconda3/lib/python3.11/site-packages/pyloudnorm/normalize.py:62: UserWarning: Possible clipped samples in output.\n",
      "  warnings.warn(\"Possible clipped samples in output.\")\n"
     ]
    },
    {
     "name": "stdout",
     "output_type": "stream",
     "text": [
      "Dropout Num is 39. The Visqol value is -0.88\n",
      "Dropout Num is 39. The Visqol value is -0.88\n",
      "There are 11025 packages\n",
      "After LUFS, the mixing ouput in the RMS, Total: -9.39dB, Clipping Ratio&Cliped Num: (0.0010912698412698413, 385)\n"
     ]
    },
    {
     "name": "stderr",
     "output_type": "stream",
     "text": [
      "/root/anaconda3/lib/python3.11/site-packages/pyloudnorm/normalize.py:62: UserWarning: Possible clipped samples in output.\n",
      "  warnings.warn(\"Possible clipped samples in output.\")\n"
     ]
    },
    {
     "name": "stdout",
     "output_type": "stream",
     "text": [
      "Dropout Num is 40. The Visqol value is -0.86\n",
      "Dropout Num is 40. The Visqol value is -0.86\n",
      "There are 11025 packages\n",
      "After LUFS, the mixing ouput in the RMS, Total: -9.4dB, Clipping Ratio&Cliped Num: (0.0010912698412698413, 385)\n"
     ]
    },
    {
     "name": "stderr",
     "output_type": "stream",
     "text": [
      "/root/anaconda3/lib/python3.11/site-packages/pyloudnorm/normalize.py:62: UserWarning: Possible clipped samples in output.\n",
      "  warnings.warn(\"Possible clipped samples in output.\")\n"
     ]
    },
    {
     "name": "stdout",
     "output_type": "stream",
     "text": [
      "Dropout Num is 41. The Visqol value is -0.88\n",
      "Dropout Num is 41. The Visqol value is -0.88\n",
      "There are 11025 packages\n",
      "After LUFS, the mixing ouput in the RMS, Total: -9.4dB, Clipping Ratio&Cliped Num: (0.0010912698412698413, 385)\n"
     ]
    },
    {
     "name": "stderr",
     "output_type": "stream",
     "text": [
      "/root/anaconda3/lib/python3.11/site-packages/pyloudnorm/normalize.py:62: UserWarning: Possible clipped samples in output.\n",
      "  warnings.warn(\"Possible clipped samples in output.\")\n"
     ]
    },
    {
     "name": "stdout",
     "output_type": "stream",
     "text": [
      "Dropout Num is 42. The Visqol value is -0.85\n",
      "Dropout Num is 42. The Visqol value is -0.85\n",
      "There are 11025 packages\n",
      "After LUFS, the mixing ouput in the RMS, Total: -9.4dB, Clipping Ratio&Cliped Num: (0.0010770975056689342, 380)\n"
     ]
    },
    {
     "name": "stderr",
     "output_type": "stream",
     "text": [
      "/root/anaconda3/lib/python3.11/site-packages/pyloudnorm/normalize.py:62: UserWarning: Possible clipped samples in output.\n",
      "  warnings.warn(\"Possible clipped samples in output.\")\n"
     ]
    },
    {
     "name": "stdout",
     "output_type": "stream",
     "text": [
      "Dropout Num is 43. The Visqol value is -0.87\n",
      "Dropout Num is 43. The Visqol value is -0.87\n",
      "There are 11025 packages\n",
      "After LUFS, the mixing ouput in the RMS, Total: -9.39dB, Clipping Ratio&Cliped Num: (0.0010912698412698413, 385)\n",
      "Dropout Num is 44. The Visqol value is -0.83\n"
     ]
    },
    {
     "name": "stderr",
     "output_type": "stream",
     "text": [
      "/root/anaconda3/lib/python3.11/site-packages/pyloudnorm/normalize.py:62: UserWarning: Possible clipped samples in output.\n",
      "  warnings.warn(\"Possible clipped samples in output.\")\n"
     ]
    },
    {
     "name": "stdout",
     "output_type": "stream",
     "text": [
      "Dropout Num is 44. The Visqol value is -0.83\n",
      "There are 11025 packages\n",
      "After LUFS, the mixing ouput in the RMS, Total: -9.41dB, Clipping Ratio&Cliped Num: (0.0010090702947845806, 356)\n"
     ]
    },
    {
     "name": "stderr",
     "output_type": "stream",
     "text": [
      "/root/anaconda3/lib/python3.11/site-packages/pyloudnorm/normalize.py:62: UserWarning: Possible clipped samples in output.\n",
      "  warnings.warn(\"Possible clipped samples in output.\")\n"
     ]
    },
    {
     "name": "stdout",
     "output_type": "stream",
     "text": [
      "Dropout Num is 45. The Visqol value is -0.89\n",
      "Dropout Num is 45. The Visqol value is -0.89\n",
      "There are 11025 packages\n",
      "After LUFS, the mixing ouput in the RMS, Total: -9.39dB, Clipping Ratio&Cliped Num: (0.0010912698412698413, 385)\n"
     ]
    },
    {
     "name": "stderr",
     "output_type": "stream",
     "text": [
      "/root/anaconda3/lib/python3.11/site-packages/pyloudnorm/normalize.py:62: UserWarning: Possible clipped samples in output.\n",
      "  warnings.warn(\"Possible clipped samples in output.\")\n"
     ]
    },
    {
     "name": "stdout",
     "output_type": "stream",
     "text": [
      "Dropout Num is 46. The Visqol value is -0.82\n",
      "Dropout Num is 46. The Visqol value is -0.82\n",
      "There are 11025 packages\n",
      "After LUFS, the mixing ouput in the RMS, Total: -9.4dB, Clipping Ratio&Cliped Num: (0.0010884353741496598, 384)\n"
     ]
    },
    {
     "name": "stderr",
     "output_type": "stream",
     "text": [
      "/root/anaconda3/lib/python3.11/site-packages/pyloudnorm/normalize.py:62: UserWarning: Possible clipped samples in output.\n",
      "  warnings.warn(\"Possible clipped samples in output.\")\n"
     ]
    },
    {
     "name": "stdout",
     "output_type": "stream",
     "text": [
      "Dropout Num is 47. The Visqol value is -0.91\n",
      "Dropout Num is 47. The Visqol value is -0.91\n",
      "There are 11025 packages\n",
      "After LUFS, the mixing ouput in the RMS, Total: -9.4dB, Clipping Ratio&Cliped Num: (0.0010912698412698413, 385)\n",
      "Dropout Num is 48. The Visqol value is -0.88\n"
     ]
    },
    {
     "name": "stderr",
     "output_type": "stream",
     "text": [
      "/root/anaconda3/lib/python3.11/site-packages/pyloudnorm/normalize.py:62: UserWarning: Possible clipped samples in output.\n",
      "  warnings.warn(\"Possible clipped samples in output.\")\n"
     ]
    },
    {
     "name": "stdout",
     "output_type": "stream",
     "text": [
      "Dropout Num is 48. The Visqol value is -0.88\n",
      "There are 11025 packages\n",
      "After LUFS, the mixing ouput in the RMS, Total: -9.4dB, Clipping Ratio&Cliped Num: (0.0010941043083900228, 386)\n"
     ]
    },
    {
     "name": "stderr",
     "output_type": "stream",
     "text": [
      "/root/anaconda3/lib/python3.11/site-packages/pyloudnorm/normalize.py:62: UserWarning: Possible clipped samples in output.\n",
      "  warnings.warn(\"Possible clipped samples in output.\")\n"
     ]
    },
    {
     "name": "stdout",
     "output_type": "stream",
     "text": [
      "Dropout Num is 49. The Visqol value is -0.9\n",
      "Dropout Num is 49. The Visqol value is -0.9\n",
      "There are 11025 packages\n",
      "After LUFS, the mixing ouput in the RMS, Total: -9.4dB, Clipping Ratio&Cliped Num: (0.0010941043083900228, 386)\n"
     ]
    },
    {
     "name": "stderr",
     "output_type": "stream",
     "text": [
      "/root/anaconda3/lib/python3.11/site-packages/pyloudnorm/normalize.py:62: UserWarning: Possible clipped samples in output.\n",
      "  warnings.warn(\"Possible clipped samples in output.\")\n"
     ]
    },
    {
     "name": "stdout",
     "output_type": "stream",
     "text": [
      "Dropout Num is 50. The Visqol value is -0.9\n",
      "Dropout Num is 50. The Visqol value is -0.9\n",
      "There are 11025 packages\n",
      "After LUFS, the mixing ouput in the RMS, Total: -9.4dB, Clipping Ratio&Cliped Num: (0.0010884353741496598, 384)\n"
     ]
    },
    {
     "name": "stderr",
     "output_type": "stream",
     "text": [
      "/root/anaconda3/lib/python3.11/site-packages/pyloudnorm/normalize.py:62: UserWarning: Possible clipped samples in output.\n",
      "  warnings.warn(\"Possible clipped samples in output.\")\n"
     ]
    },
    {
     "name": "stdout",
     "output_type": "stream",
     "text": [
      "Dropout Num is 51. The Visqol value is -0.88\n",
      "Dropout Num is 51. The Visqol value is -0.88\n",
      "There are 11025 packages\n",
      "After LUFS, the mixing ouput in the RMS, Total: -9.41dB, Clipping Ratio&Cliped Num: (0.0010884353741496598, 384)\n"
     ]
    },
    {
     "name": "stderr",
     "output_type": "stream",
     "text": [
      "/root/anaconda3/lib/python3.11/site-packages/pyloudnorm/normalize.py:62: UserWarning: Possible clipped samples in output.\n",
      "  warnings.warn(\"Possible clipped samples in output.\")\n"
     ]
    },
    {
     "name": "stdout",
     "output_type": "stream",
     "text": [
      "Dropout Num is 52. The Visqol value is -0.87\n",
      "Dropout Num is 52. The Visqol value is -0.87\n",
      "There are 11025 packages\n",
      "After LUFS, the mixing ouput in the RMS, Total: -9.39dB, Clipping Ratio&Cliped Num: (0.0010827664399092971, 382)\n"
     ]
    },
    {
     "name": "stderr",
     "output_type": "stream",
     "text": [
      "/root/anaconda3/lib/python3.11/site-packages/pyloudnorm/normalize.py:62: UserWarning: Possible clipped samples in output.\n",
      "  warnings.warn(\"Possible clipped samples in output.\")\n"
     ]
    },
    {
     "name": "stdout",
     "output_type": "stream",
     "text": [
      "Dropout Num is 53. The Visqol value is -0.82\n",
      "Dropout Num is 53. The Visqol value is -0.82\n",
      "There are 11025 packages\n",
      "After LUFS, the mixing ouput in the RMS, Total: -9.4dB, Clipping Ratio&Cliped Num: (0.0010884353741496598, 384)\n"
     ]
    },
    {
     "name": "stderr",
     "output_type": "stream",
     "text": [
      "/root/anaconda3/lib/python3.11/site-packages/pyloudnorm/normalize.py:62: UserWarning: Possible clipped samples in output.\n",
      "  warnings.warn(\"Possible clipped samples in output.\")\n"
     ]
    },
    {
     "name": "stdout",
     "output_type": "stream",
     "text": [
      "Dropout Num is 54. The Visqol value is -0.87\n",
      "Dropout Num is 54. The Visqol value is -0.87\n",
      "There are 11025 packages\n",
      "After LUFS, the mixing ouput in the RMS, Total: -9.41dB, Clipping Ratio&Cliped Num: (0.0010799319727891157, 381)\n"
     ]
    },
    {
     "name": "stderr",
     "output_type": "stream",
     "text": [
      "/root/anaconda3/lib/python3.11/site-packages/pyloudnorm/normalize.py:62: UserWarning: Possible clipped samples in output.\n",
      "  warnings.warn(\"Possible clipped samples in output.\")\n"
     ]
    },
    {
     "name": "stdout",
     "output_type": "stream",
     "text": [
      "Dropout Num is 55. The Visqol value is -0.88\n",
      "Dropout Num is 55. The Visqol value is -0.88\n",
      "There are 11025 packages\n",
      "After LUFS, the mixing ouput in the RMS, Total: -9.39dB, Clipping Ratio&Cliped Num: (0.0010941043083900228, 386)\n",
      "Dropout Num is 56. The Visqol value is -0.86\n"
     ]
    },
    {
     "name": "stderr",
     "output_type": "stream",
     "text": [
      "/root/anaconda3/lib/python3.11/site-packages/pyloudnorm/normalize.py:62: UserWarning: Possible clipped samples in output.\n",
      "  warnings.warn(\"Possible clipped samples in output.\")\n"
     ]
    },
    {
     "name": "stdout",
     "output_type": "stream",
     "text": [
      "Dropout Num is 56. The Visqol value is -0.86\n",
      "There are 11025 packages\n",
      "After LUFS, the mixing ouput in the RMS, Total: -9.4dB, Clipping Ratio&Cliped Num: (0.0010941043083900228, 386)\n"
     ]
    },
    {
     "name": "stderr",
     "output_type": "stream",
     "text": [
      "/root/anaconda3/lib/python3.11/site-packages/pyloudnorm/normalize.py:62: UserWarning: Possible clipped samples in output.\n",
      "  warnings.warn(\"Possible clipped samples in output.\")\n"
     ]
    },
    {
     "name": "stdout",
     "output_type": "stream",
     "text": [
      "Dropout Num is 57. The Visqol value is -0.97\n",
      "Dropout Num is 57. The Visqol value is -0.97\n",
      "There are 11025 packages\n",
      "After LUFS, the mixing ouput in the RMS, Total: -9.43dB, Clipping Ratio&Cliped Num: (0.0010515873015873017, 371)\n"
     ]
    },
    {
     "name": "stderr",
     "output_type": "stream",
     "text": [
      "/root/anaconda3/lib/python3.11/site-packages/pyloudnorm/normalize.py:62: UserWarning: Possible clipped samples in output.\n",
      "  warnings.warn(\"Possible clipped samples in output.\")\n"
     ]
    },
    {
     "name": "stdout",
     "output_type": "stream",
     "text": [
      "Dropout Num is 58. The Visqol value is -0.96\n",
      "Dropout Num is 58. The Visqol value is -0.96\n",
      "There are 11025 packages\n",
      "After LUFS, the mixing ouput in the RMS, Total: -9.4dB, Clipping Ratio&Cliped Num: (0.0010997732426303855, 388)\n"
     ]
    },
    {
     "name": "stderr",
     "output_type": "stream",
     "text": [
      "/root/anaconda3/lib/python3.11/site-packages/pyloudnorm/normalize.py:62: UserWarning: Possible clipped samples in output.\n",
      "  warnings.warn(\"Possible clipped samples in output.\")\n"
     ]
    },
    {
     "name": "stdout",
     "output_type": "stream",
     "text": [
      "Dropout Num is 59. The Visqol value is -0.92\n",
      "Dropout Num is 59. The Visqol value is -0.92\n",
      "There are 11025 packages\n",
      "After LUFS, the mixing ouput in the RMS, Total: -9.41dB, Clipping Ratio&Cliped Num: (0.0010941043083900228, 386)\n"
     ]
    },
    {
     "name": "stderr",
     "output_type": "stream",
     "text": [
      "/root/anaconda3/lib/python3.11/site-packages/pyloudnorm/normalize.py:62: UserWarning: Possible clipped samples in output.\n",
      "  warnings.warn(\"Possible clipped samples in output.\")\n"
     ]
    },
    {
     "name": "stdout",
     "output_type": "stream",
     "text": [
      "Dropout Num is 60. The Visqol value is -0.95\n",
      "Dropout Num is 60. The Visqol value is -0.95\n",
      "There are 11025 packages\n",
      "After LUFS, the mixing ouput in the RMS, Total: -9.41dB, Clipping Ratio&Cliped Num: (0.0010742630385487527, 379)\n"
     ]
    },
    {
     "name": "stderr",
     "output_type": "stream",
     "text": [
      "/root/anaconda3/lib/python3.11/site-packages/pyloudnorm/normalize.py:62: UserWarning: Possible clipped samples in output.\n",
      "  warnings.warn(\"Possible clipped samples in output.\")\n"
     ]
    },
    {
     "name": "stdout",
     "output_type": "stream",
     "text": [
      "Dropout Num is 61. The Visqol value is -0.94\n",
      "Dropout Num is 61. The Visqol value is -0.94\n",
      "There are 11025 packages\n",
      "After LUFS, the mixing ouput in the RMS, Total: -9.4dB, Clipping Ratio&Cliped Num: (0.0010912698412698413, 385)\n"
     ]
    },
    {
     "name": "stderr",
     "output_type": "stream",
     "text": [
      "/root/anaconda3/lib/python3.11/site-packages/pyloudnorm/normalize.py:62: UserWarning: Possible clipped samples in output.\n",
      "  warnings.warn(\"Possible clipped samples in output.\")\n"
     ]
    },
    {
     "name": "stdout",
     "output_type": "stream",
     "text": [
      "Dropout Num is 62. The Visqol value is -0.82\n",
      "Dropout Num is 62. The Visqol value is -0.82\n",
      "There are 11025 packages\n",
      "After LUFS, the mixing ouput in the RMS, Total: -9.4dB, Clipping Ratio&Cliped Num: (0.0010912698412698413, 385)\n",
      "Dropout Num is 63. The Visqol value is -0.97\n"
     ]
    },
    {
     "name": "stderr",
     "output_type": "stream",
     "text": [
      "/root/anaconda3/lib/python3.11/site-packages/pyloudnorm/normalize.py:62: UserWarning: Possible clipped samples in output.\n",
      "  warnings.warn(\"Possible clipped samples in output.\")\n"
     ]
    },
    {
     "name": "stdout",
     "output_type": "stream",
     "text": [
      "Dropout Num is 63. The Visqol value is -0.97\n",
      "There are 11025 packages\n",
      "After LUFS, the mixing ouput in the RMS, Total: -9.39dB, Clipping Ratio&Cliped Num: (0.0010856009070294784, 383)\n",
      "Dropout Num is 64. The Visqol value is -0.84\n"
     ]
    },
    {
     "name": "stderr",
     "output_type": "stream",
     "text": [
      "/root/anaconda3/lib/python3.11/site-packages/pyloudnorm/normalize.py:62: UserWarning: Possible clipped samples in output.\n",
      "  warnings.warn(\"Possible clipped samples in output.\")\n"
     ]
    },
    {
     "name": "stdout",
     "output_type": "stream",
     "text": [
      "Dropout Num is 64. The Visqol value is -0.84\n",
      "There are 11025 packages\n",
      "After LUFS, the mixing ouput in the RMS, Total: -9.4dB, Clipping Ratio&Cliped Num: (0.0010941043083900228, 386)\n"
     ]
    },
    {
     "name": "stderr",
     "output_type": "stream",
     "text": [
      "/root/anaconda3/lib/python3.11/site-packages/pyloudnorm/normalize.py:62: UserWarning: Possible clipped samples in output.\n",
      "  warnings.warn(\"Possible clipped samples in output.\")\n"
     ]
    },
    {
     "name": "stdout",
     "output_type": "stream",
     "text": [
      "Dropout Num is 65. The Visqol value is -0.92\n",
      "Dropout Num is 65. The Visqol value is -0.92\n",
      "There are 11025 packages\n",
      "After LUFS, the mixing ouput in the RMS, Total: -9.41dB, Clipping Ratio&Cliped Num: (0.0010714285714285715, 378)\n"
     ]
    },
    {
     "name": "stderr",
     "output_type": "stream",
     "text": [
      "/root/anaconda3/lib/python3.11/site-packages/pyloudnorm/normalize.py:62: UserWarning: Possible clipped samples in output.\n",
      "  warnings.warn(\"Possible clipped samples in output.\")\n"
     ]
    },
    {
     "name": "stdout",
     "output_type": "stream",
     "text": [
      "Dropout Num is 66. The Visqol value is -0.94\n",
      "Dropout Num is 66. The Visqol value is -0.94\n",
      "There are 11025 packages\n",
      "After LUFS, the mixing ouput in the RMS, Total: -9.4dB, Clipping Ratio&Cliped Num: (0.0010912698412698413, 385)\n"
     ]
    },
    {
     "name": "stderr",
     "output_type": "stream",
     "text": [
      "/root/anaconda3/lib/python3.11/site-packages/pyloudnorm/normalize.py:62: UserWarning: Possible clipped samples in output.\n",
      "  warnings.warn(\"Possible clipped samples in output.\")\n"
     ]
    },
    {
     "name": "stdout",
     "output_type": "stream",
     "text": [
      "Dropout Num is 67. The Visqol value is -0.97\n",
      "Dropout Num is 67. The Visqol value is -0.97\n",
      "There are 11025 packages\n",
      "After LUFS, the mixing ouput in the RMS, Total: -9.41dB, Clipping Ratio&Cliped Num: (0.0010912698412698413, 385)\n"
     ]
    },
    {
     "name": "stderr",
     "output_type": "stream",
     "text": [
      "/root/anaconda3/lib/python3.11/site-packages/pyloudnorm/normalize.py:62: UserWarning: Possible clipped samples in output.\n",
      "  warnings.warn(\"Possible clipped samples in output.\")\n"
     ]
    },
    {
     "name": "stdout",
     "output_type": "stream",
     "text": [
      "Dropout Num is 68. The Visqol value is -0.96\n",
      "Dropout Num is 68. The Visqol value is -0.96\n",
      "There are 11025 packages\n",
      "After LUFS, the mixing ouput in the RMS, Total: -9.4dB, Clipping Ratio&Cliped Num: (0.0010997732426303855, 388)\n"
     ]
    },
    {
     "name": "stderr",
     "output_type": "stream",
     "text": [
      "/root/anaconda3/lib/python3.11/site-packages/pyloudnorm/normalize.py:62: UserWarning: Possible clipped samples in output.\n",
      "  warnings.warn(\"Possible clipped samples in output.\")\n"
     ]
    },
    {
     "name": "stdout",
     "output_type": "stream",
     "text": [
      "Dropout Num is 69. The Visqol value is -0.88\n",
      "Dropout Num is 69. The Visqol value is -0.88\n",
      "There are 11025 packages\n",
      "After LUFS, the mixing ouput in the RMS, Total: -9.41dB, Clipping Ratio&Cliped Num: (0.0010884353741496598, 384)\n"
     ]
    },
    {
     "name": "stderr",
     "output_type": "stream",
     "text": [
      "/root/anaconda3/lib/python3.11/site-packages/pyloudnorm/normalize.py:62: UserWarning: Possible clipped samples in output.\n",
      "  warnings.warn(\"Possible clipped samples in output.\")\n"
     ]
    },
    {
     "name": "stdout",
     "output_type": "stream",
     "text": [
      "Dropout Num is 70. The Visqol value is -0.97\n",
      "Dropout Num is 70. The Visqol value is -0.97\n",
      "There are 11025 packages\n",
      "After LUFS, the mixing ouput in the RMS, Total: -9.41dB, Clipping Ratio&Cliped Num: (0.0010912698412698413, 385)\n"
     ]
    },
    {
     "name": "stderr",
     "output_type": "stream",
     "text": [
      "/root/anaconda3/lib/python3.11/site-packages/pyloudnorm/normalize.py:62: UserWarning: Possible clipped samples in output.\n",
      "  warnings.warn(\"Possible clipped samples in output.\")\n"
     ]
    },
    {
     "name": "stdout",
     "output_type": "stream",
     "text": [
      "Dropout Num is 71. The Visqol value is -0.94\n",
      "Dropout Num is 71. The Visqol value is -0.94\n",
      "There are 11025 packages\n",
      "After LUFS, the mixing ouput in the RMS, Total: -9.4dB, Clipping Ratio&Cliped Num: (0.0010941043083900228, 386)\n"
     ]
    },
    {
     "name": "stderr",
     "output_type": "stream",
     "text": [
      "/root/anaconda3/lib/python3.11/site-packages/pyloudnorm/normalize.py:62: UserWarning: Possible clipped samples in output.\n",
      "  warnings.warn(\"Possible clipped samples in output.\")\n"
     ]
    },
    {
     "name": "stdout",
     "output_type": "stream",
     "text": [
      "Dropout Num is 72. The Visqol value is -0.87\n",
      "Dropout Num is 72. The Visqol value is -0.87\n",
      "There are 11025 packages\n",
      "After LUFS, the mixing ouput in the RMS, Total: -9.42dB, Clipping Ratio&Cliped Num: (0.0010770975056689342, 380)\n"
     ]
    },
    {
     "name": "stderr",
     "output_type": "stream",
     "text": [
      "/root/anaconda3/lib/python3.11/site-packages/pyloudnorm/normalize.py:62: UserWarning: Possible clipped samples in output.\n",
      "  warnings.warn(\"Possible clipped samples in output.\")\n"
     ]
    },
    {
     "name": "stdout",
     "output_type": "stream",
     "text": [
      "Dropout Num is 73. The Visqol value is -0.91\n",
      "Dropout Num is 73. The Visqol value is -0.91\n",
      "There are 11025 packages\n",
      "After LUFS, the mixing ouput in the RMS, Total: -9.41dB, Clipping Ratio&Cliped Num: (0.0010204081632653062, 360)\n",
      "Dropout Num is 74. The Visqol value is -0.88\n"
     ]
    },
    {
     "name": "stderr",
     "output_type": "stream",
     "text": [
      "/root/anaconda3/lib/python3.11/site-packages/pyloudnorm/normalize.py:62: UserWarning: Possible clipped samples in output.\n",
      "  warnings.warn(\"Possible clipped samples in output.\")\n"
     ]
    },
    {
     "name": "stdout",
     "output_type": "stream",
     "text": [
      "Dropout Num is 74. The Visqol value is -0.88\n",
      "There are 11025 packages\n",
      "After LUFS, the mixing ouput in the RMS, Total: -9.4dB, Clipping Ratio&Cliped Num: (0.0010941043083900228, 386)\n"
     ]
    },
    {
     "name": "stderr",
     "output_type": "stream",
     "text": [
      "/root/anaconda3/lib/python3.11/site-packages/pyloudnorm/normalize.py:62: UserWarning: Possible clipped samples in output.\n",
      "  warnings.warn(\"Possible clipped samples in output.\")\n"
     ]
    },
    {
     "name": "stdout",
     "output_type": "stream",
     "text": [
      "Dropout Num is 75. The Visqol value is -0.87\n",
      "Dropout Num is 75. The Visqol value is -0.87\n",
      "There are 11025 packages\n",
      "After LUFS, the mixing ouput in the RMS, Total: -9.4dB, Clipping Ratio&Cliped Num: (0.0010941043083900228, 386)\n",
      "Dropout Num is 76. The Visqol value is -1.01\n"
     ]
    },
    {
     "name": "stderr",
     "output_type": "stream",
     "text": [
      "/root/anaconda3/lib/python3.11/site-packages/pyloudnorm/normalize.py:62: UserWarning: Possible clipped samples in output.\n",
      "  warnings.warn(\"Possible clipped samples in output.\")\n"
     ]
    },
    {
     "name": "stdout",
     "output_type": "stream",
     "text": [
      "Dropout Num is 76. The Visqol value is -1.01\n",
      "There are 11025 packages\n",
      "After LUFS, the mixing ouput in the RMS, Total: -9.41dB, Clipping Ratio&Cliped Num: (0.0010147392290249433, 358)\n"
     ]
    },
    {
     "name": "stderr",
     "output_type": "stream",
     "text": [
      "/root/anaconda3/lib/python3.11/site-packages/pyloudnorm/normalize.py:62: UserWarning: Possible clipped samples in output.\n",
      "  warnings.warn(\"Possible clipped samples in output.\")\n"
     ]
    },
    {
     "name": "stdout",
     "output_type": "stream",
     "text": [
      "Dropout Num is 77. The Visqol value is -0.97\n",
      "Dropout Num is 77. The Visqol value is -0.97\n",
      "There are 11025 packages\n",
      "After LUFS, the mixing ouput in the RMS, Total: -9.4dB, Clipping Ratio&Cliped Num: (0.0010941043083900228, 386)\n"
     ]
    },
    {
     "name": "stderr",
     "output_type": "stream",
     "text": [
      "/root/anaconda3/lib/python3.11/site-packages/pyloudnorm/normalize.py:62: UserWarning: Possible clipped samples in output.\n",
      "  warnings.warn(\"Possible clipped samples in output.\")\n"
     ]
    },
    {
     "name": "stdout",
     "output_type": "stream",
     "text": [
      "Dropout Num is 78. The Visqol value is -0.92\n",
      "Dropout Num is 78. The Visqol value is -0.92\n",
      "There are 11025 packages\n",
      "After LUFS, the mixing ouput in the RMS, Total: -9.41dB, Clipping Ratio&Cliped Num: (0.0010799319727891157, 381)\n",
      "Dropout Num is 79. The Visqol value is -0.92\n"
     ]
    },
    {
     "name": "stderr",
     "output_type": "stream",
     "text": [
      "/root/anaconda3/lib/python3.11/site-packages/pyloudnorm/normalize.py:62: UserWarning: Possible clipped samples in output.\n",
      "  warnings.warn(\"Possible clipped samples in output.\")\n"
     ]
    },
    {
     "name": "stdout",
     "output_type": "stream",
     "text": [
      "Dropout Num is 79. The Visqol value is -0.92\n",
      "There are 11025 packages\n",
      "After LUFS, the mixing ouput in the RMS, Total: -9.42dB, Clipping Ratio&Cliped Num: (0.0010770975056689342, 380)\n"
     ]
    },
    {
     "name": "stderr",
     "output_type": "stream",
     "text": [
      "/root/anaconda3/lib/python3.11/site-packages/pyloudnorm/normalize.py:62: UserWarning: Possible clipped samples in output.\n",
      "  warnings.warn(\"Possible clipped samples in output.\")\n"
     ]
    },
    {
     "name": "stdout",
     "output_type": "stream",
     "text": [
      "Dropout Num is 80. The Visqol value is -0.93\n",
      "Dropout Num is 80. The Visqol value is -0.93\n",
      "There are 11025 packages\n",
      "After LUFS, the mixing ouput in the RMS, Total: -9.4dB, Clipping Ratio&Cliped Num: (0.0010912698412698413, 385)\n"
     ]
    },
    {
     "name": "stderr",
     "output_type": "stream",
     "text": [
      "/root/anaconda3/lib/python3.11/site-packages/pyloudnorm/normalize.py:62: UserWarning: Possible clipped samples in output.\n",
      "  warnings.warn(\"Possible clipped samples in output.\")\n"
     ]
    },
    {
     "name": "stdout",
     "output_type": "stream",
     "text": [
      "Dropout Num is 81. The Visqol value is -0.97\n",
      "Dropout Num is 81. The Visqol value is -0.97\n",
      "There are 11025 packages\n",
      "After LUFS, the mixing ouput in the RMS, Total: -9.4dB, Clipping Ratio&Cliped Num: (0.0010997732426303855, 388)\n"
     ]
    },
    {
     "name": "stderr",
     "output_type": "stream",
     "text": [
      "/root/anaconda3/lib/python3.11/site-packages/pyloudnorm/normalize.py:62: UserWarning: Possible clipped samples in output.\n",
      "  warnings.warn(\"Possible clipped samples in output.\")\n"
     ]
    },
    {
     "name": "stdout",
     "output_type": "stream",
     "text": [
      "Dropout Num is 82. The Visqol value is -0.94\n",
      "Dropout Num is 82. The Visqol value is -0.94\n",
      "There are 11025 packages\n",
      "After LUFS, the mixing ouput in the RMS, Total: -9.41dB, Clipping Ratio&Cliped Num: (0.0010912698412698413, 385)\n",
      "Dropout Num is 83. The Visqol value is -1.02\n"
     ]
    },
    {
     "name": "stderr",
     "output_type": "stream",
     "text": [
      "/root/anaconda3/lib/python3.11/site-packages/pyloudnorm/normalize.py:62: UserWarning: Possible clipped samples in output.\n",
      "  warnings.warn(\"Possible clipped samples in output.\")\n"
     ]
    },
    {
     "name": "stdout",
     "output_type": "stream",
     "text": [
      "Dropout Num is 83. The Visqol value is -1.02\n",
      "There are 11025 packages\n",
      "After LUFS, the mixing ouput in the RMS, Total: -9.4dB, Clipping Ratio&Cliped Num: (0.0010941043083900228, 386)\n"
     ]
    },
    {
     "name": "stderr",
     "output_type": "stream",
     "text": [
      "/root/anaconda3/lib/python3.11/site-packages/pyloudnorm/normalize.py:62: UserWarning: Possible clipped samples in output.\n",
      "  warnings.warn(\"Possible clipped samples in output.\")\n"
     ]
    },
    {
     "name": "stdout",
     "output_type": "stream",
     "text": [
      "Dropout Num is 84. The Visqol value is -0.91\n",
      "Dropout Num is 84. The Visqol value is -0.91\n",
      "There are 11025 packages\n",
      "After LUFS, the mixing ouput in the RMS, Total: -9.41dB, Clipping Ratio&Cliped Num: (0.0010827664399092971, 382)\n"
     ]
    },
    {
     "name": "stderr",
     "output_type": "stream",
     "text": [
      "/root/anaconda3/lib/python3.11/site-packages/pyloudnorm/normalize.py:62: UserWarning: Possible clipped samples in output.\n",
      "  warnings.warn(\"Possible clipped samples in output.\")\n"
     ]
    },
    {
     "name": "stdout",
     "output_type": "stream",
     "text": [
      "Dropout Num is 85. The Visqol value is -1.03\n",
      "Dropout Num is 85. The Visqol value is -1.03\n",
      "There are 11025 packages\n",
      "After LUFS, the mixing ouput in the RMS, Total: -9.41dB, Clipping Ratio&Cliped Num: (0.0010119047619047618, 357)\n"
     ]
    },
    {
     "name": "stderr",
     "output_type": "stream",
     "text": [
      "/root/anaconda3/lib/python3.11/site-packages/pyloudnorm/normalize.py:62: UserWarning: Possible clipped samples in output.\n",
      "  warnings.warn(\"Possible clipped samples in output.\")\n"
     ]
    },
    {
     "name": "stdout",
     "output_type": "stream",
     "text": [
      "Dropout Num is 86. The Visqol value is -0.98\n",
      "Dropout Num is 86. The Visqol value is -0.98\n",
      "There are 11025 packages\n",
      "After LUFS, the mixing ouput in the RMS, Total: -9.41dB, Clipping Ratio&Cliped Num: (0.0010827664399092971, 382)\n",
      "Dropout Num is 87. The Visqol value is -0.98\n"
     ]
    },
    {
     "name": "stderr",
     "output_type": "stream",
     "text": [
      "/root/anaconda3/lib/python3.11/site-packages/pyloudnorm/normalize.py:62: UserWarning: Possible clipped samples in output.\n",
      "  warnings.warn(\"Possible clipped samples in output.\")\n"
     ]
    },
    {
     "name": "stdout",
     "output_type": "stream",
     "text": [
      "Dropout Num is 87. The Visqol value is -0.98\n",
      "There are 11025 packages\n",
      "After LUFS, the mixing ouput in the RMS, Total: -9.41dB, Clipping Ratio&Cliped Num: (0.0010912698412698413, 385)\n"
     ]
    },
    {
     "name": "stderr",
     "output_type": "stream",
     "text": [
      "/root/anaconda3/lib/python3.11/site-packages/pyloudnorm/normalize.py:62: UserWarning: Possible clipped samples in output.\n",
      "  warnings.warn(\"Possible clipped samples in output.\")\n"
     ]
    },
    {
     "name": "stdout",
     "output_type": "stream",
     "text": [
      "Dropout Num is 88. The Visqol value is -0.93\n",
      "Dropout Num is 88. The Visqol value is -0.93\n",
      "There are 11025 packages\n",
      "After LUFS, the mixing ouput in the RMS, Total: -9.4dB, Clipping Ratio&Cliped Num: (0.0010941043083900228, 386)\n"
     ]
    },
    {
     "name": "stderr",
     "output_type": "stream",
     "text": [
      "/root/anaconda3/lib/python3.11/site-packages/pyloudnorm/normalize.py:62: UserWarning: Possible clipped samples in output.\n",
      "  warnings.warn(\"Possible clipped samples in output.\")\n"
     ]
    },
    {
     "name": "stdout",
     "output_type": "stream",
     "text": [
      "Dropout Num is 89. The Visqol value is -0.94\n",
      "Dropout Num is 89. The Visqol value is -0.94\n",
      "There are 11025 packages\n",
      "After LUFS, the mixing ouput in the RMS, Total: -9.4dB, Clipping Ratio&Cliped Num: (0.0010997732426303855, 388)\n"
     ]
    },
    {
     "name": "stderr",
     "output_type": "stream",
     "text": [
      "/root/anaconda3/lib/python3.11/site-packages/pyloudnorm/normalize.py:62: UserWarning: Possible clipped samples in output.\n",
      "  warnings.warn(\"Possible clipped samples in output.\")\n"
     ]
    },
    {
     "name": "stdout",
     "output_type": "stream",
     "text": [
      "Dropout Num is 90. The Visqol value is -0.9\n",
      "Dropout Num is 90. The Visqol value is -0.9\n",
      "There are 11025 packages\n",
      "After LUFS, the mixing ouput in the RMS, Total: -9.4dB, Clipping Ratio&Cliped Num: (0.0010997732426303855, 388)\n",
      "Dropout Num is 91. The Visqol value is -1.01\n"
     ]
    },
    {
     "name": "stderr",
     "output_type": "stream",
     "text": [
      "/root/anaconda3/lib/python3.11/site-packages/pyloudnorm/normalize.py:62: UserWarning: Possible clipped samples in output.\n",
      "  warnings.warn(\"Possible clipped samples in output.\")\n"
     ]
    },
    {
     "name": "stdout",
     "output_type": "stream",
     "text": [
      "Dropout Num is 91. The Visqol value is -1.01\n",
      "There are 11025 packages\n",
      "After LUFS, the mixing ouput in the RMS, Total: -9.41dB, Clipping Ratio&Cliped Num: (0.001096938775510204, 387)\n"
     ]
    },
    {
     "name": "stderr",
     "output_type": "stream",
     "text": [
      "/root/anaconda3/lib/python3.11/site-packages/pyloudnorm/normalize.py:62: UserWarning: Possible clipped samples in output.\n",
      "  warnings.warn(\"Possible clipped samples in output.\")\n"
     ]
    },
    {
     "name": "stdout",
     "output_type": "stream",
     "text": [
      "Dropout Num is 92. The Visqol value is -0.99\n",
      "Dropout Num is 92. The Visqol value is -0.99\n",
      "There are 11025 packages\n",
      "After LUFS, the mixing ouput in the RMS, Total: -9.39dB, Clipping Ratio&Cliped Num: (0.0010997732426303855, 388)\n",
      "Dropout Num is 93. The Visqol value is -0.85\n"
     ]
    },
    {
     "name": "stderr",
     "output_type": "stream",
     "text": [
      "/root/anaconda3/lib/python3.11/site-packages/pyloudnorm/normalize.py:62: UserWarning: Possible clipped samples in output.\n",
      "  warnings.warn(\"Possible clipped samples in output.\")\n"
     ]
    },
    {
     "name": "stdout",
     "output_type": "stream",
     "text": [
      "Dropout Num is 93. The Visqol value is -0.85\n",
      "There are 11025 packages\n",
      "After LUFS, the mixing ouput in the RMS, Total: -9.42dB, Clipping Ratio&Cliped Num: (0.0010204081632653062, 360)\n"
     ]
    },
    {
     "name": "stderr",
     "output_type": "stream",
     "text": [
      "/root/anaconda3/lib/python3.11/site-packages/pyloudnorm/normalize.py:62: UserWarning: Possible clipped samples in output.\n",
      "  warnings.warn(\"Possible clipped samples in output.\")\n"
     ]
    },
    {
     "name": "stdout",
     "output_type": "stream",
     "text": [
      "Dropout Num is 94. The Visqol value is -0.88\n",
      "Dropout Num is 94. The Visqol value is -0.88\n",
      "There are 11025 packages\n",
      "After LUFS, the mixing ouput in the RMS, Total: -9.41dB, Clipping Ratio&Cliped Num: (0.0010941043083900228, 386)\n"
     ]
    },
    {
     "name": "stderr",
     "output_type": "stream",
     "text": [
      "/root/anaconda3/lib/python3.11/site-packages/pyloudnorm/normalize.py:62: UserWarning: Possible clipped samples in output.\n",
      "  warnings.warn(\"Possible clipped samples in output.\")\n"
     ]
    },
    {
     "name": "stdout",
     "output_type": "stream",
     "text": [
      "Dropout Num is 95. The Visqol value is -1.0\n",
      "Dropout Num is 95. The Visqol value is -1.0\n",
      "There are 11025 packages\n",
      "After LUFS, the mixing ouput in the RMS, Total: -9.41dB, Clipping Ratio&Cliped Num: (0.001096938775510204, 387)\n"
     ]
    },
    {
     "name": "stderr",
     "output_type": "stream",
     "text": [
      "/root/anaconda3/lib/python3.11/site-packages/pyloudnorm/normalize.py:62: UserWarning: Possible clipped samples in output.\n",
      "  warnings.warn(\"Possible clipped samples in output.\")\n"
     ]
    },
    {
     "name": "stdout",
     "output_type": "stream",
     "text": [
      "Dropout Num is 96. The Visqol value is -0.96\n",
      "Dropout Num is 96. The Visqol value is -0.96\n",
      "There are 11025 packages\n",
      "After LUFS, the mixing ouput in the RMS, Total: -9.4dB, Clipping Ratio&Cliped Num: (0.0010997732426303855, 388)\n"
     ]
    },
    {
     "name": "stderr",
     "output_type": "stream",
     "text": [
      "/root/anaconda3/lib/python3.11/site-packages/pyloudnorm/normalize.py:62: UserWarning: Possible clipped samples in output.\n",
      "  warnings.warn(\"Possible clipped samples in output.\")\n"
     ]
    },
    {
     "name": "stdout",
     "output_type": "stream",
     "text": [
      "Dropout Num is 97. The Visqol value is -0.89\n",
      "Dropout Num is 97. The Visqol value is -0.89\n",
      "There are 11025 packages\n",
      "After LUFS, the mixing ouput in the RMS, Total: -9.4dB, Clipping Ratio&Cliped Num: (0.0010997732426303855, 388)\n"
     ]
    },
    {
     "name": "stderr",
     "output_type": "stream",
     "text": [
      "/root/anaconda3/lib/python3.11/site-packages/pyloudnorm/normalize.py:62: UserWarning: Possible clipped samples in output.\n",
      "  warnings.warn(\"Possible clipped samples in output.\")\n"
     ]
    },
    {
     "name": "stdout",
     "output_type": "stream",
     "text": [
      "Dropout Num is 98. The Visqol value is -0.93\n",
      "Dropout Num is 98. The Visqol value is -0.93\n",
      "There are 11025 packages\n",
      "After LUFS, the mixing ouput in the RMS, Total: -9.41dB, Clipping Ratio&Cliped Num: (0.0010487528344671202, 370)\n"
     ]
    },
    {
     "name": "stderr",
     "output_type": "stream",
     "text": [
      "/root/anaconda3/lib/python3.11/site-packages/pyloudnorm/normalize.py:62: UserWarning: Possible clipped samples in output.\n",
      "  warnings.warn(\"Possible clipped samples in output.\")\n"
     ]
    },
    {
     "name": "stdout",
     "output_type": "stream",
     "text": [
      "Dropout Num is 99. The Visqol value is -0.95\n",
      "Dropout Num is 99. The Visqol value is -0.95\n"
     ]
    }
   ],
   "source": [
    "##Loading the necessary Package\n",
    "import argbind\n",
    "import torch\n",
    "from audiotools import AudioSignal\n",
    "from audiotools import metrics\n",
    "\n",
    "Noise_Generator_MP3_48k_16bit = SignalProcessorClass(filename=\"mixture.wav\", foldpath=Mixing_Path_48k_16bit, TrackType = NEUtil.MixingType.File,bitdepth=\"PCM_16\")\n",
    "Referece_File_48k_16bit = Noise_Generator_MP3_48k_16bit.TestNoisedOnlyFile([0,0,0,0],\"Reference.wav\")\n",
    "Mp3_Referece_File_48k_16bit = Noise_Generator_MP3_48k_16bit.GeneratingMP3RefFile(Referece_File_48k_16bit, bitrate)\n",
    "AudioFold_48k_16bit = Mixing_Path_48k_16bit + '/Mixing_Result_Mp3_Wav/'\n",
    "Reference_48k_16bit = AudioSignal(Referece_File_48k_16bit)\n",
    "Mp3_Referece_48k_16bit = AudioSignal(Mp3_Referece_File_48k_16bit)\n",
    "\n",
    "data_point_alterHN_visqol_48k_16bit = []\n",
    "data_point_alterHN_visqol_mp3_48k_16bit = []\n",
    "for x in range(1,100):\n",
    "    filename = f\"Audio_Mixing_HN{str(x)}.wav\"\n",
    "    HN_Gener_Audio = Noise_Generator_MP3_48k_16bit.TestNoisedOnlyFile([x,0,0,0],filename)\n",
    "    HN_Gener_Audio_mp3 = Noise_Generator_MP3_48k_16bit.GeneratingMP3RefFile(HN_Gener_Audio, 64)\n",
    "    HN_Gener_Audio_vis = AudioSignal(HN_Gener_Audio_mp3)  \n",
    "    Visqol_score = metrics.quality.visqol(Reference_48k_16bit, HN_Gener_Audio_vis).numpy()\n",
    "    mp3_Visqol_score = metrics.quality.visqol(Mp3_Referece_48k_16bit, HN_Gener_Audio_vis).numpy()\n",
    "    ODG_score = round(float(Visqol_score-5),2)\n",
    "    mp3_ODG_score = round(float(mp3_Visqol_score-5),2) \n",
    "    print(f\"HumNoise is {x}dB. The Visqol value is {ODG_score}\")\n",
    "    print(f\"Hum is {x}dB. The Visqol_mp3 value is {mp3_ODG_score}\")\n",
    "    data_point_alterHN_visqol_48k_16bit.append(ODG_score)\n",
    "    data_point_alterHN_visqol_mp3_48k_16bit.append(mp3_ODG_score)\n",
    "\n",
    "data_point_alterWN_visqol_48k_16bit = []\n",
    "data_point_alterWN_visqol_mp3_48k_16bit = []\n",
    "for x in range(1,100):\n",
    "    filename = f\"Audio_Mixing_WN{str(x)}.wav\"\n",
    "    WN_Gener_Audio = Noise_Generator_MP3_48k_16bit.TestNoisedOnlyFile([0,x,0,0],filename)\n",
    "    WN_Gener_Audio_mp3 = Noise_Generator_MP3_48k_16bit.GeneratingMP3RefFile(WN_Gener_Audio, 64)\n",
    "    WN_Gener_Audio_vis = AudioSignal(WN_Gener_Audio_mp3) \n",
    "#    WN_Gener_Audio_vis = AudioSignal(AudioFold_48k_16bit+filename)\n",
    "    Visqol_score = metrics.quality.visqol(Reference_48k_16bit, WN_Gener_Audio_vis).numpy()\n",
    "    mp3_Visqol_score = metrics.quality.visqol(Mp3_Referece_48k_16bit, WN_Gener_Audio_vis).numpy()\n",
    "    ODG_score = round(float(Visqol_score-5),2)\n",
    "    mp3_ODG_score = round(float(mp3_Visqol_score-5),2) \n",
    "    print(f\"WhiteNoise is {x}dB. The Visqol value is {ODG_score}\")\n",
    "    data_point_alterWN_visqol_48k_16bit.append(ODG_score)\n",
    "    print(f\"WhiteNoise is {x}dB. The Visqol value is {mp3_ODG_score}\")\n",
    "    data_point_alterWN_visqol_mp3_48k_16bit.append(mp3_ODG_score)\n",
    "\n",
    "\n",
    "data_point_alterCP_visqol_48k_16bit = []\n",
    "data_point_alterCP_visqol_mp3_48k_16bit = []\n",
    "for x in range(1,100):\n",
    "    filename = f\"Audio_Mixing_CP{str(x)}.wav\"\n",
    "    CP_Gener_Audio = Noise_Generator_MP3_48k_16bit.TestNoisedOnlyFile([0,0,x,0],filename)\n",
    "    CP_Gener_Audio_mp3 = Noise_Generator_MP3_48k_16bit.GeneratingMP3RefFile(CP_Gener_Audio, 64)\n",
    "    CP_Gener_Audio_vis = AudioSignal(CP_Gener_Audio_mp3)\n",
    "#    CP_Gener_Audio_vis = AudioSignal(AudioFold_48k_16bit+filename)\n",
    "    Visqol_score = metrics.quality.visqol(Reference_48k_16bit, CP_Gener_Audio_vis).numpy()\n",
    "    ODG_score = round(float(Visqol_score- 5),2) \n",
    "    print(f\"Clipping percentage is {x}%. The Visqol value is {ODG_score}\")\n",
    "    data_point_alterCP_visqol_48k_16bit.append(ODG_score)\n",
    "    mp3_Visqol_score = metrics.quality.visqol(Mp3_Referece_48k_16bit, CP_Gener_Audio_vis).numpy()\n",
    "    mp3_ODG_score = round(float(mp3_Visqol_score- 5),2) \n",
    "    print(f\"Clipping percentage is {x}%. The Visqol value is {ODG_score}\")\n",
    "    data_point_alterCP_visqol_mp3_48k_16bit.append(mp3_ODG_score)\n",
    "\n",
    "\n",
    "data_point_alterDO_visqol_48k_16bit = []\n",
    "data_point_alterDO_visqol_mp3_48k_16bit = []\n",
    "for x in range(1,100):\n",
    "    filename = f\"Audio_Mixing_DO{str(x)}.wav\"\n",
    "    DO_Gener_Audio = Noise_Generator_MP3_48k_16bit.TestNoisedOnlyFile([0,0,0,x],filename)\n",
    "    DO_Gener_Audio_mp3 = Noise_Generator_MP3_48k_16bit.GeneratingMP3RefFile(DO_Gener_Audio, 64)\n",
    "    DO_Gener_Audio_vis = AudioSignal(DO_Gener_Audio_mp3)    \n",
    "#    DO_Gener_Audio_vis = AudioSignal(AudioFold_48k_16bit+filename)\n",
    "    Visqol_score = metrics.quality.visqol(Reference_48k_16bit, DO_Gener_Audio_vis).numpy()\n",
    "    ODG_score = round(float(Visqol_score- 5),2)\n",
    "    print(f\"Dropout Num is {x}. The Visqol value is {ODG_score}\")\n",
    "#    AK_R_score = round(CaculateAK_roughness(fileUrl),2)\n",
    "    data_point_alterDO_visqol_48k_16bit.append(ODG_score)\n",
    "    mp3_Visqol_score = metrics.quality.visqol(Mp3_Referece_48k_16bit, DO_Gener_Audio_vis).numpy()\n",
    "    mp3_ODG_score = round(float(mp3_Visqol_score- 5),2)\n",
    "    print(f\"Dropout Num is {x}. The Visqol value is {mp3_Visqol_score}\")\n",
    "#    AK_R_score = round(CaculateAK_roughness(fileUrl),2)\n",
    "    data_point_alterDO_visqol_mp3_48k_16bit.append(mp3_ODG_score)\n",
    "\n",
    "\n",
    "df_HN_vis_48k_16bit = pd.DataFrame({'Hum SNR': np.arange(1,100,1), 'score': data_point_alterHN_visqol_48k_16bit})\n",
    "df_HN_vis_48k_16bit = df_HN_vis_48k_16bit.apply(pd.to_numeric, errors='coerce')\n",
    "df_WN_vis_48k_16bit = pd.DataFrame({'WhiteNoise SNR': np.arange(1,100,1), 'score': data_point_alterWN_visqol_48k_16bit})\n",
    "df_WN_vis_48k_16bit = df_WN_vis_48k_16bit.apply(pd.to_numeric, errors='coerce')\n",
    "df_CP_vis_48k_16bit = pd.DataFrame({'Clipping Percentage(%)': np.arange(1,100,1), 'score': data_point_alterCP_visqol_48k_16bit})\n",
    "df_CP_vis_48k_16bit = df_CP_vis_48k_16bit.apply(pd.to_numeric, errors='coerce')\n",
    "df_DO_vis_48k_16bit = pd.DataFrame({'Dropout Num': np.arange(1,100,1), 'score': data_point_alterDO_visqol_48k_16bit})\n",
    "df_DO_vis_48k_16bit = df_DO_vis_48k_16bit.apply(pd.to_numeric, errors='coerce')\n",
    "df_HN_vis_mp3_48k_16bit = pd.DataFrame({'Hum SNR': np.arange(1,100,1), 'score': data_point_alterHN_visqol_mp3_48k_16bit})\n",
    "df_HN_vis_mp3_48k_16bit = df_HN_vis_mp3_48k_16bit.apply(pd.to_numeric, errors='coerce')\n",
    "df_WN_vis_mp3_48k_16bit = pd.DataFrame({'WhiteNoise SNR': np.arange(1,100,1), 'score': data_point_alterWN_visqol_mp3_48k_16bit})\n",
    "df_WN_vis_mp3_48k_16bit = df_WN_vis_mp3_48k_16bit.apply(pd.to_numeric, errors='coerce')\n",
    "df_CP_vis_mp3_48k_16bit = pd.DataFrame({'Clipping Percentage(%)': np.arange(1,100,1), 'score': data_point_alterCP_visqol_mp3_48k_16bit})\n",
    "df_CP_vis_mp3_48k_16bit = df_CP_vis_mp3_48k_16bit.apply(pd.to_numeric, errors='coerce')\n",
    "df_DO_vis_mp3_48k_16bit = pd.DataFrame({'Dropout Num': np.arange(1,100,1), 'score': data_point_alterDO_visqol_mp3_48k_16bit})\n",
    "df_DO_vis_mp3_48k_16bit = df_DO_vis_mp3_48k_16bit.apply(pd.to_numeric, errors='coerce')\n",
    "# Combine the dataframes vertically (stacked on top of each other)\n",
    "combined_df = pd.concat([df_HN_vis_48k_16bit, df_WN_vis_48k_16bit, df_CP_vis_48k_16bit, df_DO_vis_48k_16bit, df_HN_vis_mp3_48k_16bit, df_WN_vis_mp3_48k_16bit,df_CP_vis_mp3_48k_16bit,df_DO_vis_mp3_48k_16bit], axis=1)\n",
    "# Output to CSV\n",
    "##First Four Columns is vs Wav, rest four columns is vs mp3\n",
    "combined_df.to_csv(f'{Mixing_Path_48k_16bit}/visqol_ind.csv', index=False)"
   ]
  },
  {
   "cell_type": "markdown",
   "id": "c189490d-cfe7-425b-bb47-3a069b557561",
   "metadata": {},
   "source": [
    "### HAAQI"
   ]
  },
  {
   "cell_type": "code",
   "execution_count": 8,
   "id": "16001a21-293e-46f5-907f-307dc96ae026",
   "metadata": {},
   "outputs": [],
   "source": [
    "import clarity\n",
    "import clarity.evaluator.haaqi as haaqi\n",
    "import librosa"
   ]
  },
  {
   "cell_type": "code",
   "execution_count": 9,
   "id": "20db05a3-63bf-44ec-b8f0-b05dc0b52c02",
   "metadata": {},
   "outputs": [],
   "source": [
    "from clarity.utils.audiogram import Audiogram\n",
    "levels_1 = np.array([0, 0, 0, 0, 0, 0, 0, 0])\n",
    "audiogram_NH = Audiogram(levels=levels_1)"
   ]
  },
  {
   "cell_type": "code",
   "execution_count": 10,
   "id": "e5c8e7b3-b4ce-4b9b-a531-7e1ed24ab130",
   "metadata": {
    "scrolled": true
   },
   "outputs": [
    {
     "name": "stdout",
     "output_type": "stream",
     "text": [
      "Audio duration orginal is 41.85414965986394 seconds, now is the 8.0, the audio changing to the MONO\n",
      "After LUFS, the mixing ouput in the RMS, Total: -9.39dB, Clipping Ratio&Cliped Num: (0.0010799319727891157, 381)\n",
      "file now ready\n",
      "After LUFS, the mixing ouput in the RMS, Total: -9.0dB, Clipping Ratio&Cliped Num: (0.0004138321995464853, 146)\n"
     ]
    },
    {
     "name": "stderr",
     "output_type": "stream",
     "text": [
      "/root/anaconda3/lib/python3.11/site-packages/pyloudnorm/normalize.py:62: UserWarning: Possible clipped samples in output.\n",
      "  warnings.warn(\"Possible clipped samples in output.\")\n",
      "/root/anaconda3/lib/python3.11/site-packages/pyloudnorm/normalize.py:62: UserWarning: Possible clipped samples in output.\n",
      "  warnings.warn(\"Possible clipped samples in output.\")\n"
     ]
    },
    {
     "name": "stdout",
     "output_type": "stream",
     "text": [
      "HumNoise is 1dB. The HAAQI value is 0.18\n",
      "HumNoise is 1dB. The HAAQI value is 0.55\n",
      "After LUFS, the mixing ouput in the RMS, Total: -9.05dB, Clipping Ratio&Cliped Num: (0.0005158730158730159, 182)\n"
     ]
    },
    {
     "name": "stderr",
     "output_type": "stream",
     "text": [
      "/root/anaconda3/lib/python3.11/site-packages/pyloudnorm/normalize.py:62: UserWarning: Possible clipped samples in output.\n",
      "  warnings.warn(\"Possible clipped samples in output.\")\n"
     ]
    },
    {
     "name": "stdout",
     "output_type": "stream",
     "text": [
      "HumNoise is 2dB. The HAAQI value is 0.19\n",
      "HumNoise is 2dB. The HAAQI value is 0.57\n",
      "After LUFS, the mixing ouput in the RMS, Total: -9.11dB, Clipping Ratio&Cliped Num: (0.0006065759637188208, 214)\n"
     ]
    },
    {
     "name": "stderr",
     "output_type": "stream",
     "text": [
      "/root/anaconda3/lib/python3.11/site-packages/pyloudnorm/normalize.py:62: UserWarning: Possible clipped samples in output.\n",
      "  warnings.warn(\"Possible clipped samples in output.\")\n"
     ]
    },
    {
     "name": "stdout",
     "output_type": "stream",
     "text": [
      "HumNoise is 3dB. The HAAQI value is 0.19\n",
      "HumNoise is 3dB. The HAAQI value is 0.59\n",
      "After LUFS, the mixing ouput in the RMS, Total: -9.15dB, Clipping Ratio&Cliped Num: (0.0006859410430839002, 242)\n"
     ]
    },
    {
     "name": "stderr",
     "output_type": "stream",
     "text": [
      "/root/anaconda3/lib/python3.11/site-packages/pyloudnorm/normalize.py:62: UserWarning: Possible clipped samples in output.\n",
      "  warnings.warn(\"Possible clipped samples in output.\")\n"
     ]
    },
    {
     "name": "stdout",
     "output_type": "stream",
     "text": [
      "HumNoise is 4dB. The HAAQI value is 0.19\n",
      "HumNoise is 4dB. The HAAQI value is 0.58\n",
      "After LUFS, the mixing ouput in the RMS, Total: -9.19dB, Clipping Ratio&Cliped Num: (0.0007341269841269841, 259)\n"
     ]
    },
    {
     "name": "stderr",
     "output_type": "stream",
     "text": [
      "/root/anaconda3/lib/python3.11/site-packages/pyloudnorm/normalize.py:62: UserWarning: Possible clipped samples in output.\n",
      "  warnings.warn(\"Possible clipped samples in output.\")\n"
     ]
    },
    {
     "name": "stdout",
     "output_type": "stream",
     "text": [
      "HumNoise is 5dB. The HAAQI value is 0.19\n",
      "HumNoise is 5dB. The HAAQI value is 0.58\n",
      "After LUFS, the mixing ouput in the RMS, Total: -9.23dB, Clipping Ratio&Cliped Num: (0.0007766439909297052, 274)\n"
     ]
    },
    {
     "name": "stderr",
     "output_type": "stream",
     "text": [
      "/root/anaconda3/lib/python3.11/site-packages/pyloudnorm/normalize.py:62: UserWarning: Possible clipped samples in output.\n",
      "  warnings.warn(\"Possible clipped samples in output.\")\n"
     ]
    },
    {
     "name": "stdout",
     "output_type": "stream",
     "text": [
      "HumNoise is 6dB. The HAAQI value is 0.19\n",
      "HumNoise is 6dB. The HAAQI value is 0.59\n",
      "After LUFS, the mixing ouput in the RMS, Total: -9.26dB, Clipping Ratio&Cliped Num: (0.0008219954648526077, 290)\n"
     ]
    },
    {
     "name": "stderr",
     "output_type": "stream",
     "text": [
      "/root/anaconda3/lib/python3.11/site-packages/pyloudnorm/normalize.py:62: UserWarning: Possible clipped samples in output.\n",
      "  warnings.warn(\"Possible clipped samples in output.\")\n"
     ]
    },
    {
     "name": "stdout",
     "output_type": "stream",
     "text": [
      "HumNoise is 7dB. The HAAQI value is 0.2\n",
      "HumNoise is 7dB. The HAAQI value is 0.6\n",
      "After LUFS, the mixing ouput in the RMS, Total: -9.29dB, Clipping Ratio&Cliped Num: (0.0008815192743764172, 311)\n"
     ]
    },
    {
     "name": "stderr",
     "output_type": "stream",
     "text": [
      "/root/anaconda3/lib/python3.11/site-packages/pyloudnorm/normalize.py:62: UserWarning: Possible clipped samples in output.\n",
      "  warnings.warn(\"Possible clipped samples in output.\")\n"
     ]
    },
    {
     "name": "stdout",
     "output_type": "stream",
     "text": [
      "HumNoise is 8dB. The HAAQI value is 0.2\n",
      "HumNoise is 8dB. The HAAQI value is 0.61\n",
      "After LUFS, the mixing ouput in the RMS, Total: -9.31dB, Clipping Ratio&Cliped Num: (0.000963718820861678, 340)\n"
     ]
    },
    {
     "name": "stderr",
     "output_type": "stream",
     "text": [
      "/root/anaconda3/lib/python3.11/site-packages/pyloudnorm/normalize.py:62: UserWarning: Possible clipped samples in output.\n",
      "  warnings.warn(\"Possible clipped samples in output.\")\n"
     ]
    },
    {
     "name": "stdout",
     "output_type": "stream",
     "text": [
      "HumNoise is 9dB. The HAAQI value is 0.2\n",
      "HumNoise is 9dB. The HAAQI value is 0.62\n",
      "After LUFS, the mixing ouput in the RMS, Total: -9.33dB, Clipping Ratio&Cliped Num: (0.0010005668934240362, 353)\n"
     ]
    },
    {
     "name": "stderr",
     "output_type": "stream",
     "text": [
      "/root/anaconda3/lib/python3.11/site-packages/pyloudnorm/normalize.py:62: UserWarning: Possible clipped samples in output.\n",
      "  warnings.warn(\"Possible clipped samples in output.\")\n"
     ]
    },
    {
     "name": "stdout",
     "output_type": "stream",
     "text": [
      "HumNoise is 10dB. The HAAQI value is 0.2\n",
      "HumNoise is 10dB. The HAAQI value is 0.64\n",
      "After LUFS, the mixing ouput in the RMS, Total: -9.34dB, Clipping Ratio&Cliped Num: (0.001040249433106576, 367)\n"
     ]
    },
    {
     "name": "stderr",
     "output_type": "stream",
     "text": [
      "/root/anaconda3/lib/python3.11/site-packages/pyloudnorm/normalize.py:62: UserWarning: Possible clipped samples in output.\n",
      "  warnings.warn(\"Possible clipped samples in output.\")\n"
     ]
    },
    {
     "name": "stdout",
     "output_type": "stream",
     "text": [
      "HumNoise is 11dB. The HAAQI value is 0.2\n",
      "HumNoise is 11dB. The HAAQI value is 0.66\n",
      "After LUFS, the mixing ouput in the RMS, Total: -9.35dB, Clipping Ratio&Cliped Num: (0.0010459183673469387, 369)\n"
     ]
    },
    {
     "name": "stderr",
     "output_type": "stream",
     "text": [
      "/root/anaconda3/lib/python3.11/site-packages/pyloudnorm/normalize.py:62: UserWarning: Possible clipped samples in output.\n",
      "  warnings.warn(\"Possible clipped samples in output.\")\n"
     ]
    },
    {
     "name": "stdout",
     "output_type": "stream",
     "text": [
      "HumNoise is 12dB. The HAAQI value is 0.2\n",
      "HumNoise is 12dB. The HAAQI value is 0.68\n",
      "After LUFS, the mixing ouput in the RMS, Total: -9.36dB, Clipping Ratio&Cliped Num: (0.0010572562358276644, 373)\n"
     ]
    },
    {
     "name": "stderr",
     "output_type": "stream",
     "text": [
      "/root/anaconda3/lib/python3.11/site-packages/pyloudnorm/normalize.py:62: UserWarning: Possible clipped samples in output.\n",
      "  warnings.warn(\"Possible clipped samples in output.\")\n"
     ]
    },
    {
     "name": "stdout",
     "output_type": "stream",
     "text": [
      "HumNoise is 13dB. The HAAQI value is 0.2\n",
      "HumNoise is 13dB. The HAAQI value is 0.69\n",
      "After LUFS, the mixing ouput in the RMS, Total: -9.37dB, Clipping Ratio&Cliped Num: (0.0010629251700680273, 375)\n"
     ]
    },
    {
     "name": "stderr",
     "output_type": "stream",
     "text": [
      "/root/anaconda3/lib/python3.11/site-packages/pyloudnorm/normalize.py:62: UserWarning: Possible clipped samples in output.\n",
      "  warnings.warn(\"Possible clipped samples in output.\")\n"
     ]
    },
    {
     "name": "stdout",
     "output_type": "stream",
     "text": [
      "HumNoise is 14dB. The HAAQI value is 0.2\n",
      "HumNoise is 14dB. The HAAQI value is 0.72\n",
      "After LUFS, the mixing ouput in the RMS, Total: -9.37dB, Clipping Ratio&Cliped Num: (0.0010629251700680273, 375)\n"
     ]
    },
    {
     "name": "stderr",
     "output_type": "stream",
     "text": [
      "/root/anaconda3/lib/python3.11/site-packages/pyloudnorm/normalize.py:62: UserWarning: Possible clipped samples in output.\n",
      "  warnings.warn(\"Possible clipped samples in output.\")\n"
     ]
    },
    {
     "name": "stdout",
     "output_type": "stream",
     "text": [
      "HumNoise is 15dB. The HAAQI value is 0.2\n",
      "HumNoise is 15dB. The HAAQI value is 0.73\n",
      "After LUFS, the mixing ouput in the RMS, Total: -9.38dB, Clipping Ratio&Cliped Num: (0.0010572562358276644, 373)\n"
     ]
    },
    {
     "name": "stderr",
     "output_type": "stream",
     "text": [
      "/root/anaconda3/lib/python3.11/site-packages/pyloudnorm/normalize.py:62: UserWarning: Possible clipped samples in output.\n",
      "  warnings.warn(\"Possible clipped samples in output.\")\n"
     ]
    },
    {
     "name": "stdout",
     "output_type": "stream",
     "text": [
      "HumNoise is 16dB. The HAAQI value is 0.2\n",
      "HumNoise is 16dB. The HAAQI value is 0.75\n",
      "After LUFS, the mixing ouput in the RMS, Total: -9.38dB, Clipping Ratio&Cliped Num: (0.0010572562358276644, 373)\n"
     ]
    },
    {
     "name": "stderr",
     "output_type": "stream",
     "text": [
      "/root/anaconda3/lib/python3.11/site-packages/pyloudnorm/normalize.py:62: UserWarning: Possible clipped samples in output.\n",
      "  warnings.warn(\"Possible clipped samples in output.\")\n"
     ]
    },
    {
     "name": "stdout",
     "output_type": "stream",
     "text": [
      "HumNoise is 17dB. The HAAQI value is 0.2\n",
      "HumNoise is 17dB. The HAAQI value is 0.77\n",
      "After LUFS, the mixing ouput in the RMS, Total: -9.39dB, Clipping Ratio&Cliped Num: (0.001054421768707483, 372)\n"
     ]
    },
    {
     "name": "stderr",
     "output_type": "stream",
     "text": [
      "/root/anaconda3/lib/python3.11/site-packages/pyloudnorm/normalize.py:62: UserWarning: Possible clipped samples in output.\n",
      "  warnings.warn(\"Possible clipped samples in output.\")\n"
     ]
    },
    {
     "name": "stdout",
     "output_type": "stream",
     "text": [
      "HumNoise is 18dB. The HAAQI value is 0.2\n",
      "HumNoise is 18dB. The HAAQI value is 0.78\n",
      "After LUFS, the mixing ouput in the RMS, Total: -9.39dB, Clipping Ratio&Cliped Num: (0.0010459183673469387, 369)\n"
     ]
    },
    {
     "name": "stderr",
     "output_type": "stream",
     "text": [
      "/root/anaconda3/lib/python3.11/site-packages/pyloudnorm/normalize.py:62: UserWarning: Possible clipped samples in output.\n",
      "  warnings.warn(\"Possible clipped samples in output.\")\n"
     ]
    },
    {
     "name": "stdout",
     "output_type": "stream",
     "text": [
      "HumNoise is 19dB. The HAAQI value is 0.2\n",
      "HumNoise is 19dB. The HAAQI value is 0.8\n",
      "After LUFS, the mixing ouput in the RMS, Total: -9.39dB, Clipping Ratio&Cliped Num: (0.001054421768707483, 372)\n"
     ]
    },
    {
     "name": "stderr",
     "output_type": "stream",
     "text": [
      "/root/anaconda3/lib/python3.11/site-packages/pyloudnorm/normalize.py:62: UserWarning: Possible clipped samples in output.\n",
      "  warnings.warn(\"Possible clipped samples in output.\")\n"
     ]
    },
    {
     "name": "stdout",
     "output_type": "stream",
     "text": [
      "HumNoise is 20dB. The HAAQI value is 0.2\n",
      "HumNoise is 20dB. The HAAQI value is 0.81\n",
      "After LUFS, the mixing ouput in the RMS, Total: -9.39dB, Clipping Ratio&Cliped Num: (0.0010515873015873017, 371)\n"
     ]
    },
    {
     "name": "stderr",
     "output_type": "stream",
     "text": [
      "/root/anaconda3/lib/python3.11/site-packages/pyloudnorm/normalize.py:62: UserWarning: Possible clipped samples in output.\n",
      "  warnings.warn(\"Possible clipped samples in output.\")\n"
     ]
    },
    {
     "name": "stdout",
     "output_type": "stream",
     "text": [
      "HumNoise is 21dB. The HAAQI value is 0.2\n",
      "HumNoise is 21dB. The HAAQI value is 0.82\n",
      "After LUFS, the mixing ouput in the RMS, Total: -9.39dB, Clipping Ratio&Cliped Num: (0.0010572562358276644, 373)\n"
     ]
    },
    {
     "name": "stderr",
     "output_type": "stream",
     "text": [
      "/root/anaconda3/lib/python3.11/site-packages/pyloudnorm/normalize.py:62: UserWarning: Possible clipped samples in output.\n",
      "  warnings.warn(\"Possible clipped samples in output.\")\n"
     ]
    },
    {
     "name": "stdout",
     "output_type": "stream",
     "text": [
      "HumNoise is 22dB. The HAAQI value is 0.2\n",
      "HumNoise is 22dB. The HAAQI value is 0.84\n",
      "After LUFS, the mixing ouput in the RMS, Total: -9.39dB, Clipping Ratio&Cliped Num: (0.0010600907029478458, 374)\n"
     ]
    },
    {
     "name": "stderr",
     "output_type": "stream",
     "text": [
      "/root/anaconda3/lib/python3.11/site-packages/pyloudnorm/normalize.py:62: UserWarning: Possible clipped samples in output.\n",
      "  warnings.warn(\"Possible clipped samples in output.\")\n"
     ]
    },
    {
     "name": "stdout",
     "output_type": "stream",
     "text": [
      "HumNoise is 23dB. The HAAQI value is 0.2\n",
      "HumNoise is 23dB. The HAAQI value is 0.85\n",
      "After LUFS, the mixing ouput in the RMS, Total: -9.39dB, Clipping Ratio&Cliped Num: (0.0010600907029478458, 374)\n"
     ]
    },
    {
     "name": "stderr",
     "output_type": "stream",
     "text": [
      "/root/anaconda3/lib/python3.11/site-packages/pyloudnorm/normalize.py:62: UserWarning: Possible clipped samples in output.\n",
      "  warnings.warn(\"Possible clipped samples in output.\")\n"
     ]
    },
    {
     "name": "stdout",
     "output_type": "stream",
     "text": [
      "HumNoise is 24dB. The HAAQI value is 0.2\n",
      "HumNoise is 24dB. The HAAQI value is 0.86\n",
      "After LUFS, the mixing ouput in the RMS, Total: -9.39dB, Clipping Ratio&Cliped Num: (0.0010572562358276644, 373)\n"
     ]
    },
    {
     "name": "stderr",
     "output_type": "stream",
     "text": [
      "/root/anaconda3/lib/python3.11/site-packages/pyloudnorm/normalize.py:62: UserWarning: Possible clipped samples in output.\n",
      "  warnings.warn(\"Possible clipped samples in output.\")\n"
     ]
    },
    {
     "name": "stdout",
     "output_type": "stream",
     "text": [
      "HumNoise is 25dB. The HAAQI value is 0.2\n",
      "HumNoise is 25dB. The HAAQI value is 0.88\n",
      "After LUFS, the mixing ouput in the RMS, Total: -9.39dB, Clipping Ratio&Cliped Num: (0.001054421768707483, 372)\n"
     ]
    },
    {
     "name": "stderr",
     "output_type": "stream",
     "text": [
      "/root/anaconda3/lib/python3.11/site-packages/pyloudnorm/normalize.py:62: UserWarning: Possible clipped samples in output.\n",
      "  warnings.warn(\"Possible clipped samples in output.\")\n"
     ]
    },
    {
     "name": "stdout",
     "output_type": "stream",
     "text": [
      "HumNoise is 26dB. The HAAQI value is 0.2\n",
      "HumNoise is 26dB. The HAAQI value is 0.88\n",
      "After LUFS, the mixing ouput in the RMS, Total: -9.39dB, Clipping Ratio&Cliped Num: (0.0010515873015873017, 371)\n"
     ]
    },
    {
     "name": "stderr",
     "output_type": "stream",
     "text": [
      "/root/anaconda3/lib/python3.11/site-packages/pyloudnorm/normalize.py:62: UserWarning: Possible clipped samples in output.\n",
      "  warnings.warn(\"Possible clipped samples in output.\")\n"
     ]
    },
    {
     "name": "stdout",
     "output_type": "stream",
     "text": [
      "HumNoise is 27dB. The HAAQI value is 0.2\n",
      "HumNoise is 27dB. The HAAQI value is 0.88\n",
      "After LUFS, the mixing ouput in the RMS, Total: -9.39dB, Clipping Ratio&Cliped Num: (0.0010572562358276644, 373)\n"
     ]
    },
    {
     "name": "stderr",
     "output_type": "stream",
     "text": [
      "/root/anaconda3/lib/python3.11/site-packages/pyloudnorm/normalize.py:62: UserWarning: Possible clipped samples in output.\n",
      "  warnings.warn(\"Possible clipped samples in output.\")\n"
     ]
    },
    {
     "name": "stdout",
     "output_type": "stream",
     "text": [
      "HumNoise is 28dB. The HAAQI value is 0.2\n",
      "HumNoise is 28dB. The HAAQI value is 0.89\n",
      "After LUFS, the mixing ouput in the RMS, Total: -9.39dB, Clipping Ratio&Cliped Num: (0.0010572562358276644, 373)\n"
     ]
    },
    {
     "name": "stderr",
     "output_type": "stream",
     "text": [
      "/root/anaconda3/lib/python3.11/site-packages/pyloudnorm/normalize.py:62: UserWarning: Possible clipped samples in output.\n",
      "  warnings.warn(\"Possible clipped samples in output.\")\n"
     ]
    },
    {
     "name": "stdout",
     "output_type": "stream",
     "text": [
      "HumNoise is 29dB. The HAAQI value is 0.2\n",
      "HumNoise is 29dB. The HAAQI value is 0.89\n",
      "After LUFS, the mixing ouput in the RMS, Total: -9.39dB, Clipping Ratio&Cliped Num: (0.001054421768707483, 372)\n"
     ]
    },
    {
     "name": "stderr",
     "output_type": "stream",
     "text": [
      "/root/anaconda3/lib/python3.11/site-packages/pyloudnorm/normalize.py:62: UserWarning: Possible clipped samples in output.\n",
      "  warnings.warn(\"Possible clipped samples in output.\")\n"
     ]
    },
    {
     "name": "stdout",
     "output_type": "stream",
     "text": [
      "HumNoise is 30dB. The HAAQI value is 0.2\n",
      "HumNoise is 30dB. The HAAQI value is 0.9\n",
      "After LUFS, the mixing ouput in the RMS, Total: -9.39dB, Clipping Ratio&Cliped Num: (0.0010515873015873017, 371)\n"
     ]
    },
    {
     "name": "stderr",
     "output_type": "stream",
     "text": [
      "/root/anaconda3/lib/python3.11/site-packages/pyloudnorm/normalize.py:62: UserWarning: Possible clipped samples in output.\n",
      "  warnings.warn(\"Possible clipped samples in output.\")\n"
     ]
    },
    {
     "name": "stdout",
     "output_type": "stream",
     "text": [
      "HumNoise is 31dB. The HAAQI value is 0.2\n",
      "HumNoise is 31dB. The HAAQI value is 0.9\n",
      "After LUFS, the mixing ouput in the RMS, Total: -9.39dB, Clipping Ratio&Cliped Num: (0.0010515873015873017, 371)\n"
     ]
    },
    {
     "name": "stderr",
     "output_type": "stream",
     "text": [
      "/root/anaconda3/lib/python3.11/site-packages/pyloudnorm/normalize.py:62: UserWarning: Possible clipped samples in output.\n",
      "  warnings.warn(\"Possible clipped samples in output.\")\n"
     ]
    },
    {
     "name": "stdout",
     "output_type": "stream",
     "text": [
      "HumNoise is 32dB. The HAAQI value is 0.2\n",
      "HumNoise is 32dB. The HAAQI value is 0.91\n",
      "After LUFS, the mixing ouput in the RMS, Total: -9.39dB, Clipping Ratio&Cliped Num: (0.001054421768707483, 372)\n"
     ]
    },
    {
     "name": "stderr",
     "output_type": "stream",
     "text": [
      "/root/anaconda3/lib/python3.11/site-packages/pyloudnorm/normalize.py:62: UserWarning: Possible clipped samples in output.\n",
      "  warnings.warn(\"Possible clipped samples in output.\")\n"
     ]
    },
    {
     "name": "stdout",
     "output_type": "stream",
     "text": [
      "HumNoise is 33dB. The HAAQI value is 0.2\n",
      "HumNoise is 33dB. The HAAQI value is 0.91\n",
      "After LUFS, the mixing ouput in the RMS, Total: -9.39dB, Clipping Ratio&Cliped Num: (0.0010600907029478458, 374)\n"
     ]
    },
    {
     "name": "stderr",
     "output_type": "stream",
     "text": [
      "/root/anaconda3/lib/python3.11/site-packages/pyloudnorm/normalize.py:62: UserWarning: Possible clipped samples in output.\n",
      "  warnings.warn(\"Possible clipped samples in output.\")\n"
     ]
    },
    {
     "name": "stdout",
     "output_type": "stream",
     "text": [
      "HumNoise is 34dB. The HAAQI value is 0.2\n",
      "HumNoise is 34dB. The HAAQI value is 0.92\n",
      "After LUFS, the mixing ouput in the RMS, Total: -9.39dB, Clipping Ratio&Cliped Num: (0.0010600907029478458, 374)\n"
     ]
    },
    {
     "name": "stderr",
     "output_type": "stream",
     "text": [
      "/root/anaconda3/lib/python3.11/site-packages/pyloudnorm/normalize.py:62: UserWarning: Possible clipped samples in output.\n",
      "  warnings.warn(\"Possible clipped samples in output.\")\n"
     ]
    },
    {
     "name": "stdout",
     "output_type": "stream",
     "text": [
      "HumNoise is 35dB. The HAAQI value is 0.2\n",
      "HumNoise is 35dB. The HAAQI value is 0.92\n",
      "After LUFS, the mixing ouput in the RMS, Total: -9.39dB, Clipping Ratio&Cliped Num: (0.0010600907029478458, 374)\n"
     ]
    },
    {
     "name": "stderr",
     "output_type": "stream",
     "text": [
      "/root/anaconda3/lib/python3.11/site-packages/pyloudnorm/normalize.py:62: UserWarning: Possible clipped samples in output.\n",
      "  warnings.warn(\"Possible clipped samples in output.\")\n"
     ]
    },
    {
     "name": "stdout",
     "output_type": "stream",
     "text": [
      "HumNoise is 36dB. The HAAQI value is 0.2\n",
      "HumNoise is 36dB. The HAAQI value is 0.92\n",
      "After LUFS, the mixing ouput in the RMS, Total: -9.39dB, Clipping Ratio&Cliped Num: (0.0010600907029478458, 374)\n"
     ]
    },
    {
     "name": "stderr",
     "output_type": "stream",
     "text": [
      "/root/anaconda3/lib/python3.11/site-packages/pyloudnorm/normalize.py:62: UserWarning: Possible clipped samples in output.\n",
      "  warnings.warn(\"Possible clipped samples in output.\")\n"
     ]
    },
    {
     "name": "stdout",
     "output_type": "stream",
     "text": [
      "HumNoise is 37dB. The HAAQI value is 0.2\n",
      "HumNoise is 37dB. The HAAQI value is 0.93\n",
      "After LUFS, the mixing ouput in the RMS, Total: -9.39dB, Clipping Ratio&Cliped Num: (0.0010714285714285715, 378)\n"
     ]
    },
    {
     "name": "stderr",
     "output_type": "stream",
     "text": [
      "/root/anaconda3/lib/python3.11/site-packages/pyloudnorm/normalize.py:62: UserWarning: Possible clipped samples in output.\n",
      "  warnings.warn(\"Possible clipped samples in output.\")\n"
     ]
    },
    {
     "name": "stdout",
     "output_type": "stream",
     "text": [
      "HumNoise is 38dB. The HAAQI value is 0.2\n",
      "HumNoise is 38dB. The HAAQI value is 0.93\n",
      "After LUFS, the mixing ouput in the RMS, Total: -9.39dB, Clipping Ratio&Cliped Num: (0.0010714285714285715, 378)\n"
     ]
    },
    {
     "name": "stderr",
     "output_type": "stream",
     "text": [
      "/root/anaconda3/lib/python3.11/site-packages/pyloudnorm/normalize.py:62: UserWarning: Possible clipped samples in output.\n",
      "  warnings.warn(\"Possible clipped samples in output.\")\n"
     ]
    },
    {
     "name": "stdout",
     "output_type": "stream",
     "text": [
      "HumNoise is 39dB. The HAAQI value is 0.2\n",
      "HumNoise is 39dB. The HAAQI value is 0.93\n",
      "After LUFS, the mixing ouput in the RMS, Total: -9.39dB, Clipping Ratio&Cliped Num: (0.0010714285714285715, 378)\n"
     ]
    },
    {
     "name": "stderr",
     "output_type": "stream",
     "text": [
      "/root/anaconda3/lib/python3.11/site-packages/pyloudnorm/normalize.py:62: UserWarning: Possible clipped samples in output.\n",
      "  warnings.warn(\"Possible clipped samples in output.\")\n"
     ]
    },
    {
     "name": "stdout",
     "output_type": "stream",
     "text": [
      "HumNoise is 40dB. The HAAQI value is 0.2\n",
      "HumNoise is 40dB. The HAAQI value is 0.93\n",
      "After LUFS, the mixing ouput in the RMS, Total: -9.39dB, Clipping Ratio&Cliped Num: (0.0010742630385487527, 379)\n"
     ]
    },
    {
     "name": "stderr",
     "output_type": "stream",
     "text": [
      "/root/anaconda3/lib/python3.11/site-packages/pyloudnorm/normalize.py:62: UserWarning: Possible clipped samples in output.\n",
      "  warnings.warn(\"Possible clipped samples in output.\")\n"
     ]
    },
    {
     "name": "stdout",
     "output_type": "stream",
     "text": [
      "HumNoise is 41dB. The HAAQI value is 0.2\n",
      "HumNoise is 41dB. The HAAQI value is 0.93\n",
      "After LUFS, the mixing ouput in the RMS, Total: -9.39dB, Clipping Ratio&Cliped Num: (0.0010714285714285715, 378)\n"
     ]
    },
    {
     "name": "stderr",
     "output_type": "stream",
     "text": [
      "/root/anaconda3/lib/python3.11/site-packages/pyloudnorm/normalize.py:62: UserWarning: Possible clipped samples in output.\n",
      "  warnings.warn(\"Possible clipped samples in output.\")\n"
     ]
    },
    {
     "name": "stdout",
     "output_type": "stream",
     "text": [
      "HumNoise is 42dB. The HAAQI value is 0.2\n",
      "HumNoise is 42dB. The HAAQI value is 0.93\n",
      "After LUFS, the mixing ouput in the RMS, Total: -9.39dB, Clipping Ratio&Cliped Num: (0.0010714285714285715, 378)\n"
     ]
    },
    {
     "name": "stderr",
     "output_type": "stream",
     "text": [
      "/root/anaconda3/lib/python3.11/site-packages/pyloudnorm/normalize.py:62: UserWarning: Possible clipped samples in output.\n",
      "  warnings.warn(\"Possible clipped samples in output.\")\n"
     ]
    },
    {
     "name": "stdout",
     "output_type": "stream",
     "text": [
      "HumNoise is 43dB. The HAAQI value is 0.2\n",
      "HumNoise is 43dB. The HAAQI value is 0.93\n",
      "After LUFS, the mixing ouput in the RMS, Total: -9.39dB, Clipping Ratio&Cliped Num: (0.0010742630385487527, 379)\n"
     ]
    },
    {
     "name": "stderr",
     "output_type": "stream",
     "text": [
      "/root/anaconda3/lib/python3.11/site-packages/pyloudnorm/normalize.py:62: UserWarning: Possible clipped samples in output.\n",
      "  warnings.warn(\"Possible clipped samples in output.\")\n"
     ]
    },
    {
     "name": "stdout",
     "output_type": "stream",
     "text": [
      "HumNoise is 44dB. The HAAQI value is 0.2\n",
      "HumNoise is 44dB. The HAAQI value is 0.94\n",
      "After LUFS, the mixing ouput in the RMS, Total: -9.39dB, Clipping Ratio&Cliped Num: (0.0010770975056689342, 380)\n"
     ]
    },
    {
     "name": "stderr",
     "output_type": "stream",
     "text": [
      "/root/anaconda3/lib/python3.11/site-packages/pyloudnorm/normalize.py:62: UserWarning: Possible clipped samples in output.\n",
      "  warnings.warn(\"Possible clipped samples in output.\")\n"
     ]
    },
    {
     "name": "stdout",
     "output_type": "stream",
     "text": [
      "HumNoise is 45dB. The HAAQI value is 0.2\n",
      "HumNoise is 45dB. The HAAQI value is 0.94\n",
      "After LUFS, the mixing ouput in the RMS, Total: -9.39dB, Clipping Ratio&Cliped Num: (0.0010770975056689342, 380)\n"
     ]
    },
    {
     "name": "stderr",
     "output_type": "stream",
     "text": [
      "/root/anaconda3/lib/python3.11/site-packages/pyloudnorm/normalize.py:62: UserWarning: Possible clipped samples in output.\n",
      "  warnings.warn(\"Possible clipped samples in output.\")\n"
     ]
    },
    {
     "name": "stdout",
     "output_type": "stream",
     "text": [
      "HumNoise is 46dB. The HAAQI value is 0.2\n",
      "HumNoise is 46dB. The HAAQI value is 0.94\n",
      "After LUFS, the mixing ouput in the RMS, Total: -9.39dB, Clipping Ratio&Cliped Num: (0.0010770975056689342, 380)\n"
     ]
    },
    {
     "name": "stderr",
     "output_type": "stream",
     "text": [
      "/root/anaconda3/lib/python3.11/site-packages/pyloudnorm/normalize.py:62: UserWarning: Possible clipped samples in output.\n",
      "  warnings.warn(\"Possible clipped samples in output.\")\n"
     ]
    },
    {
     "name": "stdout",
     "output_type": "stream",
     "text": [
      "HumNoise is 47dB. The HAAQI value is 0.2\n",
      "HumNoise is 47dB. The HAAQI value is 0.94\n",
      "After LUFS, the mixing ouput in the RMS, Total: -9.39dB, Clipping Ratio&Cliped Num: (0.0010770975056689342, 380)\n"
     ]
    },
    {
     "name": "stderr",
     "output_type": "stream",
     "text": [
      "/root/anaconda3/lib/python3.11/site-packages/pyloudnorm/normalize.py:62: UserWarning: Possible clipped samples in output.\n",
      "  warnings.warn(\"Possible clipped samples in output.\")\n"
     ]
    },
    {
     "name": "stdout",
     "output_type": "stream",
     "text": [
      "HumNoise is 48dB. The HAAQI value is 0.2\n",
      "HumNoise is 48dB. The HAAQI value is 0.94\n",
      "After LUFS, the mixing ouput in the RMS, Total: -9.39dB, Clipping Ratio&Cliped Num: (0.0010770975056689342, 380)\n"
     ]
    },
    {
     "name": "stderr",
     "output_type": "stream",
     "text": [
      "/root/anaconda3/lib/python3.11/site-packages/pyloudnorm/normalize.py:62: UserWarning: Possible clipped samples in output.\n",
      "  warnings.warn(\"Possible clipped samples in output.\")\n"
     ]
    },
    {
     "name": "stdout",
     "output_type": "stream",
     "text": [
      "HumNoise is 49dB. The HAAQI value is 0.2\n",
      "HumNoise is 49dB. The HAAQI value is 0.94\n",
      "After LUFS, the mixing ouput in the RMS, Total: -9.39dB, Clipping Ratio&Cliped Num: (0.0010770975056689342, 380)\n"
     ]
    },
    {
     "name": "stderr",
     "output_type": "stream",
     "text": [
      "/root/anaconda3/lib/python3.11/site-packages/pyloudnorm/normalize.py:62: UserWarning: Possible clipped samples in output.\n",
      "  warnings.warn(\"Possible clipped samples in output.\")\n"
     ]
    },
    {
     "name": "stdout",
     "output_type": "stream",
     "text": [
      "HumNoise is 50dB. The HAAQI value is 0.2\n",
      "HumNoise is 50dB. The HAAQI value is 0.94\n",
      "After LUFS, the mixing ouput in the RMS, Total: -9.39dB, Clipping Ratio&Cliped Num: (0.0010770975056689342, 380)\n"
     ]
    },
    {
     "name": "stderr",
     "output_type": "stream",
     "text": [
      "/root/anaconda3/lib/python3.11/site-packages/pyloudnorm/normalize.py:62: UserWarning: Possible clipped samples in output.\n",
      "  warnings.warn(\"Possible clipped samples in output.\")\n"
     ]
    },
    {
     "name": "stdout",
     "output_type": "stream",
     "text": [
      "HumNoise is 51dB. The HAAQI value is 0.2\n",
      "HumNoise is 51dB. The HAAQI value is 0.94\n",
      "After LUFS, the mixing ouput in the RMS, Total: -9.39dB, Clipping Ratio&Cliped Num: (0.0010770975056689342, 380)\n"
     ]
    },
    {
     "name": "stderr",
     "output_type": "stream",
     "text": [
      "/root/anaconda3/lib/python3.11/site-packages/pyloudnorm/normalize.py:62: UserWarning: Possible clipped samples in output.\n",
      "  warnings.warn(\"Possible clipped samples in output.\")\n"
     ]
    },
    {
     "name": "stdout",
     "output_type": "stream",
     "text": [
      "HumNoise is 52dB. The HAAQI value is 0.2\n",
      "HumNoise is 52dB. The HAAQI value is 0.95\n",
      "After LUFS, the mixing ouput in the RMS, Total: -9.39dB, Clipping Ratio&Cliped Num: (0.0010770975056689342, 380)\n"
     ]
    },
    {
     "name": "stderr",
     "output_type": "stream",
     "text": [
      "/root/anaconda3/lib/python3.11/site-packages/pyloudnorm/normalize.py:62: UserWarning: Possible clipped samples in output.\n",
      "  warnings.warn(\"Possible clipped samples in output.\")\n"
     ]
    },
    {
     "name": "stdout",
     "output_type": "stream",
     "text": [
      "HumNoise is 53dB. The HAAQI value is 0.2\n",
      "HumNoise is 53dB. The HAAQI value is 0.95\n",
      "After LUFS, the mixing ouput in the RMS, Total: -9.39dB, Clipping Ratio&Cliped Num: (0.0010770975056689342, 380)\n"
     ]
    },
    {
     "name": "stderr",
     "output_type": "stream",
     "text": [
      "/root/anaconda3/lib/python3.11/site-packages/pyloudnorm/normalize.py:62: UserWarning: Possible clipped samples in output.\n",
      "  warnings.warn(\"Possible clipped samples in output.\")\n"
     ]
    },
    {
     "name": "stdout",
     "output_type": "stream",
     "text": [
      "HumNoise is 54dB. The HAAQI value is 0.2\n",
      "HumNoise is 54dB. The HAAQI value is 0.95\n",
      "After LUFS, the mixing ouput in the RMS, Total: -9.39dB, Clipping Ratio&Cliped Num: (0.0010770975056689342, 380)\n"
     ]
    },
    {
     "name": "stderr",
     "output_type": "stream",
     "text": [
      "/root/anaconda3/lib/python3.11/site-packages/pyloudnorm/normalize.py:62: UserWarning: Possible clipped samples in output.\n",
      "  warnings.warn(\"Possible clipped samples in output.\")\n"
     ]
    },
    {
     "name": "stdout",
     "output_type": "stream",
     "text": [
      "HumNoise is 55dB. The HAAQI value is 0.2\n",
      "HumNoise is 55dB. The HAAQI value is 0.95\n",
      "After LUFS, the mixing ouput in the RMS, Total: -9.39dB, Clipping Ratio&Cliped Num: (0.0010770975056689342, 380)\n"
     ]
    },
    {
     "name": "stderr",
     "output_type": "stream",
     "text": [
      "/root/anaconda3/lib/python3.11/site-packages/pyloudnorm/normalize.py:62: UserWarning: Possible clipped samples in output.\n",
      "  warnings.warn(\"Possible clipped samples in output.\")\n"
     ]
    },
    {
     "name": "stdout",
     "output_type": "stream",
     "text": [
      "HumNoise is 56dB. The HAAQI value is 0.2\n",
      "HumNoise is 56dB. The HAAQI value is 0.95\n",
      "After LUFS, the mixing ouput in the RMS, Total: -9.39dB, Clipping Ratio&Cliped Num: (0.0010770975056689342, 380)\n"
     ]
    },
    {
     "name": "stderr",
     "output_type": "stream",
     "text": [
      "/root/anaconda3/lib/python3.11/site-packages/pyloudnorm/normalize.py:62: UserWarning: Possible clipped samples in output.\n",
      "  warnings.warn(\"Possible clipped samples in output.\")\n"
     ]
    },
    {
     "name": "stdout",
     "output_type": "stream",
     "text": [
      "HumNoise is 57dB. The HAAQI value is 0.2\n",
      "HumNoise is 57dB. The HAAQI value is 0.95\n",
      "After LUFS, the mixing ouput in the RMS, Total: -9.39dB, Clipping Ratio&Cliped Num: (0.0010770975056689342, 380)\n"
     ]
    },
    {
     "name": "stderr",
     "output_type": "stream",
     "text": [
      "/root/anaconda3/lib/python3.11/site-packages/pyloudnorm/normalize.py:62: UserWarning: Possible clipped samples in output.\n",
      "  warnings.warn(\"Possible clipped samples in output.\")\n"
     ]
    },
    {
     "name": "stdout",
     "output_type": "stream",
     "text": [
      "HumNoise is 58dB. The HAAQI value is 0.2\n",
      "HumNoise is 58dB. The HAAQI value is 0.96\n",
      "After LUFS, the mixing ouput in the RMS, Total: -9.39dB, Clipping Ratio&Cliped Num: (0.0010770975056689342, 380)\n"
     ]
    },
    {
     "name": "stderr",
     "output_type": "stream",
     "text": [
      "/root/anaconda3/lib/python3.11/site-packages/pyloudnorm/normalize.py:62: UserWarning: Possible clipped samples in output.\n",
      "  warnings.warn(\"Possible clipped samples in output.\")\n"
     ]
    },
    {
     "name": "stdout",
     "output_type": "stream",
     "text": [
      "HumNoise is 59dB. The HAAQI value is 0.2\n",
      "HumNoise is 59dB. The HAAQI value is 0.96\n",
      "After LUFS, the mixing ouput in the RMS, Total: -9.39dB, Clipping Ratio&Cliped Num: (0.0010770975056689342, 380)\n"
     ]
    },
    {
     "name": "stderr",
     "output_type": "stream",
     "text": [
      "/root/anaconda3/lib/python3.11/site-packages/pyloudnorm/normalize.py:62: UserWarning: Possible clipped samples in output.\n",
      "  warnings.warn(\"Possible clipped samples in output.\")\n"
     ]
    },
    {
     "name": "stdout",
     "output_type": "stream",
     "text": [
      "HumNoise is 60dB. The HAAQI value is 0.2\n",
      "HumNoise is 60dB. The HAAQI value is 0.96\n",
      "After LUFS, the mixing ouput in the RMS, Total: -9.39dB, Clipping Ratio&Cliped Num: (0.0010770975056689342, 380)\n"
     ]
    },
    {
     "name": "stderr",
     "output_type": "stream",
     "text": [
      "/root/anaconda3/lib/python3.11/site-packages/pyloudnorm/normalize.py:62: UserWarning: Possible clipped samples in output.\n",
      "  warnings.warn(\"Possible clipped samples in output.\")\n"
     ]
    },
    {
     "name": "stdout",
     "output_type": "stream",
     "text": [
      "HumNoise is 61dB. The HAAQI value is 0.2\n",
      "HumNoise is 61dB. The HAAQI value is 0.96\n",
      "After LUFS, the mixing ouput in the RMS, Total: -9.39dB, Clipping Ratio&Cliped Num: (0.0010770975056689342, 380)\n"
     ]
    },
    {
     "name": "stderr",
     "output_type": "stream",
     "text": [
      "/root/anaconda3/lib/python3.11/site-packages/pyloudnorm/normalize.py:62: UserWarning: Possible clipped samples in output.\n",
      "  warnings.warn(\"Possible clipped samples in output.\")\n"
     ]
    },
    {
     "name": "stdout",
     "output_type": "stream",
     "text": [
      "HumNoise is 62dB. The HAAQI value is 0.2\n",
      "HumNoise is 62dB. The HAAQI value is 0.97\n",
      "After LUFS, the mixing ouput in the RMS, Total: -9.39dB, Clipping Ratio&Cliped Num: (0.0010799319727891157, 381)\n"
     ]
    },
    {
     "name": "stderr",
     "output_type": "stream",
     "text": [
      "/root/anaconda3/lib/python3.11/site-packages/pyloudnorm/normalize.py:62: UserWarning: Possible clipped samples in output.\n",
      "  warnings.warn(\"Possible clipped samples in output.\")\n"
     ]
    },
    {
     "name": "stdout",
     "output_type": "stream",
     "text": [
      "HumNoise is 63dB. The HAAQI value is 0.2\n",
      "HumNoise is 63dB. The HAAQI value is 0.96\n",
      "After LUFS, the mixing ouput in the RMS, Total: -9.39dB, Clipping Ratio&Cliped Num: (0.0010799319727891157, 381)\n"
     ]
    },
    {
     "name": "stderr",
     "output_type": "stream",
     "text": [
      "/root/anaconda3/lib/python3.11/site-packages/pyloudnorm/normalize.py:62: UserWarning: Possible clipped samples in output.\n",
      "  warnings.warn(\"Possible clipped samples in output.\")\n"
     ]
    },
    {
     "name": "stdout",
     "output_type": "stream",
     "text": [
      "HumNoise is 64dB. The HAAQI value is 0.2\n",
      "HumNoise is 64dB. The HAAQI value is 0.96\n",
      "After LUFS, the mixing ouput in the RMS, Total: -9.39dB, Clipping Ratio&Cliped Num: (0.0010799319727891157, 381)\n"
     ]
    },
    {
     "name": "stderr",
     "output_type": "stream",
     "text": [
      "/root/anaconda3/lib/python3.11/site-packages/pyloudnorm/normalize.py:62: UserWarning: Possible clipped samples in output.\n",
      "  warnings.warn(\"Possible clipped samples in output.\")\n"
     ]
    },
    {
     "name": "stdout",
     "output_type": "stream",
     "text": [
      "HumNoise is 65dB. The HAAQI value is 0.2\n",
      "HumNoise is 65dB. The HAAQI value is 0.96\n",
      "After LUFS, the mixing ouput in the RMS, Total: -9.39dB, Clipping Ratio&Cliped Num: (0.0010799319727891157, 381)\n"
     ]
    },
    {
     "name": "stderr",
     "output_type": "stream",
     "text": [
      "/root/anaconda3/lib/python3.11/site-packages/pyloudnorm/normalize.py:62: UserWarning: Possible clipped samples in output.\n",
      "  warnings.warn(\"Possible clipped samples in output.\")\n"
     ]
    },
    {
     "name": "stdout",
     "output_type": "stream",
     "text": [
      "HumNoise is 66dB. The HAAQI value is 0.2\n",
      "HumNoise is 66dB. The HAAQI value is 0.97\n",
      "After LUFS, the mixing ouput in the RMS, Total: -9.39dB, Clipping Ratio&Cliped Num: (0.0010799319727891157, 381)\n"
     ]
    },
    {
     "name": "stderr",
     "output_type": "stream",
     "text": [
      "/root/anaconda3/lib/python3.11/site-packages/pyloudnorm/normalize.py:62: UserWarning: Possible clipped samples in output.\n",
      "  warnings.warn(\"Possible clipped samples in output.\")\n"
     ]
    },
    {
     "name": "stdout",
     "output_type": "stream",
     "text": [
      "HumNoise is 67dB. The HAAQI value is 0.2\n",
      "HumNoise is 67dB. The HAAQI value is 0.96\n",
      "After LUFS, the mixing ouput in the RMS, Total: -9.39dB, Clipping Ratio&Cliped Num: (0.0010799319727891157, 381)\n"
     ]
    },
    {
     "name": "stderr",
     "output_type": "stream",
     "text": [
      "/root/anaconda3/lib/python3.11/site-packages/pyloudnorm/normalize.py:62: UserWarning: Possible clipped samples in output.\n",
      "  warnings.warn(\"Possible clipped samples in output.\")\n"
     ]
    },
    {
     "name": "stdout",
     "output_type": "stream",
     "text": [
      "HumNoise is 68dB. The HAAQI value is 0.2\n",
      "HumNoise is 68dB. The HAAQI value is 0.97\n",
      "After LUFS, the mixing ouput in the RMS, Total: -9.39dB, Clipping Ratio&Cliped Num: (0.0010799319727891157, 381)\n"
     ]
    },
    {
     "name": "stderr",
     "output_type": "stream",
     "text": [
      "/root/anaconda3/lib/python3.11/site-packages/pyloudnorm/normalize.py:62: UserWarning: Possible clipped samples in output.\n",
      "  warnings.warn(\"Possible clipped samples in output.\")\n"
     ]
    },
    {
     "name": "stdout",
     "output_type": "stream",
     "text": [
      "HumNoise is 69dB. The HAAQI value is 0.2\n",
      "HumNoise is 69dB. The HAAQI value is 0.97\n",
      "After LUFS, the mixing ouput in the RMS, Total: -9.39dB, Clipping Ratio&Cliped Num: (0.0010799319727891157, 381)\n"
     ]
    },
    {
     "name": "stderr",
     "output_type": "stream",
     "text": [
      "/root/anaconda3/lib/python3.11/site-packages/pyloudnorm/normalize.py:62: UserWarning: Possible clipped samples in output.\n",
      "  warnings.warn(\"Possible clipped samples in output.\")\n"
     ]
    },
    {
     "name": "stdout",
     "output_type": "stream",
     "text": [
      "HumNoise is 70dB. The HAAQI value is 0.2\n",
      "HumNoise is 70dB. The HAAQI value is 0.97\n",
      "After LUFS, the mixing ouput in the RMS, Total: -9.39dB, Clipping Ratio&Cliped Num: (0.0010799319727891157, 381)\n"
     ]
    },
    {
     "name": "stderr",
     "output_type": "stream",
     "text": [
      "/root/anaconda3/lib/python3.11/site-packages/pyloudnorm/normalize.py:62: UserWarning: Possible clipped samples in output.\n",
      "  warnings.warn(\"Possible clipped samples in output.\")\n"
     ]
    },
    {
     "name": "stdout",
     "output_type": "stream",
     "text": [
      "HumNoise is 71dB. The HAAQI value is 0.2\n",
      "HumNoise is 71dB. The HAAQI value is 0.97\n",
      "After LUFS, the mixing ouput in the RMS, Total: -9.39dB, Clipping Ratio&Cliped Num: (0.0010799319727891157, 381)\n"
     ]
    },
    {
     "name": "stderr",
     "output_type": "stream",
     "text": [
      "/root/anaconda3/lib/python3.11/site-packages/pyloudnorm/normalize.py:62: UserWarning: Possible clipped samples in output.\n",
      "  warnings.warn(\"Possible clipped samples in output.\")\n"
     ]
    },
    {
     "name": "stdout",
     "output_type": "stream",
     "text": [
      "HumNoise is 72dB. The HAAQI value is 0.2\n",
      "HumNoise is 72dB. The HAAQI value is 0.97\n",
      "After LUFS, the mixing ouput in the RMS, Total: -9.39dB, Clipping Ratio&Cliped Num: (0.0010799319727891157, 381)\n"
     ]
    },
    {
     "name": "stderr",
     "output_type": "stream",
     "text": [
      "/root/anaconda3/lib/python3.11/site-packages/pyloudnorm/normalize.py:62: UserWarning: Possible clipped samples in output.\n",
      "  warnings.warn(\"Possible clipped samples in output.\")\n"
     ]
    },
    {
     "name": "stdout",
     "output_type": "stream",
     "text": [
      "HumNoise is 73dB. The HAAQI value is 0.2\n",
      "HumNoise is 73dB. The HAAQI value is 0.97\n",
      "After LUFS, the mixing ouput in the RMS, Total: -9.39dB, Clipping Ratio&Cliped Num: (0.0010799319727891157, 381)\n"
     ]
    },
    {
     "name": "stderr",
     "output_type": "stream",
     "text": [
      "/root/anaconda3/lib/python3.11/site-packages/pyloudnorm/normalize.py:62: UserWarning: Possible clipped samples in output.\n",
      "  warnings.warn(\"Possible clipped samples in output.\")\n"
     ]
    },
    {
     "name": "stdout",
     "output_type": "stream",
     "text": [
      "HumNoise is 74dB. The HAAQI value is 0.2\n",
      "HumNoise is 74dB. The HAAQI value is 0.97\n",
      "After LUFS, the mixing ouput in the RMS, Total: -9.39dB, Clipping Ratio&Cliped Num: (0.0010799319727891157, 381)\n"
     ]
    },
    {
     "name": "stderr",
     "output_type": "stream",
     "text": [
      "/root/anaconda3/lib/python3.11/site-packages/pyloudnorm/normalize.py:62: UserWarning: Possible clipped samples in output.\n",
      "  warnings.warn(\"Possible clipped samples in output.\")\n"
     ]
    },
    {
     "name": "stdout",
     "output_type": "stream",
     "text": [
      "HumNoise is 75dB. The HAAQI value is 0.2\n",
      "HumNoise is 75dB. The HAAQI value is 0.97\n",
      "After LUFS, the mixing ouput in the RMS, Total: -9.39dB, Clipping Ratio&Cliped Num: (0.0010799319727891157, 381)\n"
     ]
    },
    {
     "name": "stderr",
     "output_type": "stream",
     "text": [
      "/root/anaconda3/lib/python3.11/site-packages/pyloudnorm/normalize.py:62: UserWarning: Possible clipped samples in output.\n",
      "  warnings.warn(\"Possible clipped samples in output.\")\n"
     ]
    },
    {
     "name": "stdout",
     "output_type": "stream",
     "text": [
      "HumNoise is 76dB. The HAAQI value is 0.2\n",
      "HumNoise is 76dB. The HAAQI value is 0.97\n",
      "After LUFS, the mixing ouput in the RMS, Total: -9.39dB, Clipping Ratio&Cliped Num: (0.0010799319727891157, 381)\n"
     ]
    },
    {
     "name": "stderr",
     "output_type": "stream",
     "text": [
      "/root/anaconda3/lib/python3.11/site-packages/pyloudnorm/normalize.py:62: UserWarning: Possible clipped samples in output.\n",
      "  warnings.warn(\"Possible clipped samples in output.\")\n"
     ]
    },
    {
     "name": "stdout",
     "output_type": "stream",
     "text": [
      "HumNoise is 77dB. The HAAQI value is 0.2\n",
      "HumNoise is 77dB. The HAAQI value is 0.97\n",
      "After LUFS, the mixing ouput in the RMS, Total: -9.39dB, Clipping Ratio&Cliped Num: (0.0010799319727891157, 381)\n"
     ]
    },
    {
     "name": "stderr",
     "output_type": "stream",
     "text": [
      "/root/anaconda3/lib/python3.11/site-packages/pyloudnorm/normalize.py:62: UserWarning: Possible clipped samples in output.\n",
      "  warnings.warn(\"Possible clipped samples in output.\")\n"
     ]
    },
    {
     "name": "stdout",
     "output_type": "stream",
     "text": [
      "HumNoise is 78dB. The HAAQI value is 0.2\n",
      "HumNoise is 78dB. The HAAQI value is 0.97\n",
      "After LUFS, the mixing ouput in the RMS, Total: -9.39dB, Clipping Ratio&Cliped Num: (0.0010799319727891157, 381)\n"
     ]
    },
    {
     "name": "stderr",
     "output_type": "stream",
     "text": [
      "/root/anaconda3/lib/python3.11/site-packages/pyloudnorm/normalize.py:62: UserWarning: Possible clipped samples in output.\n",
      "  warnings.warn(\"Possible clipped samples in output.\")\n"
     ]
    },
    {
     "name": "stdout",
     "output_type": "stream",
     "text": [
      "HumNoise is 79dB. The HAAQI value is 0.2\n",
      "HumNoise is 79dB. The HAAQI value is 0.97\n",
      "After LUFS, the mixing ouput in the RMS, Total: -9.39dB, Clipping Ratio&Cliped Num: (0.0010799319727891157, 381)\n"
     ]
    },
    {
     "name": "stderr",
     "output_type": "stream",
     "text": [
      "/root/anaconda3/lib/python3.11/site-packages/pyloudnorm/normalize.py:62: UserWarning: Possible clipped samples in output.\n",
      "  warnings.warn(\"Possible clipped samples in output.\")\n"
     ]
    },
    {
     "name": "stdout",
     "output_type": "stream",
     "text": [
      "HumNoise is 80dB. The HAAQI value is 0.2\n",
      "HumNoise is 80dB. The HAAQI value is 0.97\n",
      "After LUFS, the mixing ouput in the RMS, Total: -9.39dB, Clipping Ratio&Cliped Num: (0.0010799319727891157, 381)\n"
     ]
    },
    {
     "name": "stderr",
     "output_type": "stream",
     "text": [
      "/root/anaconda3/lib/python3.11/site-packages/pyloudnorm/normalize.py:62: UserWarning: Possible clipped samples in output.\n",
      "  warnings.warn(\"Possible clipped samples in output.\")\n"
     ]
    },
    {
     "name": "stdout",
     "output_type": "stream",
     "text": [
      "HumNoise is 81dB. The HAAQI value is 0.2\n",
      "HumNoise is 81dB. The HAAQI value is 0.98\n",
      "After LUFS, the mixing ouput in the RMS, Total: -9.39dB, Clipping Ratio&Cliped Num: (0.0010799319727891157, 381)\n"
     ]
    },
    {
     "name": "stderr",
     "output_type": "stream",
     "text": [
      "/root/anaconda3/lib/python3.11/site-packages/pyloudnorm/normalize.py:62: UserWarning: Possible clipped samples in output.\n",
      "  warnings.warn(\"Possible clipped samples in output.\")\n"
     ]
    },
    {
     "name": "stdout",
     "output_type": "stream",
     "text": [
      "HumNoise is 82dB. The HAAQI value is 0.2\n",
      "HumNoise is 82dB. The HAAQI value is 0.97\n",
      "After LUFS, the mixing ouput in the RMS, Total: -9.39dB, Clipping Ratio&Cliped Num: (0.0010799319727891157, 381)\n"
     ]
    },
    {
     "name": "stderr",
     "output_type": "stream",
     "text": [
      "/root/anaconda3/lib/python3.11/site-packages/pyloudnorm/normalize.py:62: UserWarning: Possible clipped samples in output.\n",
      "  warnings.warn(\"Possible clipped samples in output.\")\n"
     ]
    },
    {
     "name": "stdout",
     "output_type": "stream",
     "text": [
      "HumNoise is 83dB. The HAAQI value is 0.2\n",
      "HumNoise is 83dB. The HAAQI value is 0.97\n",
      "After LUFS, the mixing ouput in the RMS, Total: -9.39dB, Clipping Ratio&Cliped Num: (0.0010799319727891157, 381)\n"
     ]
    },
    {
     "name": "stderr",
     "output_type": "stream",
     "text": [
      "/root/anaconda3/lib/python3.11/site-packages/pyloudnorm/normalize.py:62: UserWarning: Possible clipped samples in output.\n",
      "  warnings.warn(\"Possible clipped samples in output.\")\n"
     ]
    },
    {
     "name": "stdout",
     "output_type": "stream",
     "text": [
      "HumNoise is 84dB. The HAAQI value is 0.2\n",
      "HumNoise is 84dB. The HAAQI value is 0.97\n",
      "After LUFS, the mixing ouput in the RMS, Total: -9.39dB, Clipping Ratio&Cliped Num: (0.0010799319727891157, 381)\n"
     ]
    },
    {
     "name": "stderr",
     "output_type": "stream",
     "text": [
      "/root/anaconda3/lib/python3.11/site-packages/pyloudnorm/normalize.py:62: UserWarning: Possible clipped samples in output.\n",
      "  warnings.warn(\"Possible clipped samples in output.\")\n"
     ]
    },
    {
     "name": "stdout",
     "output_type": "stream",
     "text": [
      "HumNoise is 85dB. The HAAQI value is 0.2\n",
      "HumNoise is 85dB. The HAAQI value is 0.98\n",
      "After LUFS, the mixing ouput in the RMS, Total: -9.39dB, Clipping Ratio&Cliped Num: (0.0010799319727891157, 381)\n"
     ]
    },
    {
     "name": "stderr",
     "output_type": "stream",
     "text": [
      "/root/anaconda3/lib/python3.11/site-packages/pyloudnorm/normalize.py:62: UserWarning: Possible clipped samples in output.\n",
      "  warnings.warn(\"Possible clipped samples in output.\")\n"
     ]
    },
    {
     "name": "stdout",
     "output_type": "stream",
     "text": [
      "HumNoise is 86dB. The HAAQI value is 0.2\n",
      "HumNoise is 86dB. The HAAQI value is 0.97\n",
      "After LUFS, the mixing ouput in the RMS, Total: -9.39dB, Clipping Ratio&Cliped Num: (0.0010799319727891157, 381)\n"
     ]
    },
    {
     "name": "stderr",
     "output_type": "stream",
     "text": [
      "/root/anaconda3/lib/python3.11/site-packages/pyloudnorm/normalize.py:62: UserWarning: Possible clipped samples in output.\n",
      "  warnings.warn(\"Possible clipped samples in output.\")\n"
     ]
    },
    {
     "name": "stdout",
     "output_type": "stream",
     "text": [
      "HumNoise is 87dB. The HAAQI value is 0.2\n",
      "HumNoise is 87dB. The HAAQI value is 0.97\n",
      "After LUFS, the mixing ouput in the RMS, Total: -9.39dB, Clipping Ratio&Cliped Num: (0.0010799319727891157, 381)\n"
     ]
    },
    {
     "name": "stderr",
     "output_type": "stream",
     "text": [
      "/root/anaconda3/lib/python3.11/site-packages/pyloudnorm/normalize.py:62: UserWarning: Possible clipped samples in output.\n",
      "  warnings.warn(\"Possible clipped samples in output.\")\n"
     ]
    },
    {
     "name": "stdout",
     "output_type": "stream",
     "text": [
      "HumNoise is 88dB. The HAAQI value is 0.2\n",
      "HumNoise is 88dB. The HAAQI value is 0.98\n",
      "After LUFS, the mixing ouput in the RMS, Total: -9.39dB, Clipping Ratio&Cliped Num: (0.0010799319727891157, 381)\n"
     ]
    },
    {
     "name": "stderr",
     "output_type": "stream",
     "text": [
      "/root/anaconda3/lib/python3.11/site-packages/pyloudnorm/normalize.py:62: UserWarning: Possible clipped samples in output.\n",
      "  warnings.warn(\"Possible clipped samples in output.\")\n"
     ]
    },
    {
     "name": "stdout",
     "output_type": "stream",
     "text": [
      "HumNoise is 89dB. The HAAQI value is 0.2\n",
      "HumNoise is 89dB. The HAAQI value is 0.98\n",
      "After LUFS, the mixing ouput in the RMS, Total: -9.39dB, Clipping Ratio&Cliped Num: (0.0010799319727891157, 381)\n"
     ]
    },
    {
     "name": "stderr",
     "output_type": "stream",
     "text": [
      "/root/anaconda3/lib/python3.11/site-packages/pyloudnorm/normalize.py:62: UserWarning: Possible clipped samples in output.\n",
      "  warnings.warn(\"Possible clipped samples in output.\")\n"
     ]
    },
    {
     "name": "stdout",
     "output_type": "stream",
     "text": [
      "HumNoise is 90dB. The HAAQI value is 0.2\n",
      "HumNoise is 90dB. The HAAQI value is 0.98\n",
      "After LUFS, the mixing ouput in the RMS, Total: -9.39dB, Clipping Ratio&Cliped Num: (0.0010799319727891157, 381)\n"
     ]
    },
    {
     "name": "stderr",
     "output_type": "stream",
     "text": [
      "/root/anaconda3/lib/python3.11/site-packages/pyloudnorm/normalize.py:62: UserWarning: Possible clipped samples in output.\n",
      "  warnings.warn(\"Possible clipped samples in output.\")\n"
     ]
    },
    {
     "name": "stdout",
     "output_type": "stream",
     "text": [
      "HumNoise is 91dB. The HAAQI value is 0.2\n",
      "HumNoise is 91dB. The HAAQI value is 0.98\n",
      "After LUFS, the mixing ouput in the RMS, Total: -9.39dB, Clipping Ratio&Cliped Num: (0.0010799319727891157, 381)\n"
     ]
    },
    {
     "name": "stderr",
     "output_type": "stream",
     "text": [
      "/root/anaconda3/lib/python3.11/site-packages/pyloudnorm/normalize.py:62: UserWarning: Possible clipped samples in output.\n",
      "  warnings.warn(\"Possible clipped samples in output.\")\n"
     ]
    },
    {
     "name": "stdout",
     "output_type": "stream",
     "text": [
      "HumNoise is 92dB. The HAAQI value is 0.2\n",
      "HumNoise is 92dB. The HAAQI value is 0.98\n",
      "After LUFS, the mixing ouput in the RMS, Total: -9.39dB, Clipping Ratio&Cliped Num: (0.0010799319727891157, 381)\n"
     ]
    },
    {
     "name": "stderr",
     "output_type": "stream",
     "text": [
      "/root/anaconda3/lib/python3.11/site-packages/pyloudnorm/normalize.py:62: UserWarning: Possible clipped samples in output.\n",
      "  warnings.warn(\"Possible clipped samples in output.\")\n"
     ]
    },
    {
     "name": "stdout",
     "output_type": "stream",
     "text": [
      "HumNoise is 93dB. The HAAQI value is 0.2\n",
      "HumNoise is 93dB. The HAAQI value is 0.98\n",
      "After LUFS, the mixing ouput in the RMS, Total: -9.39dB, Clipping Ratio&Cliped Num: (0.0010799319727891157, 381)\n"
     ]
    },
    {
     "name": "stderr",
     "output_type": "stream",
     "text": [
      "/root/anaconda3/lib/python3.11/site-packages/pyloudnorm/normalize.py:62: UserWarning: Possible clipped samples in output.\n",
      "  warnings.warn(\"Possible clipped samples in output.\")\n"
     ]
    },
    {
     "name": "stdout",
     "output_type": "stream",
     "text": [
      "HumNoise is 94dB. The HAAQI value is 0.2\n",
      "HumNoise is 94dB. The HAAQI value is 0.98\n",
      "After LUFS, the mixing ouput in the RMS, Total: -9.39dB, Clipping Ratio&Cliped Num: (0.0010799319727891157, 381)\n"
     ]
    },
    {
     "name": "stderr",
     "output_type": "stream",
     "text": [
      "/root/anaconda3/lib/python3.11/site-packages/pyloudnorm/normalize.py:62: UserWarning: Possible clipped samples in output.\n",
      "  warnings.warn(\"Possible clipped samples in output.\")\n"
     ]
    },
    {
     "name": "stdout",
     "output_type": "stream",
     "text": [
      "HumNoise is 95dB. The HAAQI value is 0.2\n",
      "HumNoise is 95dB. The HAAQI value is 0.98\n",
      "After LUFS, the mixing ouput in the RMS, Total: -9.39dB, Clipping Ratio&Cliped Num: (0.0010799319727891157, 381)\n"
     ]
    },
    {
     "name": "stderr",
     "output_type": "stream",
     "text": [
      "/root/anaconda3/lib/python3.11/site-packages/pyloudnorm/normalize.py:62: UserWarning: Possible clipped samples in output.\n",
      "  warnings.warn(\"Possible clipped samples in output.\")\n"
     ]
    },
    {
     "name": "stdout",
     "output_type": "stream",
     "text": [
      "HumNoise is 96dB. The HAAQI value is 0.2\n",
      "HumNoise is 96dB. The HAAQI value is 0.98\n",
      "After LUFS, the mixing ouput in the RMS, Total: -9.39dB, Clipping Ratio&Cliped Num: (0.0010799319727891157, 381)\n"
     ]
    },
    {
     "name": "stderr",
     "output_type": "stream",
     "text": [
      "/root/anaconda3/lib/python3.11/site-packages/pyloudnorm/normalize.py:62: UserWarning: Possible clipped samples in output.\n",
      "  warnings.warn(\"Possible clipped samples in output.\")\n"
     ]
    },
    {
     "name": "stdout",
     "output_type": "stream",
     "text": [
      "HumNoise is 97dB. The HAAQI value is 0.2\n",
      "HumNoise is 97dB. The HAAQI value is 0.98\n",
      "After LUFS, the mixing ouput in the RMS, Total: -9.39dB, Clipping Ratio&Cliped Num: (0.0010799319727891157, 381)\n"
     ]
    },
    {
     "name": "stderr",
     "output_type": "stream",
     "text": [
      "/root/anaconda3/lib/python3.11/site-packages/pyloudnorm/normalize.py:62: UserWarning: Possible clipped samples in output.\n",
      "  warnings.warn(\"Possible clipped samples in output.\")\n"
     ]
    },
    {
     "name": "stdout",
     "output_type": "stream",
     "text": [
      "HumNoise is 98dB. The HAAQI value is 0.2\n",
      "HumNoise is 98dB. The HAAQI value is 0.98\n",
      "After LUFS, the mixing ouput in the RMS, Total: -9.39dB, Clipping Ratio&Cliped Num: (0.0010799319727891157, 381)\n"
     ]
    },
    {
     "name": "stderr",
     "output_type": "stream",
     "text": [
      "/root/anaconda3/lib/python3.11/site-packages/pyloudnorm/normalize.py:62: UserWarning: Possible clipped samples in output.\n",
      "  warnings.warn(\"Possible clipped samples in output.\")\n"
     ]
    },
    {
     "name": "stdout",
     "output_type": "stream",
     "text": [
      "HumNoise is 99dB. The HAAQI value is 0.2\n",
      "HumNoise is 99dB. The HAAQI value is 0.98\n",
      "After LUFS, the mixing ouput in the RMS, Total: -12.08dB, Clipping Ratio&Cliped Num: (0.0, 3)\n"
     ]
    },
    {
     "name": "stderr",
     "output_type": "stream",
     "text": [
      "/root/anaconda3/lib/python3.11/site-packages/pyloudnorm/normalize.py:62: UserWarning: Possible clipped samples in output.\n",
      "  warnings.warn(\"Possible clipped samples in output.\")\n"
     ]
    },
    {
     "name": "stdout",
     "output_type": "stream",
     "text": [
      "WhiteNoise is 1dB. The HAAQI value is 0.18\n",
      "WhiteNoise is 1dB. The HAAQI value is 0.24\n",
      "After LUFS, the mixing ouput in the RMS, Total: -11.82dB, Clipping Ratio&Cliped Num: (0.0, 9)\n"
     ]
    },
    {
     "name": "stderr",
     "output_type": "stream",
     "text": [
      "/root/anaconda3/lib/python3.11/site-packages/pyloudnorm/normalize.py:62: UserWarning: Possible clipped samples in output.\n",
      "  warnings.warn(\"Possible clipped samples in output.\")\n"
     ]
    },
    {
     "name": "stdout",
     "output_type": "stream",
     "text": [
      "WhiteNoise is 2dB. The HAAQI value is 0.18\n",
      "WhiteNoise is 2dB. The HAAQI value is 0.25\n",
      "After LUFS, the mixing ouput in the RMS, Total: -11.56dB, Clipping Ratio&Cliped Num: (0.0, 18)\n"
     ]
    },
    {
     "name": "stderr",
     "output_type": "stream",
     "text": [
      "/root/anaconda3/lib/python3.11/site-packages/pyloudnorm/normalize.py:62: UserWarning: Possible clipped samples in output.\n",
      "  warnings.warn(\"Possible clipped samples in output.\")\n"
     ]
    },
    {
     "name": "stdout",
     "output_type": "stream",
     "text": [
      "WhiteNoise is 3dB. The HAAQI value is 0.18\n",
      "WhiteNoise is 3dB. The HAAQI value is 0.26\n",
      "After LUFS, the mixing ouput in the RMS, Total: -11.3dB, Clipping Ratio&Cliped Num: (0.0, 26)\n"
     ]
    },
    {
     "name": "stderr",
     "output_type": "stream",
     "text": [
      "/root/anaconda3/lib/python3.11/site-packages/pyloudnorm/normalize.py:62: UserWarning: Possible clipped samples in output.\n",
      "  warnings.warn(\"Possible clipped samples in output.\")\n"
     ]
    },
    {
     "name": "stdout",
     "output_type": "stream",
     "text": [
      "WhiteNoise is 4dB. The HAAQI value is 0.18\n",
      "WhiteNoise is 4dB. The HAAQI value is 0.28\n",
      "After LUFS, the mixing ouput in the RMS, Total: -11.04dB, Clipping Ratio&Cliped Num: (0.00010204081632653062, 36)\n"
     ]
    },
    {
     "name": "stderr",
     "output_type": "stream",
     "text": [
      "/root/anaconda3/lib/python3.11/site-packages/pyloudnorm/normalize.py:62: UserWarning: Possible clipped samples in output.\n",
      "  warnings.warn(\"Possible clipped samples in output.\")\n"
     ]
    },
    {
     "name": "stdout",
     "output_type": "stream",
     "text": [
      "WhiteNoise is 5dB. The HAAQI value is 0.19\n",
      "WhiteNoise is 5dB. The HAAQI value is 0.29\n",
      "After LUFS, the mixing ouput in the RMS, Total: -10.82dB, Clipping Ratio&Cliped Num: (0.00016723356009070296, 59)\n"
     ]
    },
    {
     "name": "stderr",
     "output_type": "stream",
     "text": [
      "/root/anaconda3/lib/python3.11/site-packages/pyloudnorm/normalize.py:62: UserWarning: Possible clipped samples in output.\n",
      "  warnings.warn(\"Possible clipped samples in output.\")\n"
     ]
    },
    {
     "name": "stdout",
     "output_type": "stream",
     "text": [
      "WhiteNoise is 6dB. The HAAQI value is 0.19\n",
      "WhiteNoise is 6dB. The HAAQI value is 0.31\n",
      "After LUFS, the mixing ouput in the RMS, Total: -10.6dB, Clipping Ratio&Cliped Num: (0.00026643990929705214, 94)\n"
     ]
    },
    {
     "name": "stderr",
     "output_type": "stream",
     "text": [
      "/root/anaconda3/lib/python3.11/site-packages/pyloudnorm/normalize.py:62: UserWarning: Possible clipped samples in output.\n",
      "  warnings.warn(\"Possible clipped samples in output.\")\n"
     ]
    },
    {
     "name": "stdout",
     "output_type": "stream",
     "text": [
      "WhiteNoise is 7dB. The HAAQI value is 0.19\n",
      "WhiteNoise is 7dB. The HAAQI value is 0.33\n",
      "After LUFS, the mixing ouput in the RMS, Total: -10.41dB, Clipping Ratio&Cliped Num: (0.0003344671201814059, 118)\n"
     ]
    },
    {
     "name": "stderr",
     "output_type": "stream",
     "text": [
      "/root/anaconda3/lib/python3.11/site-packages/pyloudnorm/normalize.py:62: UserWarning: Possible clipped samples in output.\n",
      "  warnings.warn(\"Possible clipped samples in output.\")\n"
     ]
    },
    {
     "name": "stdout",
     "output_type": "stream",
     "text": [
      "WhiteNoise is 8dB. The HAAQI value is 0.19\n",
      "WhiteNoise is 8dB. The HAAQI value is 0.34\n",
      "After LUFS, the mixing ouput in the RMS, Total: -10.24dB, Clipping Ratio&Cliped Num: (0.00042233560090702946, 149)\n"
     ]
    },
    {
     "name": "stderr",
     "output_type": "stream",
     "text": [
      "/root/anaconda3/lib/python3.11/site-packages/pyloudnorm/normalize.py:62: UserWarning: Possible clipped samples in output.\n",
      "  warnings.warn(\"Possible clipped samples in output.\")\n"
     ]
    },
    {
     "name": "stdout",
     "output_type": "stream",
     "text": [
      "WhiteNoise is 9dB. The HAAQI value is 0.2\n",
      "WhiteNoise is 9dB. The HAAQI value is 0.36\n",
      "After LUFS, the mixing ouput in the RMS, Total: -10.1dB, Clipping Ratio&Cliped Num: (0.00048752834467120183, 172)\n"
     ]
    },
    {
     "name": "stderr",
     "output_type": "stream",
     "text": [
      "/root/anaconda3/lib/python3.11/site-packages/pyloudnorm/normalize.py:62: UserWarning: Possible clipped samples in output.\n",
      "  warnings.warn(\"Possible clipped samples in output.\")\n"
     ]
    },
    {
     "name": "stdout",
     "output_type": "stream",
     "text": [
      "WhiteNoise is 10dB. The HAAQI value is 0.2\n",
      "WhiteNoise is 10dB. The HAAQI value is 0.38\n",
      "After LUFS, the mixing ouput in the RMS, Total: -9.97dB, Clipping Ratio&Cliped Num: (0.0005583900226757369, 197)\n"
     ]
    },
    {
     "name": "stderr",
     "output_type": "stream",
     "text": [
      "/root/anaconda3/lib/python3.11/site-packages/pyloudnorm/normalize.py:62: UserWarning: Possible clipped samples in output.\n",
      "  warnings.warn(\"Possible clipped samples in output.\")\n"
     ]
    },
    {
     "name": "stdout",
     "output_type": "stream",
     "text": [
      "WhiteNoise is 11dB. The HAAQI value is 0.2\n",
      "WhiteNoise is 11dB. The HAAQI value is 0.4\n",
      "After LUFS, the mixing ouput in the RMS, Total: -9.86dB, Clipping Ratio&Cliped Num: (0.0006490929705215419, 229)\n"
     ]
    },
    {
     "name": "stderr",
     "output_type": "stream",
     "text": [
      "/root/anaconda3/lib/python3.11/site-packages/pyloudnorm/normalize.py:62: UserWarning: Possible clipped samples in output.\n",
      "  warnings.warn(\"Possible clipped samples in output.\")\n"
     ]
    },
    {
     "name": "stdout",
     "output_type": "stream",
     "text": [
      "WhiteNoise is 12dB. The HAAQI value is 0.2\n",
      "WhiteNoise is 12dB. The HAAQI value is 0.41\n",
      "After LUFS, the mixing ouput in the RMS, Total: -9.78dB, Clipping Ratio&Cliped Num: (0.0006859410430839002, 242)\n"
     ]
    },
    {
     "name": "stderr",
     "output_type": "stream",
     "text": [
      "/root/anaconda3/lib/python3.11/site-packages/pyloudnorm/normalize.py:62: UserWarning: Possible clipped samples in output.\n",
      "  warnings.warn(\"Possible clipped samples in output.\")\n"
     ]
    },
    {
     "name": "stdout",
     "output_type": "stream",
     "text": [
      "WhiteNoise is 13dB. The HAAQI value is 0.2\n",
      "WhiteNoise is 13dB. The HAAQI value is 0.44\n",
      "After LUFS, the mixing ouput in the RMS, Total: -9.7dB, Clipping Ratio&Cliped Num: (0.0008191609977324263, 289)\n"
     ]
    },
    {
     "name": "stderr",
     "output_type": "stream",
     "text": [
      "/root/anaconda3/lib/python3.11/site-packages/pyloudnorm/normalize.py:62: UserWarning: Possible clipped samples in output.\n",
      "  warnings.warn(\"Possible clipped samples in output.\")\n"
     ]
    },
    {
     "name": "stdout",
     "output_type": "stream",
     "text": [
      "WhiteNoise is 14dB. The HAAQI value is 0.2\n",
      "WhiteNoise is 14dB. The HAAQI value is 0.46\n",
      "After LUFS, the mixing ouput in the RMS, Total: -9.64dB, Clipping Ratio&Cliped Num: (0.0007794784580498867, 275)\n"
     ]
    },
    {
     "name": "stderr",
     "output_type": "stream",
     "text": [
      "/root/anaconda3/lib/python3.11/site-packages/pyloudnorm/normalize.py:62: UserWarning: Possible clipped samples in output.\n",
      "  warnings.warn(\"Possible clipped samples in output.\")\n"
     ]
    },
    {
     "name": "stdout",
     "output_type": "stream",
     "text": [
      "WhiteNoise is 15dB. The HAAQI value is 0.2\n",
      "WhiteNoise is 15dB. The HAAQI value is 0.49\n",
      "After LUFS, the mixing ouput in the RMS, Total: -9.59dB, Clipping Ratio&Cliped Num: (0.0008701814058956917, 307)\n"
     ]
    },
    {
     "name": "stderr",
     "output_type": "stream",
     "text": [
      "/root/anaconda3/lib/python3.11/site-packages/pyloudnorm/normalize.py:62: UserWarning: Possible clipped samples in output.\n",
      "  warnings.warn(\"Possible clipped samples in output.\")\n"
     ]
    },
    {
     "name": "stdout",
     "output_type": "stream",
     "text": [
      "WhiteNoise is 16dB. The HAAQI value is 0.2\n",
      "WhiteNoise is 16dB. The HAAQI value is 0.51\n",
      "After LUFS, the mixing ouput in the RMS, Total: -9.56dB, Clipping Ratio&Cliped Num: (0.0009013605442176871, 318)\n"
     ]
    },
    {
     "name": "stderr",
     "output_type": "stream",
     "text": [
      "/root/anaconda3/lib/python3.11/site-packages/pyloudnorm/normalize.py:62: UserWarning: Possible clipped samples in output.\n",
      "  warnings.warn(\"Possible clipped samples in output.\")\n"
     ]
    },
    {
     "name": "stdout",
     "output_type": "stream",
     "text": [
      "WhiteNoise is 17dB. The HAAQI value is 0.2\n",
      "WhiteNoise is 17dB. The HAAQI value is 0.53\n",
      "After LUFS, the mixing ouput in the RMS, Total: -9.52dB, Clipping Ratio&Cliped Num: (0.0009382086167800454, 331)\n"
     ]
    },
    {
     "name": "stderr",
     "output_type": "stream",
     "text": [
      "/root/anaconda3/lib/python3.11/site-packages/pyloudnorm/normalize.py:62: UserWarning: Possible clipped samples in output.\n",
      "  warnings.warn(\"Possible clipped samples in output.\")\n"
     ]
    },
    {
     "name": "stdout",
     "output_type": "stream",
     "text": [
      "WhiteNoise is 18dB. The HAAQI value is 0.2\n",
      "WhiteNoise is 18dB. The HAAQI value is 0.54\n",
      "After LUFS, the mixing ouput in the RMS, Total: -9.49dB, Clipping Ratio&Cliped Num: (0.0009778911564625851, 345)\n"
     ]
    },
    {
     "name": "stderr",
     "output_type": "stream",
     "text": [
      "/root/anaconda3/lib/python3.11/site-packages/pyloudnorm/normalize.py:62: UserWarning: Possible clipped samples in output.\n",
      "  warnings.warn(\"Possible clipped samples in output.\")\n"
     ]
    },
    {
     "name": "stdout",
     "output_type": "stream",
     "text": [
      "WhiteNoise is 19dB. The HAAQI value is 0.2\n",
      "WhiteNoise is 19dB. The HAAQI value is 0.56\n",
      "After LUFS, the mixing ouput in the RMS, Total: -9.47dB, Clipping Ratio&Cliped Num: (0.0010005668934240362, 353)\n"
     ]
    },
    {
     "name": "stderr",
     "output_type": "stream",
     "text": [
      "/root/anaconda3/lib/python3.11/site-packages/pyloudnorm/normalize.py:62: UserWarning: Possible clipped samples in output.\n",
      "  warnings.warn(\"Possible clipped samples in output.\")\n"
     ]
    },
    {
     "name": "stdout",
     "output_type": "stream",
     "text": [
      "WhiteNoise is 20dB. The HAAQI value is 0.2\n",
      "WhiteNoise is 20dB. The HAAQI value is 0.59\n",
      "After LUFS, the mixing ouput in the RMS, Total: -9.46dB, Clipping Ratio&Cliped Num: (0.0010289115646258504, 363)\n"
     ]
    },
    {
     "name": "stderr",
     "output_type": "stream",
     "text": [
      "/root/anaconda3/lib/python3.11/site-packages/pyloudnorm/normalize.py:62: UserWarning: Possible clipped samples in output.\n",
      "  warnings.warn(\"Possible clipped samples in output.\")\n"
     ]
    },
    {
     "name": "stdout",
     "output_type": "stream",
     "text": [
      "WhiteNoise is 21dB. The HAAQI value is 0.2\n",
      "WhiteNoise is 21dB. The HAAQI value is 0.62\n",
      "After LUFS, the mixing ouput in the RMS, Total: -9.45dB, Clipping Ratio&Cliped Num: (0.001034580498866213, 365)\n"
     ]
    },
    {
     "name": "stderr",
     "output_type": "stream",
     "text": [
      "/root/anaconda3/lib/python3.11/site-packages/pyloudnorm/normalize.py:62: UserWarning: Possible clipped samples in output.\n",
      "  warnings.warn(\"Possible clipped samples in output.\")\n"
     ]
    },
    {
     "name": "stdout",
     "output_type": "stream",
     "text": [
      "WhiteNoise is 22dB. The HAAQI value is 0.2\n",
      "WhiteNoise is 22dB. The HAAQI value is 0.64\n",
      "After LUFS, the mixing ouput in the RMS, Total: -9.43dB, Clipping Ratio&Cliped Num: (0.0010204081632653062, 360)\n"
     ]
    },
    {
     "name": "stderr",
     "output_type": "stream",
     "text": [
      "/root/anaconda3/lib/python3.11/site-packages/pyloudnorm/normalize.py:62: UserWarning: Possible clipped samples in output.\n",
      "  warnings.warn(\"Possible clipped samples in output.\")\n"
     ]
    },
    {
     "name": "stdout",
     "output_type": "stream",
     "text": [
      "WhiteNoise is 23dB. The HAAQI value is 0.2\n",
      "WhiteNoise is 23dB. The HAAQI value is 0.66\n",
      "After LUFS, the mixing ouput in the RMS, Total: -9.43dB, Clipping Ratio&Cliped Num: (0.0010459183673469387, 369)\n"
     ]
    },
    {
     "name": "stderr",
     "output_type": "stream",
     "text": [
      "/root/anaconda3/lib/python3.11/site-packages/pyloudnorm/normalize.py:62: UserWarning: Possible clipped samples in output.\n",
      "  warnings.warn(\"Possible clipped samples in output.\")\n"
     ]
    },
    {
     "name": "stdout",
     "output_type": "stream",
     "text": [
      "WhiteNoise is 24dB. The HAAQI value is 0.2\n",
      "WhiteNoise is 24dB. The HAAQI value is 0.67\n",
      "After LUFS, the mixing ouput in the RMS, Total: -9.42dB, Clipping Ratio&Cliped Num: (0.0010317460317460319, 364)\n"
     ]
    },
    {
     "name": "stderr",
     "output_type": "stream",
     "text": [
      "/root/anaconda3/lib/python3.11/site-packages/pyloudnorm/normalize.py:62: UserWarning: Possible clipped samples in output.\n",
      "  warnings.warn(\"Possible clipped samples in output.\")\n"
     ]
    },
    {
     "name": "stdout",
     "output_type": "stream",
     "text": [
      "WhiteNoise is 25dB. The HAAQI value is 0.2\n",
      "WhiteNoise is 25dB. The HAAQI value is 0.69\n",
      "After LUFS, the mixing ouput in the RMS, Total: -9.41dB, Clipping Ratio&Cliped Num: (0.0010515873015873017, 371)\n"
     ]
    },
    {
     "name": "stderr",
     "output_type": "stream",
     "text": [
      "/root/anaconda3/lib/python3.11/site-packages/pyloudnorm/normalize.py:62: UserWarning: Possible clipped samples in output.\n",
      "  warnings.warn(\"Possible clipped samples in output.\")\n"
     ]
    },
    {
     "name": "stdout",
     "output_type": "stream",
     "text": [
      "WhiteNoise is 26dB. The HAAQI value is 0.2\n",
      "WhiteNoise is 26dB. The HAAQI value is 0.71\n",
      "After LUFS, the mixing ouput in the RMS, Total: -9.41dB, Clipping Ratio&Cliped Num: (0.00106859410430839, 377)\n"
     ]
    },
    {
     "name": "stderr",
     "output_type": "stream",
     "text": [
      "/root/anaconda3/lib/python3.11/site-packages/pyloudnorm/normalize.py:62: UserWarning: Possible clipped samples in output.\n",
      "  warnings.warn(\"Possible clipped samples in output.\")\n"
     ]
    },
    {
     "name": "stdout",
     "output_type": "stream",
     "text": [
      "WhiteNoise is 27dB. The HAAQI value is 0.2\n",
      "WhiteNoise is 27dB. The HAAQI value is 0.72\n",
      "After LUFS, the mixing ouput in the RMS, Total: -9.41dB, Clipping Ratio&Cliped Num: (0.0010374149659863946, 366)\n"
     ]
    },
    {
     "name": "stderr",
     "output_type": "stream",
     "text": [
      "/root/anaconda3/lib/python3.11/site-packages/pyloudnorm/normalize.py:62: UserWarning: Possible clipped samples in output.\n",
      "  warnings.warn(\"Possible clipped samples in output.\")\n"
     ]
    },
    {
     "name": "stdout",
     "output_type": "stream",
     "text": [
      "WhiteNoise is 28dB. The HAAQI value is 0.2\n",
      "WhiteNoise is 28dB. The HAAQI value is 0.74\n",
      "After LUFS, the mixing ouput in the RMS, Total: -9.4dB, Clipping Ratio&Cliped Num: (0.0010600907029478458, 374)\n"
     ]
    },
    {
     "name": "stderr",
     "output_type": "stream",
     "text": [
      "/root/anaconda3/lib/python3.11/site-packages/pyloudnorm/normalize.py:62: UserWarning: Possible clipped samples in output.\n",
      "  warnings.warn(\"Possible clipped samples in output.\")\n"
     ]
    },
    {
     "name": "stdout",
     "output_type": "stream",
     "text": [
      "WhiteNoise is 29dB. The HAAQI value is 0.2\n",
      "WhiteNoise is 29dB. The HAAQI value is 0.76\n",
      "After LUFS, the mixing ouput in the RMS, Total: -9.4dB, Clipping Ratio&Cliped Num: (0.0010742630385487527, 379)\n"
     ]
    },
    {
     "name": "stderr",
     "output_type": "stream",
     "text": [
      "/root/anaconda3/lib/python3.11/site-packages/pyloudnorm/normalize.py:62: UserWarning: Possible clipped samples in output.\n",
      "  warnings.warn(\"Possible clipped samples in output.\")\n"
     ]
    },
    {
     "name": "stdout",
     "output_type": "stream",
     "text": [
      "WhiteNoise is 30dB. The HAAQI value is 0.2\n",
      "WhiteNoise is 30dB. The HAAQI value is 0.77\n",
      "After LUFS, the mixing ouput in the RMS, Total: -9.4dB, Clipping Ratio&Cliped Num: (0.0010742630385487527, 379)\n"
     ]
    },
    {
     "name": "stderr",
     "output_type": "stream",
     "text": [
      "/root/anaconda3/lib/python3.11/site-packages/pyloudnorm/normalize.py:62: UserWarning: Possible clipped samples in output.\n",
      "  warnings.warn(\"Possible clipped samples in output.\")\n"
     ]
    },
    {
     "name": "stdout",
     "output_type": "stream",
     "text": [
      "WhiteNoise is 31dB. The HAAQI value is 0.2\n",
      "WhiteNoise is 31dB. The HAAQI value is 0.79\n",
      "After LUFS, the mixing ouput in the RMS, Total: -9.4dB, Clipping Ratio&Cliped Num: (0.0010572562358276644, 373)\n"
     ]
    },
    {
     "name": "stderr",
     "output_type": "stream",
     "text": [
      "/root/anaconda3/lib/python3.11/site-packages/pyloudnorm/normalize.py:62: UserWarning: Possible clipped samples in output.\n",
      "  warnings.warn(\"Possible clipped samples in output.\")\n"
     ]
    },
    {
     "name": "stdout",
     "output_type": "stream",
     "text": [
      "WhiteNoise is 32dB. The HAAQI value is 0.2\n",
      "WhiteNoise is 32dB. The HAAQI value is 0.79\n",
      "After LUFS, the mixing ouput in the RMS, Total: -9.4dB, Clipping Ratio&Cliped Num: (0.00106859410430839, 377)\n"
     ]
    },
    {
     "name": "stderr",
     "output_type": "stream",
     "text": [
      "/root/anaconda3/lib/python3.11/site-packages/pyloudnorm/normalize.py:62: UserWarning: Possible clipped samples in output.\n",
      "  warnings.warn(\"Possible clipped samples in output.\")\n"
     ]
    },
    {
     "name": "stdout",
     "output_type": "stream",
     "text": [
      "WhiteNoise is 33dB. The HAAQI value is 0.2\n",
      "WhiteNoise is 33dB. The HAAQI value is 0.81\n",
      "After LUFS, the mixing ouput in the RMS, Total: -9.4dB, Clipping Ratio&Cliped Num: (0.0010629251700680273, 375)\n"
     ]
    },
    {
     "name": "stderr",
     "output_type": "stream",
     "text": [
      "/root/anaconda3/lib/python3.11/site-packages/pyloudnorm/normalize.py:62: UserWarning: Possible clipped samples in output.\n",
      "  warnings.warn(\"Possible clipped samples in output.\")\n"
     ]
    },
    {
     "name": "stdout",
     "output_type": "stream",
     "text": [
      "WhiteNoise is 34dB. The HAAQI value is 0.2\n",
      "WhiteNoise is 34dB. The HAAQI value is 0.81\n",
      "After LUFS, the mixing ouput in the RMS, Total: -9.4dB, Clipping Ratio&Cliped Num: (0.0010912698412698413, 385)\n"
     ]
    },
    {
     "name": "stderr",
     "output_type": "stream",
     "text": [
      "/root/anaconda3/lib/python3.11/site-packages/pyloudnorm/normalize.py:62: UserWarning: Possible clipped samples in output.\n",
      "  warnings.warn(\"Possible clipped samples in output.\")\n"
     ]
    },
    {
     "name": "stdout",
     "output_type": "stream",
     "text": [
      "WhiteNoise is 35dB. The HAAQI value is 0.2\n",
      "WhiteNoise is 35dB. The HAAQI value is 0.81\n",
      "After LUFS, the mixing ouput in the RMS, Total: -9.4dB, Clipping Ratio&Cliped Num: (0.0010657596371882086, 376)\n"
     ]
    },
    {
     "name": "stderr",
     "output_type": "stream",
     "text": [
      "/root/anaconda3/lib/python3.11/site-packages/pyloudnorm/normalize.py:62: UserWarning: Possible clipped samples in output.\n",
      "  warnings.warn(\"Possible clipped samples in output.\")\n"
     ]
    },
    {
     "name": "stdout",
     "output_type": "stream",
     "text": [
      "WhiteNoise is 36dB. The HAAQI value is 0.2\n",
      "WhiteNoise is 36dB. The HAAQI value is 0.82\n",
      "After LUFS, the mixing ouput in the RMS, Total: -9.39dB, Clipping Ratio&Cliped Num: (0.0010770975056689342, 380)\n"
     ]
    },
    {
     "name": "stderr",
     "output_type": "stream",
     "text": [
      "/root/anaconda3/lib/python3.11/site-packages/pyloudnorm/normalize.py:62: UserWarning: Possible clipped samples in output.\n",
      "  warnings.warn(\"Possible clipped samples in output.\")\n"
     ]
    },
    {
     "name": "stdout",
     "output_type": "stream",
     "text": [
      "WhiteNoise is 37dB. The HAAQI value is 0.2\n",
      "WhiteNoise is 37dB. The HAAQI value is 0.83\n",
      "After LUFS, the mixing ouput in the RMS, Total: -9.39dB, Clipping Ratio&Cliped Num: (0.0010742630385487527, 379)\n"
     ]
    },
    {
     "name": "stderr",
     "output_type": "stream",
     "text": [
      "/root/anaconda3/lib/python3.11/site-packages/pyloudnorm/normalize.py:62: UserWarning: Possible clipped samples in output.\n",
      "  warnings.warn(\"Possible clipped samples in output.\")\n"
     ]
    },
    {
     "name": "stdout",
     "output_type": "stream",
     "text": [
      "WhiteNoise is 38dB. The HAAQI value is 0.2\n",
      "WhiteNoise is 38dB. The HAAQI value is 0.84\n",
      "After LUFS, the mixing ouput in the RMS, Total: -9.39dB, Clipping Ratio&Cliped Num: (0.00106859410430839, 377)\n"
     ]
    },
    {
     "name": "stderr",
     "output_type": "stream",
     "text": [
      "/root/anaconda3/lib/python3.11/site-packages/pyloudnorm/normalize.py:62: UserWarning: Possible clipped samples in output.\n",
      "  warnings.warn(\"Possible clipped samples in output.\")\n"
     ]
    },
    {
     "name": "stdout",
     "output_type": "stream",
     "text": [
      "WhiteNoise is 39dB. The HAAQI value is 0.2\n",
      "WhiteNoise is 39dB. The HAAQI value is 0.84\n",
      "After LUFS, the mixing ouput in the RMS, Total: -9.39dB, Clipping Ratio&Cliped Num: (0.0010827664399092971, 382)\n"
     ]
    },
    {
     "name": "stderr",
     "output_type": "stream",
     "text": [
      "/root/anaconda3/lib/python3.11/site-packages/pyloudnorm/normalize.py:62: UserWarning: Possible clipped samples in output.\n",
      "  warnings.warn(\"Possible clipped samples in output.\")\n"
     ]
    },
    {
     "name": "stdout",
     "output_type": "stream",
     "text": [
      "WhiteNoise is 40dB. The HAAQI value is 0.2\n",
      "WhiteNoise is 40dB. The HAAQI value is 0.84\n",
      "After LUFS, the mixing ouput in the RMS, Total: -9.39dB, Clipping Ratio&Cliped Num: (0.0010714285714285715, 378)\n"
     ]
    },
    {
     "name": "stderr",
     "output_type": "stream",
     "text": [
      "/root/anaconda3/lib/python3.11/site-packages/pyloudnorm/normalize.py:62: UserWarning: Possible clipped samples in output.\n",
      "  warnings.warn(\"Possible clipped samples in output.\")\n"
     ]
    },
    {
     "name": "stdout",
     "output_type": "stream",
     "text": [
      "WhiteNoise is 41dB. The HAAQI value is 0.2\n",
      "WhiteNoise is 41dB. The HAAQI value is 0.85\n",
      "After LUFS, the mixing ouput in the RMS, Total: -9.39dB, Clipping Ratio&Cliped Num: (0.0010714285714285715, 378)\n"
     ]
    },
    {
     "name": "stderr",
     "output_type": "stream",
     "text": [
      "/root/anaconda3/lib/python3.11/site-packages/pyloudnorm/normalize.py:62: UserWarning: Possible clipped samples in output.\n",
      "  warnings.warn(\"Possible clipped samples in output.\")\n"
     ]
    },
    {
     "name": "stdout",
     "output_type": "stream",
     "text": [
      "WhiteNoise is 42dB. The HAAQI value is 0.2\n",
      "WhiteNoise is 42dB. The HAAQI value is 0.85\n",
      "After LUFS, the mixing ouput in the RMS, Total: -9.39dB, Clipping Ratio&Cliped Num: (0.00106859410430839, 377)\n"
     ]
    },
    {
     "name": "stderr",
     "output_type": "stream",
     "text": [
      "/root/anaconda3/lib/python3.11/site-packages/pyloudnorm/normalize.py:62: UserWarning: Possible clipped samples in output.\n",
      "  warnings.warn(\"Possible clipped samples in output.\")\n"
     ]
    },
    {
     "name": "stdout",
     "output_type": "stream",
     "text": [
      "WhiteNoise is 43dB. The HAAQI value is 0.2\n",
      "WhiteNoise is 43dB. The HAAQI value is 0.85\n",
      "After LUFS, the mixing ouput in the RMS, Total: -9.39dB, Clipping Ratio&Cliped Num: (0.0010770975056689342, 380)\n"
     ]
    },
    {
     "name": "stderr",
     "output_type": "stream",
     "text": [
      "/root/anaconda3/lib/python3.11/site-packages/pyloudnorm/normalize.py:62: UserWarning: Possible clipped samples in output.\n",
      "  warnings.warn(\"Possible clipped samples in output.\")\n"
     ]
    },
    {
     "name": "stdout",
     "output_type": "stream",
     "text": [
      "WhiteNoise is 44dB. The HAAQI value is 0.2\n",
      "WhiteNoise is 44dB. The HAAQI value is 0.86\n",
      "After LUFS, the mixing ouput in the RMS, Total: -9.39dB, Clipping Ratio&Cliped Num: (0.0010742630385487527, 379)\n"
     ]
    },
    {
     "name": "stderr",
     "output_type": "stream",
     "text": [
      "/root/anaconda3/lib/python3.11/site-packages/pyloudnorm/normalize.py:62: UserWarning: Possible clipped samples in output.\n",
      "  warnings.warn(\"Possible clipped samples in output.\")\n"
     ]
    },
    {
     "name": "stdout",
     "output_type": "stream",
     "text": [
      "WhiteNoise is 45dB. The HAAQI value is 0.2\n",
      "WhiteNoise is 45dB. The HAAQI value is 0.86\n",
      "After LUFS, the mixing ouput in the RMS, Total: -9.39dB, Clipping Ratio&Cliped Num: (0.0010799319727891157, 381)\n"
     ]
    },
    {
     "name": "stderr",
     "output_type": "stream",
     "text": [
      "/root/anaconda3/lib/python3.11/site-packages/pyloudnorm/normalize.py:62: UserWarning: Possible clipped samples in output.\n",
      "  warnings.warn(\"Possible clipped samples in output.\")\n"
     ]
    },
    {
     "name": "stdout",
     "output_type": "stream",
     "text": [
      "WhiteNoise is 46dB. The HAAQI value is 0.2\n",
      "WhiteNoise is 46dB. The HAAQI value is 0.87\n",
      "After LUFS, the mixing ouput in the RMS, Total: -9.39dB, Clipping Ratio&Cliped Num: (0.0010742630385487527, 379)\n"
     ]
    },
    {
     "name": "stderr",
     "output_type": "stream",
     "text": [
      "/root/anaconda3/lib/python3.11/site-packages/pyloudnorm/normalize.py:62: UserWarning: Possible clipped samples in output.\n",
      "  warnings.warn(\"Possible clipped samples in output.\")\n"
     ]
    },
    {
     "name": "stdout",
     "output_type": "stream",
     "text": [
      "WhiteNoise is 47dB. The HAAQI value is 0.2\n",
      "WhiteNoise is 47dB. The HAAQI value is 0.87\n",
      "After LUFS, the mixing ouput in the RMS, Total: -9.39dB, Clipping Ratio&Cliped Num: (0.0010856009070294784, 383)\n"
     ]
    },
    {
     "name": "stderr",
     "output_type": "stream",
     "text": [
      "/root/anaconda3/lib/python3.11/site-packages/pyloudnorm/normalize.py:62: UserWarning: Possible clipped samples in output.\n",
      "  warnings.warn(\"Possible clipped samples in output.\")\n"
     ]
    },
    {
     "name": "stdout",
     "output_type": "stream",
     "text": [
      "WhiteNoise is 48dB. The HAAQI value is 0.2\n",
      "WhiteNoise is 48dB. The HAAQI value is 0.87\n",
      "After LUFS, the mixing ouput in the RMS, Total: -9.39dB, Clipping Ratio&Cliped Num: (0.0010856009070294784, 383)\n"
     ]
    },
    {
     "name": "stderr",
     "output_type": "stream",
     "text": [
      "/root/anaconda3/lib/python3.11/site-packages/pyloudnorm/normalize.py:62: UserWarning: Possible clipped samples in output.\n",
      "  warnings.warn(\"Possible clipped samples in output.\")\n"
     ]
    },
    {
     "name": "stdout",
     "output_type": "stream",
     "text": [
      "WhiteNoise is 49dB. The HAAQI value is 0.2\n",
      "WhiteNoise is 49dB. The HAAQI value is 0.88\n",
      "After LUFS, the mixing ouput in the RMS, Total: -9.39dB, Clipping Ratio&Cliped Num: (0.0010856009070294784, 383)\n"
     ]
    },
    {
     "name": "stderr",
     "output_type": "stream",
     "text": [
      "/root/anaconda3/lib/python3.11/site-packages/pyloudnorm/normalize.py:62: UserWarning: Possible clipped samples in output.\n",
      "  warnings.warn(\"Possible clipped samples in output.\")\n"
     ]
    },
    {
     "name": "stdout",
     "output_type": "stream",
     "text": [
      "WhiteNoise is 50dB. The HAAQI value is 0.2\n",
      "WhiteNoise is 50dB. The HAAQI value is 0.88\n",
      "After LUFS, the mixing ouput in the RMS, Total: -9.39dB, Clipping Ratio&Cliped Num: (0.0010799319727891157, 381)\n"
     ]
    },
    {
     "name": "stderr",
     "output_type": "stream",
     "text": [
      "/root/anaconda3/lib/python3.11/site-packages/pyloudnorm/normalize.py:62: UserWarning: Possible clipped samples in output.\n",
      "  warnings.warn(\"Possible clipped samples in output.\")\n"
     ]
    },
    {
     "name": "stdout",
     "output_type": "stream",
     "text": [
      "WhiteNoise is 51dB. The HAAQI value is 0.2\n",
      "WhiteNoise is 51dB. The HAAQI value is 0.88\n",
      "After LUFS, the mixing ouput in the RMS, Total: -9.39dB, Clipping Ratio&Cliped Num: (0.0010742630385487527, 379)\n"
     ]
    },
    {
     "name": "stderr",
     "output_type": "stream",
     "text": [
      "/root/anaconda3/lib/python3.11/site-packages/pyloudnorm/normalize.py:62: UserWarning: Possible clipped samples in output.\n",
      "  warnings.warn(\"Possible clipped samples in output.\")\n"
     ]
    },
    {
     "name": "stdout",
     "output_type": "stream",
     "text": [
      "WhiteNoise is 52dB. The HAAQI value is 0.2\n",
      "WhiteNoise is 52dB. The HAAQI value is 0.89\n",
      "After LUFS, the mixing ouput in the RMS, Total: -9.39dB, Clipping Ratio&Cliped Num: (0.0010799319727891157, 381)\n"
     ]
    },
    {
     "name": "stderr",
     "output_type": "stream",
     "text": [
      "/root/anaconda3/lib/python3.11/site-packages/pyloudnorm/normalize.py:62: UserWarning: Possible clipped samples in output.\n",
      "  warnings.warn(\"Possible clipped samples in output.\")\n"
     ]
    },
    {
     "name": "stdout",
     "output_type": "stream",
     "text": [
      "WhiteNoise is 53dB. The HAAQI value is 0.2\n",
      "WhiteNoise is 53dB. The HAAQI value is 0.88\n",
      "After LUFS, the mixing ouput in the RMS, Total: -9.39dB, Clipping Ratio&Cliped Num: (0.0010827664399092971, 382)\n"
     ]
    },
    {
     "name": "stderr",
     "output_type": "stream",
     "text": [
      "/root/anaconda3/lib/python3.11/site-packages/pyloudnorm/normalize.py:62: UserWarning: Possible clipped samples in output.\n",
      "  warnings.warn(\"Possible clipped samples in output.\")\n"
     ]
    },
    {
     "name": "stdout",
     "output_type": "stream",
     "text": [
      "WhiteNoise is 54dB. The HAAQI value is 0.2\n",
      "WhiteNoise is 54dB. The HAAQI value is 0.89\n",
      "After LUFS, the mixing ouput in the RMS, Total: -9.39dB, Clipping Ratio&Cliped Num: (0.0010799319727891157, 381)\n"
     ]
    },
    {
     "name": "stderr",
     "output_type": "stream",
     "text": [
      "/root/anaconda3/lib/python3.11/site-packages/pyloudnorm/normalize.py:62: UserWarning: Possible clipped samples in output.\n",
      "  warnings.warn(\"Possible clipped samples in output.\")\n"
     ]
    },
    {
     "name": "stdout",
     "output_type": "stream",
     "text": [
      "WhiteNoise is 55dB. The HAAQI value is 0.2\n",
      "WhiteNoise is 55dB. The HAAQI value is 0.91\n",
      "After LUFS, the mixing ouput in the RMS, Total: -9.39dB, Clipping Ratio&Cliped Num: (0.0010827664399092971, 382)\n"
     ]
    },
    {
     "name": "stderr",
     "output_type": "stream",
     "text": [
      "/root/anaconda3/lib/python3.11/site-packages/pyloudnorm/normalize.py:62: UserWarning: Possible clipped samples in output.\n",
      "  warnings.warn(\"Possible clipped samples in output.\")\n"
     ]
    },
    {
     "name": "stdout",
     "output_type": "stream",
     "text": [
      "WhiteNoise is 56dB. The HAAQI value is 0.2\n",
      "WhiteNoise is 56dB. The HAAQI value is 0.91\n",
      "After LUFS, the mixing ouput in the RMS, Total: -9.39dB, Clipping Ratio&Cliped Num: (0.0010827664399092971, 382)\n"
     ]
    },
    {
     "name": "stderr",
     "output_type": "stream",
     "text": [
      "/root/anaconda3/lib/python3.11/site-packages/pyloudnorm/normalize.py:62: UserWarning: Possible clipped samples in output.\n",
      "  warnings.warn(\"Possible clipped samples in output.\")\n"
     ]
    },
    {
     "name": "stdout",
     "output_type": "stream",
     "text": [
      "WhiteNoise is 57dB. The HAAQI value is 0.2\n",
      "WhiteNoise is 57dB. The HAAQI value is 0.9\n",
      "After LUFS, the mixing ouput in the RMS, Total: -9.39dB, Clipping Ratio&Cliped Num: (0.0010799319727891157, 381)\n"
     ]
    },
    {
     "name": "stderr",
     "output_type": "stream",
     "text": [
      "/root/anaconda3/lib/python3.11/site-packages/pyloudnorm/normalize.py:62: UserWarning: Possible clipped samples in output.\n",
      "  warnings.warn(\"Possible clipped samples in output.\")\n"
     ]
    },
    {
     "name": "stdout",
     "output_type": "stream",
     "text": [
      "WhiteNoise is 58dB. The HAAQI value is 0.2\n",
      "WhiteNoise is 58dB. The HAAQI value is 0.91\n",
      "After LUFS, the mixing ouput in the RMS, Total: -9.39dB, Clipping Ratio&Cliped Num: (0.0010770975056689342, 380)\n"
     ]
    },
    {
     "name": "stderr",
     "output_type": "stream",
     "text": [
      "/root/anaconda3/lib/python3.11/site-packages/pyloudnorm/normalize.py:62: UserWarning: Possible clipped samples in output.\n",
      "  warnings.warn(\"Possible clipped samples in output.\")\n"
     ]
    },
    {
     "name": "stdout",
     "output_type": "stream",
     "text": [
      "WhiteNoise is 59dB. The HAAQI value is 0.2\n",
      "WhiteNoise is 59dB. The HAAQI value is 0.91\n",
      "After LUFS, the mixing ouput in the RMS, Total: -9.39dB, Clipping Ratio&Cliped Num: (0.0010799319727891157, 381)\n"
     ]
    },
    {
     "name": "stderr",
     "output_type": "stream",
     "text": [
      "/root/anaconda3/lib/python3.11/site-packages/pyloudnorm/normalize.py:62: UserWarning: Possible clipped samples in output.\n",
      "  warnings.warn(\"Possible clipped samples in output.\")\n"
     ]
    },
    {
     "name": "stdout",
     "output_type": "stream",
     "text": [
      "WhiteNoise is 60dB. The HAAQI value is 0.2\n",
      "WhiteNoise is 60dB. The HAAQI value is 0.91\n",
      "After LUFS, the mixing ouput in the RMS, Total: -9.39dB, Clipping Ratio&Cliped Num: (0.0010856009070294784, 383)\n"
     ]
    },
    {
     "name": "stderr",
     "output_type": "stream",
     "text": [
      "/root/anaconda3/lib/python3.11/site-packages/pyloudnorm/normalize.py:62: UserWarning: Possible clipped samples in output.\n",
      "  warnings.warn(\"Possible clipped samples in output.\")\n"
     ]
    },
    {
     "name": "stdout",
     "output_type": "stream",
     "text": [
      "WhiteNoise is 61dB. The HAAQI value is 0.2\n",
      "WhiteNoise is 61dB. The HAAQI value is 0.91\n",
      "After LUFS, the mixing ouput in the RMS, Total: -9.39dB, Clipping Ratio&Cliped Num: (0.0010827664399092971, 382)\n"
     ]
    },
    {
     "name": "stderr",
     "output_type": "stream",
     "text": [
      "/root/anaconda3/lib/python3.11/site-packages/pyloudnorm/normalize.py:62: UserWarning: Possible clipped samples in output.\n",
      "  warnings.warn(\"Possible clipped samples in output.\")\n"
     ]
    },
    {
     "name": "stdout",
     "output_type": "stream",
     "text": [
      "WhiteNoise is 62dB. The HAAQI value is 0.2\n",
      "WhiteNoise is 62dB. The HAAQI value is 0.92\n",
      "After LUFS, the mixing ouput in the RMS, Total: -9.39dB, Clipping Ratio&Cliped Num: (0.0010799319727891157, 381)\n"
     ]
    },
    {
     "name": "stderr",
     "output_type": "stream",
     "text": [
      "/root/anaconda3/lib/python3.11/site-packages/pyloudnorm/normalize.py:62: UserWarning: Possible clipped samples in output.\n",
      "  warnings.warn(\"Possible clipped samples in output.\")\n"
     ]
    },
    {
     "name": "stdout",
     "output_type": "stream",
     "text": [
      "WhiteNoise is 63dB. The HAAQI value is 0.2\n",
      "WhiteNoise is 63dB. The HAAQI value is 0.92\n",
      "After LUFS, the mixing ouput in the RMS, Total: -9.39dB, Clipping Ratio&Cliped Num: (0.0010827664399092971, 382)\n"
     ]
    },
    {
     "name": "stderr",
     "output_type": "stream",
     "text": [
      "/root/anaconda3/lib/python3.11/site-packages/pyloudnorm/normalize.py:62: UserWarning: Possible clipped samples in output.\n",
      "  warnings.warn(\"Possible clipped samples in output.\")\n"
     ]
    },
    {
     "name": "stdout",
     "output_type": "stream",
     "text": [
      "WhiteNoise is 64dB. The HAAQI value is 0.2\n",
      "WhiteNoise is 64dB. The HAAQI value is 0.92\n",
      "After LUFS, the mixing ouput in the RMS, Total: -9.39dB, Clipping Ratio&Cliped Num: (0.0010799319727891157, 381)\n"
     ]
    },
    {
     "name": "stderr",
     "output_type": "stream",
     "text": [
      "/root/anaconda3/lib/python3.11/site-packages/pyloudnorm/normalize.py:62: UserWarning: Possible clipped samples in output.\n",
      "  warnings.warn(\"Possible clipped samples in output.\")\n"
     ]
    },
    {
     "name": "stdout",
     "output_type": "stream",
     "text": [
      "WhiteNoise is 65dB. The HAAQI value is 0.2\n",
      "WhiteNoise is 65dB. The HAAQI value is 0.92\n",
      "After LUFS, the mixing ouput in the RMS, Total: -9.39dB, Clipping Ratio&Cliped Num: (0.0010799319727891157, 381)\n"
     ]
    },
    {
     "name": "stderr",
     "output_type": "stream",
     "text": [
      "/root/anaconda3/lib/python3.11/site-packages/pyloudnorm/normalize.py:62: UserWarning: Possible clipped samples in output.\n",
      "  warnings.warn(\"Possible clipped samples in output.\")\n"
     ]
    },
    {
     "name": "stdout",
     "output_type": "stream",
     "text": [
      "WhiteNoise is 66dB. The HAAQI value is 0.2\n",
      "WhiteNoise is 66dB. The HAAQI value is 0.93\n",
      "After LUFS, the mixing ouput in the RMS, Total: -9.39dB, Clipping Ratio&Cliped Num: (0.0010799319727891157, 381)\n"
     ]
    },
    {
     "name": "stderr",
     "output_type": "stream",
     "text": [
      "/root/anaconda3/lib/python3.11/site-packages/pyloudnorm/normalize.py:62: UserWarning: Possible clipped samples in output.\n",
      "  warnings.warn(\"Possible clipped samples in output.\")\n"
     ]
    },
    {
     "name": "stdout",
     "output_type": "stream",
     "text": [
      "WhiteNoise is 67dB. The HAAQI value is 0.2\n",
      "WhiteNoise is 67dB. The HAAQI value is 0.93\n",
      "After LUFS, the mixing ouput in the RMS, Total: -9.39dB, Clipping Ratio&Cliped Num: (0.0010799319727891157, 381)\n"
     ]
    },
    {
     "name": "stderr",
     "output_type": "stream",
     "text": [
      "/root/anaconda3/lib/python3.11/site-packages/pyloudnorm/normalize.py:62: UserWarning: Possible clipped samples in output.\n",
      "  warnings.warn(\"Possible clipped samples in output.\")\n"
     ]
    },
    {
     "name": "stdout",
     "output_type": "stream",
     "text": [
      "WhiteNoise is 68dB. The HAAQI value is 0.2\n",
      "WhiteNoise is 68dB. The HAAQI value is 0.94\n",
      "After LUFS, the mixing ouput in the RMS, Total: -9.39dB, Clipping Ratio&Cliped Num: (0.0010827664399092971, 382)\n"
     ]
    },
    {
     "name": "stderr",
     "output_type": "stream",
     "text": [
      "/root/anaconda3/lib/python3.11/site-packages/pyloudnorm/normalize.py:62: UserWarning: Possible clipped samples in output.\n",
      "  warnings.warn(\"Possible clipped samples in output.\")\n"
     ]
    },
    {
     "name": "stdout",
     "output_type": "stream",
     "text": [
      "WhiteNoise is 69dB. The HAAQI value is 0.2\n",
      "WhiteNoise is 69dB. The HAAQI value is 0.93\n",
      "After LUFS, the mixing ouput in the RMS, Total: -9.39dB, Clipping Ratio&Cliped Num: (0.0010799319727891157, 381)\n"
     ]
    },
    {
     "name": "stderr",
     "output_type": "stream",
     "text": [
      "/root/anaconda3/lib/python3.11/site-packages/pyloudnorm/normalize.py:62: UserWarning: Possible clipped samples in output.\n",
      "  warnings.warn(\"Possible clipped samples in output.\")\n"
     ]
    },
    {
     "name": "stdout",
     "output_type": "stream",
     "text": [
      "WhiteNoise is 70dB. The HAAQI value is 0.2\n",
      "WhiteNoise is 70dB. The HAAQI value is 0.94\n",
      "After LUFS, the mixing ouput in the RMS, Total: -9.39dB, Clipping Ratio&Cliped Num: (0.0010799319727891157, 381)\n"
     ]
    },
    {
     "name": "stderr",
     "output_type": "stream",
     "text": [
      "/root/anaconda3/lib/python3.11/site-packages/pyloudnorm/normalize.py:62: UserWarning: Possible clipped samples in output.\n",
      "  warnings.warn(\"Possible clipped samples in output.\")\n"
     ]
    },
    {
     "name": "stdout",
     "output_type": "stream",
     "text": [
      "WhiteNoise is 71dB. The HAAQI value is 0.2\n",
      "WhiteNoise is 71dB. The HAAQI value is 0.95\n",
      "After LUFS, the mixing ouput in the RMS, Total: -9.39dB, Clipping Ratio&Cliped Num: (0.0010799319727891157, 381)\n"
     ]
    },
    {
     "name": "stderr",
     "output_type": "stream",
     "text": [
      "/root/anaconda3/lib/python3.11/site-packages/pyloudnorm/normalize.py:62: UserWarning: Possible clipped samples in output.\n",
      "  warnings.warn(\"Possible clipped samples in output.\")\n"
     ]
    },
    {
     "name": "stdout",
     "output_type": "stream",
     "text": [
      "WhiteNoise is 72dB. The HAAQI value is 0.2\n",
      "WhiteNoise is 72dB. The HAAQI value is 0.95\n",
      "After LUFS, the mixing ouput in the RMS, Total: -9.39dB, Clipping Ratio&Cliped Num: (0.0010799319727891157, 381)\n"
     ]
    },
    {
     "name": "stderr",
     "output_type": "stream",
     "text": [
      "/root/anaconda3/lib/python3.11/site-packages/pyloudnorm/normalize.py:62: UserWarning: Possible clipped samples in output.\n",
      "  warnings.warn(\"Possible clipped samples in output.\")\n"
     ]
    },
    {
     "name": "stdout",
     "output_type": "stream",
     "text": [
      "WhiteNoise is 73dB. The HAAQI value is 0.2\n",
      "WhiteNoise is 73dB. The HAAQI value is 0.95\n",
      "After LUFS, the mixing ouput in the RMS, Total: -9.39dB, Clipping Ratio&Cliped Num: (0.0010799319727891157, 381)\n"
     ]
    },
    {
     "name": "stderr",
     "output_type": "stream",
     "text": [
      "/root/anaconda3/lib/python3.11/site-packages/pyloudnorm/normalize.py:62: UserWarning: Possible clipped samples in output.\n",
      "  warnings.warn(\"Possible clipped samples in output.\")\n"
     ]
    },
    {
     "name": "stdout",
     "output_type": "stream",
     "text": [
      "WhiteNoise is 74dB. The HAAQI value is 0.2\n",
      "WhiteNoise is 74dB. The HAAQI value is 0.95\n",
      "After LUFS, the mixing ouput in the RMS, Total: -9.39dB, Clipping Ratio&Cliped Num: (0.0010799319727891157, 381)\n"
     ]
    },
    {
     "name": "stderr",
     "output_type": "stream",
     "text": [
      "/root/anaconda3/lib/python3.11/site-packages/pyloudnorm/normalize.py:62: UserWarning: Possible clipped samples in output.\n",
      "  warnings.warn(\"Possible clipped samples in output.\")\n"
     ]
    },
    {
     "name": "stdout",
     "output_type": "stream",
     "text": [
      "WhiteNoise is 75dB. The HAAQI value is 0.2\n",
      "WhiteNoise is 75dB. The HAAQI value is 0.95\n",
      "After LUFS, the mixing ouput in the RMS, Total: -9.39dB, Clipping Ratio&Cliped Num: (0.0010799319727891157, 381)\n"
     ]
    },
    {
     "name": "stderr",
     "output_type": "stream",
     "text": [
      "/root/anaconda3/lib/python3.11/site-packages/pyloudnorm/normalize.py:62: UserWarning: Possible clipped samples in output.\n",
      "  warnings.warn(\"Possible clipped samples in output.\")\n"
     ]
    },
    {
     "name": "stdout",
     "output_type": "stream",
     "text": [
      "WhiteNoise is 76dB. The HAAQI value is 0.2\n",
      "WhiteNoise is 76dB. The HAAQI value is 0.95\n",
      "After LUFS, the mixing ouput in the RMS, Total: -9.39dB, Clipping Ratio&Cliped Num: (0.0010827664399092971, 382)\n"
     ]
    },
    {
     "name": "stderr",
     "output_type": "stream",
     "text": [
      "/root/anaconda3/lib/python3.11/site-packages/pyloudnorm/normalize.py:62: UserWarning: Possible clipped samples in output.\n",
      "  warnings.warn(\"Possible clipped samples in output.\")\n"
     ]
    },
    {
     "name": "stdout",
     "output_type": "stream",
     "text": [
      "WhiteNoise is 77dB. The HAAQI value is 0.2\n",
      "WhiteNoise is 77dB. The HAAQI value is 0.96\n",
      "After LUFS, the mixing ouput in the RMS, Total: -9.39dB, Clipping Ratio&Cliped Num: (0.0010799319727891157, 381)\n"
     ]
    },
    {
     "name": "stderr",
     "output_type": "stream",
     "text": [
      "/root/anaconda3/lib/python3.11/site-packages/pyloudnorm/normalize.py:62: UserWarning: Possible clipped samples in output.\n",
      "  warnings.warn(\"Possible clipped samples in output.\")\n"
     ]
    },
    {
     "name": "stdout",
     "output_type": "stream",
     "text": [
      "WhiteNoise is 78dB. The HAAQI value is 0.2\n",
      "WhiteNoise is 78dB. The HAAQI value is 0.96\n",
      "After LUFS, the mixing ouput in the RMS, Total: -9.39dB, Clipping Ratio&Cliped Num: (0.0010799319727891157, 381)\n"
     ]
    },
    {
     "name": "stderr",
     "output_type": "stream",
     "text": [
      "/root/anaconda3/lib/python3.11/site-packages/pyloudnorm/normalize.py:62: UserWarning: Possible clipped samples in output.\n",
      "  warnings.warn(\"Possible clipped samples in output.\")\n"
     ]
    },
    {
     "name": "stdout",
     "output_type": "stream",
     "text": [
      "WhiteNoise is 79dB. The HAAQI value is 0.2\n",
      "WhiteNoise is 79dB. The HAAQI value is 0.96\n",
      "After LUFS, the mixing ouput in the RMS, Total: -9.39dB, Clipping Ratio&Cliped Num: (0.0010799319727891157, 381)\n"
     ]
    },
    {
     "name": "stderr",
     "output_type": "stream",
     "text": [
      "/root/anaconda3/lib/python3.11/site-packages/pyloudnorm/normalize.py:62: UserWarning: Possible clipped samples in output.\n",
      "  warnings.warn(\"Possible clipped samples in output.\")\n"
     ]
    },
    {
     "name": "stdout",
     "output_type": "stream",
     "text": [
      "WhiteNoise is 80dB. The HAAQI value is 0.2\n",
      "WhiteNoise is 80dB. The HAAQI value is 0.96\n",
      "After LUFS, the mixing ouput in the RMS, Total: -9.39dB, Clipping Ratio&Cliped Num: (0.0010799319727891157, 381)\n"
     ]
    },
    {
     "name": "stderr",
     "output_type": "stream",
     "text": [
      "/root/anaconda3/lib/python3.11/site-packages/pyloudnorm/normalize.py:62: UserWarning: Possible clipped samples in output.\n",
      "  warnings.warn(\"Possible clipped samples in output.\")\n"
     ]
    },
    {
     "name": "stdout",
     "output_type": "stream",
     "text": [
      "WhiteNoise is 81dB. The HAAQI value is 0.2\n",
      "WhiteNoise is 81dB. The HAAQI value is 0.97\n",
      "After LUFS, the mixing ouput in the RMS, Total: -9.39dB, Clipping Ratio&Cliped Num: (0.0010799319727891157, 381)\n"
     ]
    },
    {
     "name": "stderr",
     "output_type": "stream",
     "text": [
      "/root/anaconda3/lib/python3.11/site-packages/pyloudnorm/normalize.py:62: UserWarning: Possible clipped samples in output.\n",
      "  warnings.warn(\"Possible clipped samples in output.\")\n"
     ]
    },
    {
     "name": "stdout",
     "output_type": "stream",
     "text": [
      "WhiteNoise is 82dB. The HAAQI value is 0.2\n",
      "WhiteNoise is 82dB. The HAAQI value is 0.97\n",
      "After LUFS, the mixing ouput in the RMS, Total: -9.39dB, Clipping Ratio&Cliped Num: (0.0010799319727891157, 381)\n"
     ]
    },
    {
     "name": "stderr",
     "output_type": "stream",
     "text": [
      "/root/anaconda3/lib/python3.11/site-packages/pyloudnorm/normalize.py:62: UserWarning: Possible clipped samples in output.\n",
      "  warnings.warn(\"Possible clipped samples in output.\")\n"
     ]
    },
    {
     "name": "stdout",
     "output_type": "stream",
     "text": [
      "WhiteNoise is 83dB. The HAAQI value is 0.2\n",
      "WhiteNoise is 83dB. The HAAQI value is 0.96\n",
      "After LUFS, the mixing ouput in the RMS, Total: -9.39dB, Clipping Ratio&Cliped Num: (0.0010799319727891157, 381)\n"
     ]
    },
    {
     "name": "stderr",
     "output_type": "stream",
     "text": [
      "/root/anaconda3/lib/python3.11/site-packages/pyloudnorm/normalize.py:62: UserWarning: Possible clipped samples in output.\n",
      "  warnings.warn(\"Possible clipped samples in output.\")\n"
     ]
    },
    {
     "name": "stdout",
     "output_type": "stream",
     "text": [
      "WhiteNoise is 84dB. The HAAQI value is 0.2\n",
      "WhiteNoise is 84dB. The HAAQI value is 0.97\n",
      "After LUFS, the mixing ouput in the RMS, Total: -9.39dB, Clipping Ratio&Cliped Num: (0.0010799319727891157, 381)\n"
     ]
    },
    {
     "name": "stderr",
     "output_type": "stream",
     "text": [
      "/root/anaconda3/lib/python3.11/site-packages/pyloudnorm/normalize.py:62: UserWarning: Possible clipped samples in output.\n",
      "  warnings.warn(\"Possible clipped samples in output.\")\n"
     ]
    },
    {
     "name": "stdout",
     "output_type": "stream",
     "text": [
      "WhiteNoise is 85dB. The HAAQI value is 0.2\n",
      "WhiteNoise is 85dB. The HAAQI value is 0.97\n",
      "After LUFS, the mixing ouput in the RMS, Total: -9.39dB, Clipping Ratio&Cliped Num: (0.0010799319727891157, 381)\n"
     ]
    },
    {
     "name": "stderr",
     "output_type": "stream",
     "text": [
      "/root/anaconda3/lib/python3.11/site-packages/pyloudnorm/normalize.py:62: UserWarning: Possible clipped samples in output.\n",
      "  warnings.warn(\"Possible clipped samples in output.\")\n"
     ]
    },
    {
     "name": "stdout",
     "output_type": "stream",
     "text": [
      "WhiteNoise is 86dB. The HAAQI value is 0.2\n",
      "WhiteNoise is 86dB. The HAAQI value is 0.97\n",
      "After LUFS, the mixing ouput in the RMS, Total: -9.39dB, Clipping Ratio&Cliped Num: (0.0010799319727891157, 381)\n"
     ]
    },
    {
     "name": "stderr",
     "output_type": "stream",
     "text": [
      "/root/anaconda3/lib/python3.11/site-packages/pyloudnorm/normalize.py:62: UserWarning: Possible clipped samples in output.\n",
      "  warnings.warn(\"Possible clipped samples in output.\")\n"
     ]
    },
    {
     "name": "stdout",
     "output_type": "stream",
     "text": [
      "WhiteNoise is 87dB. The HAAQI value is 0.2\n",
      "WhiteNoise is 87dB. The HAAQI value is 0.97\n",
      "After LUFS, the mixing ouput in the RMS, Total: -9.39dB, Clipping Ratio&Cliped Num: (0.0010799319727891157, 381)\n"
     ]
    },
    {
     "name": "stderr",
     "output_type": "stream",
     "text": [
      "/root/anaconda3/lib/python3.11/site-packages/pyloudnorm/normalize.py:62: UserWarning: Possible clipped samples in output.\n",
      "  warnings.warn(\"Possible clipped samples in output.\")\n"
     ]
    },
    {
     "name": "stdout",
     "output_type": "stream",
     "text": [
      "WhiteNoise is 88dB. The HAAQI value is 0.2\n",
      "WhiteNoise is 88dB. The HAAQI value is 0.97\n",
      "After LUFS, the mixing ouput in the RMS, Total: -9.39dB, Clipping Ratio&Cliped Num: (0.0010799319727891157, 381)\n"
     ]
    },
    {
     "name": "stderr",
     "output_type": "stream",
     "text": [
      "/root/anaconda3/lib/python3.11/site-packages/pyloudnorm/normalize.py:62: UserWarning: Possible clipped samples in output.\n",
      "  warnings.warn(\"Possible clipped samples in output.\")\n"
     ]
    },
    {
     "name": "stdout",
     "output_type": "stream",
     "text": [
      "WhiteNoise is 89dB. The HAAQI value is 0.2\n",
      "WhiteNoise is 89dB. The HAAQI value is 0.97\n",
      "After LUFS, the mixing ouput in the RMS, Total: -9.39dB, Clipping Ratio&Cliped Num: (0.0010799319727891157, 381)\n"
     ]
    },
    {
     "name": "stderr",
     "output_type": "stream",
     "text": [
      "/root/anaconda3/lib/python3.11/site-packages/pyloudnorm/normalize.py:62: UserWarning: Possible clipped samples in output.\n",
      "  warnings.warn(\"Possible clipped samples in output.\")\n"
     ]
    },
    {
     "name": "stdout",
     "output_type": "stream",
     "text": [
      "WhiteNoise is 90dB. The HAAQI value is 0.2\n",
      "WhiteNoise is 90dB. The HAAQI value is 0.97\n",
      "After LUFS, the mixing ouput in the RMS, Total: -9.39dB, Clipping Ratio&Cliped Num: (0.0010799319727891157, 381)\n"
     ]
    },
    {
     "name": "stderr",
     "output_type": "stream",
     "text": [
      "/root/anaconda3/lib/python3.11/site-packages/pyloudnorm/normalize.py:62: UserWarning: Possible clipped samples in output.\n",
      "  warnings.warn(\"Possible clipped samples in output.\")\n"
     ]
    },
    {
     "name": "stdout",
     "output_type": "stream",
     "text": [
      "WhiteNoise is 91dB. The HAAQI value is 0.2\n",
      "WhiteNoise is 91dB. The HAAQI value is 0.97\n",
      "After LUFS, the mixing ouput in the RMS, Total: -9.39dB, Clipping Ratio&Cliped Num: (0.0010799319727891157, 381)\n"
     ]
    },
    {
     "name": "stderr",
     "output_type": "stream",
     "text": [
      "/root/anaconda3/lib/python3.11/site-packages/pyloudnorm/normalize.py:62: UserWarning: Possible clipped samples in output.\n",
      "  warnings.warn(\"Possible clipped samples in output.\")\n"
     ]
    },
    {
     "name": "stdout",
     "output_type": "stream",
     "text": [
      "WhiteNoise is 92dB. The HAAQI value is 0.2\n",
      "WhiteNoise is 92dB. The HAAQI value is 0.97\n",
      "After LUFS, the mixing ouput in the RMS, Total: -9.39dB, Clipping Ratio&Cliped Num: (0.0010799319727891157, 381)\n"
     ]
    },
    {
     "name": "stderr",
     "output_type": "stream",
     "text": [
      "/root/anaconda3/lib/python3.11/site-packages/pyloudnorm/normalize.py:62: UserWarning: Possible clipped samples in output.\n",
      "  warnings.warn(\"Possible clipped samples in output.\")\n"
     ]
    },
    {
     "name": "stdout",
     "output_type": "stream",
     "text": [
      "WhiteNoise is 93dB. The HAAQI value is 0.2\n",
      "WhiteNoise is 93dB. The HAAQI value is 0.98\n",
      "After LUFS, the mixing ouput in the RMS, Total: -9.39dB, Clipping Ratio&Cliped Num: (0.0010799319727891157, 381)\n"
     ]
    },
    {
     "name": "stderr",
     "output_type": "stream",
     "text": [
      "/root/anaconda3/lib/python3.11/site-packages/pyloudnorm/normalize.py:62: UserWarning: Possible clipped samples in output.\n",
      "  warnings.warn(\"Possible clipped samples in output.\")\n"
     ]
    },
    {
     "name": "stdout",
     "output_type": "stream",
     "text": [
      "WhiteNoise is 94dB. The HAAQI value is 0.2\n",
      "WhiteNoise is 94dB. The HAAQI value is 0.97\n",
      "After LUFS, the mixing ouput in the RMS, Total: -9.39dB, Clipping Ratio&Cliped Num: (0.0010799319727891157, 381)\n"
     ]
    },
    {
     "name": "stderr",
     "output_type": "stream",
     "text": [
      "/root/anaconda3/lib/python3.11/site-packages/pyloudnorm/normalize.py:62: UserWarning: Possible clipped samples in output.\n",
      "  warnings.warn(\"Possible clipped samples in output.\")\n"
     ]
    },
    {
     "name": "stdout",
     "output_type": "stream",
     "text": [
      "WhiteNoise is 95dB. The HAAQI value is 0.2\n",
      "WhiteNoise is 95dB. The HAAQI value is 0.97\n",
      "After LUFS, the mixing ouput in the RMS, Total: -9.39dB, Clipping Ratio&Cliped Num: (0.0010799319727891157, 381)\n"
     ]
    },
    {
     "name": "stderr",
     "output_type": "stream",
     "text": [
      "/root/anaconda3/lib/python3.11/site-packages/pyloudnorm/normalize.py:62: UserWarning: Possible clipped samples in output.\n",
      "  warnings.warn(\"Possible clipped samples in output.\")\n"
     ]
    },
    {
     "name": "stdout",
     "output_type": "stream",
     "text": [
      "WhiteNoise is 96dB. The HAAQI value is 0.2\n",
      "WhiteNoise is 96dB. The HAAQI value is 0.98\n",
      "After LUFS, the mixing ouput in the RMS, Total: -9.39dB, Clipping Ratio&Cliped Num: (0.0010799319727891157, 381)\n"
     ]
    },
    {
     "name": "stderr",
     "output_type": "stream",
     "text": [
      "/root/anaconda3/lib/python3.11/site-packages/pyloudnorm/normalize.py:62: UserWarning: Possible clipped samples in output.\n",
      "  warnings.warn(\"Possible clipped samples in output.\")\n"
     ]
    },
    {
     "name": "stdout",
     "output_type": "stream",
     "text": [
      "WhiteNoise is 97dB. The HAAQI value is 0.2\n",
      "WhiteNoise is 97dB. The HAAQI value is 0.98\n",
      "After LUFS, the mixing ouput in the RMS, Total: -9.39dB, Clipping Ratio&Cliped Num: (0.0010799319727891157, 381)\n"
     ]
    },
    {
     "name": "stderr",
     "output_type": "stream",
     "text": [
      "/root/anaconda3/lib/python3.11/site-packages/pyloudnorm/normalize.py:62: UserWarning: Possible clipped samples in output.\n",
      "  warnings.warn(\"Possible clipped samples in output.\")\n"
     ]
    },
    {
     "name": "stdout",
     "output_type": "stream",
     "text": [
      "WhiteNoise is 98dB. The HAAQI value is 0.2\n",
      "WhiteNoise is 98dB. The HAAQI value is 0.98\n",
      "After LUFS, the mixing ouput in the RMS, Total: -9.39dB, Clipping Ratio&Cliped Num: (0.0010799319727891157, 381)\n"
     ]
    },
    {
     "name": "stderr",
     "output_type": "stream",
     "text": [
      "/root/anaconda3/lib/python3.11/site-packages/pyloudnorm/normalize.py:62: UserWarning: Possible clipped samples in output.\n",
      "  warnings.warn(\"Possible clipped samples in output.\")\n"
     ]
    },
    {
     "name": "stdout",
     "output_type": "stream",
     "text": [
      "WhiteNoise is 99dB. The HAAQI value is 0.2\n",
      "WhiteNoise is 99dB. The HAAQI value is 0.98\n",
      "After LUFS, the mixing ouput in the RMS, Total: -9.42dB, Clipping Ratio&Cliped Num: (0.0, 0)\n",
      "Clipping percentage is 1%. The HAAQI value is 0.2\n",
      "Clipping percentage is 1%. The HAAQI value is 0.84\n",
      "After LUFS, the mixing ouput in the RMS, Total: -9.46dB, Clipping Ratio&Cliped Num: (0.0, 0)\n",
      "Clipping percentage is 2%. The HAAQI value is 0.2\n",
      "Clipping percentage is 2%. The HAAQI value is 0.79\n",
      "After LUFS, the mixing ouput in the RMS, Total: -9.51dB, Clipping Ratio&Cliped Num: (0.0, 0)\n",
      "Clipping percentage is 3%. The HAAQI value is 0.2\n",
      "Clipping percentage is 3%. The HAAQI value is 0.74\n",
      "After LUFS, the mixing ouput in the RMS, Total: -9.56dB, Clipping Ratio&Cliped Num: (0.0, 0)\n",
      "Clipping percentage is 4%. The HAAQI value is 0.2\n",
      "Clipping percentage is 4%. The HAAQI value is 0.71\n",
      "After LUFS, the mixing ouput in the RMS, Total: -9.61dB, Clipping Ratio&Cliped Num: (0.0, 0)\n",
      "Clipping percentage is 5%. The HAAQI value is 0.2\n",
      "Clipping percentage is 5%. The HAAQI value is 0.67\n",
      "After LUFS, the mixing ouput in the RMS, Total: -9.66dB, Clipping Ratio&Cliped Num: (0.0, 0)\n",
      "Clipping percentage is 6%. The HAAQI value is 0.2\n",
      "Clipping percentage is 6%. The HAAQI value is 0.65\n",
      "After LUFS, the mixing ouput in the RMS, Total: -9.7dB, Clipping Ratio&Cliped Num: (0.0, 0)\n",
      "Clipping percentage is 7%. The HAAQI value is 0.2\n",
      "Clipping percentage is 7%. The HAAQI value is 0.63\n",
      "After LUFS, the mixing ouput in the RMS, Total: -9.73dB, Clipping Ratio&Cliped Num: (0.0, 0)\n",
      "Clipping percentage is 8%. The HAAQI value is 0.2\n",
      "Clipping percentage is 8%. The HAAQI value is 0.6\n",
      "After LUFS, the mixing ouput in the RMS, Total: -9.77dB, Clipping Ratio&Cliped Num: (0.0, 0)\n",
      "Clipping percentage is 9%. The HAAQI value is 0.2\n",
      "Clipping percentage is 9%. The HAAQI value is 0.59\n",
      "After LUFS, the mixing ouput in the RMS, Total: -9.81dB, Clipping Ratio&Cliped Num: (0.0, 0)\n",
      "Clipping percentage is 10%. The HAAQI value is 0.2\n",
      "Clipping percentage is 10%. The HAAQI value is 0.57\n",
      "After LUFS, the mixing ouput in the RMS, Total: -9.84dB, Clipping Ratio&Cliped Num: (0.0, 0)\n",
      "Clipping percentage is 11%. The HAAQI value is 0.2\n",
      "Clipping percentage is 11%. The HAAQI value is 0.56\n",
      "After LUFS, the mixing ouput in the RMS, Total: -9.87dB, Clipping Ratio&Cliped Num: (0.0, 0)\n",
      "Clipping percentage is 12%. The HAAQI value is 0.2\n",
      "Clipping percentage is 12%. The HAAQI value is 0.54\n",
      "After LUFS, the mixing ouput in the RMS, Total: -9.9dB, Clipping Ratio&Cliped Num: (0.0, 0)\n",
      "Clipping percentage is 13%. The HAAQI value is 0.2\n",
      "Clipping percentage is 13%. The HAAQI value is 0.53\n",
      "After LUFS, the mixing ouput in the RMS, Total: -9.93dB, Clipping Ratio&Cliped Num: (0.0, 0)\n",
      "Clipping percentage is 14%. The HAAQI value is 0.2\n",
      "Clipping percentage is 14%. The HAAQI value is 0.51\n",
      "After LUFS, the mixing ouput in the RMS, Total: -9.95dB, Clipping Ratio&Cliped Num: (0.0, 0)\n",
      "Clipping percentage is 15%. The HAAQI value is 0.2\n",
      "Clipping percentage is 15%. The HAAQI value is 0.5\n",
      "After LUFS, the mixing ouput in the RMS, Total: -9.98dB, Clipping Ratio&Cliped Num: (0.0, 0)\n",
      "Clipping percentage is 16%. The HAAQI value is 0.2\n",
      "Clipping percentage is 16%. The HAAQI value is 0.48\n",
      "After LUFS, the mixing ouput in the RMS, Total: -10.0dB, Clipping Ratio&Cliped Num: (0.0, 0)\n",
      "Clipping percentage is 17%. The HAAQI value is 0.2\n",
      "Clipping percentage is 17%. The HAAQI value is 0.48\n",
      "After LUFS, the mixing ouput in the RMS, Total: -10.03dB, Clipping Ratio&Cliped Num: (0.0, 0)\n",
      "Clipping percentage is 18%. The HAAQI value is 0.2\n",
      "Clipping percentage is 18%. The HAAQI value is 0.46\n",
      "After LUFS, the mixing ouput in the RMS, Total: -10.05dB, Clipping Ratio&Cliped Num: (0.0, 0)\n",
      "Clipping percentage is 19%. The HAAQI value is 0.2\n",
      "Clipping percentage is 19%. The HAAQI value is 0.46\n",
      "After LUFS, the mixing ouput in the RMS, Total: -10.07dB, Clipping Ratio&Cliped Num: (0.0, 0)\n",
      "Clipping percentage is 20%. The HAAQI value is 0.2\n",
      "Clipping percentage is 20%. The HAAQI value is 0.45\n",
      "After LUFS, the mixing ouput in the RMS, Total: -10.09dB, Clipping Ratio&Cliped Num: (0.0, 0)\n",
      "Clipping percentage is 21%. The HAAQI value is 0.2\n",
      "Clipping percentage is 21%. The HAAQI value is 0.44\n",
      "After LUFS, the mixing ouput in the RMS, Total: -10.11dB, Clipping Ratio&Cliped Num: (0.0, 0)\n",
      "Clipping percentage is 22%. The HAAQI value is 0.2\n",
      "Clipping percentage is 22%. The HAAQI value is 0.44\n",
      "After LUFS, the mixing ouput in the RMS, Total: -10.13dB, Clipping Ratio&Cliped Num: (0.0, 0)\n",
      "Clipping percentage is 23%. The HAAQI value is 0.2\n",
      "Clipping percentage is 23%. The HAAQI value is 0.43\n",
      "After LUFS, the mixing ouput in the RMS, Total: -10.15dB, Clipping Ratio&Cliped Num: (0.0, 0)\n",
      "Clipping percentage is 24%. The HAAQI value is 0.2\n",
      "Clipping percentage is 24%. The HAAQI value is 0.42\n",
      "After LUFS, the mixing ouput in the RMS, Total: -10.17dB, Clipping Ratio&Cliped Num: (0.0, 0)\n",
      "Clipping percentage is 25%. The HAAQI value is 0.2\n",
      "Clipping percentage is 25%. The HAAQI value is 0.41\n",
      "After LUFS, the mixing ouput in the RMS, Total: -10.19dB, Clipping Ratio&Cliped Num: (0.0, 0)\n",
      "Clipping percentage is 26%. The HAAQI value is 0.2\n",
      "Clipping percentage is 26%. The HAAQI value is 0.4\n",
      "After LUFS, the mixing ouput in the RMS, Total: -10.21dB, Clipping Ratio&Cliped Num: (0.0, 0)\n",
      "Clipping percentage is 27%. The HAAQI value is 0.2\n",
      "Clipping percentage is 27%. The HAAQI value is 0.4\n",
      "After LUFS, the mixing ouput in the RMS, Total: -10.22dB, Clipping Ratio&Cliped Num: (0.0, 0)\n",
      "Clipping percentage is 28%. The HAAQI value is 0.2\n",
      "Clipping percentage is 28%. The HAAQI value is 0.39\n",
      "After LUFS, the mixing ouput in the RMS, Total: -10.24dB, Clipping Ratio&Cliped Num: (0.0, 0)\n",
      "Clipping percentage is 29%. The HAAQI value is 0.2\n",
      "Clipping percentage is 29%. The HAAQI value is 0.39\n",
      "After LUFS, the mixing ouput in the RMS, Total: -10.26dB, Clipping Ratio&Cliped Num: (0.0, 0)\n",
      "Clipping percentage is 30%. The HAAQI value is 0.2\n",
      "Clipping percentage is 30%. The HAAQI value is 0.38\n",
      "After LUFS, the mixing ouput in the RMS, Total: -10.27dB, Clipping Ratio&Cliped Num: (0.0, 0)\n",
      "Clipping percentage is 31%. The HAAQI value is 0.2\n",
      "Clipping percentage is 31%. The HAAQI value is 0.37\n",
      "After LUFS, the mixing ouput in the RMS, Total: -10.29dB, Clipping Ratio&Cliped Num: (0.0, 0)\n",
      "Clipping percentage is 32%. The HAAQI value is 0.2\n",
      "Clipping percentage is 32%. The HAAQI value is 0.36\n",
      "After LUFS, the mixing ouput in the RMS, Total: -10.3dB, Clipping Ratio&Cliped Num: (0.0, 0)\n",
      "Clipping percentage is 33%. The HAAQI value is 0.2\n",
      "Clipping percentage is 33%. The HAAQI value is 0.36\n",
      "After LUFS, the mixing ouput in the RMS, Total: -10.32dB, Clipping Ratio&Cliped Num: (0.0, 0)\n",
      "Clipping percentage is 34%. The HAAQI value is 0.2\n",
      "Clipping percentage is 34%. The HAAQI value is 0.35\n",
      "After LUFS, the mixing ouput in the RMS, Total: -10.33dB, Clipping Ratio&Cliped Num: (0.0, 0)\n",
      "Clipping percentage is 35%. The HAAQI value is 0.2\n",
      "Clipping percentage is 35%. The HAAQI value is 0.35\n",
      "After LUFS, the mixing ouput in the RMS, Total: -10.35dB, Clipping Ratio&Cliped Num: (0.0, 0)\n",
      "Clipping percentage is 36%. The HAAQI value is 0.2\n",
      "Clipping percentage is 36%. The HAAQI value is 0.34\n",
      "After LUFS, the mixing ouput in the RMS, Total: -10.36dB, Clipping Ratio&Cliped Num: (0.0, 0)\n",
      "Clipping percentage is 37%. The HAAQI value is 0.2\n",
      "Clipping percentage is 37%. The HAAQI value is 0.34\n",
      "After LUFS, the mixing ouput in the RMS, Total: -10.37dB, Clipping Ratio&Cliped Num: (0.0, 0)\n",
      "Clipping percentage is 38%. The HAAQI value is 0.2\n",
      "Clipping percentage is 38%. The HAAQI value is 0.33\n",
      "After LUFS, the mixing ouput in the RMS, Total: -10.39dB, Clipping Ratio&Cliped Num: (0.0, 0)\n",
      "Clipping percentage is 39%. The HAAQI value is 0.2\n",
      "Clipping percentage is 39%. The HAAQI value is 0.33\n",
      "After LUFS, the mixing ouput in the RMS, Total: -10.4dB, Clipping Ratio&Cliped Num: (0.0, 0)\n",
      "Clipping percentage is 40%. The HAAQI value is 0.2\n",
      "Clipping percentage is 40%. The HAAQI value is 0.32\n",
      "After LUFS, the mixing ouput in the RMS, Total: -10.41dB, Clipping Ratio&Cliped Num: (0.0, 0)\n",
      "Clipping percentage is 41%. The HAAQI value is 0.2\n",
      "Clipping percentage is 41%. The HAAQI value is 0.32\n",
      "After LUFS, the mixing ouput in the RMS, Total: -10.43dB, Clipping Ratio&Cliped Num: (0.0, 0)\n",
      "Clipping percentage is 42%. The HAAQI value is 0.2\n",
      "Clipping percentage is 42%. The HAAQI value is 0.32\n",
      "After LUFS, the mixing ouput in the RMS, Total: -10.44dB, Clipping Ratio&Cliped Num: (0.0, 0)\n",
      "Clipping percentage is 43%. The HAAQI value is 0.2\n",
      "Clipping percentage is 43%. The HAAQI value is 0.31\n",
      "After LUFS, the mixing ouput in the RMS, Total: -10.45dB, Clipping Ratio&Cliped Num: (0.0, 0)\n",
      "Clipping percentage is 44%. The HAAQI value is 0.2\n",
      "Clipping percentage is 44%. The HAAQI value is 0.31\n",
      "After LUFS, the mixing ouput in the RMS, Total: -10.47dB, Clipping Ratio&Cliped Num: (0.0, 0)\n",
      "Clipping percentage is 45%. The HAAQI value is 0.2\n",
      "Clipping percentage is 45%. The HAAQI value is 0.31\n",
      "After LUFS, the mixing ouput in the RMS, Total: -10.48dB, Clipping Ratio&Cliped Num: (0.0, 0)\n",
      "Clipping percentage is 46%. The HAAQI value is 0.2\n",
      "Clipping percentage is 46%. The HAAQI value is 0.3\n",
      "After LUFS, the mixing ouput in the RMS, Total: -10.49dB, Clipping Ratio&Cliped Num: (0.0, 0)\n",
      "Clipping percentage is 47%. The HAAQI value is 0.2\n",
      "Clipping percentage is 47%. The HAAQI value is 0.3\n",
      "After LUFS, the mixing ouput in the RMS, Total: -10.5dB, Clipping Ratio&Cliped Num: (0.0, 0)\n",
      "Clipping percentage is 48%. The HAAQI value is 0.2\n",
      "Clipping percentage is 48%. The HAAQI value is 0.3\n",
      "After LUFS, the mixing ouput in the RMS, Total: -10.52dB, Clipping Ratio&Cliped Num: (0.0, 0)\n",
      "Clipping percentage is 49%. The HAAQI value is 0.2\n",
      "Clipping percentage is 49%. The HAAQI value is 0.29\n",
      "After LUFS, the mixing ouput in the RMS, Total: -10.53dB, Clipping Ratio&Cliped Num: (0.0, 0)\n",
      "Clipping percentage is 50%. The HAAQI value is 0.2\n",
      "Clipping percentage is 50%. The HAAQI value is 0.29\n",
      "After LUFS, the mixing ouput in the RMS, Total: -10.54dB, Clipping Ratio&Cliped Num: (0.0, 0)\n",
      "Clipping percentage is 51%. The HAAQI value is 0.2\n",
      "Clipping percentage is 51%. The HAAQI value is 0.29\n",
      "After LUFS, the mixing ouput in the RMS, Total: -10.56dB, Clipping Ratio&Cliped Num: (0.0, 0)\n",
      "Clipping percentage is 52%. The HAAQI value is 0.2\n",
      "Clipping percentage is 52%. The HAAQI value is 0.28\n",
      "After LUFS, the mixing ouput in the RMS, Total: -10.57dB, Clipping Ratio&Cliped Num: (0.0, 0)\n",
      "Clipping percentage is 53%. The HAAQI value is 0.2\n",
      "Clipping percentage is 53%. The HAAQI value is 0.29\n",
      "After LUFS, the mixing ouput in the RMS, Total: -10.58dB, Clipping Ratio&Cliped Num: (0.0, 0)\n",
      "Clipping percentage is 54%. The HAAQI value is 0.2\n",
      "Clipping percentage is 54%. The HAAQI value is 0.28\n",
      "After LUFS, the mixing ouput in the RMS, Total: -10.6dB, Clipping Ratio&Cliped Num: (0.0, 0)\n",
      "Clipping percentage is 55%. The HAAQI value is 0.2\n",
      "Clipping percentage is 55%. The HAAQI value is 0.28\n",
      "After LUFS, the mixing ouput in the RMS, Total: -10.61dB, Clipping Ratio&Cliped Num: (0.0, 0)\n",
      "Clipping percentage is 56%. The HAAQI value is 0.2\n",
      "Clipping percentage is 56%. The HAAQI value is 0.28\n",
      "After LUFS, the mixing ouput in the RMS, Total: -10.62dB, Clipping Ratio&Cliped Num: (0.0, 0)\n",
      "Clipping percentage is 57%. The HAAQI value is 0.2\n",
      "Clipping percentage is 57%. The HAAQI value is 0.28\n",
      "After LUFS, the mixing ouput in the RMS, Total: -10.63dB, Clipping Ratio&Cliped Num: (0.0, 0)\n",
      "Clipping percentage is 58%. The HAAQI value is 0.2\n",
      "Clipping percentage is 58%. The HAAQI value is 0.28\n",
      "After LUFS, the mixing ouput in the RMS, Total: -10.65dB, Clipping Ratio&Cliped Num: (0.0, 0)\n",
      "Clipping percentage is 59%. The HAAQI value is 0.2\n",
      "Clipping percentage is 59%. The HAAQI value is 0.27\n",
      "After LUFS, the mixing ouput in the RMS, Total: -10.66dB, Clipping Ratio&Cliped Num: (0.0, 0)\n",
      "Clipping percentage is 60%. The HAAQI value is 0.2\n",
      "Clipping percentage is 60%. The HAAQI value is 0.27\n",
      "After LUFS, the mixing ouput in the RMS, Total: -10.67dB, Clipping Ratio&Cliped Num: (0.0, 0)\n",
      "Clipping percentage is 61%. The HAAQI value is 0.2\n",
      "Clipping percentage is 61%. The HAAQI value is 0.27\n",
      "After LUFS, the mixing ouput in the RMS, Total: -10.69dB, Clipping Ratio&Cliped Num: (0.0, 0)\n",
      "Clipping percentage is 62%. The HAAQI value is 0.2\n",
      "Clipping percentage is 62%. The HAAQI value is 0.27\n",
      "After LUFS, the mixing ouput in the RMS, Total: -10.7dB, Clipping Ratio&Cliped Num: (0.0, 0)\n",
      "Clipping percentage is 63%. The HAAQI value is 0.2\n",
      "Clipping percentage is 63%. The HAAQI value is 0.27\n",
      "After LUFS, the mixing ouput in the RMS, Total: -10.71dB, Clipping Ratio&Cliped Num: (0.0, 0)\n",
      "Clipping percentage is 64%. The HAAQI value is 0.2\n",
      "Clipping percentage is 64%. The HAAQI value is 0.26\n",
      "After LUFS, the mixing ouput in the RMS, Total: -10.72dB, Clipping Ratio&Cliped Num: (0.0, 0)\n",
      "Clipping percentage is 65%. The HAAQI value is 0.2\n",
      "Clipping percentage is 65%. The HAAQI value is 0.26\n",
      "After LUFS, the mixing ouput in the RMS, Total: -10.74dB, Clipping Ratio&Cliped Num: (0.0, 0)\n",
      "Clipping percentage is 66%. The HAAQI value is 0.2\n",
      "Clipping percentage is 66%. The HAAQI value is 0.26\n",
      "After LUFS, the mixing ouput in the RMS, Total: -10.75dB, Clipping Ratio&Cliped Num: (0.0, 0)\n",
      "Clipping percentage is 67%. The HAAQI value is 0.2\n",
      "Clipping percentage is 67%. The HAAQI value is 0.26\n",
      "After LUFS, the mixing ouput in the RMS, Total: -10.76dB, Clipping Ratio&Cliped Num: (0.0, 0)\n",
      "Clipping percentage is 68%. The HAAQI value is 0.2\n",
      "Clipping percentage is 68%. The HAAQI value is 0.26\n",
      "After LUFS, the mixing ouput in the RMS, Total: -10.78dB, Clipping Ratio&Cliped Num: (0.0, 0)\n",
      "Clipping percentage is 69%. The HAAQI value is 0.2\n",
      "Clipping percentage is 69%. The HAAQI value is 0.26\n",
      "After LUFS, the mixing ouput in the RMS, Total: -10.79dB, Clipping Ratio&Cliped Num: (0.0, 0)\n",
      "Clipping percentage is 70%. The HAAQI value is 0.2\n",
      "Clipping percentage is 70%. The HAAQI value is 0.26\n",
      "After LUFS, the mixing ouput in the RMS, Total: -10.8dB, Clipping Ratio&Cliped Num: (0.0, 0)\n",
      "Clipping percentage is 71%. The HAAQI value is 0.2\n",
      "Clipping percentage is 71%. The HAAQI value is 0.26\n",
      "After LUFS, the mixing ouput in the RMS, Total: -10.82dB, Clipping Ratio&Cliped Num: (0.0, 0)\n",
      "Clipping percentage is 72%. The HAAQI value is 0.2\n",
      "Clipping percentage is 72%. The HAAQI value is 0.25\n",
      "After LUFS, the mixing ouput in the RMS, Total: -10.83dB, Clipping Ratio&Cliped Num: (0.0, 0)\n",
      "Clipping percentage is 73%. The HAAQI value is 0.2\n",
      "Clipping percentage is 73%. The HAAQI value is 0.25\n",
      "After LUFS, the mixing ouput in the RMS, Total: -10.85dB, Clipping Ratio&Cliped Num: (0.0, 0)\n",
      "Clipping percentage is 74%. The HAAQI value is 0.2\n",
      "Clipping percentage is 74%. The HAAQI value is 0.25\n",
      "After LUFS, the mixing ouput in the RMS, Total: -10.86dB, Clipping Ratio&Cliped Num: (0.0, 0)\n",
      "Clipping percentage is 75%. The HAAQI value is 0.2\n",
      "Clipping percentage is 75%. The HAAQI value is 0.25\n",
      "After LUFS, the mixing ouput in the RMS, Total: -10.88dB, Clipping Ratio&Cliped Num: (0.0, 0)\n",
      "Clipping percentage is 76%. The HAAQI value is 0.2\n",
      "Clipping percentage is 76%. The HAAQI value is 0.25\n",
      "After LUFS, the mixing ouput in the RMS, Total: -10.89dB, Clipping Ratio&Cliped Num: (0.0, 0)\n",
      "Clipping percentage is 77%. The HAAQI value is 0.2\n",
      "Clipping percentage is 77%. The HAAQI value is 0.25\n",
      "After LUFS, the mixing ouput in the RMS, Total: -10.91dB, Clipping Ratio&Cliped Num: (0.0, 0)\n",
      "Clipping percentage is 78%. The HAAQI value is 0.2\n",
      "Clipping percentage is 78%. The HAAQI value is 0.25\n",
      "After LUFS, the mixing ouput in the RMS, Total: -10.92dB, Clipping Ratio&Cliped Num: (0.0, 0)\n",
      "Clipping percentage is 79%. The HAAQI value is 0.2\n",
      "Clipping percentage is 79%. The HAAQI value is 0.24\n",
      "After LUFS, the mixing ouput in the RMS, Total: -10.94dB, Clipping Ratio&Cliped Num: (0.0, 0)\n",
      "Clipping percentage is 80%. The HAAQI value is 0.2\n",
      "Clipping percentage is 80%. The HAAQI value is 0.24\n",
      "After LUFS, the mixing ouput in the RMS, Total: -10.96dB, Clipping Ratio&Cliped Num: (0.0, 0)\n",
      "Clipping percentage is 81%. The HAAQI value is 0.2\n",
      "Clipping percentage is 81%. The HAAQI value is 0.24\n",
      "After LUFS, the mixing ouput in the RMS, Total: -10.97dB, Clipping Ratio&Cliped Num: (0.0, 0)\n",
      "Clipping percentage is 82%. The HAAQI value is 0.2\n",
      "Clipping percentage is 82%. The HAAQI value is 0.24\n",
      "After LUFS, the mixing ouput in the RMS, Total: -10.99dB, Clipping Ratio&Cliped Num: (0.0, 0)\n",
      "Clipping percentage is 83%. The HAAQI value is 0.2\n",
      "Clipping percentage is 83%. The HAAQI value is 0.24\n",
      "After LUFS, the mixing ouput in the RMS, Total: -11.0dB, Clipping Ratio&Cliped Num: (0.0, 0)\n",
      "Clipping percentage is 84%. The HAAQI value is 0.2\n",
      "Clipping percentage is 84%. The HAAQI value is 0.24\n",
      "After LUFS, the mixing ouput in the RMS, Total: -11.02dB, Clipping Ratio&Cliped Num: (0.0, 0)\n",
      "Clipping percentage is 85%. The HAAQI value is 0.2\n",
      "Clipping percentage is 85%. The HAAQI value is 0.24\n",
      "After LUFS, the mixing ouput in the RMS, Total: -11.03dB, Clipping Ratio&Cliped Num: (0.0, 0)\n",
      "Clipping percentage is 86%. The HAAQI value is 0.19\n",
      "Clipping percentage is 86%. The HAAQI value is 0.24\n",
      "After LUFS, the mixing ouput in the RMS, Total: -11.05dB, Clipping Ratio&Cliped Num: (0.0, 0)\n",
      "Clipping percentage is 87%. The HAAQI value is 0.19\n",
      "Clipping percentage is 87%. The HAAQI value is 0.24\n",
      "After LUFS, the mixing ouput in the RMS, Total: -11.06dB, Clipping Ratio&Cliped Num: (0.0, 0)\n",
      "Clipping percentage is 88%. The HAAQI value is 0.19\n",
      "Clipping percentage is 88%. The HAAQI value is 0.24\n",
      "After LUFS, the mixing ouput in the RMS, Total: -11.08dB, Clipping Ratio&Cliped Num: (0.0, 0)\n",
      "Clipping percentage is 89%. The HAAQI value is 0.19\n",
      "Clipping percentage is 89%. The HAAQI value is 0.24\n",
      "After LUFS, the mixing ouput in the RMS, Total: -11.1dB, Clipping Ratio&Cliped Num: (0.0, 0)\n",
      "Clipping percentage is 90%. The HAAQI value is 0.19\n",
      "Clipping percentage is 90%. The HAAQI value is 0.23\n",
      "After LUFS, the mixing ouput in the RMS, Total: -11.11dB, Clipping Ratio&Cliped Num: (0.0, 0)\n",
      "Clipping percentage is 91%. The HAAQI value is 0.19\n",
      "Clipping percentage is 91%. The HAAQI value is 0.23\n",
      "After LUFS, the mixing ouput in the RMS, Total: -11.12dB, Clipping Ratio&Cliped Num: (0.0, 0)\n",
      "Clipping percentage is 92%. The HAAQI value is 0.19\n",
      "Clipping percentage is 92%. The HAAQI value is 0.23\n",
      "After LUFS, the mixing ouput in the RMS, Total: -11.14dB, Clipping Ratio&Cliped Num: (0.0, 0)\n",
      "Clipping percentage is 93%. The HAAQI value is 0.19\n",
      "Clipping percentage is 93%. The HAAQI value is 0.23\n",
      "After LUFS, the mixing ouput in the RMS, Total: -11.15dB, Clipping Ratio&Cliped Num: (0.0, 0)\n",
      "Clipping percentage is 94%. The HAAQI value is 0.19\n",
      "Clipping percentage is 94%. The HAAQI value is 0.23\n",
      "After LUFS, the mixing ouput in the RMS, Total: -11.16dB, Clipping Ratio&Cliped Num: (0.0, 0)\n",
      "Clipping percentage is 95%. The HAAQI value is 0.19\n",
      "Clipping percentage is 95%. The HAAQI value is 0.23\n",
      "After LUFS, the mixing ouput in the RMS, Total: -11.16dB, Clipping Ratio&Cliped Num: (0.0, 0)\n",
      "Clipping percentage is 96%. The HAAQI value is 0.19\n",
      "Clipping percentage is 96%. The HAAQI value is 0.23\n",
      "After LUFS, the mixing ouput in the RMS, Total: -11.16dB, Clipping Ratio&Cliped Num: (0.0, 0)\n",
      "Clipping percentage is 97%. The HAAQI value is 0.19\n",
      "Clipping percentage is 97%. The HAAQI value is 0.23\n",
      "After LUFS, the mixing ouput in the RMS, Total: -11.09dB, Clipping Ratio&Cliped Num: (0.0, 0)\n",
      "Clipping percentage is 98%. The HAAQI value is 0.19\n",
      "Clipping percentage is 98%. The HAAQI value is 0.23\n",
      "After LUFS, the mixing ouput in the RMS, Total: -10.68dB, Clipping Ratio&Cliped Num: (0.0, 0)\n",
      "Clipping percentage is 99%. The HAAQI value is 0.19\n",
      "Clipping percentage is 99%. The HAAQI value is 0.23\n",
      "There are 11025 packages\n",
      "After LUFS, the mixing ouput in the RMS, Total: -9.39dB, Clipping Ratio&Cliped Num: (0.0010799319727891157, 381)\n"
     ]
    },
    {
     "name": "stderr",
     "output_type": "stream",
     "text": [
      "/root/anaconda3/lib/python3.11/site-packages/pyloudnorm/normalize.py:62: UserWarning: Possible clipped samples in output.\n",
      "  warnings.warn(\"Possible clipped samples in output.\")\n"
     ]
    },
    {
     "name": "stdout",
     "output_type": "stream",
     "text": [
      "Dropout Num is 1. The HAAQI value is 0.2\n",
      "Dropout Num is 1. The HAAQI value is 0.98\n",
      "There are 11025 packages\n",
      "After LUFS, the mixing ouput in the RMS, Total: -9.39dB, Clipping Ratio&Cliped Num: (0.0010799319727891157, 381)\n"
     ]
    },
    {
     "name": "stderr",
     "output_type": "stream",
     "text": [
      "/root/anaconda3/lib/python3.11/site-packages/pyloudnorm/normalize.py:62: UserWarning: Possible clipped samples in output.\n",
      "  warnings.warn(\"Possible clipped samples in output.\")\n"
     ]
    },
    {
     "name": "stdout",
     "output_type": "stream",
     "text": [
      "Dropout Num is 2. The HAAQI value is 0.2\n",
      "Dropout Num is 2. The HAAQI value is 0.98\n",
      "There are 11025 packages\n",
      "After LUFS, the mixing ouput in the RMS, Total: -9.39dB, Clipping Ratio&Cliped Num: (0.0010827664399092971, 382)\n"
     ]
    },
    {
     "name": "stderr",
     "output_type": "stream",
     "text": [
      "/root/anaconda3/lib/python3.11/site-packages/pyloudnorm/normalize.py:62: UserWarning: Possible clipped samples in output.\n",
      "  warnings.warn(\"Possible clipped samples in output.\")\n"
     ]
    },
    {
     "name": "stdout",
     "output_type": "stream",
     "text": [
      "Dropout Num is 3. The HAAQI value is 0.2\n",
      "Dropout Num is 3. The HAAQI value is 0.97\n",
      "There are 11025 packages\n",
      "After LUFS, the mixing ouput in the RMS, Total: -9.39dB, Clipping Ratio&Cliped Num: (0.0010827664399092971, 382)\n"
     ]
    },
    {
     "name": "stderr",
     "output_type": "stream",
     "text": [
      "/root/anaconda3/lib/python3.11/site-packages/pyloudnorm/normalize.py:62: UserWarning: Possible clipped samples in output.\n",
      "  warnings.warn(\"Possible clipped samples in output.\")\n"
     ]
    },
    {
     "name": "stdout",
     "output_type": "stream",
     "text": [
      "Dropout Num is 4. The HAAQI value is 0.2\n",
      "Dropout Num is 4. The HAAQI value is 0.97\n",
      "There are 11025 packages\n",
      "After LUFS, the mixing ouput in the RMS, Total: -9.39dB, Clipping Ratio&Cliped Num: (0.0010856009070294784, 383)\n"
     ]
    },
    {
     "name": "stderr",
     "output_type": "stream",
     "text": [
      "/root/anaconda3/lib/python3.11/site-packages/pyloudnorm/normalize.py:62: UserWarning: Possible clipped samples in output.\n",
      "  warnings.warn(\"Possible clipped samples in output.\")\n"
     ]
    },
    {
     "name": "stdout",
     "output_type": "stream",
     "text": [
      "Dropout Num is 5. The HAAQI value is 0.2\n",
      "Dropout Num is 5. The HAAQI value is 0.96\n",
      "There are 11025 packages\n",
      "After LUFS, the mixing ouput in the RMS, Total: -9.39dB, Clipping Ratio&Cliped Num: (0.0010884353741496598, 384)\n"
     ]
    },
    {
     "name": "stderr",
     "output_type": "stream",
     "text": [
      "/root/anaconda3/lib/python3.11/site-packages/pyloudnorm/normalize.py:62: UserWarning: Possible clipped samples in output.\n",
      "  warnings.warn(\"Possible clipped samples in output.\")\n"
     ]
    },
    {
     "name": "stdout",
     "output_type": "stream",
     "text": [
      "Dropout Num is 6. The HAAQI value is 0.2\n",
      "Dropout Num is 6. The HAAQI value is 0.94\n",
      "There are 11025 packages\n",
      "After LUFS, the mixing ouput in the RMS, Total: -9.39dB, Clipping Ratio&Cliped Num: (0.0010856009070294784, 383)\n"
     ]
    },
    {
     "name": "stderr",
     "output_type": "stream",
     "text": [
      "/root/anaconda3/lib/python3.11/site-packages/pyloudnorm/normalize.py:62: UserWarning: Possible clipped samples in output.\n",
      "  warnings.warn(\"Possible clipped samples in output.\")\n"
     ]
    },
    {
     "name": "stdout",
     "output_type": "stream",
     "text": [
      "Dropout Num is 7. The HAAQI value is 0.2\n",
      "Dropout Num is 7. The HAAQI value is 0.92\n",
      "There are 11025 packages\n",
      "After LUFS, the mixing ouput in the RMS, Total: -9.4dB, Clipping Ratio&Cliped Num: (0.0010827664399092971, 382)\n"
     ]
    },
    {
     "name": "stderr",
     "output_type": "stream",
     "text": [
      "/root/anaconda3/lib/python3.11/site-packages/pyloudnorm/normalize.py:62: UserWarning: Possible clipped samples in output.\n",
      "  warnings.warn(\"Possible clipped samples in output.\")\n"
     ]
    },
    {
     "name": "stdout",
     "output_type": "stream",
     "text": [
      "Dropout Num is 8. The HAAQI value is 0.2\n",
      "Dropout Num is 8. The HAAQI value is 0.95\n",
      "There are 11025 packages\n",
      "After LUFS, the mixing ouput in the RMS, Total: -9.39dB, Clipping Ratio&Cliped Num: (0.0010799319727891157, 381)\n"
     ]
    },
    {
     "name": "stderr",
     "output_type": "stream",
     "text": [
      "/root/anaconda3/lib/python3.11/site-packages/pyloudnorm/normalize.py:62: UserWarning: Possible clipped samples in output.\n",
      "  warnings.warn(\"Possible clipped samples in output.\")\n"
     ]
    },
    {
     "name": "stdout",
     "output_type": "stream",
     "text": [
      "Dropout Num is 9. The HAAQI value is 0.2\n",
      "Dropout Num is 9. The HAAQI value is 0.95\n",
      "There are 11025 packages\n",
      "After LUFS, the mixing ouput in the RMS, Total: -9.39dB, Clipping Ratio&Cliped Num: (0.0010884353741496598, 384)\n"
     ]
    },
    {
     "name": "stderr",
     "output_type": "stream",
     "text": [
      "/root/anaconda3/lib/python3.11/site-packages/pyloudnorm/normalize.py:62: UserWarning: Possible clipped samples in output.\n",
      "  warnings.warn(\"Possible clipped samples in output.\")\n"
     ]
    },
    {
     "name": "stdout",
     "output_type": "stream",
     "text": [
      "Dropout Num is 10. The HAAQI value is 0.2\n",
      "Dropout Num is 10. The HAAQI value is 0.93\n",
      "There are 11025 packages\n",
      "After LUFS, the mixing ouput in the RMS, Total: -9.39dB, Clipping Ratio&Cliped Num: (0.0010827664399092971, 382)\n"
     ]
    },
    {
     "name": "stderr",
     "output_type": "stream",
     "text": [
      "/root/anaconda3/lib/python3.11/site-packages/pyloudnorm/normalize.py:62: UserWarning: Possible clipped samples in output.\n",
      "  warnings.warn(\"Possible clipped samples in output.\")\n"
     ]
    },
    {
     "name": "stdout",
     "output_type": "stream",
     "text": [
      "Dropout Num is 11. The HAAQI value is 0.2\n",
      "Dropout Num is 11. The HAAQI value is 0.94\n",
      "There are 11025 packages\n",
      "After LUFS, the mixing ouput in the RMS, Total: -9.39dB, Clipping Ratio&Cliped Num: (0.0010856009070294784, 383)\n"
     ]
    },
    {
     "name": "stderr",
     "output_type": "stream",
     "text": [
      "/root/anaconda3/lib/python3.11/site-packages/pyloudnorm/normalize.py:62: UserWarning: Possible clipped samples in output.\n",
      "  warnings.warn(\"Possible clipped samples in output.\")\n"
     ]
    },
    {
     "name": "stdout",
     "output_type": "stream",
     "text": [
      "Dropout Num is 12. The HAAQI value is 0.2\n",
      "Dropout Num is 12. The HAAQI value is 0.93\n",
      "There are 11025 packages\n",
      "After LUFS, the mixing ouput in the RMS, Total: -9.39dB, Clipping Ratio&Cliped Num: (0.0010884353741496598, 384)\n"
     ]
    },
    {
     "name": "stderr",
     "output_type": "stream",
     "text": [
      "/root/anaconda3/lib/python3.11/site-packages/pyloudnorm/normalize.py:62: UserWarning: Possible clipped samples in output.\n",
      "  warnings.warn(\"Possible clipped samples in output.\")\n"
     ]
    },
    {
     "name": "stdout",
     "output_type": "stream",
     "text": [
      "Dropout Num is 13. The HAAQI value is 0.2\n",
      "Dropout Num is 13. The HAAQI value is 0.95\n",
      "There are 11025 packages\n",
      "After LUFS, the mixing ouput in the RMS, Total: -9.39dB, Clipping Ratio&Cliped Num: (0.0010827664399092971, 382)\n"
     ]
    },
    {
     "name": "stderr",
     "output_type": "stream",
     "text": [
      "/root/anaconda3/lib/python3.11/site-packages/pyloudnorm/normalize.py:62: UserWarning: Possible clipped samples in output.\n",
      "  warnings.warn(\"Possible clipped samples in output.\")\n"
     ]
    },
    {
     "name": "stdout",
     "output_type": "stream",
     "text": [
      "Dropout Num is 14. The HAAQI value is 0.2\n",
      "Dropout Num is 14. The HAAQI value is 0.94\n",
      "There are 11025 packages\n",
      "After LUFS, the mixing ouput in the RMS, Total: -9.4dB, Clipping Ratio&Cliped Num: (0.0010799319727891157, 381)\n"
     ]
    },
    {
     "name": "stderr",
     "output_type": "stream",
     "text": [
      "/root/anaconda3/lib/python3.11/site-packages/pyloudnorm/normalize.py:62: UserWarning: Possible clipped samples in output.\n",
      "  warnings.warn(\"Possible clipped samples in output.\")\n"
     ]
    },
    {
     "name": "stdout",
     "output_type": "stream",
     "text": [
      "Dropout Num is 15. The HAAQI value is 0.2\n",
      "Dropout Num is 15. The HAAQI value is 0.93\n",
      "There are 11025 packages\n",
      "After LUFS, the mixing ouput in the RMS, Total: -9.39dB, Clipping Ratio&Cliped Num: (0.0010884353741496598, 384)\n"
     ]
    },
    {
     "name": "stderr",
     "output_type": "stream",
     "text": [
      "/root/anaconda3/lib/python3.11/site-packages/pyloudnorm/normalize.py:62: UserWarning: Possible clipped samples in output.\n",
      "  warnings.warn(\"Possible clipped samples in output.\")\n"
     ]
    },
    {
     "name": "stdout",
     "output_type": "stream",
     "text": [
      "Dropout Num is 16. The HAAQI value is 0.2\n",
      "Dropout Num is 16. The HAAQI value is 0.94\n",
      "There are 11025 packages\n",
      "After LUFS, the mixing ouput in the RMS, Total: -9.4dB, Clipping Ratio&Cliped Num: (0.0010884353741496598, 384)\n"
     ]
    },
    {
     "name": "stderr",
     "output_type": "stream",
     "text": [
      "/root/anaconda3/lib/python3.11/site-packages/pyloudnorm/normalize.py:62: UserWarning: Possible clipped samples in output.\n",
      "  warnings.warn(\"Possible clipped samples in output.\")\n"
     ]
    },
    {
     "name": "stdout",
     "output_type": "stream",
     "text": [
      "Dropout Num is 17. The HAAQI value is 0.2\n",
      "Dropout Num is 17. The HAAQI value is 0.89\n",
      "There are 11025 packages\n",
      "After LUFS, the mixing ouput in the RMS, Total: -9.39dB, Clipping Ratio&Cliped Num: (0.0010884353741496598, 384)\n"
     ]
    },
    {
     "name": "stderr",
     "output_type": "stream",
     "text": [
      "/root/anaconda3/lib/python3.11/site-packages/pyloudnorm/normalize.py:62: UserWarning: Possible clipped samples in output.\n",
      "  warnings.warn(\"Possible clipped samples in output.\")\n"
     ]
    },
    {
     "name": "stdout",
     "output_type": "stream",
     "text": [
      "Dropout Num is 18. The HAAQI value is 0.2\n",
      "Dropout Num is 18. The HAAQI value is 0.93\n",
      "There are 11025 packages\n",
      "After LUFS, the mixing ouput in the RMS, Total: -9.39dB, Clipping Ratio&Cliped Num: (0.0010884353741496598, 384)\n"
     ]
    },
    {
     "name": "stderr",
     "output_type": "stream",
     "text": [
      "/root/anaconda3/lib/python3.11/site-packages/pyloudnorm/normalize.py:62: UserWarning: Possible clipped samples in output.\n",
      "  warnings.warn(\"Possible clipped samples in output.\")\n"
     ]
    },
    {
     "name": "stdout",
     "output_type": "stream",
     "text": [
      "Dropout Num is 19. The HAAQI value is 0.2\n",
      "Dropout Num is 19. The HAAQI value is 0.93\n",
      "There are 11025 packages\n",
      "After LUFS, the mixing ouput in the RMS, Total: -9.4dB, Clipping Ratio&Cliped Num: (0.0010856009070294784, 383)\n"
     ]
    },
    {
     "name": "stderr",
     "output_type": "stream",
     "text": [
      "/root/anaconda3/lib/python3.11/site-packages/pyloudnorm/normalize.py:62: UserWarning: Possible clipped samples in output.\n",
      "  warnings.warn(\"Possible clipped samples in output.\")\n"
     ]
    },
    {
     "name": "stdout",
     "output_type": "stream",
     "text": [
      "Dropout Num is 20. The HAAQI value is 0.2\n",
      "Dropout Num is 20. The HAAQI value is 0.9\n",
      "There are 11025 packages\n",
      "After LUFS, the mixing ouput in the RMS, Total: -9.4dB, Clipping Ratio&Cliped Num: (0.0010884353741496598, 384)\n"
     ]
    },
    {
     "name": "stderr",
     "output_type": "stream",
     "text": [
      "/root/anaconda3/lib/python3.11/site-packages/pyloudnorm/normalize.py:62: UserWarning: Possible clipped samples in output.\n",
      "  warnings.warn(\"Possible clipped samples in output.\")\n"
     ]
    },
    {
     "name": "stdout",
     "output_type": "stream",
     "text": [
      "Dropout Num is 21. The HAAQI value is 0.2\n",
      "Dropout Num is 21. The HAAQI value is 0.87\n",
      "There are 11025 packages\n",
      "After LUFS, the mixing ouput in the RMS, Total: -9.39dB, Clipping Ratio&Cliped Num: (0.0010884353741496598, 384)\n"
     ]
    },
    {
     "name": "stderr",
     "output_type": "stream",
     "text": [
      "/root/anaconda3/lib/python3.11/site-packages/pyloudnorm/normalize.py:62: UserWarning: Possible clipped samples in output.\n",
      "  warnings.warn(\"Possible clipped samples in output.\")\n"
     ]
    },
    {
     "name": "stdout",
     "output_type": "stream",
     "text": [
      "Dropout Num is 22. The HAAQI value is 0.2\n",
      "Dropout Num is 22. The HAAQI value is 0.89\n",
      "There are 11025 packages\n",
      "After LUFS, the mixing ouput in the RMS, Total: -9.4dB, Clipping Ratio&Cliped Num: (0.0010856009070294784, 383)\n"
     ]
    },
    {
     "name": "stderr",
     "output_type": "stream",
     "text": [
      "/root/anaconda3/lib/python3.11/site-packages/pyloudnorm/normalize.py:62: UserWarning: Possible clipped samples in output.\n",
      "  warnings.warn(\"Possible clipped samples in output.\")\n"
     ]
    },
    {
     "name": "stdout",
     "output_type": "stream",
     "text": [
      "Dropout Num is 23. The HAAQI value is 0.2\n",
      "Dropout Num is 23. The HAAQI value is 0.91\n",
      "There are 11025 packages\n",
      "After LUFS, the mixing ouput in the RMS, Total: -9.39dB, Clipping Ratio&Cliped Num: (0.0010884353741496598, 384)\n"
     ]
    },
    {
     "name": "stderr",
     "output_type": "stream",
     "text": [
      "/root/anaconda3/lib/python3.11/site-packages/pyloudnorm/normalize.py:62: UserWarning: Possible clipped samples in output.\n",
      "  warnings.warn(\"Possible clipped samples in output.\")\n"
     ]
    },
    {
     "name": "stdout",
     "output_type": "stream",
     "text": [
      "Dropout Num is 24. The HAAQI value is 0.2\n",
      "Dropout Num is 24. The HAAQI value is 0.9\n",
      "There are 11025 packages\n",
      "After LUFS, the mixing ouput in the RMS, Total: -9.39dB, Clipping Ratio&Cliped Num: (0.0010884353741496598, 384)\n"
     ]
    },
    {
     "name": "stderr",
     "output_type": "stream",
     "text": [
      "/root/anaconda3/lib/python3.11/site-packages/pyloudnorm/normalize.py:62: UserWarning: Possible clipped samples in output.\n",
      "  warnings.warn(\"Possible clipped samples in output.\")\n"
     ]
    },
    {
     "name": "stdout",
     "output_type": "stream",
     "text": [
      "Dropout Num is 25. The HAAQI value is 0.2\n",
      "Dropout Num is 25. The HAAQI value is 0.86\n",
      "There are 11025 packages\n",
      "After LUFS, the mixing ouput in the RMS, Total: -9.39dB, Clipping Ratio&Cliped Num: (0.0010884353741496598, 384)\n"
     ]
    },
    {
     "name": "stderr",
     "output_type": "stream",
     "text": [
      "/root/anaconda3/lib/python3.11/site-packages/pyloudnorm/normalize.py:62: UserWarning: Possible clipped samples in output.\n",
      "  warnings.warn(\"Possible clipped samples in output.\")\n"
     ]
    },
    {
     "name": "stdout",
     "output_type": "stream",
     "text": [
      "Dropout Num is 26. The HAAQI value is 0.2\n",
      "Dropout Num is 26. The HAAQI value is 0.9\n",
      "There are 11025 packages\n",
      "After LUFS, the mixing ouput in the RMS, Total: -9.4dB, Clipping Ratio&Cliped Num: (0.0010856009070294784, 383)\n"
     ]
    },
    {
     "name": "stderr",
     "output_type": "stream",
     "text": [
      "/root/anaconda3/lib/python3.11/site-packages/pyloudnorm/normalize.py:62: UserWarning: Possible clipped samples in output.\n",
      "  warnings.warn(\"Possible clipped samples in output.\")\n"
     ]
    },
    {
     "name": "stdout",
     "output_type": "stream",
     "text": [
      "Dropout Num is 27. The HAAQI value is 0.2\n",
      "Dropout Num is 27. The HAAQI value is 0.89\n",
      "There are 11025 packages\n",
      "After LUFS, the mixing ouput in the RMS, Total: -9.4dB, Clipping Ratio&Cliped Num: (0.0010884353741496598, 384)\n"
     ]
    },
    {
     "name": "stderr",
     "output_type": "stream",
     "text": [
      "/root/anaconda3/lib/python3.11/site-packages/pyloudnorm/normalize.py:62: UserWarning: Possible clipped samples in output.\n",
      "  warnings.warn(\"Possible clipped samples in output.\")\n"
     ]
    },
    {
     "name": "stdout",
     "output_type": "stream",
     "text": [
      "Dropout Num is 28. The HAAQI value is 0.2\n",
      "Dropout Num is 28. The HAAQI value is 0.9\n",
      "There are 11025 packages\n",
      "After LUFS, the mixing ouput in the RMS, Total: -9.41dB, Clipping Ratio&Cliped Num: (0.0010090702947845806, 356)\n"
     ]
    },
    {
     "name": "stderr",
     "output_type": "stream",
     "text": [
      "/root/anaconda3/lib/python3.11/site-packages/pyloudnorm/normalize.py:62: UserWarning: Possible clipped samples in output.\n",
      "  warnings.warn(\"Possible clipped samples in output.\")\n"
     ]
    },
    {
     "name": "stdout",
     "output_type": "stream",
     "text": [
      "Dropout Num is 29. The HAAQI value is 0.2\n",
      "Dropout Num is 29. The HAAQI value is 0.87\n",
      "There are 11025 packages\n",
      "After LUFS, the mixing ouput in the RMS, Total: -9.39dB, Clipping Ratio&Cliped Num: (0.0010912698412698413, 385)\n"
     ]
    },
    {
     "name": "stderr",
     "output_type": "stream",
     "text": [
      "/root/anaconda3/lib/python3.11/site-packages/pyloudnorm/normalize.py:62: UserWarning: Possible clipped samples in output.\n",
      "  warnings.warn(\"Possible clipped samples in output.\")\n"
     ]
    },
    {
     "name": "stdout",
     "output_type": "stream",
     "text": [
      "Dropout Num is 30. The HAAQI value is 0.2\n",
      "Dropout Num is 30. The HAAQI value is 0.9\n",
      "There are 11025 packages\n",
      "After LUFS, the mixing ouput in the RMS, Total: -9.4dB, Clipping Ratio&Cliped Num: (0.0010799319727891157, 381)\n"
     ]
    },
    {
     "name": "stderr",
     "output_type": "stream",
     "text": [
      "/root/anaconda3/lib/python3.11/site-packages/pyloudnorm/normalize.py:62: UserWarning: Possible clipped samples in output.\n",
      "  warnings.warn(\"Possible clipped samples in output.\")\n"
     ]
    },
    {
     "name": "stdout",
     "output_type": "stream",
     "text": [
      "Dropout Num is 31. The HAAQI value is 0.2\n",
      "Dropout Num is 31. The HAAQI value is 0.87\n",
      "There are 11025 packages\n",
      "After LUFS, the mixing ouput in the RMS, Total: -9.4dB, Clipping Ratio&Cliped Num: (0.0010884353741496598, 384)\n"
     ]
    },
    {
     "name": "stderr",
     "output_type": "stream",
     "text": [
      "/root/anaconda3/lib/python3.11/site-packages/pyloudnorm/normalize.py:62: UserWarning: Possible clipped samples in output.\n",
      "  warnings.warn(\"Possible clipped samples in output.\")\n"
     ]
    },
    {
     "name": "stdout",
     "output_type": "stream",
     "text": [
      "Dropout Num is 32. The HAAQI value is 0.2\n",
      "Dropout Num is 32. The HAAQI value is 0.85\n",
      "There are 11025 packages\n",
      "After LUFS, the mixing ouput in the RMS, Total: -9.39dB, Clipping Ratio&Cliped Num: (0.0010884353741496598, 384)\n"
     ]
    },
    {
     "name": "stderr",
     "output_type": "stream",
     "text": [
      "/root/anaconda3/lib/python3.11/site-packages/pyloudnorm/normalize.py:62: UserWarning: Possible clipped samples in output.\n",
      "  warnings.warn(\"Possible clipped samples in output.\")\n"
     ]
    },
    {
     "name": "stdout",
     "output_type": "stream",
     "text": [
      "Dropout Num is 33. The HAAQI value is 0.2\n",
      "Dropout Num is 33. The HAAQI value is 0.89\n",
      "There are 11025 packages\n",
      "After LUFS, the mixing ouput in the RMS, Total: -9.4dB, Clipping Ratio&Cliped Num: (0.0010827664399092971, 382)\n"
     ]
    },
    {
     "name": "stderr",
     "output_type": "stream",
     "text": [
      "/root/anaconda3/lib/python3.11/site-packages/pyloudnorm/normalize.py:62: UserWarning: Possible clipped samples in output.\n",
      "  warnings.warn(\"Possible clipped samples in output.\")\n"
     ]
    },
    {
     "name": "stdout",
     "output_type": "stream",
     "text": [
      "Dropout Num is 34. The HAAQI value is 0.2\n",
      "Dropout Num is 34. The HAAQI value is 0.84\n",
      "There are 11025 packages\n",
      "After LUFS, the mixing ouput in the RMS, Total: -9.4dB, Clipping Ratio&Cliped Num: (0.0010884353741496598, 384)\n"
     ]
    },
    {
     "name": "stderr",
     "output_type": "stream",
     "text": [
      "/root/anaconda3/lib/python3.11/site-packages/pyloudnorm/normalize.py:62: UserWarning: Possible clipped samples in output.\n",
      "  warnings.warn(\"Possible clipped samples in output.\")\n"
     ]
    },
    {
     "name": "stdout",
     "output_type": "stream",
     "text": [
      "Dropout Num is 35. The HAAQI value is 0.2\n",
      "Dropout Num is 35. The HAAQI value is 0.86\n",
      "There are 11025 packages\n",
      "After LUFS, the mixing ouput in the RMS, Total: -9.4dB, Clipping Ratio&Cliped Num: (0.0010204081632653062, 360)\n"
     ]
    },
    {
     "name": "stderr",
     "output_type": "stream",
     "text": [
      "/root/anaconda3/lib/python3.11/site-packages/pyloudnorm/normalize.py:62: UserWarning: Possible clipped samples in output.\n",
      "  warnings.warn(\"Possible clipped samples in output.\")\n"
     ]
    },
    {
     "name": "stdout",
     "output_type": "stream",
     "text": [
      "Dropout Num is 36. The HAAQI value is 0.2\n",
      "Dropout Num is 36. The HAAQI value is 0.8\n",
      "There are 11025 packages\n",
      "After LUFS, the mixing ouput in the RMS, Total: -9.41dB, Clipping Ratio&Cliped Num: (0.0010884353741496598, 384)\n"
     ]
    },
    {
     "name": "stderr",
     "output_type": "stream",
     "text": [
      "/root/anaconda3/lib/python3.11/site-packages/pyloudnorm/normalize.py:62: UserWarning: Possible clipped samples in output.\n",
      "  warnings.warn(\"Possible clipped samples in output.\")\n"
     ]
    },
    {
     "name": "stdout",
     "output_type": "stream",
     "text": [
      "Dropout Num is 37. The HAAQI value is 0.2\n",
      "Dropout Num is 37. The HAAQI value is 0.82\n",
      "There are 11025 packages\n",
      "After LUFS, the mixing ouput in the RMS, Total: -9.4dB, Clipping Ratio&Cliped Num: (0.0010175736961451248, 359)\n"
     ]
    },
    {
     "name": "stderr",
     "output_type": "stream",
     "text": [
      "/root/anaconda3/lib/python3.11/site-packages/pyloudnorm/normalize.py:62: UserWarning: Possible clipped samples in output.\n",
      "  warnings.warn(\"Possible clipped samples in output.\")\n"
     ]
    },
    {
     "name": "stdout",
     "output_type": "stream",
     "text": [
      "Dropout Num is 38. The HAAQI value is 0.2\n",
      "Dropout Num is 38. The HAAQI value is 0.86\n",
      "There are 11025 packages\n",
      "After LUFS, the mixing ouput in the RMS, Total: -9.4dB, Clipping Ratio&Cliped Num: (0.0010884353741496598, 384)\n"
     ]
    },
    {
     "name": "stderr",
     "output_type": "stream",
     "text": [
      "/root/anaconda3/lib/python3.11/site-packages/pyloudnorm/normalize.py:62: UserWarning: Possible clipped samples in output.\n",
      "  warnings.warn(\"Possible clipped samples in output.\")\n"
     ]
    },
    {
     "name": "stdout",
     "output_type": "stream",
     "text": [
      "Dropout Num is 39. The HAAQI value is 0.2\n",
      "Dropout Num is 39. The HAAQI value is 0.86\n",
      "There are 11025 packages\n",
      "After LUFS, the mixing ouput in the RMS, Total: -9.4dB, Clipping Ratio&Cliped Num: (0.0010884353741496598, 384)\n"
     ]
    },
    {
     "name": "stderr",
     "output_type": "stream",
     "text": [
      "/root/anaconda3/lib/python3.11/site-packages/pyloudnorm/normalize.py:62: UserWarning: Possible clipped samples in output.\n",
      "  warnings.warn(\"Possible clipped samples in output.\")\n"
     ]
    },
    {
     "name": "stdout",
     "output_type": "stream",
     "text": [
      "Dropout Num is 40. The HAAQI value is 0.2\n",
      "Dropout Num is 40. The HAAQI value is 0.87\n",
      "There are 11025 packages\n",
      "After LUFS, the mixing ouput in the RMS, Total: -9.4dB, Clipping Ratio&Cliped Num: (0.0010912698412698413, 385)\n"
     ]
    },
    {
     "name": "stderr",
     "output_type": "stream",
     "text": [
      "/root/anaconda3/lib/python3.11/site-packages/pyloudnorm/normalize.py:62: UserWarning: Possible clipped samples in output.\n",
      "  warnings.warn(\"Possible clipped samples in output.\")\n"
     ]
    },
    {
     "name": "stdout",
     "output_type": "stream",
     "text": [
      "Dropout Num is 41. The HAAQI value is 0.2\n",
      "Dropout Num is 41. The HAAQI value is 0.84\n",
      "There are 11025 packages\n",
      "After LUFS, the mixing ouput in the RMS, Total: -9.41dB, Clipping Ratio&Cliped Num: (0.0010884353741496598, 384)\n"
     ]
    },
    {
     "name": "stderr",
     "output_type": "stream",
     "text": [
      "/root/anaconda3/lib/python3.11/site-packages/pyloudnorm/normalize.py:62: UserWarning: Possible clipped samples in output.\n",
      "  warnings.warn(\"Possible clipped samples in output.\")\n"
     ]
    },
    {
     "name": "stdout",
     "output_type": "stream",
     "text": [
      "Dropout Num is 42. The HAAQI value is 0.2\n",
      "Dropout Num is 42. The HAAQI value is 0.81\n",
      "There are 11025 packages\n",
      "After LUFS, the mixing ouput in the RMS, Total: -9.39dB, Clipping Ratio&Cliped Num: (0.0010884353741496598, 384)\n"
     ]
    },
    {
     "name": "stderr",
     "output_type": "stream",
     "text": [
      "/root/anaconda3/lib/python3.11/site-packages/pyloudnorm/normalize.py:62: UserWarning: Possible clipped samples in output.\n",
      "  warnings.warn(\"Possible clipped samples in output.\")\n"
     ]
    },
    {
     "name": "stdout",
     "output_type": "stream",
     "text": [
      "Dropout Num is 43. The HAAQI value is 0.2\n",
      "Dropout Num is 43. The HAAQI value is 0.87\n",
      "There are 11025 packages\n",
      "After LUFS, the mixing ouput in the RMS, Total: -9.41dB, Clipping Ratio&Cliped Num: (0.0010884353741496598, 384)\n"
     ]
    },
    {
     "name": "stderr",
     "output_type": "stream",
     "text": [
      "/root/anaconda3/lib/python3.11/site-packages/pyloudnorm/normalize.py:62: UserWarning: Possible clipped samples in output.\n",
      "  warnings.warn(\"Possible clipped samples in output.\")\n"
     ]
    },
    {
     "name": "stdout",
     "output_type": "stream",
     "text": [
      "Dropout Num is 44. The HAAQI value is 0.2\n",
      "Dropout Num is 44. The HAAQI value is 0.83\n",
      "There are 11025 packages\n",
      "After LUFS, the mixing ouput in the RMS, Total: -9.39dB, Clipping Ratio&Cliped Num: (0.0010997732426303855, 388)\n"
     ]
    },
    {
     "name": "stderr",
     "output_type": "stream",
     "text": [
      "/root/anaconda3/lib/python3.11/site-packages/pyloudnorm/normalize.py:62: UserWarning: Possible clipped samples in output.\n",
      "  warnings.warn(\"Possible clipped samples in output.\")\n"
     ]
    },
    {
     "name": "stdout",
     "output_type": "stream",
     "text": [
      "Dropout Num is 45. The HAAQI value is 0.2\n",
      "Dropout Num is 45. The HAAQI value is 0.83\n",
      "There are 11025 packages\n",
      "After LUFS, the mixing ouput in the RMS, Total: -9.4dB, Clipping Ratio&Cliped Num: (0.0010884353741496598, 384)\n"
     ]
    },
    {
     "name": "stderr",
     "output_type": "stream",
     "text": [
      "/root/anaconda3/lib/python3.11/site-packages/pyloudnorm/normalize.py:62: UserWarning: Possible clipped samples in output.\n",
      "  warnings.warn(\"Possible clipped samples in output.\")\n"
     ]
    },
    {
     "name": "stdout",
     "output_type": "stream",
     "text": [
      "Dropout Num is 46. The HAAQI value is 0.2\n",
      "Dropout Num is 46. The HAAQI value is 0.84\n",
      "There are 11025 packages\n",
      "After LUFS, the mixing ouput in the RMS, Total: -9.41dB, Clipping Ratio&Cliped Num: (0.0010884353741496598, 384)\n"
     ]
    },
    {
     "name": "stderr",
     "output_type": "stream",
     "text": [
      "/root/anaconda3/lib/python3.11/site-packages/pyloudnorm/normalize.py:62: UserWarning: Possible clipped samples in output.\n",
      "  warnings.warn(\"Possible clipped samples in output.\")\n"
     ]
    },
    {
     "name": "stdout",
     "output_type": "stream",
     "text": [
      "Dropout Num is 47. The HAAQI value is 0.2\n",
      "Dropout Num is 47. The HAAQI value is 0.86\n",
      "There are 11025 packages\n",
      "After LUFS, the mixing ouput in the RMS, Total: -9.41dB, Clipping Ratio&Cliped Num: (0.0009580498866213152, 338)\n"
     ]
    },
    {
     "name": "stderr",
     "output_type": "stream",
     "text": [
      "/root/anaconda3/lib/python3.11/site-packages/pyloudnorm/normalize.py:62: UserWarning: Possible clipped samples in output.\n",
      "  warnings.warn(\"Possible clipped samples in output.\")\n"
     ]
    },
    {
     "name": "stdout",
     "output_type": "stream",
     "text": [
      "Dropout Num is 48. The HAAQI value is 0.2\n",
      "Dropout Num is 48. The HAAQI value is 0.84\n",
      "There are 11025 packages\n",
      "After LUFS, the mixing ouput in the RMS, Total: -9.39dB, Clipping Ratio&Cliped Num: (0.0010941043083900228, 386)\n"
     ]
    },
    {
     "name": "stderr",
     "output_type": "stream",
     "text": [
      "/root/anaconda3/lib/python3.11/site-packages/pyloudnorm/normalize.py:62: UserWarning: Possible clipped samples in output.\n",
      "  warnings.warn(\"Possible clipped samples in output.\")\n"
     ]
    },
    {
     "name": "stdout",
     "output_type": "stream",
     "text": [
      "Dropout Num is 49. The HAAQI value is 0.2\n",
      "Dropout Num is 49. The HAAQI value is 0.83\n",
      "There are 11025 packages\n",
      "After LUFS, the mixing ouput in the RMS, Total: -9.41dB, Clipping Ratio&Cliped Num: (0.0010884353741496598, 384)\n"
     ]
    },
    {
     "name": "stderr",
     "output_type": "stream",
     "text": [
      "/root/anaconda3/lib/python3.11/site-packages/pyloudnorm/normalize.py:62: UserWarning: Possible clipped samples in output.\n",
      "  warnings.warn(\"Possible clipped samples in output.\")\n"
     ]
    },
    {
     "name": "stdout",
     "output_type": "stream",
     "text": [
      "Dropout Num is 50. The HAAQI value is 0.2\n",
      "Dropout Num is 50. The HAAQI value is 0.78\n",
      "There are 11025 packages\n",
      "After LUFS, the mixing ouput in the RMS, Total: -9.4dB, Clipping Ratio&Cliped Num: (0.0010856009070294784, 383)\n"
     ]
    },
    {
     "name": "stderr",
     "output_type": "stream",
     "text": [
      "/root/anaconda3/lib/python3.11/site-packages/pyloudnorm/normalize.py:62: UserWarning: Possible clipped samples in output.\n",
      "  warnings.warn(\"Possible clipped samples in output.\")\n"
     ]
    },
    {
     "name": "stdout",
     "output_type": "stream",
     "text": [
      "Dropout Num is 51. The HAAQI value is 0.2\n",
      "Dropout Num is 51. The HAAQI value is 0.86\n",
      "There are 11025 packages\n",
      "After LUFS, the mixing ouput in the RMS, Total: -9.4dB, Clipping Ratio&Cliped Num: (0.001096938775510204, 387)\n"
     ]
    },
    {
     "name": "stderr",
     "output_type": "stream",
     "text": [
      "/root/anaconda3/lib/python3.11/site-packages/pyloudnorm/normalize.py:62: UserWarning: Possible clipped samples in output.\n",
      "  warnings.warn(\"Possible clipped samples in output.\")\n"
     ]
    },
    {
     "name": "stdout",
     "output_type": "stream",
     "text": [
      "Dropout Num is 52. The HAAQI value is 0.2\n",
      "Dropout Num is 52. The HAAQI value is 0.79\n",
      "There are 11025 packages\n",
      "After LUFS, the mixing ouput in the RMS, Total: -9.41dB, Clipping Ratio&Cliped Num: (0.0010742630385487527, 379)\n"
     ]
    },
    {
     "name": "stderr",
     "output_type": "stream",
     "text": [
      "/root/anaconda3/lib/python3.11/site-packages/pyloudnorm/normalize.py:62: UserWarning: Possible clipped samples in output.\n",
      "  warnings.warn(\"Possible clipped samples in output.\")\n"
     ]
    },
    {
     "name": "stdout",
     "output_type": "stream",
     "text": [
      "Dropout Num is 53. The HAAQI value is 0.2\n",
      "Dropout Num is 53. The HAAQI value is 0.83\n",
      "There are 11025 packages\n",
      "After LUFS, the mixing ouput in the RMS, Total: -9.4dB, Clipping Ratio&Cliped Num: (0.0010770975056689342, 380)\n"
     ]
    },
    {
     "name": "stderr",
     "output_type": "stream",
     "text": [
      "/root/anaconda3/lib/python3.11/site-packages/pyloudnorm/normalize.py:62: UserWarning: Possible clipped samples in output.\n",
      "  warnings.warn(\"Possible clipped samples in output.\")\n"
     ]
    },
    {
     "name": "stdout",
     "output_type": "stream",
     "text": [
      "Dropout Num is 54. The HAAQI value is 0.2\n",
      "Dropout Num is 54. The HAAQI value is 0.82\n",
      "There are 11025 packages\n",
      "After LUFS, the mixing ouput in the RMS, Total: -9.4dB, Clipping Ratio&Cliped Num: (0.0010912698412698413, 385)\n"
     ]
    },
    {
     "name": "stderr",
     "output_type": "stream",
     "text": [
      "/root/anaconda3/lib/python3.11/site-packages/pyloudnorm/normalize.py:62: UserWarning: Possible clipped samples in output.\n",
      "  warnings.warn(\"Possible clipped samples in output.\")\n"
     ]
    },
    {
     "name": "stdout",
     "output_type": "stream",
     "text": [
      "Dropout Num is 55. The HAAQI value is 0.2\n",
      "Dropout Num is 55. The HAAQI value is 0.81\n",
      "There are 11025 packages\n",
      "After LUFS, the mixing ouput in the RMS, Total: -9.4dB, Clipping Ratio&Cliped Num: (0.0010912698412698413, 385)\n"
     ]
    },
    {
     "name": "stderr",
     "output_type": "stream",
     "text": [
      "/root/anaconda3/lib/python3.11/site-packages/pyloudnorm/normalize.py:62: UserWarning: Possible clipped samples in output.\n",
      "  warnings.warn(\"Possible clipped samples in output.\")\n"
     ]
    },
    {
     "name": "stdout",
     "output_type": "stream",
     "text": [
      "Dropout Num is 56. The HAAQI value is 0.2\n",
      "Dropout Num is 56. The HAAQI value is 0.77\n",
      "There are 11025 packages\n",
      "After LUFS, the mixing ouput in the RMS, Total: -9.4dB, Clipping Ratio&Cliped Num: (0.0010912698412698413, 385)\n"
     ]
    },
    {
     "name": "stderr",
     "output_type": "stream",
     "text": [
      "/root/anaconda3/lib/python3.11/site-packages/pyloudnorm/normalize.py:62: UserWarning: Possible clipped samples in output.\n",
      "  warnings.warn(\"Possible clipped samples in output.\")\n"
     ]
    },
    {
     "name": "stdout",
     "output_type": "stream",
     "text": [
      "Dropout Num is 57. The HAAQI value is 0.2\n",
      "Dropout Num is 57. The HAAQI value is 0.81\n",
      "There are 11025 packages\n",
      "After LUFS, the mixing ouput in the RMS, Total: -9.4dB, Clipping Ratio&Cliped Num: (0.0010912698412698413, 385)\n"
     ]
    },
    {
     "name": "stderr",
     "output_type": "stream",
     "text": [
      "/root/anaconda3/lib/python3.11/site-packages/pyloudnorm/normalize.py:62: UserWarning: Possible clipped samples in output.\n",
      "  warnings.warn(\"Possible clipped samples in output.\")\n"
     ]
    },
    {
     "name": "stdout",
     "output_type": "stream",
     "text": [
      "Dropout Num is 58. The HAAQI value is 0.2\n",
      "Dropout Num is 58. The HAAQI value is 0.83\n",
      "There are 11025 packages\n",
      "After LUFS, the mixing ouput in the RMS, Total: -9.41dB, Clipping Ratio&Cliped Num: (0.0010884353741496598, 384)\n"
     ]
    },
    {
     "name": "stderr",
     "output_type": "stream",
     "text": [
      "/root/anaconda3/lib/python3.11/site-packages/pyloudnorm/normalize.py:62: UserWarning: Possible clipped samples in output.\n",
      "  warnings.warn(\"Possible clipped samples in output.\")\n"
     ]
    },
    {
     "name": "stdout",
     "output_type": "stream",
     "text": [
      "Dropout Num is 59. The HAAQI value is 0.2\n",
      "Dropout Num is 59. The HAAQI value is 0.8\n",
      "There are 11025 packages\n",
      "After LUFS, the mixing ouput in the RMS, Total: -9.41dB, Clipping Ratio&Cliped Num: (0.0010884353741496598, 384)\n"
     ]
    },
    {
     "name": "stderr",
     "output_type": "stream",
     "text": [
      "/root/anaconda3/lib/python3.11/site-packages/pyloudnorm/normalize.py:62: UserWarning: Possible clipped samples in output.\n",
      "  warnings.warn(\"Possible clipped samples in output.\")\n"
     ]
    },
    {
     "name": "stdout",
     "output_type": "stream",
     "text": [
      "Dropout Num is 60. The HAAQI value is 0.2\n",
      "Dropout Num is 60. The HAAQI value is 0.79\n",
      "There are 11025 packages\n",
      "After LUFS, the mixing ouput in the RMS, Total: -9.41dB, Clipping Ratio&Cliped Num: (0.0010884353741496598, 384)\n"
     ]
    },
    {
     "name": "stderr",
     "output_type": "stream",
     "text": [
      "/root/anaconda3/lib/python3.11/site-packages/pyloudnorm/normalize.py:62: UserWarning: Possible clipped samples in output.\n",
      "  warnings.warn(\"Possible clipped samples in output.\")\n"
     ]
    },
    {
     "name": "stdout",
     "output_type": "stream",
     "text": [
      "Dropout Num is 61. The HAAQI value is 0.2\n",
      "Dropout Num is 61. The HAAQI value is 0.76\n",
      "There are 11025 packages\n",
      "After LUFS, the mixing ouput in the RMS, Total: -9.4dB, Clipping Ratio&Cliped Num: (0.0010175736961451248, 359)\n"
     ]
    },
    {
     "name": "stderr",
     "output_type": "stream",
     "text": [
      "/root/anaconda3/lib/python3.11/site-packages/pyloudnorm/normalize.py:62: UserWarning: Possible clipped samples in output.\n",
      "  warnings.warn(\"Possible clipped samples in output.\")\n"
     ]
    },
    {
     "name": "stdout",
     "output_type": "stream",
     "text": [
      "Dropout Num is 62. The HAAQI value is 0.2\n",
      "Dropout Num is 62. The HAAQI value is 0.79\n",
      "There are 11025 packages\n",
      "After LUFS, the mixing ouput in the RMS, Total: -9.4dB, Clipping Ratio&Cliped Num: (0.0010884353741496598, 384)\n"
     ]
    },
    {
     "name": "stderr",
     "output_type": "stream",
     "text": [
      "/root/anaconda3/lib/python3.11/site-packages/pyloudnorm/normalize.py:62: UserWarning: Possible clipped samples in output.\n",
      "  warnings.warn(\"Possible clipped samples in output.\")\n"
     ]
    },
    {
     "name": "stdout",
     "output_type": "stream",
     "text": [
      "Dropout Num is 63. The HAAQI value is 0.2\n",
      "Dropout Num is 63. The HAAQI value is 0.8\n",
      "There are 11025 packages\n",
      "After LUFS, the mixing ouput in the RMS, Total: -9.4dB, Clipping Ratio&Cliped Num: (0.0010941043083900228, 386)\n"
     ]
    },
    {
     "name": "stderr",
     "output_type": "stream",
     "text": [
      "/root/anaconda3/lib/python3.11/site-packages/pyloudnorm/normalize.py:62: UserWarning: Possible clipped samples in output.\n",
      "  warnings.warn(\"Possible clipped samples in output.\")\n"
     ]
    },
    {
     "name": "stdout",
     "output_type": "stream",
     "text": [
      "Dropout Num is 64. The HAAQI value is 0.2\n",
      "Dropout Num is 64. The HAAQI value is 0.77\n",
      "There are 11025 packages\n",
      "After LUFS, the mixing ouput in the RMS, Total: -9.41dB, Clipping Ratio&Cliped Num: (0.0010912698412698413, 385)\n"
     ]
    },
    {
     "name": "stderr",
     "output_type": "stream",
     "text": [
      "/root/anaconda3/lib/python3.11/site-packages/pyloudnorm/normalize.py:62: UserWarning: Possible clipped samples in output.\n",
      "  warnings.warn(\"Possible clipped samples in output.\")\n"
     ]
    },
    {
     "name": "stdout",
     "output_type": "stream",
     "text": [
      "Dropout Num is 65. The HAAQI value is 0.2\n",
      "Dropout Num is 65. The HAAQI value is 0.78\n",
      "There are 11025 packages\n",
      "After LUFS, the mixing ouput in the RMS, Total: -9.4dB, Clipping Ratio&Cliped Num: (0.0010770975056689342, 380)\n"
     ]
    },
    {
     "name": "stderr",
     "output_type": "stream",
     "text": [
      "/root/anaconda3/lib/python3.11/site-packages/pyloudnorm/normalize.py:62: UserWarning: Possible clipped samples in output.\n",
      "  warnings.warn(\"Possible clipped samples in output.\")\n"
     ]
    },
    {
     "name": "stdout",
     "output_type": "stream",
     "text": [
      "Dropout Num is 66. The HAAQI value is 0.2\n",
      "Dropout Num is 66. The HAAQI value is 0.8\n",
      "There are 11025 packages\n",
      "After LUFS, the mixing ouput in the RMS, Total: -9.4dB, Clipping Ratio&Cliped Num: (0.0010941043083900228, 386)\n"
     ]
    },
    {
     "name": "stderr",
     "output_type": "stream",
     "text": [
      "/root/anaconda3/lib/python3.11/site-packages/pyloudnorm/normalize.py:62: UserWarning: Possible clipped samples in output.\n",
      "  warnings.warn(\"Possible clipped samples in output.\")\n"
     ]
    },
    {
     "name": "stdout",
     "output_type": "stream",
     "text": [
      "Dropout Num is 67. The HAAQI value is 0.2\n",
      "Dropout Num is 67. The HAAQI value is 0.8\n",
      "There are 11025 packages\n",
      "After LUFS, the mixing ouput in the RMS, Total: -9.41dB, Clipping Ratio&Cliped Num: (0.0010941043083900228, 386)\n"
     ]
    },
    {
     "name": "stderr",
     "output_type": "stream",
     "text": [
      "/root/anaconda3/lib/python3.11/site-packages/pyloudnorm/normalize.py:62: UserWarning: Possible clipped samples in output.\n",
      "  warnings.warn(\"Possible clipped samples in output.\")\n"
     ]
    },
    {
     "name": "stdout",
     "output_type": "stream",
     "text": [
      "Dropout Num is 68. The HAAQI value is 0.2\n",
      "Dropout Num is 68. The HAAQI value is 0.77\n",
      "There are 11025 packages\n",
      "After LUFS, the mixing ouput in the RMS, Total: -9.4dB, Clipping Ratio&Cliped Num: (0.0010941043083900228, 386)\n"
     ]
    },
    {
     "name": "stderr",
     "output_type": "stream",
     "text": [
      "/root/anaconda3/lib/python3.11/site-packages/pyloudnorm/normalize.py:62: UserWarning: Possible clipped samples in output.\n",
      "  warnings.warn(\"Possible clipped samples in output.\")\n"
     ]
    },
    {
     "name": "stdout",
     "output_type": "stream",
     "text": [
      "Dropout Num is 69. The HAAQI value is 0.2\n",
      "Dropout Num is 69. The HAAQI value is 0.78\n",
      "There are 11025 packages\n",
      "After LUFS, the mixing ouput in the RMS, Total: -9.41dB, Clipping Ratio&Cliped Num: (0.001096938775510204, 387)\n"
     ]
    },
    {
     "name": "stderr",
     "output_type": "stream",
     "text": [
      "/root/anaconda3/lib/python3.11/site-packages/pyloudnorm/normalize.py:62: UserWarning: Possible clipped samples in output.\n",
      "  warnings.warn(\"Possible clipped samples in output.\")\n"
     ]
    },
    {
     "name": "stdout",
     "output_type": "stream",
     "text": [
      "Dropout Num is 70. The HAAQI value is 0.2\n",
      "Dropout Num is 70. The HAAQI value is 0.78\n",
      "There are 11025 packages\n",
      "After LUFS, the mixing ouput in the RMS, Total: -9.41dB, Clipping Ratio&Cliped Num: (0.0010884353741496598, 384)\n"
     ]
    },
    {
     "name": "stderr",
     "output_type": "stream",
     "text": [
      "/root/anaconda3/lib/python3.11/site-packages/pyloudnorm/normalize.py:62: UserWarning: Possible clipped samples in output.\n",
      "  warnings.warn(\"Possible clipped samples in output.\")\n"
     ]
    },
    {
     "name": "stdout",
     "output_type": "stream",
     "text": [
      "Dropout Num is 71. The HAAQI value is 0.2\n",
      "Dropout Num is 71. The HAAQI value is 0.73\n",
      "There are 11025 packages\n",
      "After LUFS, the mixing ouput in the RMS, Total: -9.4dB, Clipping Ratio&Cliped Num: (0.0010941043083900228, 386)\n"
     ]
    },
    {
     "name": "stderr",
     "output_type": "stream",
     "text": [
      "/root/anaconda3/lib/python3.11/site-packages/pyloudnorm/normalize.py:62: UserWarning: Possible clipped samples in output.\n",
      "  warnings.warn(\"Possible clipped samples in output.\")\n"
     ]
    },
    {
     "name": "stdout",
     "output_type": "stream",
     "text": [
      "Dropout Num is 72. The HAAQI value is 0.2\n",
      "Dropout Num is 72. The HAAQI value is 0.82\n",
      "There are 11025 packages\n",
      "After LUFS, the mixing ouput in the RMS, Total: -9.4dB, Clipping Ratio&Cliped Num: (0.0010912698412698413, 385)\n"
     ]
    },
    {
     "name": "stderr",
     "output_type": "stream",
     "text": [
      "/root/anaconda3/lib/python3.11/site-packages/pyloudnorm/normalize.py:62: UserWarning: Possible clipped samples in output.\n",
      "  warnings.warn(\"Possible clipped samples in output.\")\n"
     ]
    },
    {
     "name": "stdout",
     "output_type": "stream",
     "text": [
      "Dropout Num is 73. The HAAQI value is 0.2\n",
      "Dropout Num is 73. The HAAQI value is 0.78\n",
      "There are 11025 packages\n",
      "After LUFS, the mixing ouput in the RMS, Total: -9.41dB, Clipping Ratio&Cliped Num: (0.0010997732426303855, 388)\n"
     ]
    },
    {
     "name": "stderr",
     "output_type": "stream",
     "text": [
      "/root/anaconda3/lib/python3.11/site-packages/pyloudnorm/normalize.py:62: UserWarning: Possible clipped samples in output.\n",
      "  warnings.warn(\"Possible clipped samples in output.\")\n"
     ]
    },
    {
     "name": "stdout",
     "output_type": "stream",
     "text": [
      "Dropout Num is 74. The HAAQI value is 0.2\n",
      "Dropout Num is 74. The HAAQI value is 0.76\n",
      "There are 11025 packages\n",
      "After LUFS, the mixing ouput in the RMS, Total: -9.4dB, Clipping Ratio&Cliped Num: (0.0010912698412698413, 385)\n"
     ]
    },
    {
     "name": "stderr",
     "output_type": "stream",
     "text": [
      "/root/anaconda3/lib/python3.11/site-packages/pyloudnorm/normalize.py:62: UserWarning: Possible clipped samples in output.\n",
      "  warnings.warn(\"Possible clipped samples in output.\")\n"
     ]
    },
    {
     "name": "stdout",
     "output_type": "stream",
     "text": [
      "Dropout Num is 75. The HAAQI value is 0.2\n",
      "Dropout Num is 75. The HAAQI value is 0.76\n",
      "There are 11025 packages\n",
      "After LUFS, the mixing ouput in the RMS, Total: -9.4dB, Clipping Ratio&Cliped Num: (0.001096938775510204, 387)\n"
     ]
    },
    {
     "name": "stderr",
     "output_type": "stream",
     "text": [
      "/root/anaconda3/lib/python3.11/site-packages/pyloudnorm/normalize.py:62: UserWarning: Possible clipped samples in output.\n",
      "  warnings.warn(\"Possible clipped samples in output.\")\n"
     ]
    },
    {
     "name": "stdout",
     "output_type": "stream",
     "text": [
      "Dropout Num is 76. The HAAQI value is 0.2\n",
      "Dropout Num is 76. The HAAQI value is 0.77\n",
      "There are 11025 packages\n",
      "After LUFS, the mixing ouput in the RMS, Total: -9.41dB, Clipping Ratio&Cliped Num: (0.0010827664399092971, 382)\n"
     ]
    },
    {
     "name": "stderr",
     "output_type": "stream",
     "text": [
      "/root/anaconda3/lib/python3.11/site-packages/pyloudnorm/normalize.py:62: UserWarning: Possible clipped samples in output.\n",
      "  warnings.warn(\"Possible clipped samples in output.\")\n"
     ]
    },
    {
     "name": "stdout",
     "output_type": "stream",
     "text": [
      "Dropout Num is 77. The HAAQI value is 0.2\n",
      "Dropout Num is 77. The HAAQI value is 0.75\n",
      "There are 11025 packages\n",
      "After LUFS, the mixing ouput in the RMS, Total: -9.41dB, Clipping Ratio&Cliped Num: (0.0010912698412698413, 385)\n"
     ]
    },
    {
     "name": "stderr",
     "output_type": "stream",
     "text": [
      "/root/anaconda3/lib/python3.11/site-packages/pyloudnorm/normalize.py:62: UserWarning: Possible clipped samples in output.\n",
      "  warnings.warn(\"Possible clipped samples in output.\")\n"
     ]
    },
    {
     "name": "stdout",
     "output_type": "stream",
     "text": [
      "Dropout Num is 78. The HAAQI value is 0.2\n",
      "Dropout Num is 78. The HAAQI value is 0.76\n",
      "There are 11025 packages\n",
      "After LUFS, the mixing ouput in the RMS, Total: -9.4dB, Clipping Ratio&Cliped Num: (0.0010912698412698413, 385)\n"
     ]
    },
    {
     "name": "stderr",
     "output_type": "stream",
     "text": [
      "/root/anaconda3/lib/python3.11/site-packages/pyloudnorm/normalize.py:62: UserWarning: Possible clipped samples in output.\n",
      "  warnings.warn(\"Possible clipped samples in output.\")\n"
     ]
    },
    {
     "name": "stdout",
     "output_type": "stream",
     "text": [
      "Dropout Num is 79. The HAAQI value is 0.2\n",
      "Dropout Num is 79. The HAAQI value is 0.78\n",
      "There are 11025 packages\n",
      "After LUFS, the mixing ouput in the RMS, Total: -9.4dB, Clipping Ratio&Cliped Num: (0.0010941043083900228, 386)\n"
     ]
    },
    {
     "name": "stderr",
     "output_type": "stream",
     "text": [
      "/root/anaconda3/lib/python3.11/site-packages/pyloudnorm/normalize.py:62: UserWarning: Possible clipped samples in output.\n",
      "  warnings.warn(\"Possible clipped samples in output.\")\n"
     ]
    },
    {
     "name": "stdout",
     "output_type": "stream",
     "text": [
      "Dropout Num is 80. The HAAQI value is 0.2\n",
      "Dropout Num is 80. The HAAQI value is 0.77\n",
      "There are 11025 packages\n",
      "After LUFS, the mixing ouput in the RMS, Total: -9.4dB, Clipping Ratio&Cliped Num: (0.001096938775510204, 387)\n"
     ]
    },
    {
     "name": "stderr",
     "output_type": "stream",
     "text": [
      "/root/anaconda3/lib/python3.11/site-packages/pyloudnorm/normalize.py:62: UserWarning: Possible clipped samples in output.\n",
      "  warnings.warn(\"Possible clipped samples in output.\")\n"
     ]
    },
    {
     "name": "stdout",
     "output_type": "stream",
     "text": [
      "Dropout Num is 81. The HAAQI value is 0.2\n",
      "Dropout Num is 81. The HAAQI value is 0.75\n",
      "There are 11025 packages\n",
      "After LUFS, the mixing ouput in the RMS, Total: -9.4dB, Clipping Ratio&Cliped Num: (0.0010941043083900228, 386)\n"
     ]
    },
    {
     "name": "stderr",
     "output_type": "stream",
     "text": [
      "/root/anaconda3/lib/python3.11/site-packages/pyloudnorm/normalize.py:62: UserWarning: Possible clipped samples in output.\n",
      "  warnings.warn(\"Possible clipped samples in output.\")\n"
     ]
    },
    {
     "name": "stdout",
     "output_type": "stream",
     "text": [
      "Dropout Num is 82. The HAAQI value is 0.2\n",
      "Dropout Num is 82. The HAAQI value is 0.75\n",
      "There are 11025 packages\n",
      "After LUFS, the mixing ouput in the RMS, Total: -9.4dB, Clipping Ratio&Cliped Num: (0.0010856009070294784, 383)\n"
     ]
    },
    {
     "name": "stderr",
     "output_type": "stream",
     "text": [
      "/root/anaconda3/lib/python3.11/site-packages/pyloudnorm/normalize.py:62: UserWarning: Possible clipped samples in output.\n",
      "  warnings.warn(\"Possible clipped samples in output.\")\n"
     ]
    },
    {
     "name": "stdout",
     "output_type": "stream",
     "text": [
      "Dropout Num is 83. The HAAQI value is 0.2\n",
      "Dropout Num is 83. The HAAQI value is 0.79\n",
      "There are 11025 packages\n",
      "After LUFS, the mixing ouput in the RMS, Total: -9.41dB, Clipping Ratio&Cliped Num: (0.0010119047619047618, 357)\n"
     ]
    },
    {
     "name": "stderr",
     "output_type": "stream",
     "text": [
      "/root/anaconda3/lib/python3.11/site-packages/pyloudnorm/normalize.py:62: UserWarning: Possible clipped samples in output.\n",
      "  warnings.warn(\"Possible clipped samples in output.\")\n"
     ]
    },
    {
     "name": "stdout",
     "output_type": "stream",
     "text": [
      "Dropout Num is 84. The HAAQI value is 0.2\n",
      "Dropout Num is 84. The HAAQI value is 0.78\n",
      "There are 11025 packages\n",
      "After LUFS, the mixing ouput in the RMS, Total: -9.42dB, Clipping Ratio&Cliped Num: (0.00106859410430839, 377)\n"
     ]
    },
    {
     "name": "stderr",
     "output_type": "stream",
     "text": [
      "/root/anaconda3/lib/python3.11/site-packages/pyloudnorm/normalize.py:62: UserWarning: Possible clipped samples in output.\n",
      "  warnings.warn(\"Possible clipped samples in output.\")\n"
     ]
    },
    {
     "name": "stdout",
     "output_type": "stream",
     "text": [
      "Dropout Num is 85. The HAAQI value is 0.2\n",
      "Dropout Num is 85. The HAAQI value is 0.76\n",
      "There are 11025 packages\n",
      "After LUFS, the mixing ouput in the RMS, Total: -9.4dB, Clipping Ratio&Cliped Num: (0.0010997732426303855, 388)\n"
     ]
    },
    {
     "name": "stderr",
     "output_type": "stream",
     "text": [
      "/root/anaconda3/lib/python3.11/site-packages/pyloudnorm/normalize.py:62: UserWarning: Possible clipped samples in output.\n",
      "  warnings.warn(\"Possible clipped samples in output.\")\n"
     ]
    },
    {
     "name": "stdout",
     "output_type": "stream",
     "text": [
      "Dropout Num is 86. The HAAQI value is 0.2\n",
      "Dropout Num is 86. The HAAQI value is 0.76\n",
      "There are 11025 packages\n",
      "After LUFS, the mixing ouput in the RMS, Total: -9.4dB, Clipping Ratio&Cliped Num: (0.0010997732426303855, 388)\n"
     ]
    },
    {
     "name": "stderr",
     "output_type": "stream",
     "text": [
      "/root/anaconda3/lib/python3.11/site-packages/pyloudnorm/normalize.py:62: UserWarning: Possible clipped samples in output.\n",
      "  warnings.warn(\"Possible clipped samples in output.\")\n"
     ]
    },
    {
     "name": "stdout",
     "output_type": "stream",
     "text": [
      "Dropout Num is 87. The HAAQI value is 0.2\n",
      "Dropout Num is 87. The HAAQI value is 0.76\n",
      "There are 11025 packages\n",
      "After LUFS, the mixing ouput in the RMS, Total: -9.41dB, Clipping Ratio&Cliped Num: (0.0010997732426303855, 388)\n"
     ]
    },
    {
     "name": "stderr",
     "output_type": "stream",
     "text": [
      "/root/anaconda3/lib/python3.11/site-packages/pyloudnorm/normalize.py:62: UserWarning: Possible clipped samples in output.\n",
      "  warnings.warn(\"Possible clipped samples in output.\")\n"
     ]
    },
    {
     "name": "stdout",
     "output_type": "stream",
     "text": [
      "Dropout Num is 88. The HAAQI value is 0.2\n",
      "Dropout Num is 88. The HAAQI value is 0.73\n",
      "There are 11025 packages\n",
      "After LUFS, the mixing ouput in the RMS, Total: -9.41dB, Clipping Ratio&Cliped Num: (0.001096938775510204, 387)\n"
     ]
    },
    {
     "name": "stderr",
     "output_type": "stream",
     "text": [
      "/root/anaconda3/lib/python3.11/site-packages/pyloudnorm/normalize.py:62: UserWarning: Possible clipped samples in output.\n",
      "  warnings.warn(\"Possible clipped samples in output.\")\n"
     ]
    },
    {
     "name": "stdout",
     "output_type": "stream",
     "text": [
      "Dropout Num is 89. The HAAQI value is 0.2\n",
      "Dropout Num is 89. The HAAQI value is 0.69\n",
      "There are 11025 packages\n",
      "After LUFS, the mixing ouput in the RMS, Total: -9.4dB, Clipping Ratio&Cliped Num: (0.001096938775510204, 387)\n"
     ]
    },
    {
     "name": "stderr",
     "output_type": "stream",
     "text": [
      "/root/anaconda3/lib/python3.11/site-packages/pyloudnorm/normalize.py:62: UserWarning: Possible clipped samples in output.\n",
      "  warnings.warn(\"Possible clipped samples in output.\")\n"
     ]
    },
    {
     "name": "stdout",
     "output_type": "stream",
     "text": [
      "Dropout Num is 90. The HAAQI value is 0.2\n",
      "Dropout Num is 90. The HAAQI value is 0.71\n",
      "There are 11025 packages\n",
      "After LUFS, the mixing ouput in the RMS, Total: -9.4dB, Clipping Ratio&Cliped Num: (0.0010997732426303855, 388)\n"
     ]
    },
    {
     "name": "stderr",
     "output_type": "stream",
     "text": [
      "/root/anaconda3/lib/python3.11/site-packages/pyloudnorm/normalize.py:62: UserWarning: Possible clipped samples in output.\n",
      "  warnings.warn(\"Possible clipped samples in output.\")\n"
     ]
    },
    {
     "name": "stdout",
     "output_type": "stream",
     "text": [
      "Dropout Num is 91. The HAAQI value is 0.2\n",
      "Dropout Num is 91. The HAAQI value is 0.75\n",
      "There are 11025 packages\n",
      "After LUFS, the mixing ouput in the RMS, Total: -9.4dB, Clipping Ratio&Cliped Num: (0.001096938775510204, 387)\n"
     ]
    },
    {
     "name": "stderr",
     "output_type": "stream",
     "text": [
      "/root/anaconda3/lib/python3.11/site-packages/pyloudnorm/normalize.py:62: UserWarning: Possible clipped samples in output.\n",
      "  warnings.warn(\"Possible clipped samples in output.\")\n"
     ]
    },
    {
     "name": "stdout",
     "output_type": "stream",
     "text": [
      "Dropout Num is 92. The HAAQI value is 0.2\n",
      "Dropout Num is 92. The HAAQI value is 0.74\n",
      "There are 11025 packages\n",
      "After LUFS, the mixing ouput in the RMS, Total: -9.42dB, Clipping Ratio&Cliped Num: (0.0010912698412698413, 385)\n"
     ]
    },
    {
     "name": "stderr",
     "output_type": "stream",
     "text": [
      "/root/anaconda3/lib/python3.11/site-packages/pyloudnorm/normalize.py:62: UserWarning: Possible clipped samples in output.\n",
      "  warnings.warn(\"Possible clipped samples in output.\")\n"
     ]
    },
    {
     "name": "stdout",
     "output_type": "stream",
     "text": [
      "Dropout Num is 93. The HAAQI value is 0.2\n",
      "Dropout Num is 93. The HAAQI value is 0.74\n",
      "There are 11025 packages\n",
      "After LUFS, the mixing ouput in the RMS, Total: -9.41dB, Clipping Ratio&Cliped Num: (0.0010119047619047618, 357)\n"
     ]
    },
    {
     "name": "stderr",
     "output_type": "stream",
     "text": [
      "/root/anaconda3/lib/python3.11/site-packages/pyloudnorm/normalize.py:62: UserWarning: Possible clipped samples in output.\n",
      "  warnings.warn(\"Possible clipped samples in output.\")\n"
     ]
    },
    {
     "name": "stdout",
     "output_type": "stream",
     "text": [
      "Dropout Num is 94. The HAAQI value is 0.2\n",
      "Dropout Num is 94. The HAAQI value is 0.73\n",
      "There are 11025 packages\n",
      "After LUFS, the mixing ouput in the RMS, Total: -9.41dB, Clipping Ratio&Cliped Num: (0.0010912698412698413, 385)\n"
     ]
    },
    {
     "name": "stderr",
     "output_type": "stream",
     "text": [
      "/root/anaconda3/lib/python3.11/site-packages/pyloudnorm/normalize.py:62: UserWarning: Possible clipped samples in output.\n",
      "  warnings.warn(\"Possible clipped samples in output.\")\n"
     ]
    },
    {
     "name": "stdout",
     "output_type": "stream",
     "text": [
      "Dropout Num is 95. The HAAQI value is 0.2\n",
      "Dropout Num is 95. The HAAQI value is 0.75\n",
      "There are 11025 packages\n",
      "After LUFS, the mixing ouput in the RMS, Total: -9.4dB, Clipping Ratio&Cliped Num: (0.0010572562358276644, 373)\n"
     ]
    },
    {
     "name": "stderr",
     "output_type": "stream",
     "text": [
      "/root/anaconda3/lib/python3.11/site-packages/pyloudnorm/normalize.py:62: UserWarning: Possible clipped samples in output.\n",
      "  warnings.warn(\"Possible clipped samples in output.\")\n"
     ]
    },
    {
     "name": "stdout",
     "output_type": "stream",
     "text": [
      "Dropout Num is 96. The HAAQI value is 0.2\n",
      "Dropout Num is 96. The HAAQI value is 0.77\n",
      "There are 11025 packages\n",
      "After LUFS, the mixing ouput in the RMS, Total: -9.4dB, Clipping Ratio&Cliped Num: (0.0010997732426303855, 388)\n"
     ]
    },
    {
     "name": "stderr",
     "output_type": "stream",
     "text": [
      "/root/anaconda3/lib/python3.11/site-packages/pyloudnorm/normalize.py:62: UserWarning: Possible clipped samples in output.\n",
      "  warnings.warn(\"Possible clipped samples in output.\")\n"
     ]
    },
    {
     "name": "stdout",
     "output_type": "stream",
     "text": [
      "Dropout Num is 97. The HAAQI value is 0.2\n",
      "Dropout Num is 97. The HAAQI value is 0.76\n",
      "There are 11025 packages\n",
      "After LUFS, the mixing ouput in the RMS, Total: -9.4dB, Clipping Ratio&Cliped Num: (0.0010997732426303855, 388)\n"
     ]
    },
    {
     "name": "stderr",
     "output_type": "stream",
     "text": [
      "/root/anaconda3/lib/python3.11/site-packages/pyloudnorm/normalize.py:62: UserWarning: Possible clipped samples in output.\n",
      "  warnings.warn(\"Possible clipped samples in output.\")\n"
     ]
    },
    {
     "name": "stdout",
     "output_type": "stream",
     "text": [
      "Dropout Num is 98. The HAAQI value is 0.2\n",
      "Dropout Num is 98. The HAAQI value is 0.71\n",
      "There are 11025 packages\n",
      "After LUFS, the mixing ouput in the RMS, Total: -9.42dB, Clipping Ratio&Cliped Num: (0.0010884353741496598, 384)\n"
     ]
    },
    {
     "name": "stderr",
     "output_type": "stream",
     "text": [
      "/root/anaconda3/lib/python3.11/site-packages/pyloudnorm/normalize.py:62: UserWarning: Possible clipped samples in output.\n",
      "  warnings.warn(\"Possible clipped samples in output.\")\n"
     ]
    },
    {
     "name": "stdout",
     "output_type": "stream",
     "text": [
      "Dropout Num is 99. The HAAQI value is 0.2\n",
      "Dropout Num is 99. The HAAQI value is 0.73\n"
     ]
    }
   ],
   "source": [
    "Noise_Generator_MP3_48k_16bit = SignalProcessorClass(filename=\"mixture.wav\", foldpath=Mixing_Path_48k_16bit, TrackType = NEUtil.MixingType.File,bitdepth=\"PCM_16\")\n",
    "Referece_File_48k_16bit = Noise_Generator_MP3_48k_16bit.TestNoisedOnlyFile([0,0,0,0],\"Reference.wav\")\n",
    "Mp3_Referece_File_48k_16bit = Noise_Generator_MP3_48k_16bit.GeneratingMP3RefFile(Referece_File_48k_16bit, bitrate)\n",
    "\n",
    "AudioFold_48k_16bit = f'{Mixing_Path_48k_16bit}/Mixing_Result_Mp3_Wav/'\n",
    "Mp3_Referece_data_48k_16bit, sample_rate = librosa.load(Mp3_Referece_File_48k_16bit, sr=None) \n",
    "Referece_data_48k_16bit, sample_rate = librosa.load(Referece_File_48k_16bit, sr=None)\n",
    "\n",
    "while (os.path.isfile(Referece_File_48k_16bit) and os.path.isfile(Mp3_Referece_File_48k_16bit)):\n",
    "    print (\"file now ready\")\n",
    "    break\n",
    "\n",
    "data_point_alterHN_HAAQI_48k_16bit = []\n",
    "data_point_alterHN_HAAQI_mp3_48k_16bit = []    \n",
    "for x in range(1,100):\n",
    "    filename = f\"Audio_Mixing_HN{str(x)}.wav\"\n",
    "    HN_Gener_Audio = Noise_Generator_MP3_48k_16bit.TestNoisedOnlyFile([x,0,0,0],filename)\n",
    "    HN_Gener_Audio_mp3 = Noise_Generator_MP3_48k_16bit.GeneratingMP3RefFile(HN_Gener_Audio, 64)\n",
    "    HN_Gener_Audio_HAAQI, sample_rate = librosa.load(HN_Gener_Audio_mp3, sr=None)\n",
    "#    HN_Gener_Audio_HAAQI, sample_rate = librosa.load(AudioFold_48k_16bit+filename, sr=None)\n",
    "    HAAQI_score = round(haaqi.compute_haaqi(HN_Gener_Audio_HAAQI,Referece_data_48k_16bit,sample_rate,sample_rate,audiogram_NH),2)\n",
    "#    ODG_score = round(float(Visqol_score-5),2) \n",
    "    print(f\"HumNoise is {x}dB. The HAAQI value is {HAAQI_score}\")\n",
    "    data_point_alterHN_HAAQI_48k_16bit.append(HAAQI_score)\n",
    "    mp3_HAAQI_score = round(haaqi.compute_haaqi(HN_Gener_Audio_HAAQI,Mp3_Referece_data_48k_16bit,sample_rate,sample_rate,audiogram_NH),2)\n",
    "    print(f\"HumNoise is {x}dB. The HAAQI value is {mp3_HAAQI_score}\")\n",
    "    data_point_alterHN_HAAQI_mp3_48k_16bit.append(mp3_HAAQI_score)\n",
    "\n",
    "data_point_alterWN_HAAQI_48k_16bit = []\n",
    "data_point_alterWN_HAAQI_mp3_48k_16bit = []\n",
    "for x in range(1,100):\n",
    "    filename = f\"Audio_Mixing_WN{str(x)}.wav\"\n",
    "    WN_Gener_Audio = Noise_Generator_MP3_48k_16bit.TestNoisedOnlyFile([0,x,0,0],filename)\n",
    "    WN_Gener_Audio_mp3 = Noise_Generator_MP3_48k_16bit.GeneratingMP3RefFile(WN_Gener_Audio, 64)\n",
    "    WN_Gener_Audio_HAAQI, sample_rate = librosa.load(WN_Gener_Audio_mp3, sr=None)\n",
    "    HAAQI_score = round(haaqi.compute_haaqi(WN_Gener_Audio_HAAQI,Referece_data_48k_16bit,sample_rate,sample_rate,audiogram_NH),2)\n",
    "#    ODG_score = round(float(Visqol_score-5),2) \n",
    "    print(f\"WhiteNoise is {x}dB. The HAAQI value is {HAAQI_score}\")\n",
    "    data_point_alterWN_HAAQI_48k_16bit.append(HAAQI_score)\n",
    "    mp3_HAAQI_score = round(haaqi.compute_haaqi(WN_Gener_Audio_HAAQI,Mp3_Referece_data_48k_16bit,sample_rate,sample_rate,audiogram_NH),2)\n",
    "    print(f\"WhiteNoise is {x}dB. The HAAQI value is {mp3_HAAQI_score}\")\n",
    "    data_point_alterWN_HAAQI_mp3_48k_16bit.append(mp3_HAAQI_score)\n",
    "\n",
    "data_point_alterCP_HAAQI_48k_16bit = []\n",
    "data_point_alterCP_HAAQI_mp3_48k_16bit = []\n",
    "for x in range(1,100):\n",
    "    filename = f\"Audio_Mixing_CP{str(x)}.wav\"\n",
    "    CP_Gener_Audio = Noise_Generator_MP3_48k_16bit.TestNoisedOnlyFile([0,0,x,0],filename)\n",
    "    CP_Gener_Audio_mp3 = Noise_Generator_MP3_48k_16bit.GeneratingMP3RefFile(CP_Gener_Audio, 64)    \n",
    "    CP_Gener_Audio_HAAQI, sample_rate = librosa.load(CP_Gener_Audio_mp3, sr=None)\n",
    "    HAAQI_score = round(haaqi.compute_haaqi(CP_Gener_Audio_HAAQI,Referece_data_48k_16bit,sample_rate,sample_rate,audiogram_NH),2)\n",
    "    print(f\"Clipping percentage is {x}%. The HAAQI value is {HAAQI_score}\")\n",
    "    data_point_alterCP_HAAQI_48k_16bit.append(HAAQI_score)\n",
    "    mp3_HAAQI_score = round(haaqi.compute_haaqi(CP_Gener_Audio_HAAQI,Mp3_Referece_data_48k_16bit,sample_rate,sample_rate,audiogram_NH),2)\n",
    "    print(f\"Clipping percentage is {x}%. The HAAQI value is {mp3_HAAQI_score}\")\n",
    "    data_point_alterCP_HAAQI_mp3_48k_16bit.append(mp3_HAAQI_score)\n",
    "\n",
    "data_point_alterDO_HAAQI_48k_16bit = []\n",
    "data_point_alterDO_HAAQI_mp3_48k_16bit = []\n",
    "for x in range(1,100):\n",
    "    filename = f\"Audio_Mixing_DO{str(x)}.wav\"\n",
    "    DO_Gener_Audio = Noise_Generator_MP3_48k_16bit.TestNoisedOnlyFile([0,0,0,x],filename)\n",
    "    DO_Gener_Audio_mp3 = Noise_Generator_MP3_48k_16bit.GeneratingMP3RefFile(DO_Gener_Audio, 64)      \n",
    "    DO_Gener_Audio_HAAQI, sample_rate = librosa.load(DO_Gener_Audio_mp3, sr=None)\n",
    "    HAAQI_score = round(haaqi.compute_haaqi(DO_Gener_Audio_HAAQI,Referece_data_48k_16bit,sample_rate,sample_rate,audiogram_NH),2)\n",
    "    print(f\"Dropout Num is {x}. The HAAQI value is {HAAQI_score}\")\n",
    "    data_point_alterDO_HAAQI_48k_16bit.append(HAAQI_score)\n",
    "    mp3_HAAQI_score = round(haaqi.compute_haaqi(DO_Gener_Audio_HAAQI,Mp3_Referece_data_48k_16bit,sample_rate,sample_rate,audiogram_NH),2)\n",
    "    print(f\"Dropout Num is {x}. The HAAQI value is {mp3_HAAQI_score}\")\n",
    "    data_point_alterDO_HAAQI_mp3_48k_16bit.append(mp3_HAAQI_score)\n",
    "\n",
    "\n",
    "df_HN_HAAQI_48k_16bit = pd.DataFrame({'HumNoise SNR': np.arange(1,100,1), 'score': data_point_alterHN_HAAQI_48k_16bit})\n",
    "df_HN_HAAQI_48k_16bit = df_HN_HAAQI_48k_16bit.apply(pd.to_numeric, errors='coerce')\n",
    "df_WN_HAAQI_48k_16bit = pd.DataFrame({'WhiteNoise SNR': np.arange(1,100,1), 'score': data_point_alterWN_HAAQI_48k_16bit})\n",
    "df_WN_HAAQI_48k_16bit = df_WN_HAAQI_48k_16bit.apply(pd.to_numeric, errors='coerce')\n",
    "df_CP_HAAQI_48k_16bit = pd.DataFrame({'Clipping Percentage(%)': np.arange(1,100,1), 'score': data_point_alterCP_HAAQI_48k_16bit})\n",
    "df_CP_HAAQI_48k_16bit = df_CP_HAAQI_48k_16bit.apply(pd.to_numeric, errors='coerce')\n",
    "df_DO_HAAQI_48k_16bit = pd.DataFrame({'Dropout Num': np.arange(1,100,1), 'score': data_point_alterDO_HAAQI_48k_16bit})\n",
    "df_DO_HAAQI_48k_16bit = df_DO_HAAQI_48k_16bit.apply(pd.to_numeric, errors='coerce')\n",
    "df_HN_HAAQI_mp3_48k_16bit = pd.DataFrame({'HumNoise SNR': np.arange(1,100,1), 'score': data_point_alterHN_HAAQI_mp3_48k_16bit})\n",
    "df_HN_HAAQI_mp3_48k_16bit = df_HN_HAAQI_mp3_48k_16bit.apply(pd.to_numeric, errors='coerce')\n",
    "df_WN_HAAQI_mp3_48k_16bit= pd.DataFrame({'WhiteNoise SNR': np.arange(1,100,1), 'score': data_point_alterWN_HAAQI_mp3_48k_16bit})\n",
    "df_WN_HAAQI_mp3_48k_16bit = df_WN_HAAQI_mp3_48k_16bit.apply(pd.to_numeric, errors='coerce')\n",
    "df_CP_HAAQI_mp3_48k_16bit = pd.DataFrame({'Clipping Percentage(%)': np.arange(1,100,1), 'score': data_point_alterCP_HAAQI_mp3_48k_16bit})\n",
    "df_CP_HAAQI_mp3_48k_16bit = df_CP_HAAQI_mp3_48k_16bit.apply(pd.to_numeric, errors='coerce')\n",
    "df_DO_HAAQI_mp3_48k_16bit = pd.DataFrame({'Dropout Num': np.arange(1,100,1), 'score': data_point_alterDO_HAAQI_mp3_48k_16bit})\n",
    "df_DO_HAAQI_mp3_48k_16bit = df_DO_HAAQI_mp3_48k_16bit.apply(pd.to_numeric, errors='coerce')\n",
    "\n",
    "# Combine the dataframes vertically (stacked on top of each other)\n",
    "combined_df = pd.concat([df_HN_HAAQI_48k_16bit, df_WN_HAAQI_48k_16bit, df_CP_HAAQI_48k_16bit, df_DO_HAAQI_48k_16bit, df_HN_HAAQI_mp3_48k_16bit, df_WN_HAAQI_mp3_48k_16bit,df_CP_HAAQI_mp3_48k_16bit,df_DO_HAAQI_mp3_48k_16bit], axis=1)\n",
    "# Output to CSV\n",
    "##First Four Columns is vs Wav, rest four columns is vs mp3\n",
    "combined_df.to_csv(f'{Mixing_Path_48k_16bit}/haaqi_ind.csv', index=False)\n"
   ]
  },
  {
   "cell_type": "code",
   "execution_count": 14,
   "id": "47d45a17-dd1f-42e8-a500-2254f0b0f145",
   "metadata": {},
   "outputs": [
    {
     "data": {
      "text/plain": [
       "'/home/codecrack/Jnotebook/DAFX25_48k_16/Grunge/Mixing_Result_Mp3_Wav/Audio_Mixing_HN99_64kbps_64kbps.wav'"
      ]
     },
     "execution_count": 14,
     "metadata": {},
     "output_type": "execute_result"
    }
   ],
   "source": [
    "HN_Gener_Audio_mp3"
   ]
  },
  {
   "cell_type": "code",
   "execution_count": 12,
   "id": "503fcea8-04fc-4594-adfb-bd694f9bf5e2",
   "metadata": {},
   "outputs": [
    {
     "data": {
      "text/plain": [
       "'/home/codecrack/Jnotebook/DAFX25_48k_16/Grunge//Mixing_Result/Reference.wav'"
      ]
     },
     "execution_count": 12,
     "metadata": {},
     "output_type": "execute_result"
    }
   ],
   "source": [
    "Referece_File_48k_16bit"
   ]
  },
  {
   "cell_type": "code",
   "execution_count": null,
   "id": "5cd54384-46a2-4f41-94dc-10f1151364b6",
   "metadata": {},
   "outputs": [],
   "source": []
  }
 ],
 "metadata": {
  "kernelspec": {
   "display_name": "Python 3 (ipykernel)",
   "language": "python",
   "name": "python3"
  },
  "language_info": {
   "codemirror_mode": {
    "name": "ipython",
    "version": 3
   },
   "file_extension": ".py",
   "mimetype": "text/x-python",
   "name": "python",
   "nbconvert_exporter": "python",
   "pygments_lexer": "ipython3",
   "version": "3.11.5"
  }
 },
 "nbformat": 4,
 "nbformat_minor": 5
}
