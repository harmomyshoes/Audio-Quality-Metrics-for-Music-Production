{
 "cells": [
  {
   "cell_type": "markdown",
   "id": "3e0abf3b-d2f7-401e-ac9c-67c61333f627",
   "metadata": {},
   "source": [
    "### Method APPLICATION, Testing the Three metrics under six different genre"
   ]
  },
  {
   "cell_type": "code",
   "execution_count": 2,
   "id": "de8f268f-b838-4ad7-bb42-37cca82cf2c7",
   "metadata": {},
   "outputs": [],
   "source": [
    "import numpy as np\n",
    "import pandas as pd\n",
    "from SignalProcessor import SignalProcessorClass\n",
    "import NoiseEvalUtil as NEUtil\n",
    "import argparse\n",
    "import matplotlib.pyplot as plt"
   ]
  },
  {
   "cell_type": "code",
   "execution_count": 2,
   "id": "2cffbc21-b5a5-414d-9010-8a19da0aa7c2",
   "metadata": {},
   "outputs": [],
   "source": [
    "import warnings\n",
    "warnings.filterwarnings(\"ignore\", \"Possible clipped samples in output.\")\n",
    "warnings.filterwarnings(\"ignore\", \"use_inf_as_na\")"
   ]
  },
  {
   "cell_type": "markdown",
   "id": "218cfe4f-d0a8-42e1-a1e5-07f635479702",
   "metadata": {},
   "source": [
    "#### Reggea"
   ]
  },
  {
   "cell_type": "code",
   "execution_count": 29,
   "id": "85b97460-03fc-4678-b31c-ea8af647e654",
   "metadata": {
    "scrolled": true
   },
   "outputs": [
    {
     "name": "stdout",
     "output_type": "stream",
     "text": [
      "Audio duration orginal is 17.462666666666667 seconds, now is the 8.0, the audio changing to the MONO\n",
      "After LUFS, the mixing ouput in the RMS, Total: -9.11dB, Clipping Ratio&Cliped Num: (0.002002604166666667, 769)\n"
     ]
    },
    {
     "data": {
      "text/plain": [
       "'/home/codecrack/Jnotebook/48k_16bit/Reggea/Mixing_Result/Reference.wav'"
      ]
     },
     "execution_count": 29,
     "metadata": {},
     "output_type": "execute_result"
    }
   ],
   "source": [
    "Reggea_Mixing_Path = '/home/codecrack/Jnotebook/48k_16bit/Reggea'\n",
    "Reggea_Noise_Generator_MP3_48k_16bit = SignalProcessorClass(filename=\"mixture.wav\", foldpath=Reggea_Mixing_Path, TrackType = NEUtil.MixingType.File)\n",
    "Reggea_Referece_File_48k_16bit = Reggea_Noise_Generator_MP3_48k_16bit.TestNoisedOnlyFile([0,0,0,0],\"Reference.wav\")\n",
    "Reggea_Referece_File_48k_16bit"
   ]
  },
  {
   "cell_type": "code",
   "execution_count": 30,
   "id": "397091d4-0fcc-49e7-ba2b-57ec015098e5",
   "metadata": {},
   "outputs": [
    {
     "name": "stdout",
     "output_type": "stream",
     "text": [
      "PEAQ Result in no inference is -0.855\n"
     ]
    }
   ],
   "source": [
    "score = Reggea_Noise_Generator_MP3_48k_16bit.MeasurePEAQOutputsVsRef(Reggea_Referece_File_48k_16bit,64,Reggea_Referece_File_48k_16bit)\n",
    "print(f\"PEAQ Result in no inference is {score}\")"
   ]
  },
  {
   "cell_type": "code",
   "execution_count": 31,
   "id": "eac7a9c3-1211-48e1-a1ea-c2a5fb4c384b",
   "metadata": {},
   "outputs": [],
   "source": [
    "Reggea_Mp3_Referece_File_48k_16bit = \"/home/codecrack/Jnotebook/48k_16bit/Reggea/Mixing_Result_Mp3_Wav/Reference_64kbps.wav\""
   ]
  },
  {
   "cell_type": "markdown",
   "id": "d4133957-00d7-4ecc-8f40-c3ec8a84fe99",
   "metadata": {},
   "source": [
    "##### PEAQ Basic Measurment "
   ]
  },
  {
   "cell_type": "code",
   "execution_count": 34,
   "id": "bc459408-faa8-4d5a-aa9f-8d0e6f11b308",
   "metadata": {},
   "outputs": [
    {
     "name": "stdout",
     "output_type": "stream",
     "text": [
      "The original level of signal is 0.05805440992116928\n",
      "The noise level of signal is 0.00018358416356797113\n",
      "After LUFS, the mixing ouput in the RMS, Total: -9.15dB, Clipping Ratio&Cliped Num: (0.0, 0)\n",
      "PEAQ Result is -1.960\n"
     ]
    }
   ],
   "source": [
    "solution = [50,0,1,0]\n",
    "hn = solution[0]\n",
    "wn = solution[1]\n",
    "cp = solution[2]\n",
    "do = solution[3]\n",
    "\n",
    "Noisefilename = f'audio_mixing_HN_{hn}_WN{wn}_CP{cp}_DO{do}.wav'\n",
    "Gener_Audio = Reggea_Noise_Generator_MP3_48k_16bit.TestNoisedOnlyFile(solution,Noisefilename)\n",
    "score = Reggea_Noise_Generator_MP3_48k_16bit.MeasurePEAQOutputsVsRef(Gener_Audio,64,Reggea_Mp3_Referece_File_48k_16bit)\n",
    "\n",
    "print(f\"PEAQ Result is {score}\")"
   ]
  },
  {
   "cell_type": "markdown",
   "id": "db35a055-0b1e-4108-8321-c71e4a21d7c6",
   "metadata": {},
   "source": [
    "##### HAAQI Measurment "
   ]
  },
  {
   "cell_type": "code",
   "execution_count": 9,
   "id": "4670a2be-2bb6-4d54-825e-64d0b0d9821d",
   "metadata": {},
   "outputs": [],
   "source": [
    "import clarity\n",
    "import clarity.evaluator.haaqi as haaqi\n",
    "import librosa\n",
    "from clarity.utils.audiogram import Audiogram"
   ]
  },
  {
   "cell_type": "code",
   "execution_count": 10,
   "id": "177b6c3e-b8f8-4a75-9fb1-a970518dec8f",
   "metadata": {},
   "outputs": [],
   "source": [
    "levels_1 = np.array([0, 0, 0, 0, 0, 0, 0, 0])\n",
    "audiogram_NH = Audiogram(levels=levels_1)"
   ]
  },
  {
   "cell_type": "code",
   "execution_count": 35,
   "id": "cd09610d-d070-49c1-a883-2679194989f9",
   "metadata": {},
   "outputs": [
    {
     "name": "stdout",
     "output_type": "stream",
     "text": [
      "The original level of signal is 0.05805440992116928\n",
      "The noise level of signal is 0.00018358416356797113\n",
      "After LUFS, the mixing ouput in the RMS, Total: -9.15dB, Clipping Ratio&Cliped Num: (0.0, 0)\n",
      "HAAQI Result is 0.85\n"
     ]
    }
   ],
   "source": [
    "Mp3_Referece_data, sample_rate = librosa.load(Reggea_Mp3_Referece_File_48k_16bit, sr=None)\n",
    "Gener_Audio = Reggea_Noise_Generator_MP3_48k_16bit.TestNoisedOnlyFile(solution,Noisefilename)\n",
    "Gener_Audio_mp3 = Reggea_Noise_Generator_MP3_48k_16bit.GeneratingMP3RefFile(Gener_Audio,64)\n",
    "Gener_Audio_mp3_HAAQI, sample_rate = librosa.load(Gener_Audio_mp3, sr=None)\n",
    "HAAQI_score = round(haaqi.compute_haaqi(Gener_Audio_mp3_HAAQI,Mp3_Referece_data,sample_rate,sample_rate,audiogram_NH),2)\n",
    "print(f\"HAAQI Result is {HAAQI_score}\")"
   ]
  },
  {
   "cell_type": "markdown",
   "id": "e0b9d463-50a9-42a2-8ea8-9867a7d9e3be",
   "metadata": {},
   "source": [
    "#### Disco"
   ]
  },
  {
   "cell_type": "code",
   "execution_count": 36,
   "id": "c869bcbd-44f4-414c-b8b4-07d8b54fec63",
   "metadata": {},
   "outputs": [
    {
     "name": "stdout",
     "output_type": "stream",
     "text": [
      "Audio duration orginal is 114.64158333333333 seconds, now is the 8.0, the audio changing to the MONO\n",
      "After LUFS, the mixing ouput in the RMS, Total: -9.81dB, Clipping Ratio&Cliped Num: (0.0026666666666666666, 1024)\n"
     ]
    },
    {
     "data": {
      "text/plain": [
       "'/home/codecrack/Jnotebook/48k_16bit/Disco/Mixing_Result/Reference.wav'"
      ]
     },
     "execution_count": 36,
     "metadata": {},
     "output_type": "execute_result"
    }
   ],
   "source": [
    "Disco_Mixing_Path = '/home/codecrack/Jnotebook/48k_16bit/Disco'\n",
    "Disco_Noise_Generator_MP3_48k_16bit = SignalProcessorClass(filename=\"mixture.wav\", foldpath=Disco_Mixing_Path, TrackType = NEUtil.MixingType.File)\n",
    "Disco_Referece_File_48k_16bit = Disco_Noise_Generator_MP3_48k_16bit.TestNoisedOnlyFile([0,0,0,0],\"Reference.wav\")\n",
    "Disco_Referece_File_48k_16bit"
   ]
  },
  {
   "cell_type": "code",
   "execution_count": 37,
   "id": "92181525-3ce8-4c3c-9fb4-caa9477f16ea",
   "metadata": {},
   "outputs": [
    {
     "name": "stdout",
     "output_type": "stream",
     "text": [
      "PEAQ Result in no inference is -0.992\n"
     ]
    }
   ],
   "source": [
    "score = Disco_Noise_Generator_MP3_48k_16bit.MeasurePEAQOutputsVsRef(Disco_Referece_File_48k_16bit,64,Disco_Referece_File_48k_16bit)\n",
    "print(f\"PEAQ Result in no inference is {score}\")"
   ]
  },
  {
   "cell_type": "code",
   "execution_count": 38,
   "id": "ece3581c-48f9-486b-b1d6-7f0f055e67e8",
   "metadata": {},
   "outputs": [],
   "source": [
    "Disco_Mp3_Referece_File_48k_16bit = \"/home/codecrack/Jnotebook/48k_16bit/Disco/Mixing_Result_Mp3_Wav/Reference_64kbps.wav\""
   ]
  },
  {
   "cell_type": "markdown",
   "id": "8db48edb-3390-4d24-8744-7e8e8b230585",
   "metadata": {},
   "source": [
    "##### PEAQ Basic"
   ]
  },
  {
   "cell_type": "code",
   "execution_count": 39,
   "id": "6bb456b3-92cd-4f00-a928-a0668b318f33",
   "metadata": {},
   "outputs": [
    {
     "name": "stdout",
     "output_type": "stream",
     "text": [
      "The original level of signal is 0.11036815494298935\n",
      "The noise level of signal is 0.00034901475077021745\n",
      "After LUFS, the mixing ouput in the RMS, Total: -9.83dB, Clipping Ratio&Cliped Num: (0.0, 0)\n",
      "PEAQ Result is -1.479\n"
     ]
    }
   ],
   "source": [
    "solution = [50,0,1,0]\n",
    "hn = solution[0]\n",
    "wn = solution[1]\n",
    "cp = solution[2]\n",
    "do = solution[3]\n",
    "\n",
    "Noisefilename = f'audio_mixing_HN_{hn}_WN{wn}_CP{cp}_DO{do}.wav'\n",
    "Gener_Audio = Disco_Noise_Generator_MP3_48k_16bit.TestNoisedOnlyFile(solution,Noisefilename)\n",
    "score = Disco_Noise_Generator_MP3_48k_16bit.MeasurePEAQOutputsVsRef(Gener_Audio,64,Disco_Mp3_Referece_File_48k_16bit)\n",
    "\n",
    "print(f\"PEAQ Result is {score}\")"
   ]
  },
  {
   "cell_type": "markdown",
   "id": "b08815cb-8720-40e9-9b02-8beffd55a156",
   "metadata": {},
   "source": [
    "##### HAAQI "
   ]
  },
  {
   "cell_type": "code",
   "execution_count": 40,
   "id": "da308f26-dc51-4e22-be53-a70a75107c8b",
   "metadata": {},
   "outputs": [
    {
     "name": "stdout",
     "output_type": "stream",
     "text": [
      "The original level of signal is 0.11036815494298935\n",
      "The noise level of signal is 0.00034901475077021745\n",
      "After LUFS, the mixing ouput in the RMS, Total: -9.83dB, Clipping Ratio&Cliped Num: (0.0, 0)\n",
      "HAAQI Result is 0.84\n"
     ]
    }
   ],
   "source": [
    "Mp3_Referece_data, sample_rate = librosa.load(Disco_Mp3_Referece_File_48k_16bit, sr=None)\n",
    "Gener_Audio = Disco_Noise_Generator_MP3_48k_16bit.TestNoisedOnlyFile(solution,Noisefilename)\n",
    "Gener_Audio_mp3 = Disco_Noise_Generator_MP3_48k_16bit.GeneratingMP3RefFile(Gener_Audio,64)\n",
    "Gener_Audio_mp3_HAAQI, sample_rate = librosa.load(Gener_Audio_mp3, sr=None)\n",
    "HAAQI_score = round(haaqi.compute_haaqi(Gener_Audio_mp3_HAAQI,Mp3_Referece_data,sample_rate,sample_rate,audiogram_NH),2)\n",
    "print(f\"HAAQI Result is {HAAQI_score}\")"
   ]
  },
  {
   "cell_type": "markdown",
   "id": "97407958-4ec5-4393-890b-890b36701c7d",
   "metadata": {},
   "source": [
    "#### Rock"
   ]
  },
  {
   "cell_type": "code",
   "execution_count": 41,
   "id": "e9f29f31-d6ce-4e44-9cde-2def5527e769",
   "metadata": {},
   "outputs": [
    {
     "name": "stdout",
     "output_type": "stream",
     "text": [
      "Audio duration orginal is 12.0275 seconds, now is the 8.0, the audio changing to the MONO\n",
      "After LUFS, the mixing ouput in the RMS, Total: -10.17dB, Clipping Ratio&Cliped Num: (0.0, 35)\n"
     ]
    },
    {
     "data": {
      "text/plain": [
       "'/home/codecrack/Jnotebook/48k_16bit/Rock/Mixing_Result/Reference.wav'"
      ]
     },
     "execution_count": 41,
     "metadata": {},
     "output_type": "execute_result"
    }
   ],
   "source": [
    "Rock_Mixing_Path = '/home/codecrack/Jnotebook/48k_16bit/Rock'\n",
    "Rock_Noise_Generator_MP3_48k_16bit = SignalProcessorClass(filename=\"mixture.wav\", foldpath=Rock_Mixing_Path, TrackType = NEUtil.MixingType.File)\n",
    "Rock_Referece_File_48k_16bit = Rock_Noise_Generator_MP3_48k_16bit.TestNoisedOnlyFile([0,0,0,0],\"Reference.wav\")\n",
    "Rock_Referece_File_48k_16bit"
   ]
  },
  {
   "cell_type": "code",
   "execution_count": 42,
   "id": "0373039a-9fa4-4918-9e93-7c3fd5b42cb3",
   "metadata": {},
   "outputs": [
    {
     "name": "stdout",
     "output_type": "stream",
     "text": [
      "PEAQ Result in no inference is -0.654\n"
     ]
    }
   ],
   "source": [
    "score = Rock_Noise_Generator_MP3_48k_16bit.MeasurePEAQOutputsVsRef(Rock_Referece_File_48k_16bit,64,Rock_Referece_File_48k_16bit)\n",
    "print(f\"PEAQ Result in no inference is {score}\")"
   ]
  },
  {
   "cell_type": "code",
   "execution_count": 43,
   "id": "3be31d11-445e-451f-a8f4-9459c9f9d0aa",
   "metadata": {},
   "outputs": [],
   "source": [
    "Rock_Mp3_Referece_File_48k_16bit = \"/home/codecrack/Jnotebook/48k_16bit/Rock/Mixing_Result_Mp3_Wav/Reference_64kbps.wav\""
   ]
  },
  {
   "cell_type": "markdown",
   "id": "bb84649f-10f3-48b7-919f-ea7725a8a758",
   "metadata": {},
   "source": [
    "##### PEAQ Basic Measurment "
   ]
  },
  {
   "cell_type": "code",
   "execution_count": 44,
   "id": "70fc2643-9cc9-4c82-b5be-46336f6f20d2",
   "metadata": {},
   "outputs": [
    {
     "name": "stdout",
     "output_type": "stream",
     "text": [
      "The original level of signal is 0.17016907036304474\n",
      "The noise level of signal is 0.0005381218496606773\n",
      "After LUFS, the mixing ouput in the RMS, Total: -10.17dB, Clipping Ratio&Cliped Num: (0.0, 0)\n",
      "PEAQ Result is -1.882\n"
     ]
    }
   ],
   "source": [
    "solution = [50,0,1,0]\n",
    "hn = solution[0]\n",
    "wn = solution[1]\n",
    "cp = solution[2]\n",
    "do = solution[3]\n",
    "\n",
    "Noisefilename = f'audio_mixing_HN_{hn}_WN{wn}_CP{cp}_DO{do}.wav'\n",
    "Gener_Audio = Rock_Noise_Generator_MP3_48k_16bit.TestNoisedOnlyFile(solution,Noisefilename)\n",
    "score = Rock_Noise_Generator_MP3_48k_16bit.MeasurePEAQOutputsVsRef(Gener_Audio,64,Rock_Mp3_Referece_File_48k_16bit)\n",
    "\n",
    "print(f\"PEAQ Result is {score}\")"
   ]
  },
  {
   "cell_type": "markdown",
   "id": "f31da88f-85a7-4d3e-be7a-ba374f8fe4b3",
   "metadata": {},
   "source": [
    "##### HAAQI "
   ]
  },
  {
   "cell_type": "code",
   "execution_count": 45,
   "id": "c4de47bd-962c-4ca4-8cad-f3863fc43318",
   "metadata": {},
   "outputs": [
    {
     "name": "stdout",
     "output_type": "stream",
     "text": [
      "The original level of signal is 0.17016907036304474\n",
      "The noise level of signal is 0.0005381218496606773\n",
      "After LUFS, the mixing ouput in the RMS, Total: -10.17dB, Clipping Ratio&Cliped Num: (0.0, 0)\n",
      "HAAQI Result is 0.84\n"
     ]
    }
   ],
   "source": [
    "Mp3_Referece_data, sample_rate = librosa.load(Rock_Mp3_Referece_File_48k_16bit, sr=None)\n",
    "Gener_Audio = Rock_Noise_Generator_MP3_48k_16bit.TestNoisedOnlyFile(solution,Noisefilename)\n",
    "Gener_Audio_mp3 = Rock_Noise_Generator_MP3_48k_16bit.GeneratingMP3RefFile(Gener_Audio,64)\n",
    "Gener_Audio_mp3_HAAQI, sample_rate = librosa.load(Gener_Audio_mp3, sr=None)\n",
    "HAAQI_score = round(haaqi.compute_haaqi(Gener_Audio_mp3_HAAQI,Mp3_Referece_data,sample_rate,sample_rate,audiogram_NH),2)\n",
    "print(f\"HAAQI Result is {HAAQI_score}\")"
   ]
  },
  {
   "cell_type": "markdown",
   "id": "18fb6a29-07c3-4a53-8271-838e0fee513b",
   "metadata": {
    "jp-MarkdownHeadingCollapsed": true
   },
   "source": [
    "#### Country.1"
   ]
  },
  {
   "cell_type": "code",
   "execution_count": 46,
   "id": "2efec521-37ba-4e57-ad88-09d1ca33560e",
   "metadata": {},
   "outputs": [
    {
     "name": "stdout",
     "output_type": "stream",
     "text": [
      "Audio duration orginal is 31.92 seconds, now is the 8.0, the audio changing to the MONO\n",
      "After LUFS, the mixing ouput in the RMS, Total: -9.75dB, Clipping Ratio&Cliped Num: (0.0011536458333333333, 443)\n"
     ]
    },
    {
     "data": {
      "text/plain": [
       "'/home/codecrack/Jnotebook/48k_16bit/Country1/Mixing_Result/Reference.wav'"
      ]
     },
     "execution_count": 46,
     "metadata": {},
     "output_type": "execute_result"
    }
   ],
   "source": [
    "Country1_Mixing_Path = '/home/codecrack/Jnotebook/48k_16bit/Country1'\n",
    "Country1_Noise_Generator_MP3_48k_16bit = SignalProcessorClass(filename=\"mixture.wav\", foldpath=Country1_Mixing_Path, TrackType = NEUtil.MixingType.File)\n",
    "Country1_Referece_File_48k_16bit = Country1_Noise_Generator_MP3_48k_16bit.TestNoisedOnlyFile([0,0,0,0],\"Reference.wav\")\n",
    "Country1_Referece_File_48k_16bit"
   ]
  },
  {
   "cell_type": "code",
   "execution_count": 47,
   "id": "b2f1889f-2ebc-4b99-bc2d-acf10af94add",
   "metadata": {},
   "outputs": [
    {
     "name": "stdout",
     "output_type": "stream",
     "text": [
      "PEAQ Result in no inference is -1.305\n"
     ]
    }
   ],
   "source": [
    "score = Country1_Noise_Generator_MP3_48k_16bit.MeasurePEAQOutputsVsRef(Country1_Referece_File_48k_16bit,64,Country1_Referece_File_48k_16bit)\n",
    "print(f\"PEAQ Result in no inference is {score}\")"
   ]
  },
  {
   "cell_type": "code",
   "execution_count": 48,
   "id": "5f722e1a-1c34-4239-afbd-48a56b542c36",
   "metadata": {},
   "outputs": [],
   "source": [
    "Country1_Mp3_Referece_File_48k_16bit = \"/home/codecrack/Jnotebook/48k_16bit/Country1/Mixing_Result_Mp3_Wav/Reference_64kbps.wav\""
   ]
  },
  {
   "cell_type": "markdown",
   "id": "a9ffe79d-e373-4efe-92a9-a6abc9cd9f29",
   "metadata": {},
   "source": [
    "##### PEAQ Basic Measurment "
   ]
  },
  {
   "cell_type": "code",
   "execution_count": 49,
   "id": "35459bdb-73b6-423b-8935-3f6987d464bd",
   "metadata": {},
   "outputs": [
    {
     "name": "stdout",
     "output_type": "stream",
     "text": [
      "The original level of signal is 0.13769453763961792\n",
      "The noise level of signal is 0.00043542836030497777\n",
      "After LUFS, the mixing ouput in the RMS, Total: -9.78dB, Clipping Ratio&Cliped Num: (0.0, 0)\n",
      "PEAQ Result is -2.034\n"
     ]
    }
   ],
   "source": [
    "solution = [50,0,1,0]\n",
    "hn = solution[0]\n",
    "wn = solution[1]\n",
    "cp = solution[2]\n",
    "do = solution[3]\n",
    "\n",
    "Noisefilename = f'audio_mixing_HN_{hn}_WN{wn}_CP{cp}_DO{do}.wav'\n",
    "Gener_Audio = Country1_Noise_Generator_MP3_48k_16bit.TestNoisedOnlyFile(solution,Noisefilename)\n",
    "score = Country1_Noise_Generator_MP3_48k_16bit.MeasurePEAQOutputsVsRef(Gener_Audio,64,Country1_Mp3_Referece_File_48k_16bit)\n",
    "\n",
    "print(f\"PEAQ Result is {score}\")"
   ]
  },
  {
   "cell_type": "markdown",
   "id": "3b35a015-99e0-4bff-9f40-3016604ab212",
   "metadata": {},
   "source": [
    "##### HAAQI "
   ]
  },
  {
   "cell_type": "code",
   "execution_count": 50,
   "id": "4fe11255-36b0-464e-ae65-85c5883202c8",
   "metadata": {},
   "outputs": [
    {
     "name": "stdout",
     "output_type": "stream",
     "text": [
      "The original level of signal is 0.13769453763961792\n",
      "The noise level of signal is 0.00043542836030497777\n",
      "After LUFS, the mixing ouput in the RMS, Total: -9.78dB, Clipping Ratio&Cliped Num: (0.0, 0)\n",
      "HAAQI Result is 0.77\n"
     ]
    }
   ],
   "source": [
    "Mp3_Referece_data, sample_rate = librosa.load(Country1_Mp3_Referece_File_48k_16bit, sr=None)\n",
    "Gener_Audio = Country1_Noise_Generator_MP3_48k_16bit.TestNoisedOnlyFile(solution,Noisefilename)\n",
    "Gener_Audio_mp3 = Country1_Noise_Generator_MP3_48k_16bit.GeneratingMP3RefFile(Gener_Audio,64)\n",
    "Gener_Audio_mp3_HAAQI, sample_rate = librosa.load(Gener_Audio_mp3, sr=None)\n",
    "HAAQI_score = round(haaqi.compute_haaqi(Gener_Audio_mp3_HAAQI,Mp3_Referece_data,sample_rate,sample_rate,audiogram_NH),2)\n",
    "print(f\"HAAQI Result is {HAAQI_score}\")"
   ]
  },
  {
   "cell_type": "markdown",
   "id": "256e769c-f9b1-41fa-a605-eead1ef92506",
   "metadata": {
    "jp-MarkdownHeadingCollapsed": true
   },
   "source": [
    "#### Gospel"
   ]
  },
  {
   "cell_type": "code",
   "execution_count": 51,
   "id": "9de4ad8f-f16f-4588-b56a-efce34069a19",
   "metadata": {},
   "outputs": [
    {
     "name": "stdout",
     "output_type": "stream",
     "text": [
      "Audio duration orginal is 69.58364583333334 seconds, now is the 7.999791666666667, the audio changing to the MONO\n",
      "After LUFS, the mixing ouput in the RMS, Total: -10.91dB, Clipping Ratio&Cliped Num: (0.0, 14)\n"
     ]
    },
    {
     "data": {
      "text/plain": [
       "'/home/codecrack/Jnotebook/48k_16bit/Gospel/Mixing_Result/Reference.wav'"
      ]
     },
     "execution_count": 51,
     "metadata": {},
     "output_type": "execute_result"
    }
   ],
   "source": [
    "Gospel_Mixing_Path = '/home/codecrack/Jnotebook/48k_16bit/Gospel'\n",
    "Gospel_Noise_Generator_MP3_48k_16bit = SignalProcessorClass(filename=\"mixture.wav\", foldpath=Gospel_Mixing_Path, TrackType = NEUtil.MixingType.File, StartingTime=10)\n",
    "Gospel_Referece_File_48k_16bit = Gospel_Noise_Generator_MP3_48k_16bit.TestNoisedOnlyFile([0,0,0,0],\"Reference.wav\")\n",
    "Gospel_Referece_File_48k_16bit"
   ]
  },
  {
   "cell_type": "code",
   "execution_count": 52,
   "id": "6278d458-6e8f-4bef-9787-b35c2d004480",
   "metadata": {},
   "outputs": [
    {
     "name": "stdout",
     "output_type": "stream",
     "text": [
      "PEAQ Result in no inference is -1.375\n"
     ]
    }
   ],
   "source": [
    "score = Gospel_Noise_Generator_MP3_48k_16bit.MeasurePEAQOutputsVsRef(Gospel_Referece_File_48k_16bit,64,Gospel_Referece_File_48k_16bit)\n",
    "print(f\"PEAQ Result in no inference is {score}\")"
   ]
  },
  {
   "cell_type": "code",
   "execution_count": 24,
   "id": "7b97f614-7879-4411-bbcf-b704aee51d0a",
   "metadata": {},
   "outputs": [],
   "source": [
    "Gospel_Mp3_Referece_File_48k_16bit = \"/home/codecrack/Jnotebook/48k_16bit/Gospel/Mixing_Result_Mp3_Wav/Reference_64kbps.wav\""
   ]
  },
  {
   "cell_type": "markdown",
   "id": "9a3886d9-2c5d-49a2-a28c-7944198188f7",
   "metadata": {},
   "source": [
    "##### PEAQ Basic Measurment "
   ]
  },
  {
   "cell_type": "code",
   "execution_count": 53,
   "id": "20bc8cd4-8f44-4e5b-b35a-277cec641101",
   "metadata": {},
   "outputs": [
    {
     "name": "stdout",
     "output_type": "stream",
     "text": [
      "The original level of signal is 0.1693820059299469\n",
      "The noise level of signal is 0.000535632933386779\n",
      "After LUFS, the mixing ouput in the RMS, Total: -10.92dB, Clipping Ratio&Cliped Num: (0.0, 0)\n",
      "PEAQ Result is -2.480\n"
     ]
    }
   ],
   "source": [
    "solution = [50,0,1,0]\n",
    "hn = solution[0]\n",
    "wn = solution[1]\n",
    "cp = solution[2]\n",
    "do = solution[3]\n",
    "\n",
    "Noisefilename = f'audio_mixing_HN_{hn}_WN{wn}_CP{cp}_DO{do}.wav'\n",
    "Gener_Audio = Gospel_Noise_Generator_MP3_48k_16bit.TestNoisedOnlyFile(solution,Noisefilename)\n",
    "score = Gospel_Noise_Generator_MP3_48k_16bit.MeasurePEAQOutputsVsRef(Gener_Audio,64,Gospel_Mp3_Referece_File_48k_16bit)\n",
    "\n",
    "print(f\"PEAQ Result is {score}\")"
   ]
  },
  {
   "cell_type": "markdown",
   "id": "c4454de1-e439-4282-b225-9d08c50bc811",
   "metadata": {},
   "source": [
    "##### HAAQI "
   ]
  },
  {
   "cell_type": "code",
   "execution_count": 54,
   "id": "9d638869-41bd-4445-8f79-e4d6fb128cca",
   "metadata": {},
   "outputs": [
    {
     "name": "stdout",
     "output_type": "stream",
     "text": [
      "The original level of signal is 0.1693820059299469\n",
      "The noise level of signal is 0.000535632933386779\n",
      "After LUFS, the mixing ouput in the RMS, Total: -10.92dB, Clipping Ratio&Cliped Num: (0.0, 0)\n",
      "HAAQI Result is 0.78\n"
     ]
    }
   ],
   "source": [
    "Mp3_Referece_data, sample_rate = librosa.load(Gospel_Mp3_Referece_File_48k_16bit, sr=None)\n",
    "Gener_Audio = Gospel_Noise_Generator_MP3_48k_16bit.TestNoisedOnlyFile(solution,Noisefilename)\n",
    "Gener_Audio_mp3 = Gospel_Noise_Generator_MP3_48k_16bit.GeneratingMP3RefFile(Gener_Audio,64)\n",
    "Gener_Audio_mp3_HAAQI, sample_rate = librosa.load(Gener_Audio_mp3, sr=None)\n",
    "HAAQI_score = round(haaqi.compute_haaqi(Gener_Audio_mp3_HAAQI,Mp3_Referece_data,sample_rate,sample_rate,audiogram_NH),2)\n",
    "print(f\"HAAQI Result is {HAAQI_score}\")"
   ]
  },
  {
   "cell_type": "markdown",
   "id": "207f75b7-b0b0-4689-b4e7-ed6a3dd951ea",
   "metadata": {},
   "source": [
    "#### PUNK"
   ]
  },
  {
   "cell_type": "code",
   "execution_count": 56,
   "id": "52af75fc-d642-4210-bf7a-6307c66fcf2d",
   "metadata": {},
   "outputs": [
    {
     "name": "stdout",
     "output_type": "stream",
     "text": [
      "Audio duration orginal is 26.425583333333332 seconds, now is the 7.999791666666667, the audio changing to the MONO\n",
      "After LUFS, the mixing ouput in the RMS, Total: -11.05dB, Clipping Ratio&Cliped Num: (0.0, 0)\n"
     ]
    },
    {
     "data": {
      "text/plain": [
       "'/home/codecrack/Jnotebook/48k_16bit/Punk/Mixing_Result/Reference.wav'"
      ]
     },
     "execution_count": 56,
     "metadata": {},
     "output_type": "execute_result"
    }
   ],
   "source": [
    "Punk_Mixing_Path = '/home/codecrack/Jnotebook/48k_16bit/Punk'\n",
    "Punk_Noise_Generator_MP3_48k_16bit = SignalProcessorClass(filename=\"mixture.wav\", foldpath=Punk_Mixing_Path, TrackType = NEUtil.MixingType.File, StartingTime=10)\n",
    "Punk_Referece_File_48k_16bit = Punk_Noise_Generator_MP3_48k_16bit.TestNoisedOnlyFile([0,0,0,0],\"Reference.wav\")\n",
    "Punk_Referece_File_48k_16bit"
   ]
  },
  {
   "cell_type": "code",
   "execution_count": 57,
   "id": "c4321c91-f791-418b-8542-92e1cace3c59",
   "metadata": {},
   "outputs": [
    {
     "name": "stdout",
     "output_type": "stream",
     "text": [
      "PEAQ Result in no inference is -1.240\n"
     ]
    }
   ],
   "source": [
    "score = Punk_Noise_Generator_MP3_48k_16bit.MeasurePEAQOutputsVsRef(Punk_Referece_File_48k_16bit,64,Punk_Referece_File_48k_16bit)\n",
    "print(f\"PEAQ Result in no inference is {score}\")"
   ]
  },
  {
   "cell_type": "code",
   "execution_count": 58,
   "id": "e30fc4d2-3d9c-430b-8028-030788d89241",
   "metadata": {},
   "outputs": [],
   "source": [
    "Punk_Mp3_Referece_File_48k_16bit = \"/home/codecrack/Jnotebook/48k_16bit/Punk/Mixing_Result_Mp3_Wav/Reference_64kbps.wav\""
   ]
  },
  {
   "cell_type": "markdown",
   "id": "f84106d2-6539-4ef1-bb0e-296a16e425e1",
   "metadata": {},
   "source": [
    "##### PEAQ Basic Measurment "
   ]
  },
  {
   "cell_type": "code",
   "execution_count": 59,
   "id": "38868bcc-dc7f-40d0-9358-59fad869b2af",
   "metadata": {},
   "outputs": [
    {
     "name": "stdout",
     "output_type": "stream",
     "text": [
      "The original level of signal is 0.18257470428943634\n",
      "The noise level of signal is 0.0005773519086863325\n",
      "After LUFS, the mixing ouput in the RMS, Total: -11.05dB, Clipping Ratio&Cliped Num: (0.0, 0)\n",
      "PEAQ Result is -1.985\n"
     ]
    }
   ],
   "source": [
    "solution = [50,0,1,0]\n",
    "hn = solution[0]\n",
    "wn = solution[1]\n",
    "cp = solution[2]\n",
    "do = solution[3]\n",
    "\n",
    "Noisefilename = f'audio_mixing_HN_{hn}_WN{wn}_CP{cp}_DO{do}.wav'\n",
    "Gener_Audio = Punk_Noise_Generator_MP3_48k_16bit.TestNoisedOnlyFile(solution,Noisefilename)\n",
    "score = Punk_Noise_Generator_MP3_48k_16bit.MeasurePEAQOutputsVsRef(Gener_Audio,64,Punk_Mp3_Referece_File_48k_16bit)\n",
    "\n",
    "print(f\"PEAQ Result is {score}\")"
   ]
  },
  {
   "cell_type": "markdown",
   "id": "f48a50f8-c4ac-4351-9e99-75c64f9dec43",
   "metadata": {},
   "source": [
    "##### HAAQI "
   ]
  },
  {
   "cell_type": "code",
   "execution_count": 60,
   "id": "c117baf5-d48e-4d5f-9770-8190d055bf77",
   "metadata": {},
   "outputs": [
    {
     "name": "stdout",
     "output_type": "stream",
     "text": [
      "The original level of signal is 0.18257470428943634\n",
      "The noise level of signal is 0.0005773519086863325\n",
      "After LUFS, the mixing ouput in the RMS, Total: -11.05dB, Clipping Ratio&Cliped Num: (0.0, 0)\n",
      "HAAQI Result is 0.82\n"
     ]
    }
   ],
   "source": [
    "Mp3_Referece_data, sample_rate = librosa.load(Punk_Mp3_Referece_File_48k_16bit, sr=None)\n",
    "Gener_Audio = Punk_Noise_Generator_MP3_48k_16bit.TestNoisedOnlyFile(solution,Noisefilename)\n",
    "Gener_Audio_mp3 = Punk_Noise_Generator_MP3_48k_16bit.GeneratingMP3RefFile(Gener_Audio,64)\n",
    "Gener_Audio_mp3_HAAQI, sample_rate = librosa.load(Gener_Audio_mp3, sr=None)\n",
    "HAAQI_score = round(haaqi.compute_haaqi(Gener_Audio_mp3_HAAQI,Mp3_Referece_data,sample_rate,sample_rate,audiogram_NH),2)\n",
    "print(f\"HAAQI Result is {HAAQI_score}\")"
   ]
  },
  {
   "cell_type": "markdown",
   "id": "28da833d-9c54-4965-86c8-fd97542aaa5f",
   "metadata": {},
   "source": [
    "## Painting mark across the Examples"
   ]
  },
  {
   "cell_type": "code",
   "execution_count": 5,
   "id": "e76785d1-0e91-48d9-ace3-e80a07524dbc",
   "metadata": {},
   "outputs": [],
   "source": [
    "#Reading from data\n",
    "score_df = pd.read_csv('Dataset/Across_Example_score.csv')\n",
    "#score_df"
   ]
  },
  {
   "cell_type": "code",
   "execution_count": 6,
   "id": "604183b3-ce6c-4e24-af43-5fb72da286a1",
   "metadata": {},
   "outputs": [
    {
     "data": {
      "text/html": [
       "<div>\n",
       "<style scoped>\n",
       "    .dataframe tbody tr th:only-of-type {\n",
       "        vertical-align: middle;\n",
       "    }\n",
       "\n",
       "    .dataframe tbody tr th {\n",
       "        vertical-align: top;\n",
       "    }\n",
       "\n",
       "    .dataframe thead th {\n",
       "        text-align: right;\n",
       "    }\n",
       "</style>\n",
       "<table border=\"1\" class=\"dataframe\">\n",
       "  <thead>\n",
       "    <tr style=\"text-align: right;\">\n",
       "      <th></th>\n",
       "      <th>Examples</th>\n",
       "      <th>PEAQBasic_Score</th>\n",
       "      <th>PEMO_Score</th>\n",
       "      <th>HAAQI_Score</th>\n",
       "    </tr>\n",
       "  </thead>\n",
       "  <tbody>\n",
       "    <tr>\n",
       "      <th>0</th>\n",
       "      <td>EX.1</td>\n",
       "      <td>0.51000</td>\n",
       "      <td>0.721000</td>\n",
       "      <td>0.85</td>\n",
       "    </tr>\n",
       "    <tr>\n",
       "      <th>1</th>\n",
       "      <td>EX.2</td>\n",
       "      <td>0.63025</td>\n",
       "      <td>0.750125</td>\n",
       "      <td>0.84</td>\n",
       "    </tr>\n",
       "    <tr>\n",
       "      <th>2</th>\n",
       "      <td>EX.3</td>\n",
       "      <td>0.52950</td>\n",
       "      <td>0.785150</td>\n",
       "      <td>0.84</td>\n",
       "    </tr>\n",
       "    <tr>\n",
       "      <th>3</th>\n",
       "      <td>EX.4</td>\n",
       "      <td>0.49150</td>\n",
       "      <td>0.699400</td>\n",
       "      <td>0.77</td>\n",
       "    </tr>\n",
       "    <tr>\n",
       "      <th>4</th>\n",
       "      <td>EX.5</td>\n",
       "      <td>0.38000</td>\n",
       "      <td>0.570775</td>\n",
       "      <td>0.78</td>\n",
       "    </tr>\n",
       "    <tr>\n",
       "      <th>5</th>\n",
       "      <td>EX.6</td>\n",
       "      <td>0.50375</td>\n",
       "      <td>0.719275</td>\n",
       "      <td>0.82</td>\n",
       "    </tr>\n",
       "  </tbody>\n",
       "</table>\n",
       "</div>"
      ],
      "text/plain": [
       "  Examples  PEAQBasic_Score  PEMO_Score  HAAQI_Score\n",
       "0     EX.1          0.51000    0.721000         0.85\n",
       "1     EX.2          0.63025    0.750125         0.84\n",
       "2     EX.3          0.52950    0.785150         0.84\n",
       "3     EX.4          0.49150    0.699400         0.77\n",
       "4     EX.5          0.38000    0.570775         0.78\n",
       "5     EX.6          0.50375    0.719275         0.82"
      ]
     },
     "execution_count": 6,
     "metadata": {},
     "output_type": "execute_result"
    }
   ],
   "source": [
    "#Normalised the PEAQ and PEMO-Q\n",
    "score_df_Norm = score_df\n",
    "columns_to_normalize = ['PEAQBasic_Score', 'PEMO_Score']\n",
    "score_df_Norm[columns_to_normalize] = (score_df_Norm[columns_to_normalize] +4) / 4\n",
    "score_df_Norm"
   ]
  },
  {
   "cell_type": "code",
   "execution_count": 11,
   "id": "747b75d3-6a71-4733-b93e-5f119c7abdfa",
   "metadata": {},
   "outputs": [
    {
     "data": {
      "image/png": "[encoded data removed]",
      "text/plain": [
       "<Figure size 1200x400 with 1 Axes>"
      ]
     },
     "metadata": {},
     "output_type": "display_data"
    }
   ],
   "source": [
    "import seaborn as sns\n",
    "import matplotlib.pyplot as plt\n",
    "import pandas as pd\n",
    "# Create a line plot with distinct line styles and annotate mean and std values on the side\n",
    "plt.figure(figsize=(12, 4))\n",
    "\n",
    "# Line styles for each metric\n",
    "line_styles = [\"-\", \"--\", \"-.\"]\n",
    "colors = sns.color_palette(\"Set2\", n_colors=3)\n",
    "\n",
    "for idx, metric in enumerate([\"PEAQBasic_Score\", \"PEMO_Score\", \"HAAQI_Score\"]):\n",
    "    mean_value = score_df_Norm[metric].mean()\n",
    "    std_value = score_df_Norm[metric].std()\n",
    "    plt.plot(score_df_Norm[\"Examples\"], score_df_Norm[metric], marker=\"o\", linestyle=line_styles[idx], color=colors[idx], label=f\"{metric.split('_')[0]}\")\n",
    "    \n",
    "    # Annotate the mean and std value on the side of the plot\n",
    "    plt.text(len(score_df_Norm[\"Examples\"]) - 1.1, score_df_Norm[metric].iloc[-1], f\"Mean: {mean_value:.2f}\\nStd: {std_value:.2f}\",\n",
    "             fontsize=20, va=\"center\")\n",
    "\n",
    "# Customize the plot\n",
    "#plt.title(\"Line Plot of Metrics Across Genres with Mean and Std Annotated on the Side\")\n",
    "#plt.xlabel(\"Genre\")\n",
    "plt.ylabel(\"Normalised Score\",fontsize=20)\n",
    "plt.ylim(0.0, 1.1)\n",
    "plt.tick_params(axis='x', labelsize=20)  # Change x-axis tick label size\n",
    "plt.tick_params(axis='y', labelsize=20)  # Change y-axis tick label size\n",
    "plt.legend(title=\"Metrics\")\n",
    "plt.grid(True, which='both', linestyle='--', color='gray', alpha=0.7)\n",
    "plt.tight_layout()\n",
    "\n",
    "\n",
    "# Show the plot\n",
    "plt.show()\n"
   ]
  },
  {
   "cell_type": "code",
   "execution_count": 68,
   "id": "e1f3687f-5bba-423a-bf7f-aadd26bfb918",
   "metadata": {},
   "outputs": [
    {
     "data": {
      "text/plain": [
       "0    0.85\n",
       "1    0.84\n",
       "2    0.84\n",
       "3    0.77\n",
       "4    0.78\n",
       "5    0.82\n",
       "Name: HAAQI_Score, dtype: float64"
      ]
     },
     "execution_count": 68,
     "metadata": {},
     "output_type": "execute_result"
    }
   ],
   "source": [
    "df[metric]"
   ]
  },
  {
   "cell_type": "code",
   "execution_count": null,
   "id": "417943d1-9586-4c55-988a-682407dc9962",
   "metadata": {},
   "outputs": [],
   "source": []
  }
 ],
 "metadata": {
  "kernelspec": {
   "display_name": "Python 3 (ipykernel)",
   "language": "python",
   "name": "python3"
  },
  "language_info": {
   "codemirror_mode": {
    "name": "ipython",
    "version": 3
   },
   "file_extension": ".py",
   "mimetype": "text/x-python",
   "name": "python",
   "nbconvert_exporter": "python",
   "pygments_lexer": "ipython3",
   "version": "3.11.5"
  }
 },
 "nbformat": 4,
 "nbformat_minor": 5
}
