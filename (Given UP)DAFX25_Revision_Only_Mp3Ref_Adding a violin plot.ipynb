{
 "cells": [
  {
   "cell_type": "markdown",
   "id": "93b96902-9af7-4f71-81e3-61004cfc5080",
   "metadata": {},
   "source": [
    "#### Premise:\n",
    "1. The AVG preoject already created\n",
    "2. The projects are existing with the datafile"
   ]
  },
  {
   "cell_type": "code",
   "execution_count": null,
   "id": "071ee6b4-ab4e-450a-99a0-a20e55a9dfa4",
   "metadata": {},
   "outputs": [],
   "source": [
    "import numpy as np\n",
    "import pandas as pd\n",
    "import argparse"
   ]
  },
  {
   "cell_type": "code",
   "execution_count": null,
   "id": "8c53824b-4829-4671-b11b-691b8022d7e7",
   "metadata": {},
   "outputs": [],
   "source": [
    "Base_Fold = 'Revision_Dataset_12samples'\n",
    "Project = 'Avg'"
   ]
  },
  {
   "cell_type": "markdown",
   "id": "ed0b3a49-eddc-4c05-b3f8-e5e6b18275ce",
   "metadata": {},
   "source": [
    "## HUM PLOT"
   ]
  },
  {
   "cell_type": "code",
   "execution_count": null,
   "id": "f6a3a019-edd6-4e54-9cf6-3a546d8bc0f6",
   "metadata": {},
   "outputs": [],
   "source": [
    "df_HN_PEAQ_basic_mp3_48k_16bit = pd.read_csv(f'{Base_Fold}/{Project}/peaq_basic.csv',usecols = ['Hum SNR.1','score.4'])\n",
    "df_HN_PEAQ_basic_mp3_48k_16bit.columns = ['Hum SNR','score']\n",
    "\n",
    "df_HN_PEAQ_adv_mp3_48k_16bit = pd.read_csv(f'{Base_Fold}/{Project}/peaq_advance.csv',usecols = ['Hum SNR.1','score.4'])\n",
    "df_HN_PEAQ_adv_mp3_48k_16bit.columns = ['Hum SNR','score']\n",
    "\n",
    "df_HN_VISQOL_mp3_48k_16bit = pd.read_csv(f'{Base_Fold}/{Project}/visqol.csv',usecols = ['Hum SNR.1','score.4'])\n",
    "df_HN_VISQOL_mp3_48k_16bit.columns = ['Hum SNR','score']\n",
    "\n",
    "df_HN_HAAQI_mp3_48k_16bit = pd.read_csv(f'{Base_Fold}/{Project}/haaqi.csv',usecols = ['HumNoise SNR.1','score.4'])\n",
    "df_HN_HAAQI_mp3_48k_16bit.columns = ['Hum SNR','score']\n",
    "\n",
    "df_HN_PEMO_mp3_48k_16bit = pd.read_csv(f'{Base_Fold}/{Project}/pemo.csv',usecols = ['Hum SNR.1','score.4'])\n",
    "df_HN_PEMO_mp3_48k_16bit.columns = ['Hum SNR','score']"
   ]
  }
 ],
 "metadata": {
  "kernelspec": {
   "display_name": "Python 3 (ipykernel)",
   "language": "python",
   "name": "python3"
  },
  "language_info": {
   "codemirror_mode": {
    "name": "ipython",
    "version": 3
   },
   "file_extension": ".py",
   "mimetype": "text/x-python",
   "name": "python",
   "nbconvert_exporter": "python",
   "pygments_lexer": "ipython3",
   "version": "3.11.5"
  }
 },
 "nbformat": 4,
 "nbformat_minor": 5
}
